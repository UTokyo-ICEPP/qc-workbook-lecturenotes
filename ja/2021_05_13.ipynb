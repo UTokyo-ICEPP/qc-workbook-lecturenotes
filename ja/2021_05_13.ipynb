{
 "cells": [
  {
   "cell_type": "markdown",
   "metadata": {
    "pycharm": {
     "name": "#%% md\n"
    }
   },
   "source": [
    "# 2021/05/13\n",
    "\n",
    "$\\newcommand{\\ket}[1]{| #1 \\rangle}$\n",
    "$\\newcommand{\\bra}[1]{\\langle #1 |}$\n",
    "\n",
    "## グローバーのアルゴリズムの実装"
   ]
  },
  {
   "cell_type": "markdown",
   "metadata": {},
   "source": [
    "まず必要な環境をセットアップします。"
   ]
  },
  {
   "cell_type": "code",
   "execution_count": 1,
   "metadata": {
    "jupyter": {
     "outputs_hidden": false
    },
    "pycharm": {
     "name": "#%%\n"
    }
   },
   "outputs": [],
   "source": [
    "# Tested with python 3.7.9, qiskit 0.23.5, numpy 1.20.1\n",
    "import matplotlib.pyplot as plt\n",
    "import numpy as np\n",
    "\n",
    "# Qiskit関連のパッケージをインポート\n",
    "from qiskit import IBMQ, Aer, QuantumCircuit, ClassicalRegister, QuantumRegister, execute\n",
    "from qiskit.providers.ibmq import least_busy\n",
    "from qiskit.quantum_info import Statevector\n",
    "from qiskit.visualization import plot_histogram\n",
    "from qiskit.tools.monitor import job_monitor"
   ]
  },
  {
   "cell_type": "markdown",
   "metadata": {},
   "source": [
    "### グローバーのアルゴリズムを実装する回路\n",
    "\n",
    "6量子ビットの回路`grover_circuit`を準備します。"
   ]
  },
  {
   "cell_type": "code",
   "execution_count": 2,
   "metadata": {
    "pycharm": {
     "name": "#%%\n"
    }
   },
   "outputs": [],
   "source": [
    "n = 6\n",
    "grover_circuit = QuantumCircuit(n)"
   ]
  },
  {
   "cell_type": "markdown",
   "metadata": {},
   "source": [
    "グローバー反復を一回実行する量子回路は以下のような構造になりますが、赤枠で囲んだ部分（オラクル$U_w$とDiffuserの中の$U_0=2\\ket{0}\\bra{0}-I$の部分）を実装する量子回路を書いてみましょう。\n",
    "\n",
    "```{image} figs/grover_6bits_45.png\n",
    ":alt: grover_6bits_45\n",
    ":class: bg-primary mb-1\n",
    ":width: 600px\n",
    ":align: center\n",
    "```\n",
    "\n",
    "一様な重ね合わせ状態$\\ket{s}$を生成した後に、オラクルを実装します。"
   ]
  },
  {
   "cell_type": "code",
   "execution_count": 3,
   "metadata": {
    "jupyter": {
     "outputs_hidden": false
    },
    "pycharm": {
     "name": "#%%\n"
    },
    "tags": [
     "remove-output"
    ]
   },
   "outputs": [
    {
     "data": {
      "text/plain": [
       "<qiskit.circuit.instructionset.InstructionSet at 0x7fcd31b311d0>"
      ]
     },
     "execution_count": 3,
     "metadata": {},
     "output_type": "execute_result"
    }
   ],
   "source": [
    "def initialize_s(qc, qubits):\n",
    "    \"\"\"回路のqubitsにHゲートを適用\"\"\"\n",
    "    for q in qubits:\n",
    "        qc.h(q)\n",
    "    return qc\n",
    "\n",
    "grover_circuit = initialize_s(grover_circuit, list(range(n)))\n",
    "\n",
    "# オラクルUwを作成して、回路に実装\n",
    "oracle = QuantumCircuit(n)\n",
    "\n",
    "##################\n",
    "### EDIT BELOW ###\n",
    "##################\n",
    "\n",
    "# Oracle Uw?\n",
    "\n",
    "##################\n",
    "### EDIT ABOVE ###\n",
    "##################\n",
    "\n",
    "oracle_gate = oracle.to_gate()\n",
    "oracle_gate.name = \"U_w\"\n",
    "\n",
    "grover_circuit.append(oracle_gate, list(range(n)))"
   ]
  },
  {
   "cell_type": "markdown",
   "metadata": {},
   "source": [
    "**解答例**\n",
    "\n",
    "```python\n",
    "oracle.x(1)\n",
    "oracle.x(4)\n",
    "oracle.h(n-1)\n",
    "oracle.mct(list(range(n-1)), n-1)\n",
    "oracle.h(n-1)\n",
    "oracle.x(1)\n",
    "oracle.x(4)\n",
    "```"
   ]
  },
  {
   "cell_type": "markdown",
   "metadata": {},
   "source": [
    "次に、Diffuser用の回路を実装します。"
   ]
  },
  {
   "cell_type": "code",
   "execution_count": 4,
   "metadata": {
    "jupyter": {
     "outputs_hidden": false
    },
    "pycharm": {
     "name": "#%%\n"
    }
   },
   "outputs": [],
   "source": [
    "def diffuser(n):\n",
    "    qc = QuantumCircuit(n)\n",
    "\n",
    "    qc.h(range(n))\n",
    "\n",
    "    ##################\n",
    "    ### EDIT BELOW ###\n",
    "    ##################\n",
    "\n",
    "    # Unitary U0?\n",
    "\n",
    "    ##################\n",
    "    ### EDIT ABOVE ###\n",
    "    ##################\n",
    "    \n",
    "    qc.h(range(n))\n",
    "\n",
    "    U_s = qc.to_gate()\n",
    "    U_s.name = \"U_s\"\n",
    "    return U_s"
   ]
  },
  {
   "cell_type": "markdown",
   "metadata": {},
   "source": [
    "**解答例**\n",
    "\n",
    "```python\n",
    "    #\n",
    "    qc.rz(2*np.pi, n-1)\n",
    "    qc.x(list(range(n)))\n",
    "\n",
    "    # Multi-controlled Zゲート\n",
    "    qc.h(n-1)\n",
    "    qc.mct(list(range(n-1)), n-1)\n",
    "    qc.h(n-1)\n",
    "\n",
    "    qc.x(list(range(n)))\n",
    "```"
   ]
  },
  {
   "cell_type": "markdown",
   "metadata": {},
   "source": [
    "回路ができたので、printして確認してみます。"
   ]
  },
  {
   "cell_type": "code",
   "execution_count": 5,
   "metadata": {
    "pycharm": {
     "name": "#%%\n"
    }
   },
   "outputs": [
    {
     "data": {
      "image/png": "[encoded data removed]",
      "text/plain": [
       "<Figure size 773.059x445.48 with 1 Axes>"
      ]
     },
     "execution_count": 5,
     "metadata": {},
     "output_type": "execute_result"
    }
   ],
   "source": [
    "grover_circuit.append(diffuser(n), list(range(n)))\n",
    "grover_circuit.measure_all()\n",
    "grover_circuit.draw('mpl')"
   ]
  },
  {
   "cell_type": "markdown",
   "metadata": {},
   "source": [
    "### シミュレータでの実験\n",
    "\n",
    "回路の実装ができたら、シミュレータで実行して結果をプロットしてみます。結果が分かりやすくなるように、測定したビット列を整数にしてからプロットするようにしてみます。"
   ]
  },
  {
   "cell_type": "code",
   "execution_count": 6,
   "metadata": {
    "jupyter": {
     "outputs_hidden": false
    },
    "pycharm": {
     "name": "#%%\n"
    },
    "tags": [
     "remove-output"
    ]
   },
   "outputs": [
    {
     "data": {
      "image/png": "[encoded data removed]",
      "text/plain": [
       "<Figure size 432x288 with 1 Axes>"
      ]
     },
     "metadata": {
      "needs_background": "light"
     },
     "output_type": "display_data"
    }
   ],
   "source": [
    "backend = Aer.get_backend('qasm_simulator')\n",
    "results = execute(grover_circuit, backend=backend, shots=1024).result()\n",
    "answer = results.get_counts()\n",
    "\n",
    "# 横軸を整数でプロットする\n",
    "def show_distribution(answer):\n",
    "    n = len(answer)\n",
    "    x = [int(key,2) for key in list(answer.keys())]\n",
    "    y = list(answer.values())\n",
    "\n",
    "    fig, ax = plt.subplots()\n",
    "    rect = ax.bar(x,y)\n",
    "\n",
    "    def autolabel(rects):\n",
    "        for rect in rects:\n",
    "            height = rect.get_height()\n",
    "            ax.annotate('{:.3f}'.format(height/sum(y)),\n",
    "                        xy=(rect.get_x()+rect.get_width()/2, height),xytext=(0,0),\n",
    "                        textcoords=\"offset points\",ha='center', va='bottom')\n",
    "    autolabel(rect)\n",
    "    plt.ylabel('Probabilities')\n",
    "    plt.show()\n",
    "\n",
    "show_distribution(answer)"
   ]
  },
  {
   "cell_type": "markdown",
   "metadata": {},
   "source": [
    "正しく回路が実装できていれば、$\\ket{101101}=\\ket{45}$の状態を高い確率で測定できる様子を見ることができるでしょう。"
   ]
  },
  {
   "cell_type": "markdown",
   "metadata": {},
   "source": [
    "### 量子コンピュータでの実験\n",
    "\n",
    "では次に、この量子回路を実機の量子コンピュータで実行して、結果を確認してみましょう。\n",
    "\n",
    "#### IBMQアカウントのアクティベーション"
   ]
  },
  {
   "cell_type": "code",
   "execution_count": 7,
   "metadata": {
    "jupyter": {
     "outputs_hidden": false
    },
    "pycharm": {
     "name": "#%%\n"
    },
    "tags": [
     "raises-exception",
     "remove-output"
    ]
   },
   "outputs": [
    {
     "name": "stderr",
     "output_type": "stream",
     "text": [
      "/Users/terashi/miniconda3/lib/python3.6/site-packages/qiskit/providers/ibmq/ibmqfactory.py:192: UserWarning: Timestamps in IBMQ backend properties, jobs, and job results are all now in local time instead of UTC.\n",
      "  warnings.warn('Timestamps in IBMQ backend properties, jobs, and job results '\n"
     ]
    },
    {
     "data": {
      "text/plain": [
       "<AccountProvider for IBMQ(hub='ibm-q', group='open', project='main')>"
      ]
     },
     "execution_count": 7,
     "metadata": {},
     "output_type": "execute_result"
    }
   ],
   "source": [
    "# トークンを保存している場合\n",
    "IBMQ.load_account()\n",
    "\n",
    "# もしトークンの保存ができていない場合は、4/15の授業で行った手順に沿って再度実行\n",
    "# あるいは、以下のenable_accountにトークンを貼り付けて実行\n",
    "#IBMQ.enable_account('__paste_your_token_here__')"
   ]
  },
  {
   "cell_type": "markdown",
   "metadata": {},
   "source": [
    "#### IBMQ環境の設定\n",
    "\n",
    "UTokyoハブのIBMQ環境を使える場合は、それを使ってみましょう。u-tokyo.ac.jp以外のアドレスでIBMidを取得している人は、その環境は使えないので一般公開されているシステムを使ってください。"
   ]
  },
  {
   "cell_type": "code",
   "execution_count": 8,
   "metadata": {
    "pycharm": {
     "name": "#%%\n"
    }
   },
   "outputs": [],
   "source": [
    "# UTokyoハブ環境が使える場合\n",
    "provider = IBMQ.get_provider(hub='ibm-q-utokyo', group='internal', project='icepp')\n",
    "\n",
    "# 一般公開のシステムを使う場合は、上をコメントアウトして以下を使う\n",
    "#provider = IBMQ.get_provider(hub='ibm-q', group='open', project='main')"
   ]
  },
  {
   "cell_type": "markdown",
   "metadata": {},
   "source": [
    "次に、実行に必要な数の量子ビットを持っていて、かつ最も空いているバックエンドを選択します。"
   ]
  },
  {
   "cell_type": "code",
   "execution_count": 9,
   "metadata": {
    "pycharm": {
     "name": "#%%\n"
    }
   },
   "outputs": [
    {
     "name": "stdout",
     "output_type": "stream",
     "text": [
      "least busy backend:  ibmq_toronto\n"
     ]
    }
   ],
   "source": [
    "backend = least_busy(provider.backends(filters=lambda x: x.configuration().n_qubits >= 6 and\n",
    "                                   not x.configuration().simulator and x.status().operational==True))\n",
    "print(\"least busy backend: \", backend)"
   ]
  },
  {
   "cell_type": "markdown",
   "metadata": {},
   "source": [
    "#### 実行\n",
    "\n",
    "では実行してみます。"
   ]
  },
  {
   "cell_type": "code",
   "execution_count": 10,
   "metadata": {
    "jupyter": {
     "outputs_hidden": false
    },
    "pycharm": {
     "name": "#%%\n"
    },
    "tags": [
     "raises-exception",
     "remove-output"
    ]
   },
   "outputs": [
    {
     "name": "stdout",
     "output_type": "stream",
     "text": [
      "Job Status: job has successfully run\n"
     ]
    }
   ],
   "source": [
    "# 選んだバックエンドで回路を実行し、キュー内のジョブの実行をモニターする\n",
    "job = execute(grover_circuit, backend=backend, shots=1024, optimization_level=3)\n",
    "job_monitor(job, interval=2)"
   ]
  },
  {
   "cell_type": "markdown",
   "metadata": {},
   "source": [
    "#### 結果の確認"
   ]
  },
  {
   "cell_type": "code",
   "execution_count": null,
   "metadata": {
    "jupyter": {
     "outputs_hidden": false
    },
    "pycharm": {
     "name": "#%%\n"
    },
    "tags": [
     "raises-exception",
     "remove-output"
    ]
   },
   "outputs": [],
   "source": [
    "# 計算結果\n",
    "results = job.result()\n",
    "answer = results.get_counts(grover_circuit)\n",
    "show_distribution(answer)"
   ]
  },
  {
   "cell_type": "markdown",
   "metadata": {
    "pycharm": {
     "name": "#%% md\n"
    }
   },
   "source": [
    "シミュレータに比べると結果は非常に悪いですね。。。残念ながら、今の量子コンピュータをそのまま使うとこういう結果になってしまいます。{ref}`エラー緩和 <measurement_error_mitigation>`等のテクニックを使うことである程度改善することはできますが、それは今後の課題としましょう。"
   ]
  }
 ],
 "metadata": {
  "kernelspec": {
   "display_name": "Python 3",
   "language": "python",
   "name": "python3"
  },
  "language_info": {
   "codemirror_mode": {
    "name": "ipython",
    "version": 3
   },
   "file_extension": ".py",
   "mimetype": "text/x-python",
   "name": "python",
   "nbconvert_exporter": "python",
   "pygments_lexer": "ipython3",
   "version": "3.6.7"
  }
 },
 "nbformat": 4,
 "nbformat_minor": 4
}