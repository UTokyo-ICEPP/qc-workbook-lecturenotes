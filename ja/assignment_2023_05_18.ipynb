{
 "cells": [
  {
   "cell_type": "markdown",
   "metadata": {
    "collapsed": true,
    "pycharm": {
     "name": "#%% md\n"
    }
   },
   "source": [
    "# 【課題】ビット反転ボードの操作を見つける\n",
    "\n",
    "３つの量子ビットレジスタ、一つの古典ビットレジスタを持つ回路を考えます。"
   ]
  },
  {
   "cell_type": "code",
   "execution_count": 1,
   "outputs": [],
   "source": [
    "from qiskit import QuantumCircuit, ClassicalRegister, QuantumRegister, transpile\n",
    "from qiskit_aer import AerSimulator\n",
    "\n",
    "# 6量子ビットの探索問題を考える\n",
    "n = 6  # 量子ビット数\n",
    "\n",
    "# グローバー反復を繰り返す回数: pi/4*sqrt(2**6)に近い整数\n",
    "niter = 6\n",
    "\n",
    "# レジスタ\n",
    "board = QuantumRegister(n)   # ボードの「数字」を記録するレジスタ\n",
    "flip = QuantumRegister(n)   # ボードの「押し下げ」を記録するレジスタ\n",
    "oracle = QuantumRegister(1)   # ボード上の数字が欲しい答えの時に位相反転するレジスタ\n",
    "result = ClassicalRegister(n)   # 測定結果を保持する古典レジスタ"
   ],
   "metadata": {
    "collapsed": false,
    "pycharm": {
     "name": "#%%\n"
    }
   }
  },
  {
   "cell_type": "markdown",
   "source": [
    "以下の回路の中身を書いてください。"
   ],
   "metadata": {
    "collapsed": false,
    "pycharm": {
     "name": "#%% md\n"
    }
   }
  },
  {
   "cell_type": "code",
   "execution_count": null,
   "outputs": [],
   "source": [
    "qc = QuantumCircuit(board, flip, oracle, result)\n",
    "\n",
    "##################\n",
    "### EDIT BELOW ###\n",
    "##################\n",
    "\n",
    "# qcの回路を書いてください\n",
    "\n",
    "##################\n",
    "### ABOVE BELOW ###\n",
    "##################"
   ],
   "metadata": {
    "collapsed": false,
    "pycharm": {
     "name": "#%%\n",
     "is_executing": true
    }
   }
  },
  {
   "cell_type": "markdown",
   "source": [
    "コードをシミュレータで実行して、答えを確認する。\n",
    "Final scoreとして、得られた答え（ビット列）のうち、頻度が高いものから10個を出力しています。"
   ],
   "metadata": {
    "collapsed": false,
    "pycharm": {
     "name": "#%% md\n"
    }
   }
  },
  {
   "cell_type": "code",
   "execution_count": null,
   "outputs": [],
   "source": [
    "# シミュレータで実行\n",
    "simulator = AerSimulator()\n",
    "qc_transpiled_circuit = transpile(qc, backend=simulator)\n",
    "results_sim = simulator.run(qc_transpiled_circuit, shots=8192).result()\n",
    "count = results_sim.get_counts()\n",
    "\n",
    "score_sorted = sorted(count.items(), key=lambda x:x[1], reverse=True)\n",
    "final_score = score_sorted[0:10]\n",
    "\n",
    "print('Final score:')\n",
    "print(final_score)"
   ],
   "metadata": {
    "collapsed": false,
    "pycharm": {
     "name": "#%%\n",
     "is_executing": true
    }
   }
  },
  {
   "cell_type": "markdown",
   "source": [
    "### 提出するもの\n",
    "\n",
    "- この問題を解く量子回路\n",
    "- 45を13に変換するビット押し下げパターンを高確率で見つけていることが分かる結果（Final scoreの出力）"
   ],
   "metadata": {
    "collapsed": false,
    "pycharm": {
     "name": "#%% md\n"
    }
   }
  }
 ],
 "metadata": {
  "kernelspec": {
   "display_name": "Python 3",
   "language": "python",
   "name": "python3"
  },
  "language_info": {
   "codemirror_mode": {
    "name": "ipython",
    "version": 2
   },
   "file_extension": ".py",
   "mimetype": "text/x-python",
   "name": "python",
   "nbconvert_exporter": "python",
   "pygments_lexer": "ipython2",
   "version": "2.7.6"
  }
 },
 "nbformat": 4,
 "nbformat_minor": 0
}