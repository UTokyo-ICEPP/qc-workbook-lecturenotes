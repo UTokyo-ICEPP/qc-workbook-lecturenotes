{
 "cells": [
  {
   "cell_type": "markdown",
   "id": "c7a1e479-c92a-4611-820b-3a0451f665c4",
   "metadata": {},
   "source": [
    "# 第2回：量子回路の実装"
   ]
  },
  {
   "cell_type": "code",
   "execution_count": 1,
   "id": "6d64101b-a6db-4921-bc56-7d5213bb29c5",
   "metadata": {
    "tags": [
     "remove-output"
    ]
   },
   "outputs": [
    {
     "name": "stdout",
     "output_type": "stream",
     "text": [
      "notebook ready\n"
     ]
    }
   ],
   "source": [
    "# まずは全てインポート\n",
    "import sys\n",
    "import numpy as np\n",
    "import matplotlib.pyplot as plt\n",
    "from IPython.display import Math\n",
    "from qiskit import QuantumRegister, QuantumCircuit, IBMQ, Aer, transpile\n",
    "from qiskit.tools.monitor import job_monitor\n",
    "from qiskit.providers.ibmq import least_busy, IBMQAccountCredentialsNotFound\n",
    "\n",
    "sys.path.append('/home/jovyan/qc-workbook-lecturenotes/ja')\n",
    "from qc_workbook.show_state import statevector_expr\n",
    "from qc_workbook.optimized_additions import optimized_additions\n",
    "from qc_workbook.utils import operational_backend, find_best_chain\n",
    "\n",
    "print('notebook ready')"
   ]
  },
  {
   "cell_type": "markdown",
   "id": "c8cbd7a3-d9e5-413d-971c-c9d2d18b7c84",
   "metadata": {},
   "source": [
    "## 準備：状態ベクトルシミュレータの使い方と状態ベクトルの数式表示"
   ]
  },
  {
   "cell_type": "code",
   "execution_count": null,
   "id": "6c11c5de-24bf-4440-a86c-316f05ac8768",
   "metadata": {},
   "outputs": [],
   "source": [
    "# Aer: シミュレータ用のプロバイダ（のように振る舞うもの）\n",
    "simulator = Aer.get_backend('statevector_simulator')\n",
    "print(simulator.name())"
   ]
  },
  {
   "cell_type": "markdown",
   "id": "b6824843-5e62-4ed4-a2e2-90e7eb2335ba",
   "metadata": {},
   "source": [
    "例：先週登場した回路"
   ]
  },
  {
   "cell_type": "code",
   "execution_count": null,
   "id": "f06a95c1-d0e5-41ae-9d97-e47276774d23",
   "metadata": {},
   "outputs": [],
   "source": [
    "circuit = QuantumCircuit(2)\n",
    "circuit.h(0)\n",
    "circuit.cx(0, 1)\n",
    "circuit.ry(-3. * np.pi / 4., 1)\n",
    "\n",
    "# measure_all()はしない\n",
    "\n",
    "circuit.draw('mpl')"
   ]
  },
  {
   "cell_type": "code",
   "execution_count": null,
   "id": "990b77bc-cf13-4b84-9586-f201541c8fa3",
   "metadata": {},
   "outputs": [],
   "source": [
    "# 再び「おまじない」のtranspileをしてから、run()に渡す\n",
    "circuit = transpile(circuit, backend=simulator)\n",
    "job = simulator.run(circuit)\n",
    "\n",
    "# シミュレータのジョブから計算結果を取得する\n",
    "result = job.result()\n",
    "# 状態ベクトルシミュレータなので、counts()ではなく下のように結果を得る\n",
    "qiskit_statevector = result.data()['statevector']"
   ]
  },
  {
   "cell_type": "code",
   "execution_count": null,
   "id": "6aefdcc2-22c3-4f49-bcc9-699023271bc6",
   "metadata": {},
   "outputs": [],
   "source": [
    "# qiskit_statvectorは通常の配列オブジェクト（ndarray）ではなくqiskit独自のクラスのインスタンス\n",
    "print(f'Type of qiskit_statevector is {type(qiskit_statevector)}')"
   ]
  },
  {
   "cell_type": "code",
   "execution_count": null,
   "id": "3ac6dc4b-61cd-4585-975b-24675a550fbf",
   "metadata": {},
   "outputs": [],
   "source": [
    "# ただし np.asarray() で numpy の ndarray に変換可能\n",
    "statevector = np.asarray(qiskit_statevector)\n",
    "print(f'Converted to {type(statevector)}, dtype={statevector.dtype}')\n",
    "print(statevector)"
   ]
  },
  {
   "cell_type": "markdown",
   "id": "ada11199-9810-4f35-ac8c-026b0453c368",
   "metadata": {},
   "source": [
    "状態ベクトル配列を数式として表示"
   ]
  },
  {
   "cell_type": "code",
   "execution_count": null,
   "id": "e7f13e42-d1be-44dd-a34d-a49543a5e8a9",
   "metadata": {},
   "outputs": [],
   "source": [
    "expr = statevector_expr(statevector)\n",
    "\n",
    "# Math()はLaTeXをタイプセットする関数\n",
    "Math(expr)"
   ]
  },
  {
   "cell_type": "markdown",
   "id": "341e7b61-3089-4975-9d31-2795c7aa8102",
   "metadata": {},
   "source": [
    "## 単純な量子状態の生成\n",
    "\n",
    "`statevector_expr`関数には回路オブジェクトを直接渡すこともできるので、ここからはその機能を利用します。また、コード中登場する`amp_norm`や`phase_norm`は、表示される数式において振幅や位相の共通因子をくくりだすために設定されています。"
   ]
  },
  {
   "cell_type": "markdown",
   "id": "025197c4-ac3d-490c-b179-8ed58084003b",
   "metadata": {},
   "source": [
    "### 問題1: 1量子ビット、相対位相付き\n",
    "\n",
    "**問題**\n",
    "\n",
    "1量子ビットに対して状態\n",
    "\n",
    "$$\n",
    "\\frac{1}{\\sqrt{2}}\\left(\\ket{0} + i\\ket{1}\\right)\n",
    "$$\n",
    "\n",
    "を作りなさい。"
   ]
  },
  {
   "cell_type": "code",
   "execution_count": null,
   "id": "295e200f-107e-49d2-9e82-c2788c9fe947",
   "metadata": {
    "tags": [
     "remove-output"
    ]
   },
   "outputs": [],
   "source": [
    "circuit = QuantumCircuit(1)\n",
    "\n",
    "# ?????"
   ]
  },
  {
   "cell_type": "code",
   "execution_count": null,
   "id": "adfeffdf-f46d-4625-80f8-ac6c5310fd98",
   "metadata": {},
   "outputs": [],
   "source": [
    "expr = statevector_expr(circuit, amp_norm=(np.sqrt(0.5), r'\\frac{1}{\\sqrt{2}}'))\n",
    "Math(expr)"
   ]
  },
  {
   "cell_type": "markdown",
   "id": "7f0035bc-8f88-4bee-8faf-6a0b95a515ef",
   "metadata": {},
   "source": [
    "### 問題2: ベル状態、相対位相付き\n",
    "\n",
    "**問題**\n",
    "\n",
    "2量子ビットに対して状態\n",
    "\n",
    "$$\n",
    "\\frac{1}{\\sqrt{2}}\\left(\\ket{0} + i\\ket{3}\\right)\n",
    "$$\n",
    "\n",
    "を作りなさい。"
   ]
  },
  {
   "cell_type": "code",
   "execution_count": null,
   "id": "5ee96467-c6b1-4790-a3c9-4ab5ba777a22",
   "metadata": {
    "tags": [
     "remove-output"
    ]
   },
   "outputs": [],
   "source": [
    "circuit = QuantumCircuit(2)\n",
    "\n",
    "# ?????"
   ]
  },
  {
   "cell_type": "code",
   "execution_count": null,
   "id": "422a1859-4a75-4b43-a449-8d0f852a6490",
   "metadata": {
    "tags": [
     "remove-output"
    ]
   },
   "outputs": [],
   "source": [
    "expr = statevector_expr(circuit, amp_norm=(np.sqrt(0.5), r'\\frac{1}{\\sqrt{2}}'))\n",
    "Math(expr)"
   ]
  },
  {
   "cell_type": "markdown",
   "id": "e00eaf18-f1db-419e-b983-a65608eeee94",
   "metadata": {},
   "source": [
    "### 問題3: GHZ状態\n",
    "\n",
    "**問題**\n",
    "\n",
    "3量子ビットに対して状態\n",
    "\n",
    "$$\n",
    "\\frac{1}{\\sqrt{2}} (\\ket{0} + \\ket{7})\n",
    "$$\n",
    "\n",
    "を作りなさい。"
   ]
  },
  {
   "cell_type": "code",
   "execution_count": null,
   "id": "be38a86d-b474-4d93-8ce3-0e13a963081b",
   "metadata": {
    "tags": [
     "remove-output"
    ]
   },
   "outputs": [],
   "source": [
    "circuit = QuantumCircuit(3)\n",
    "\n",
    "# ?????"
   ]
  },
  {
   "cell_type": "code",
   "execution_count": null,
   "id": "c5652faa-1e0f-4675-9097-9088cdb0dc20",
   "metadata": {
    "tags": [
     "remove-output"
    ]
   },
   "outputs": [],
   "source": [
    "expr = statevector_expr(circuit, amp_norm=(np.sqrt(0.5), r'\\frac{1}{\\sqrt{2}}'))\n",
    "Math(expr)"
   ]
  },
  {
   "cell_type": "markdown",
   "id": "a074fed5-d09d-4511-95eb-e2ec96680849",
   "metadata": {},
   "source": [
    "### 問題4: Equal superposition\n",
    "\n",
    "**問題**\n",
    "\n",
    "一般の$n$量子ビットに対して状態\n",
    "\n",
    "$$\n",
    "\\frac{1}{\\sqrt{2^n}} \\sum_{k=0}^{2^n-1} \\ket{k}\n",
    "$$\n",
    "\n",
    "を作る回路を考え、$n=4$のケースを実装しなさい。"
   ]
  },
  {
   "cell_type": "code",
   "execution_count": null,
   "id": "cf2da9bf-38d5-4625-aa3c-a63beb4402bd",
   "metadata": {
    "tags": [
     "remove-output"
    ]
   },
   "outputs": [],
   "source": [
    "num_qubits = 4\n",
    "\n",
    "circuit = QuantumCircuit(num_qubits)\n",
    "\n",
    "# ?????"
   ]
  },
  {
   "cell_type": "code",
   "execution_count": null,
   "id": "de455bfd-2bd7-4fdc-ad0b-e1cea0570f0c",
   "metadata": {
    "tags": [
     "remove-output"
    ]
   },
   "outputs": [],
   "source": [
    "sqrt_2_to_n = 2 ** (num_qubits // 2)\n",
    "expr = statevector_expr(circuit, amp_norm=(1. / sqrt_2_to_n, r'\\frac{1}{%d}' % sqrt_2_to_n))\n",
    "Math(expr)"
   ]
  },
  {
   "cell_type": "markdown",
   "id": "041ce72f-605e-4606-9ab6-c885b23b302c",
   "metadata": {},
   "source": [
    "### 問題5: 特定の基底の符号を反転させる\n",
    "\n",
    "**問題**\n",
    "\n",
    "問題4の4ビットequal superposition状態において、基底$\\ket{5}$の符号を反転させなさい。"
   ]
  },
  {
   "cell_type": "code",
   "execution_count": null,
   "id": "c8593c76-9e6a-4d3d-991f-c88b98015a73",
   "metadata": {
    "tags": [
     "remove-output"
    ]
   },
   "outputs": [],
   "source": [
    "num_qubits = 4\n",
    "\n",
    "circuit = QuantumCircuit(num_qubits)\n",
    "\n",
    "# ?????"
   ]
  },
  {
   "cell_type": "code",
   "execution_count": null,
   "id": "7ee534f9-58a6-48ff-a37a-18b0313c51c2",
   "metadata": {
    "tags": [
     "remove-output"
    ]
   },
   "outputs": [],
   "source": [
    "sqrt_2_to_n = 2 ** (num_qubits // 2)\n",
    "expr = statevector_expr(circuit, amp_norm=(1. / sqrt_2_to_n, r'\\frac{1}{%d}' % sqrt_2_to_n))\n",
    "Math(expr)"
   ]
  },
  {
   "cell_type": "markdown",
   "id": "1b5edd33-a5fc-4f45-9492-8913de990f43",
   "metadata": {},
   "source": [
    "### 問題6: Equal superpositionに位相を付ける\n",
    "\n",
    "**問題**\n",
    "\n",
    "一般の$n$量子ビットに対して状態\n",
    "\n",
    "$$\n",
    "\\frac{1}{\\sqrt{2^n}}\\sum_{k=0}^{2^n-1} e^{2\\pi i s k/2^n} \\ket{k} \\quad (s \\in \\mathbb{R})\n",
    "$$\n",
    "\n",
    "を作る回路を考え、$n=6, s=2.5$のケースを実装しなさい。"
   ]
  },
  {
   "cell_type": "code",
   "execution_count": null,
   "id": "a58224ca-84dc-46e6-a1f1-9f260bacd297",
   "metadata": {
    "tags": [
     "output_scroll",
     "remove-output"
    ]
   },
   "outputs": [],
   "source": [
    "num_qubits = 6\n",
    "\n",
    "circuit = QuantumCircuit(num_qubits)\n",
    "\n",
    "s = 2.5\n",
    "\n",
    "# ?????"
   ]
  },
  {
   "cell_type": "code",
   "execution_count": null,
   "id": "7f7bdc94-62d8-4f79-a87b-273b12347268",
   "metadata": {
    "tags": [
     "output_scroll",
     "remove-output"
    ]
   },
   "outputs": [],
   "source": [
    "sqrt_2_to_n = 2 ** (num_qubits // 2)\n",
    "amp_norm = (1. / sqrt_2_to_n, r'\\frac{1}{%d}' % sqrt_2_to_n)\n",
    "phase_norm = (2 * np.pi / (2 ** num_qubits), r'\\frac{2 \\pi i}{%d}' % (2 ** num_qubits))\n",
    "expr = statevector_expr(circuit, amp_norm, phase_norm=phase_norm)\n",
    "Math(expr)"
   ]
  },
  {
   "cell_type": "markdown",
   "id": "985edff6-ce97-4593-9f8a-773c043e2abc",
   "metadata": {},
   "source": [
    "### 問題7: 量子フーリエ変換\n",
    "\n",
    "**問題**\n",
    "\n",
    "$n$量子ビットレジスタの状態$\\ket{j} \\, (j \\in \\{0,1,\\dots,2^n-1\\})$を以下のように変換する回路を考え、$n=6, j=23$のケースを実装しなさい。\n",
    "\n",
    "$$\n",
    "\\ket{j} \\rightarrow \\frac{1}{\\sqrt{2^n}}\\sum_{k=0}^{2^n-1} e^{2\\pi i jk/2^n} \\ket{k}\n",
    "$$"
   ]
  },
  {
   "cell_type": "code",
   "execution_count": null,
   "id": "5aa73bb8-5fc0-438b-9e28-e2c88ea1c540",
   "metadata": {
    "tags": [
     "output_scroll",
     "remove-output"
    ]
   },
   "outputs": [],
   "source": [
    "num_qubits = 6\n",
    "\n",
    "circuit = QuantumCircuit(num_qubits)\n",
    "\n",
    "j = 23\n",
    "\n",
    "## jの２進数表現で値が1になっているビットに対してXを作用させる -> 状態|j>を作る\n",
    "\n",
    "# まずjの２進数表現を得るために、unpackbitsを利用（他にもいろいろな方法がある）\n",
    "# unpackbitsはuint8タイプのアレイを引数に取るので、jをその形に変換してから渡している\n",
    "j_bits = np.unpackbits(np.asarray(j, dtype=np.uint8), bitorder='little')\n",
    "\n",
    "# 次にj_bitsアレイのうち、ビットが立っているインデックスを得る\n",
    "j_indices = np.nonzero(j_bits)[0]\n",
    "\n",
    "# 最後にcircuit.x()\n",
    "for idx in j_indices:\n",
    "    circuit.x(idx)\n",
    "    \n",
    "## Alternative method\n",
    "#for i in range(num_qubits):\n",
    "#    if ((j >> i) & 1) == 1:\n",
    "#        circuit.x(i)\n",
    "\n",
    "# ?????"
   ]
  },
  {
   "cell_type": "code",
   "execution_count": null,
   "id": "05119ec9-a894-44c8-a183-ec2bb6cad13c",
   "metadata": {
    "tags": [
     "output_scroll",
     "remove-output"
    ]
   },
   "outputs": [],
   "source": [
    "sqrt_2_to_n = 2 ** (num_qubits // 2)\n",
    "amp_norm = (1. / sqrt_2_to_n, r'\\frac{1}{%d}' % sqrt_2_to_n)\n",
    "phase_norm = (2 * np.pi / (2 ** num_qubits), r'\\frac{2 \\pi i}{%d}' % (2 ** num_qubits))\n",
    "expr = statevector_expr(circuit, amp_norm=amp_norm, phase_norm=phase_norm)\n",
    "Math(expr)"
   ]
  },
  {
   "cell_type": "markdown",
   "id": "4979d5c2-08b7-4ff6-b559-2033a7012424",
   "metadata": {},
   "source": [
    "## 計算をする量子回路\n",
    "\n",
    "量子フーリエ変換による足し算を行う回路を作る`setup_addition`関数を定義"
   ]
  },
  {
   "cell_type": "code",
   "execution_count": null,
   "id": "9fe3b0b5-c628-4bb5-a942-a750f34dfe3b",
   "metadata": {
    "tags": [
     "remove-output"
    ]
   },
   "outputs": [],
   "source": [
    "def setup_addition(circuit, reg1, reg2, reg3):\n",
    "    \"\"\"Set up an addition subroutine to a circuit with three registers\n",
    "    \"\"\"\n",
    "    \n",
    "    # Equal superposition in register 3\n",
    "    # (Single-qubit gate methods in QuantumCircuit accepts a QuantumRegister or a\n",
    "    # list of qubit indices in addition to the usual single qubit index)\n",
    "    circuit.h(reg3)\n",
    "\n",
    "    # Smallest unit of phi\n",
    "    dphi = 2. * np.pi / (2 ** reg3.size)\n",
    "\n",
    "    # Loop over reg1 and reg2\n",
    "    for reg_ctrl in [reg1, reg2]:\n",
    "        # Loop over qubits in the control register (reg1 or reg2)\n",
    "        for ictrl, qctrl in enumerate(reg_ctrl):\n",
    "            # Loop over qubits in the target register (reg3)\n",
    "            for itarg, qtarg in enumerate(reg3):\n",
    "                # C[P(phi)], phi = 2pi * 2^{ictrl} * 2^{itarg} / 2^{n3}\n",
    "                circuit.cp(dphi * (2 ** (ictrl + itarg)), qctrl, qtarg)\n",
    "\n",
    "    # Insert a barrier for better visualization\n",
    "    circuit.barrier()\n",
    "\n",
    "    # Inverse QFT\n",
    "    for j in range(reg3.size // 2):\n",
    "        circuit.swap(reg3[j], reg3[-1 - j])\n",
    "\n",
    "    for itarg in range(reg3.size):\n",
    "        for ictrl in range(itarg):\n",
    "            power = ictrl - itarg - 1 + reg3.size\n",
    "            circuit.cp(-dphi * (2 ** power), reg3[ictrl], reg3[itarg])\n",
    "        \n",
    "        circuit.h(reg3[itarg])\n",
    "        \n",
    "print('Defined function setup_addition')"
   ]
  },
  {
   "cell_type": "markdown",
   "id": "4e7eda82-e310-4080-bce5-5839af494ff7",
   "metadata": {},
   "source": [
    "### 9 + 13\n",
    "\n",
    "回路を作り、レジスタ1と2をそれぞれ入力9と13を表すように初期化"
   ]
  },
  {
   "cell_type": "code",
   "execution_count": null,
   "id": "97288094-3b9f-48ef-9137-4895070dd0d3",
   "metadata": {
    "tags": [
     "remove-output"
    ]
   },
   "outputs": [],
   "source": [
    "a = 9\n",
    "b = 13\n",
    "\n",
    "# Calculate the necessary register sizes\n",
    "n1 = np.ceil(np.log2(a + 1)).astype(int)\n",
    "n2 = np.ceil(np.log2(b + 1)).astype(int)\n",
    "n3 = np.ceil(np.log2(a + b + 1)).astype(int)\n",
    "\n",
    "print('n1 =', n1, 'n2 =', n2, 'n3 =', n3)\n",
    "\n",
    "reg1 = QuantumRegister(n1, 'r1')\n",
    "reg2 = QuantumRegister(n2, 'r2')\n",
    "reg3 = QuantumRegister(n3, 'r3')\n",
    "\n",
    "# QuantumCircuit can be instantiated from multiple registers\n",
    "circuit = QuantumCircuit(reg1, reg2, reg3)\n",
    "\n",
    "# Set register 1 to state |a>\n",
    "a_bits = np.unpackbits(np.asarray(a, dtype=np.uint8), bitorder='little')\n",
    "for idx in np.nonzero(a_bits)[0]:\n",
    "    circuit.x(reg1[idx])\n",
    "\n",
    "# Set register 2 to state |b>\n",
    "b_bits = np.unpackbits(np.asarray(b, dtype=np.uint8), bitorder='little')\n",
    "for idx in np.nonzero(b_bits)[0]:\n",
    "    circuit.x(reg2[idx])\n",
    "        \n",
    "setup_addition(circuit, reg1, reg2, reg3)\n",
    "\n",
    "circuit.draw('mpl', scale=0.6, fold=100)"
   ]
  },
  {
   "cell_type": "markdown",
   "id": "9b49f82f-5e4e-4e59-b25c-47bb54f9858e",
   "metadata": {},
   "source": [
    "終状態の確認"
   ]
  },
  {
   "cell_type": "code",
   "execution_count": null,
   "id": "ee8fd6ad-ca85-497f-9d59-2847d4712b26",
   "metadata": {
    "tags": [
     "remove-output"
    ]
   },
   "outputs": [],
   "source": [
    "# register_sizes: 13ビットの回路を$n_1 + n_2 + n_3$ビットに分けて解釈するよう指定します。\n",
    "expr = statevector_expr(circuit, register_sizes=(n1, n2, n3))\n",
    "Math(expr)"
   ]
  },
  {
   "cell_type": "markdown",
   "id": "9666ab4f-b4c5-4e1d-a5bf-0c963da216f8",
   "metadata": {},
   "source": [
    "### {0, 1, ..., 15} + {0, 1, ..., 15}\n",
    "\n",
    "回路を作り、レジスタ1と2をequal superpositionsに初期化"
   ]
  },
  {
   "cell_type": "code",
   "execution_count": null,
   "id": "e52b59e9-bc64-4440-9ea5-9f99494241e6",
   "metadata": {
    "tags": [
     "remove-output"
    ]
   },
   "outputs": [],
   "source": [
    "n1 = 4\n",
    "n2 = 4\n",
    "n3 = np.ceil(np.log2((2 ** n1) + (2 ** n2) - 1)).astype(int)\n",
    "\n",
    "reg1 = QuantumRegister(n1, 'r1')\n",
    "reg2 = QuantumRegister(n2, 'r2')\n",
    "reg3 = QuantumRegister(n3, 'r3')\n",
    "\n",
    "# QuantumCircuit can be instantiated from multiple registers\n",
    "circuit = QuantumCircuit(reg1, reg2, reg3)\n",
    "\n",
    "# Set register 1 and 2 to equal superpositions\n",
    "circuit.h(reg1)\n",
    "circuit.h(reg2)\n",
    "\n",
    "setup_addition(circuit, reg1, reg2, reg3)\n",
    "    \n",
    "expr = statevector_expr(circuit, register_sizes=(n1, n2, n3), amp_norm=(1. / np.sqrt(2 ** (n1 + n2)), r'\\frac{1}{\\sqrt{2^{n_1 + n_2}}}'))\n",
    "Math(expr)"
   ]
  },
  {
   "cell_type": "markdown",
   "id": "1273b640-cc92-474d-bc3e-aed205e4d1b2",
   "metadata": {},
   "source": [
    "### TODO HERE\n",
    "\n",
    "### シミュレータでの実行"
   ]
  },
  {
   "cell_type": "code",
   "execution_count": null,
   "id": "51b79ae4-7daf-4248-9806-1d7fcf6e36a7",
   "metadata": {},
   "outputs": [],
   "source": [
    "# 元の回路に測定を加える\n",
    "circuit.measure_all()\n",
    "circuit_original = circuit\n",
    "\n",
    "# 効率化した回路（測定付き）\n",
    "circuit_optimized = optimized_additions(n1, n2)\n",
    "print('Constructed an optimized addition circuit')"
   ]
  },
  {
   "cell_type": "markdown",
   "id": "3f153101-c1aa-475f-8e07-b09c1dd41ffa",
   "metadata": {},
   "source": [
    "回路の効率化とは具体的にどういうことでしょうか。もともとの回路と効率化したものとを比べてみましょう。まずは、単純にオペレーションの数を比較します。ゲート一つ一つで一定の確率でエラーが起こるということは、同じことをする回路ならゲートの数が少ないほうがより正確な計算をしてくれます。"
   ]
  },
  {
   "cell_type": "code",
   "execution_count": null,
   "id": "841f38de-e68e-4537-a91c-11419bbdc2f5",
   "metadata": {},
   "outputs": [],
   "source": [
    "print('Number of operations in the original circuit:', circuit_original.size())\n",
    "print('Number of operations in the optimized circuit:', circuit_optimized.size())"
   ]
  },
  {
   "cell_type": "markdown",
   "id": "98bcd8f4-fa72-482a-be87-16353a73440b",
   "metadata": {},
   "source": [
    "効率化したはずの回路のほうがはるかにゲート数が多いという結果になりました。なぜでしょうか。"
   ]
  },
  {
   "cell_type": "markdown",
   "id": "60775bc9-5763-4a13-b8c7-25aead66c08d",
   "metadata": {},
   "source": [
    "(transpilation)=\n",
    "### トランスパイルと物理的回路\n",
    "\n",
    "これまで何度も登場しましたが、量子回路オブジェクトを実機やシミュレータの`run`メソッドに渡す前に、必ず`transpile`という関数が呼んでいました。この関数はトランスパイルという変換を回路に施します。実機においてトランスパイルとは、様々な複合ゲートからなる論理的な回路から、実機のハードウェアに実装されている「基本ゲート」のみで書かれる物理的な回路を作ることを言います[^physical]。\n",
    "\n",
    "基本ゲートとは何でしょうか。実は、{ref}`第一回 <common_gates>`や{ref}`第二回の前半 <other_gates>`で様々なゲートを紹介しましたが、量子コンピュータの物理的実体（超伝導振動子など）で実際に行える量子操作にはごく少数の種類しかありません。例えば、IBMのマシンでは$X$, $\\sqrt{X}$, $R_{z}$, CNOTの4通りです。しかし、この4つの組み合わせで全てのゲートを作ることができます。そのようなゲートの集合を基本ゲートと呼んでいます。\n",
    "\n",
    "足し算回路の愚直な実装と効率化した実装の比較に話を戻すと、上で比べていたのはあくまで複合ゲートを使った論理的な回路でした。論理的な回路はどのようにでも書ける（極端に言えば回路全体を一つの「足し算ゲート」と呼んでしまうこともできる）ので、回路のゲート数の比較はトランスパイル後でなければ意味がありません。\n",
    "\n",
    "いい機会なので、実機での量子計算について少し詳細に考えてみましょう。トランスパイルがまさに論理的なアルゴリズムの世界と物理的実装の世界のインターフェースとなるので、この過程に注目します。\n",
    "\n",
    "トランスパイル時には、以下のような回路の変換が起こります。\n",
    "\n",
    "- 冗長なゲートの削除\n",
    "- 多重制御ゲートのCNOTと1量子ビットゲートへの分解\n",
    "- 実機のトポロジーに即した量子ビットのマッピング（詳細は下）\n",
    "- 物理的に隣接しない量子ビット間の制御ゲートを実行するためのSWAPの挿入\n",
    "- 1量子ビットゲートの基本ゲートへの分解\n",
    "- 物理的回路の最適化\n",
    "\n",
    "実機のトポロジーとは、実際の量子プロセッサチップ上での量子ビット同士の繋がりかたのことを指します。2つの量子ビットが繋がっているとは、その間で基本制御ゲート（IBMQではCNOT）が実行できるということを意味します。これまで考慮してきませんでしたが、実はすべての量子ビットが繋がっているわけではないのです。例えば以前運用されていたibmq_16_melbourneというマシンは以下のようなトポロジーを持っていました。\n",
    "\n",
    "```{image} figs/melbourne_topology.png\n",
    ":height: 200px\n",
    ":name: ibmq_16_melbourne\n",
    "```\n",
    "\n",
    "図中、数字のついた丸が量子ビットを表し、線が量子ビット同士の繋がりを表します。\n",
    "\n",
    "このように実機ごとにトポロジーが違うことなどが理由で、`transpile`関数には回路オブジェクトだけでなくバックエンドを引数として渡す必要があります。\n",
    "\n",
    "直接接続のない量子ビット間で制御ゲートを実行する場合、SWAPを使って2つの量子ビットが隣り合うように状態を遷移させていく必要があります。例えば上のibmq_16_melbourneでビット2と6の間のCNOTが必要なら、（いくつか方法がありますが）2↔3, 3↔4, 4↔5とSWAPを繰り返して、5と6の間でCNOTを行い、ビットの並びを元に戻す必要があれば再度5↔4, 4↔3, 3↔2とSWAPをすることになります。\n",
    "\n",
    "{ref}`ゲートの解説 <other_gates>`に出てきたように、SWAPは3つのCNOTに分解されます。つまり、直接接続のない量子ビット同士の制御ゲートが多出するような回路があると、莫大な数のCNOTが使われることになります。**CNOTのエラー率（ゲート操作一回あたりに操作の結果を間違える確率）は1量子ビットゲートのエラー率より一桁ほど高い**ので、これは大きな問題になります。そこで、論理的回路の量子ビットと実機の量子ビットとのマッピング（SWAPが発生すれば対応は変わっていくので、あくまで初期対応）と、回路中にどうSWAPを挿入していくかというルーティングの両方を上手に決めるということが、トランスパイルにおける中心的な課題です。\n",
    "\n",
    "しかし、実は任意の回路に対して最適なマッピングとルーティングを探すという問題自体がいわゆるNP-hardな問題なので、qiskitのトランスパイル・ルーチンではこの問題の最適解を探してくれません。代わりにstochastic swapという、乱数を用いた手法が標準設定では利用されます。Stochastic swapは多くの回路で比較的効率のいいルーティングを作ることが知られていますが、乱数を利用するため実行のたびに異なるルーティングが出てくるなど、やや扱いにくい面もあります。また、単純な回路で事前に最適なルーティングがわかっている場合は、stochastic swapを使うべきではありません。\n",
    "\n",
    "[^physical]: 「物理的」な回路もまだ実は論理的な存在であり、本当にハードウェアが理解するインストラクションに変換するには、さらに基本ゲートを特定のマイクロ波パルス列に直す必要があります。"
   ]
  },
  {
   "cell_type": "markdown",
   "id": "1a82d5b1-730d-4fe9-ac07-0d6c6c94c920",
   "metadata": {},
   "source": [
    "### 回路の比較\n",
    "\n",
    "上を踏まえて、改めて2つの足し算回路を比較してみましょう。\n",
    "\n",
    "これまで`transpile`関数を回路とバックエンド以外の引数を渡さずに実行してきましたが、実はこの関数の実行時に様々なオプションを使ってトランスパイルの設定を細かくコントロールすることができます。今回の効率化した回路は一列に並んだ量子ビット列上でSWAPを一切使わずに実装できるようになっているので、stochastic swapを使用しないよう設定を変更してトランスパイルをします。バックエンド上のどの量子ビット列を使うかは、`find_best_chain`という関数で自動的に決めます。\n",
    "\n",
    "本来は実機を使ってこの先の議論を進めたいところですが、2022年4月現在、`'ibm-q/open/main'`プロバイダを使ってている場合、最大5量子ビットのマシンしか利用できないため、1ビット+1ビットの足し算回路しか作れず、意味のある比較になりません。そのため、openプロバイダを使っている場合は「フェイク」のバックエンド（実際のバックエンドに似せたシミュレータ）を使います。"
   ]
  },
  {
   "cell_type": "code",
   "execution_count": null,
   "id": "c559f145-d3e8-4e37-889f-0b90ca78361b",
   "metadata": {
    "tags": [
     "remove-output"
    ]
   },
   "outputs": [],
   "source": [
    "# よりアクセス権の広いプロバイダを使える場合は、下を書き換える\n",
    "provider_def = ('ibm-q', 'open', 'main')\n",
    "\n",
    "if provider_def == ('ibm-q', 'open', 'main'):\n",
    "    from qiskit.test.mock import FakeGuadalupe\n",
    "    \n",
    "    backend = FakeGuadalupe()\n",
    "\n",
    "else:\n",
    "    try:\n",
    "        IBMQ.load_account()\n",
    "    except IBMQAccountCredentialsNotFound:\n",
    "        IBMQ.enable_account('__paste_your_token_here__')\n",
    "\n",
    "    provider = IBMQ.get_provider(*provider_def)\n",
    "\n",
    "    backend_list = provider.backends(filters=operational_backend(min_qubits=13))\n",
    "    backend = least_busy(backend_list)\n",
    "\n",
    "print(f'Using backend {backend.name()}')"
   ]
  },
  {
   "cell_type": "code",
   "execution_count": null,
   "id": "cb8c4e92-35c0-4e02-9a0e-d1f9efcd67d9",
   "metadata": {
    "tags": [
     "remove-output"
    ]
   },
   "outputs": [],
   "source": [
    "# オリジナルの回路をトランスパイルする。optimization_level=3は自動設定のうち、最も効率のいい回路を作る\n",
    "# フェイクバックエンドの場合、少し時間がかかるので気長に待ってください\n",
    "print('Transpiling the original circuit with standard settings')\n",
    "circuit_original_tr = transpile(circuit_original, backend=backend, optimization_level=3)\n",
    "\n",
    "# 効率化した回路をトランスパイルする。マシンのトポロジーに従い、最も合計エラー率の低い量子ビット列にマッピングする\n",
    "print('Transpiling the optimized circuit with trivial mapping onto a chain of qubits')\n",
    "initial_layout = find_best_chain(backend, n1 + n2 + n3)\n",
    "circuit_optimized_tr = transpile(circuit_optimized, backend=backend,\n",
    "                                 routing_method='basic', initial_layout=initial_layout,\n",
    "                                 optimization_level=3)\n",
    "\n",
    "# count_opsは回路に含まれる基本ゲートの数を辞書として返す\n",
    "nops_orig = circuit_original_tr.count_ops()\n",
    "nops_opt = circuit_optimized_tr.count_ops()\n",
    "\n",
    "print(f'Number of operations in the original circuit: {circuit_original_tr.size()}')\n",
    "print(f'  Breakdown: N(Rz)={nops_orig[\"rz\"]}, N(X)={nops_orig[\"x\"]}, N(SX)={nops_orig[\"sx\"]}, N(CNOT)={nops_orig[\"cx\"]}')\n",
    "print(f'Number of operations in the optimized circuit: {circuit_optimized_tr.size()}')\n",
    "print(f'  Breakdown: N(Rz)={nops_opt[\"rz\"]}, N(X)={nops_opt[\"x\"]}, N(SX)={nops_opt[\"sx\"]}, N(CNOT)={nops_opt[\"cx\"]}')"
   ]
  },
  {
   "cell_type": "markdown",
   "id": "c382f1eb-b68c-4ac4-abfb-5abb9581d8b7",
   "metadata": {},
   "source": [
    "上のセルを実行すると、今度は効率化回路のオペレーションの全数が元の回路の8割、CNOTの数は6割という結果になることがわかります。\n",
    "\n",
    "元の回路と効率化した回路の違いは、後者では「数珠つなぎ」になった量子ビット列というトポロジーを仮定して、制御ゲートの順番を工夫して直接明示的にSWAPを挿入していることです。さらに、可能なところでは$C[P]$ゲートの分解で生じるCNOTとSWAPのCNOTが打ち消し合うことも利用しています。最後の逆フーリエ変換でもゲートの順番が工夫してあります。\n",
    "\n",
    "それでは、トランスパイルした回路を実行してみます。"
   ]
  },
  {
   "cell_type": "code",
   "execution_count": null,
   "id": "d5602218-a7d2-4e4e-bf1e-90e8e5e84da9",
   "metadata": {
    "tags": [
     "remove-output"
    ]
   },
   "outputs": [],
   "source": [
    "qasm_simulator = Aer.get_backend('qasm_simulator')\n",
    "\n",
    "job_original = qasm_simulator.run(circuit_original_tr, shots=20)\n",
    "counts_original = job_original.result().get_counts()\n",
    "\n",
    "job_optimized = qasm_simulator.run(circuit_optimized_tr, shots=20)\n",
    "counts_optimized = job_optimized.result().get_counts()\n",
    "\n",
    "def plot_counts(counts, n1, n2, ax):\n",
    "    heights = []\n",
    "    labels = []\n",
    "\n",
    "    for key, value in counts.items():\n",
    "        heights.append(value)\n",
    "\n",
    "        # Keys of counts are single binaries; need to split them into three parts and interpret as decimals\n",
    "        # Example 4 + 4 digits:\n",
    "        #  00110 0101 0001 -> 6 = 5 + 1\n",
    "        #  n3    n2   n1\n",
    "        x1 = int(key[-n1:], 2) # last n1 digits\n",
    "        x2 = int(key[-n1 - n2:-n1], 2) # next-to-last n2 digits\n",
    "        x3 = int(key[:-n1 - n2], 2) # first n3 digits\n",
    "        labels.append('{} + {} = {}'.format(x1, x2, x3))\n",
    "        \n",
    "    x = np.linspace(0., len(labels), len(labels), endpoint=False)\n",
    "\n",
    "    # 棒グラフをプロット\n",
    "    ax.bar(x, heights, width=0.5)\n",
    "\n",
    "    # ビジュアルを調整\n",
    "    ax.set_xticks(x - 0.2)\n",
    "    ax.set_xticklabels(labels, rotation=70)\n",
    "    ax.tick_params('x', length=0.)\n",
    "\n",
    "# サブプロットが縦に二つ並んだフィギュアを作成\n",
    "fig, (ax_original, ax_optimized) = plt.subplots(2, figsize=[16, 10])\n",
    "\n",
    "# サブプロット1: counts_original\n",
    "plot_counts(counts_original, n1, n2, ax_original)\n",
    "\n",
    "# サブプロット2: counts_optimized\n",
    "plot_counts(counts_optimized, n1, n2, ax_optimized)\n",
    "\n",
    "fig.subplots_adjust(bottom=-0.2)"
   ]
  }
 ],
 "metadata": {
  "kernelspec": {
   "display_name": "Python 3 (ipykernel)",
   "language": "python",
   "name": "python3"
  },
  "language_info": {
   "codemirror_mode": {
    "name": "ipython",
    "version": 3
   },
   "file_extension": ".py",
   "mimetype": "text/x-python",
   "name": "python",
   "nbconvert_exporter": "python",
   "pygments_lexer": "ipython3",
   "version": "3.8.10"
  }
 },
 "nbformat": 4,
 "nbformat_minor": 5
}
