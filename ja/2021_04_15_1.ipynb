{
 "cells": [
  {
   "cell_type": "markdown",
   "metadata": {},
   "source": [
    "# 2021/04/15 - 1"
   ]
  },
  {
   "cell_type": "markdown",
   "metadata": {},
   "source": [
    "## 必要なモジュールのインポート"
   ]
  },
  {
   "cell_type": "code",
   "execution_count": null,
   "metadata": {
    "tags": [
     "remove-output"
    ]
   },
   "outputs": [],
   "source": [
    "# まずは必要になるpythonモジュールをすべてインポートしておく\n",
    "import numpy as np\n",
    "import matplotlib.pyplot as plt\n",
    "from qiskit import ClassicalRegister, QuantumRegister, QuantumCircuit, IBMQ, Aer, execute, transpile, assemble\n",
    "from qiskit.providers.ibmq import least_busy\n",
    "from qiskit.tools.monitor import job_monitor\n",
    "from qiskit.visualization import plot_histogram\n",
    "\n",
    "# utilsはこのワークブック独自のモジュール（インポートエラーが出る場合はPYTHONPATHを設定するか、sys.pathをいじってください）\n",
    "from utils.show_state import show_state\n",
    "from utils.optimized_additions import optimized_additions, get_initial_layout"
   ]
  },
  {
   "cell_type": "markdown",
   "metadata": {},
   "source": [
    "### IBMQ認証（一度だけ）\n",
    "\n",
    "[IBM Quantum Experience](https://quantum-computing.ibm.com/)のホームページからトークンをコピーしてきてください。"
   ]
  },
  {
   "cell_type": "code",
   "execution_count": null,
   "metadata": {
    "tags": [
     "raises-exception",
     "remove-output"
    ]
   },
   "outputs": [],
   "source": [
    "IBMQ.save_account('__paste_your_token_here__')"
   ]
  },
  {
   "cell_type": "markdown",
   "metadata": {},
   "source": [
    "### アカウントのアクティベート（毎回）"
   ]
  },
  {
   "cell_type": "code",
   "execution_count": null,
   "metadata": {},
   "outputs": [],
   "source": [
    "IBMQ.load_account()"
   ]
  },
  {
   "cell_type": "markdown",
   "metadata": {},
   "source": [
    "## CHSH不等式を計算する回路を書く\n",
    "\n",
    "4つの回路でそれぞれ「ベル状態」\n",
    "\n",
    "$$\n",
    "\\frac{1}{\\sqrt{2}} \\left( \\ket{00} + \\ket{11} \\right)\n",
    "$$\n",
    "\n",
    "を作ったあと、別々の$R_y$ゲートをかけます。"
   ]
  },
  {
   "cell_type": "code",
   "execution_count": null,
   "metadata": {},
   "outputs": [],
   "source": [
    "circuits = []\n",
    "for ic in range(4):\n",
    "    circuit = QuantumCircuit(2, name='circuit{}'.format(ic))\n",
    "    circuit.h(0)\n",
    "    circuit.cx(0, 1)\n",
    "    circuits.append(circuit)\n",
    "\n",
    "circuits[0].ry(-np.pi / 4., 1)\n",
    "circuits[1].ry(-3. * np.pi / 4., 1)\n",
    "circuits[2].ry(-np.pi / 4., 1)\n",
    "circuits[3].ry(-3. * np.pi / 4., 1)\n",
    "\n",
    "circuits[2].ry(-np.pi / 2., 0)\n",
    "circuits[3].ry(-np.pi / 2., 0)\n",
    "\n",
    "for circuit in circuits:\n",
    "    circuit.measure_all()\n",
    "\n",
    "# draw()にmatplotlibのaxesオブジェクトを渡すと、そこに描画してくれる\n",
    "# 一つのノートブックセルで複数プロットしたい時などに便利\n",
    "for circuit in circuits:\n",
    "    ax = plt.figure().add_subplot()\n",
    "    circuit.draw('mpl', ax=ax)"
   ]
  },
  {
   "cell_type": "markdown",
   "metadata": {},
   "source": [
    "## 回路をシミュレータで実行する\n",
    "\n",
    "ワークブックでは直接回路を実機に渡していますが、講義では時間が限られているので、まずシミュレータを利用します。"
   ]
  },
  {
   "cell_type": "markdown",
   "metadata": {},
   "source": [
    "### ジョブの実行"
   ]
  },
  {
   "cell_type": "code",
   "execution_count": null,
   "metadata": {},
   "outputs": [],
   "source": [
    "simulator = Aer.get_backend('qasm_simulator')\n",
    "print(simulator.name())\n",
    "\n",
    "shots = 10000\n",
    "    \n",
    "sim_job = execute(circuits, backend=simulator, shots=shots)\n",
    "\n",
    "sim_result = sim_job.result()"
   ]
  },
  {
   "cell_type": "markdown",
   "metadata": {},
   "source": [
    "### 測定結果の解析 - 個々の回路のヒストグラム"
   ]
  },
  {
   "cell_type": "code",
   "execution_count": null,
   "metadata": {},
   "outputs": [],
   "source": [
    "sim_counts = []\n",
    "for circuit in circuits:\n",
    "    c = sim_result.get_counts(circuit)\n",
    "    sim_counts.append(c)\n",
    "    \n",
    "for c in sim_counts:\n",
    "    ax = plt.figure().add_subplot()\n",
    "    plot_histogram(c, ax=ax)"
   ]
  },
  {
   "cell_type": "markdown",
   "metadata": {},
   "source": [
    "### 測定結果の解析 - CHSH不等式の$S$"
   ]
  },
  {
   "cell_type": "code",
   "execution_count": null,
   "metadata": {},
   "outputs": [],
   "source": [
    "C = []\n",
    "for c in sim_counts:\n",
    "    C.append((c['00'] + c['11'] - c['01'] - c['10']) / shots)\n",
    "    \n",
    "S = C[0] - C[1] + C[2] + C[3]\n",
    "print('S =', S)"
   ]
  },
  {
   "cell_type": "markdown",
   "metadata": {},
   "source": [
    "## 回路を実機で実行する"
   ]
  },
  {
   "cell_type": "markdown",
   "metadata": {},
   "source": [
    "### バックエンドの決定"
   ]
  },
  {
   "cell_type": "code",
   "execution_count": null,
   "metadata": {
    "tags": [
     "raises-exception",
     "remove-output"
    ]
   },
   "outputs": [],
   "source": [
    "# IBMQプロバイダ（実機へのアクセスを管理するオブジェクト）\n",
    "provider = IBMQ.get_provider(hub='ibm-q', group='open', project='main')\n",
    "\n",
    "# バックエンド（実機）のうち量子ビット数2個以上のもののリストをプロバイダから取得し、一番空いているものを選ぶ\n",
    "backend_filter = lambda b: (not b.configuration().simulator) and (b.configuration().n_qubits >= 2) and b.status().operational\n",
    "backend = least_busy(provider.backends(filters=backend_filter))\n",
    "\n",
    "print('Jobs will run on', backend.name())"
   ]
  },
  {
   "cell_type": "markdown",
   "metadata": {},
   "source": [
    "### ジョブの実行"
   ]
  },
  {
   "cell_type": "code",
   "execution_count": null,
   "metadata": {
    "tags": [
     "raises-exception",
     "remove-output"
    ]
   },
   "outputs": [],
   "source": [
    "shots = 8192\n",
    "\n",
    "job = execute(circuits, backend=backend, shots=shots)\n",
    "\n",
    "job_monitor(job, interval=2)\n",
    "\n",
    "result = job.result()"
   ]
  },
  {
   "cell_type": "markdown",
   "metadata": {},
   "source": [
    "### ヒストグラム"
   ]
  },
  {
   "cell_type": "code",
   "execution_count": null,
   "metadata": {
    "tags": [
     "remove-cell"
    ]
   },
   "outputs": [],
   "source": [
    "counts = []\n",
    "for circuit in circuits:\n",
    "    c = result.get_counts(circuit)\n",
    "    counts.append(c)\n",
    "    \n",
    "for c in counts:\n",
    "    ax = plt.figure().add_subplot()\n",
    "    plot_histogram(c, ax=ax)"
   ]
  },
  {
   "cell_type": "code",
   "execution_count": null,
   "metadata": {},
   "outputs": [],
   "source": [
    "C = []\n",
    "for c in counts:\n",
    "    C.append((c['00'] + c['11'] - c['01'] - c['10']) / shots)\n",
    "    \n",
    "S = C[0] - C[1] + C[2] + C[3]\n",
    "\n",
    "print('C:', C)\n",
    "print('S =', S)\n",
    "if S > 2.:\n",
    "    print('Yes, we are using a quantum computer!')"
   ]
  }
 ],
 "metadata": {
  "kernelspec": {
   "display_name": "Python 3",
   "language": "python",
   "name": "python3"
  },
  "language_info": {
   "codemirror_mode": {
    "name": "ipython",
    "version": 3
   },
   "file_extension": ".py",
   "mimetype": "text/x-python",
   "name": "python",
   "nbconvert_exporter": "python",
   "pygments_lexer": "ipython3",
   "version": "3.8.5"
  }
 },
 "nbformat": 4,
 "nbformat_minor": 4
}
