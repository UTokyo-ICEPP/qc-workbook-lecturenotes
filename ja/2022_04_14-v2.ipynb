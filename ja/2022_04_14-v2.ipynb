{
 "cells": [
  {
   "cell_type": "markdown",
   "id": "324fab03-ad55-4b20-8c8d-a4f3426ed09d",
   "metadata": {},
   "source": [
    "# 第一回：CHSH不等式\n",
    "\n",
    "$\\newcommand{\\ket}[1]{|#1\\rangle}$"
   ]
  },
  {
   "cell_type": "markdown",
   "id": "d6ebbf29-526f-4265-9edd-4f41dc964d7f",
   "metadata": {},
   "source": [
    "## とりあえずこのセルを走らせてから授業を始めます"
   ]
  },
  {
   "cell_type": "code",
   "execution_count": null,
   "id": "a721e3da-07a8-41d8-b2a8-8c77a1622050",
   "metadata": {},
   "outputs": [],
   "source": [
    "# まずは必要になるpythonモジュールをすべてインポートしておく\n",
    "import sys\n",
    "sys.path.append('/home/jovyan/qc-workbook-lecturenotes/ja')\n",
    "import numpy as np\n",
    "import matplotlib.pyplot as plt\n",
    "from qiskit import QuantumCircuit, IBMQ, transpile\n",
    "from qiskit.providers.ibmq import least_busy, IBMQProviderError, IBMQAccountCredentialsNotFound\n",
    "from qiskit.tools.monitor import job_monitor\n",
    "from qiskit.visualization import plot_histogram\n",
    "# qc_workbookはこのワークブック独自のモジュール（インポートエラーが出る場合はPYTHONPATHを設定するか、sys.pathをいじってください）\n",
    "from qc_workbook.utils import operational_backend\n",
    "\n",
    "circuits = [QuantumCircuit(2) for _ in range(4)]\n",
    "\n",
    "for circuit in circuits:\n",
    "    circuit.h(0)\n",
    "    circuit.cx(0, 1)\n",
    "    \n",
    "circuits[0].ry(-np.pi / 4., 1)\n",
    "\n",
    "circuits[1].ry(-3. * np.pi / 4., 1)\n",
    "\n",
    "circuits[2].ry(-np.pi / 4., 1)\n",
    "circuits[2].ry(-np.pi / 2., 0)\n",
    "\n",
    "circuits[3].ry(-3. * np.pi / 4., 1)\n",
    "circuits[3].ry(-np.pi / 2., 0)\n",
    "\n",
    "for circuit in circuits:\n",
    "    circuit.measure_all()\n",
    "\n",
    "IBMQ.load_account()\n",
    "\n",
    "try:\n",
    "    provider = IBMQ.get_provider(hub='ibm-q-utokyo', group='internal', project='qc-training22')\n",
    "except IBMQProviderError:\n",
    "    provider = IBMQ.get_provider(hub='ibm-q', group='open', project='main')\n",
    "    \n",
    "backend_list = provider.backends(filters=operational_backend(min_qubits=2))\n",
    "\n",
    "backend = least_busy(backend_list)\n",
    "\n",
    "shots = backend.configuration().max_shots\n",
    "\n",
    "circuits = transpile(circuits, backend=backend)\n",
    "job = backend.run(circuits, shots=shots)\n",
    "\n",
    "print(f'Provider: {provider.credentials.hub}/{provider.credentials.group}/{provider.credentials.project}')\n",
    "print(f'Backend: {backend.name()}')\n",
    "print(f'Job ID: {job.job_id()}')"
   ]
  },
  {
   "cell_type": "markdown",
   "id": "a68dbaea-a0ab-467b-8e29-f961f6fcb1c7",
   "metadata": {},
   "source": [
    "## 最初の量子回路"
   ]
  },
  {
   "cell_type": "code",
   "execution_count": null,
   "id": "5a2805ed-b592-4ebd-8be5-d6f1170509bd",
   "metadata": {},
   "outputs": [],
   "source": [
    "circuit = QuantumCircuit(2) # レジスタを介さずビット数を指定して回路を作成することもできます\n",
    "circuit.h(0) # その場合、ゲートにはregister[0]ではなく直接量子ビットの番号を指定します\n",
    "circuit.ry(np.pi / 2., 0) #　θ = π/2\n",
    "circuit.x(0)\n",
    "# 実際の回路では出力を得るためには必ず最後に測定を行う\n",
    "circuit.measure_all()\n",
    "\n",
    "print(f'This circuit has {circuit.num_qubits} qubits and {circuit.size()} operations')"
   ]
  },
  {
   "cell_type": "markdown",
   "id": "a77208a7-628e-4590-a368-8de42b164467",
   "metadata": {},
   "source": [
    "### 回路を数式で表現\n",
    "\n",
    "$$\n",
    "\\begin{align}\n",
    "X R_y\\left(\\frac{\\pi}{2}\\right) H \\ket{0} & = X R_y\\left(\\frac{\\pi}{2}\\right) \\frac{1}{\\sqrt{2}}(\\ket{0} + \\ket{1}) \\\\\n",
    "& = \\frac{1}{\\sqrt{2}} X \\left[\\left(\\cos\\left(\\frac{\\pi}{4}\\right)\\ket{0} + \\sin\\left(\\frac{\\pi}{4}\\right)\\ket{1}\\right) + \\left(-\\sin\\left(\\frac{\\pi}{4}\\right)\\ket{0} + \\cos\\left(\\frac{\\pi}{4}\\right)\\ket{1}\\right)\\right] \\\\\n",
    "& = \\frac{1}{\\sqrt{2}} X \\frac{1}{\\sqrt{2}} \\left[\\left(\\ket{0} + \\ket{1}\\right) + \\left(-\\ket{0} + \\ket{1}\\right)\\right] \\\\\n",
    "& = X \\ket{1} \\\\\n",
    "& = \\ket{0}\n",
    "\\end{align}\n",
    "$$"
   ]
  },
  {
   "cell_type": "markdown",
   "id": "1283f672-d143-4cfb-b734-4688f704cc0f",
   "metadata": {},
   "source": [
    "## 制御ゲートを使った例\n",
    "\n",
    "計算基底$\\ket{0}, \\ket{1}, \\ket{2}, \\ket{3}$の振幅の絶対値自乗が$1:2:3:4$の比になるような状態を作ってみましょう。さらに$C^0_1[Z]$ゲートを使って$\\ket{3}$だけ振幅の符号が他と異なるようにします。"
   ]
  },
  {
   "cell_type": "code",
   "execution_count": null,
   "id": "9baf9d0d-75db-4419-9700-620a1cf5573a",
   "metadata": {},
   "outputs": [],
   "source": [
    "theta1 = 2. * np.arctan(np.sqrt(7. / 3.))\n",
    "theta2 = 2. * np.arctan(np.sqrt(2.))\n",
    "theta3 = 2. * np.arctan(np.sqrt(4. / 3))\n",
    "\n",
    "circuit = QuantumCircuit(2)\n",
    "circuit.ry(theta1, 1)\n",
    "circuit.ry(theta2, 0)\n",
    "circuit.cry(theta3 - theta2, 1, 0) # C[Ry]　1が制御で0が標的\n",
    "circuit.cz(0, 1) # C[Z] 0が制御で1が標的（実はC[Z]ではどちらが制御でも結果は同じ）\n",
    "circuit.measure_all()\n",
    "\n",
    "print(f'This circuit has {circuit.num_qubits} qubits and {circuit.size()} operations')"
   ]
  },
  {
   "cell_type": "markdown",
   "id": "2aa5360d-ccf5-4dd8-b4aa-5dfd93eebc61",
   "metadata": {},
   "source": [
    "### 回路を数式で表現\n",
    "\n",
    "$$\n",
    "\\begin{align}\n",
    "R_y(\\theta_1)\\ket{0} & = \\sqrt{\\frac{3}{10}} \\ket{0} + \\sqrt{\\frac{7}{10}} \\ket{1} \\\\\n",
    "R_y(\\theta_2)\\ket{0} & = \\sqrt{\\frac{1}{3}} \\ket{0} + \\sqrt{\\frac{2}{3}} \\ket{1} \\\\\n",
    "R_y(\\theta_3 - \\theta_2)R_y(\\theta_2)\\ket{0} & = R_y(\\theta_3)\\ket{0} = \\sqrt{\\frac{3}{7}} \\ket{0} + \\sqrt{\\frac{4}{7}} \\ket{1}.\n",
    "\\end{align}\n",
    "$$\n",
    "\n",
    "なので、\n",
    "\n",
    "$$\n",
    "\\begin{align}\n",
    "& C^1_0[R_y(\\theta_3 - \\theta_2)]R_{y1}(\\theta_1)R_{y0}(\\theta_2)\\ket{0}_1\\ket{0}_0 \\\\\n",
    "= & C^1_0[R_y(\\theta_3 - \\theta_2)]\\left(\\sqrt{\\frac{3}{10}} \\ket{0}_1 + \\sqrt{\\frac{7}{10}} \\ket{1}_1\\right) R_y(\\theta_2)\\ket{0}_0\\\\\n",
    "= & \\sqrt{\\frac{3}{10}} \\ket{0}_1 R_y(\\theta_2)\\ket{0}_0 + \\sqrt{\\frac{7}{10}} \\ket{1}_1 R_y(\\theta_3)\\ket{0}_0 \\\\\n",
    "= & \\sqrt{\\frac{3}{10}} \\ket{0}_1 \\left(\\sqrt{\\frac{1}{3}} \\ket{0}_0 + \\sqrt{\\frac{2}{3}} \\ket{1}_0\\right) + \\sqrt{\\frac{7}{10}} \\ket{1}_1 \\left(\\sqrt{\\frac{3}{7}} \\ket{0}_0 + \\sqrt{\\frac{4}{7}} \\ket{1}_0\\right) \\\\\n",
    "= & \\sqrt{\\frac{1}{10}} \\ket{00} + \\sqrt{\\frac{2}{10}} \\ket{01} + \\sqrt{\\frac{3}{10}} \\ket{10} + \\sqrt{\\frac{4}{10}} \\ket{11} \n",
    "\\end{align}\n",
    "$$\n",
    "\n",
    "最後に$C[Z]$をかけると、$\\ket{11}$だけ符号が反転します。"
   ]
  },
  {
   "cell_type": "markdown",
   "id": "0ef5cfbb-a8cc-4c1a-9708-5de086e70427",
   "metadata": {},
   "source": [
    "### 回路図の描き方と読み方"
   ]
  },
  {
   "cell_type": "code",
   "execution_count": null,
   "id": "02164365-af96-4ba4-ac8a-b16203688cdc",
   "metadata": {},
   "outputs": [],
   "source": [
    "circuit.draw('mpl')"
   ]
  },
  {
   "cell_type": "markdown",
   "id": "02541905-7310-4476-81a0-cd1b6edda6f4",
   "metadata": {},
   "source": [
    "## CHSH不等式を計算する回路を書く"
   ]
  },
  {
   "cell_type": "code",
   "execution_count": null,
   "id": "cc8b02f7-5499-4b49-b29d-95169804e1f0",
   "metadata": {},
   "outputs": [],
   "source": [
    "circuits = []\n",
    "\n",
    "# 回路I - H, CX[0, 1], Ry(-π/4)[1]をかける\n",
    "circuit = QuantumCircuit(2, name='circuit_I')\n",
    "circuit.h(0)\n",
    "circuit.cx(0, 1)\n",
    "circuit.ry(-np.pi / 4., 1)\n",
    "circuit.measure_all()\n",
    "# 回路リストに追加\n",
    "circuits.append(circuit)\n",
    "\n",
    "# 回路II - H, CX[0, 1], Ry(-3π/4)[1]をかける\n",
    "circuit = QuantumCircuit(2, name='circuit_II')\n",
    "circuit.h(0)\n",
    "circuit.cx(0, 1)\n",
    "circuit.ry(-3. * np.pi / 4., 1)\n",
    "circuit.measure_all()\n",
    "# 回路リストに追加\n",
    "circuits.append(circuit)\n",
    "\n",
    "# 回路III - H, CX[0, 1], Ry(-π/4)[1], Ry(-π/2)[0]をかける\n",
    "circuit = QuantumCircuit(2, name='circuit_III')\n",
    "circuit.h(0)\n",
    "circuit.cx(0, 1)\n",
    "circuit.ry(-np.pi / 4., 1)\n",
    "circuit.ry(-np.pi / 2., 0)\n",
    "circuit.measure_all()\n",
    "# 回路リストに追加\n",
    "circuits.append(circuit)\n",
    "\n",
    "# 回路IV - H, CX[0, 1], Ry(-3π/4)[1], Ry(-π/2)[0]をかける\n",
    "circuit = QuantumCircuit(2, name='circuit_IV')\n",
    "circuit.h(0)\n",
    "circuit.cx(0, 1)\n",
    "circuit.ry(-3. * np.pi / 4., 1)\n",
    "circuit.ry(-np.pi / 2., 0)\n",
    "circuit.measure_all()\n",
    "# 回路リストに追加\n",
    "circuits.append(circuit)\n",
    "\n",
    "# draw()にmatplotlibのaxesオブジェクトを渡すと、そこに描画してくれる\n",
    "# 一つのノートブックセルで複数プロットしたい時などに便利\n",
    "fig, axs = plt.subplots(2, 2, figsize=[12., 6.])\n",
    "for circuit, ax in zip(circuits, axs.reshape(-1)):\n",
    "    circuit.draw('mpl', ax=ax)\n",
    "    ax.set_title(circuit.name)"
   ]
  },
  {
   "cell_type": "markdown",
   "id": "dab0fbc2-f1c3-4d1d-adf6-274ffe8e6f88",
   "metadata": {},
   "source": [
    "## 回路を実機で実行する\n",
    "\n",
    "最初のセルで色々やってしまっているが、改めて実機を使うための手順を紹介。"
   ]
  },
  {
   "cell_type": "code",
   "execution_count": null,
   "id": "8e31d3a7-b57a-49c2-95e2-6e36c105dd65",
   "metadata": {
    "tags": [
     "remove-output",
     "raises-exception"
    ]
   },
   "outputs": [],
   "source": [
    "# 2回目の認証なのでWarningが出るが気にしない\n",
    "IBMQ.load_account()"
   ]
  },
  {
   "cell_type": "markdown",
   "id": "c432f504-408d-4d13-8803-35c2a51ec5e5",
   "metadata": {},
   "source": [
    "認証が済んだら、利用する量子コンピュータ（「バックエンド」と呼びます）を選びます。"
   ]
  },
  {
   "cell_type": "code",
   "execution_count": null,
   "id": "31d1b483-4307-4215-bad9-ff4dc03a3d5f",
   "metadata": {
    "tags": [
     "raises-exception",
     "remove-output"
    ]
   },
   "outputs": [],
   "source": [
    "# IBMQプロバイダ（実機へのアクセスを管理するオブジェクト）\n",
    "# アカウント登録が済んでいる人は、上のコース専用のプロバイダが使える\n",
    "try:\n",
    "    provider = IBMQ.get_provider(hub='ibm-q-utokyo', group='internal', project='qc-training22')\n",
    "except IBMQProviderError:\n",
    "    # 済んでいないとエラーになるので、デフォルトのプロバイダを使う\n",
    "    provider = IBMQ.get_provider(hub='ibm-q', group='open', project='main')\n",
    "\n",
    "# バックエンド（実機）のうち量子ビット数2個以上のもののリストをプロバイダから取得する\n",
    "backend_list = provider.backends(filters=operational_backend(min_qubits=2))\n",
    "\n",
    "# リストの中から一番空いているものを選ぶ\n",
    "backend = least_busy(backend_list)\n",
    "\n",
    "print(f'Jobs will run on {backend.name()}')"
   ]
  },
  {
   "cell_type": "markdown",
   "id": "0c430af6-d8c7-4445-93de-bf84fbb4a821",
   "metadata": {},
   "source": [
    "回路をトランスパイルしてバックエンドに渡します。"
   ]
  },
  {
   "cell_type": "code",
   "execution_count": null,
   "id": "3b66d3e1-c88d-47bf-90de-6f737fad3158",
   "metadata": {
    "tags": [
     "raises-exception",
     "remove-output"
    ]
   },
   "outputs": [],
   "source": [
    "# バックエンドごとに決められている最大ショット数\n",
    "shots = backend.configuration().max_shots\n",
    "print(f'Running four circuits, {shots} shots each')\n",
    "\n",
    "# transpileの説明は次回の実習にて\n",
    "circuits = transpile(circuits, backend=backend)\n",
    "# バックエンドで回路をshots回実行させ、測定結果を返させる\n",
    "# すでに最初のセルで同じジョブを投げているので、次の行はコメントアウトしてある\n",
    "# job = backend.run(circuits, shots=shots)\n",
    "\n",
    "# 最初のセルを走らせた後で何か問題があってjobオブジェクトを再び取り直す必要がある場合\n",
    "# backend = provider.get_backend('__backend_name__')\n",
    "# job = backend.retrieve_job('__job_id__')\n",
    "\n",
    "# ジョブが終了するまで状態を表示しながら待つ（正常に完了、エラーで停止、など終了する理由は一つではない）\n",
    "job_monitor(job, interval=2)"
   ]
  },
  {
   "cell_type": "markdown",
   "id": "abc71c85-411c-475f-8a47-3bbba6f163ed",
   "metadata": {},
   "source": [
    "## 量子測定結果の解析\n",
    "\n",
    "### ジョブの結果をダウンロードする"
   ]
  },
  {
   "cell_type": "code",
   "execution_count": null,
   "id": "4ae972af-5563-4c84-acb9-a31d841c3424",
   "metadata": {
    "tags": [
     "raises-exception",
     "remove-output"
    ]
   },
   "outputs": [],
   "source": [
    "# result()でジョブの結果をIBMのサーバーからダウンロードする\n",
    "result = job.result()\n",
    "\n",
    "# 4つの回路のヒストグラムデータを入れるリスト\n",
    "counts_list = []\n",
    "\n",
    "# 回路ごとの結果をresultから抽出する\n",
    "for idx in range(4):\n",
    "    # get_counts(i)で回路iのヒストグラムデータが得られる\n",
    "    counts = result.get_counts(idx)\n",
    "    # データをリストに足す\n",
    "    counts_list.append(counts)\n",
    "    \n",
    "print(counts_list)"
   ]
  },
  {
   "cell_type": "markdown",
   "id": "30f52460-f6ae-444e-9e87-3615c3c4983b",
   "metadata": {},
   "source": [
    "### 生データをプロットする"
   ]
  },
  {
   "cell_type": "code",
   "execution_count": null,
   "id": "e9cf681e-2d06-4289-8612-d311eb5e4562",
   "metadata": {},
   "outputs": [],
   "source": [
    "fig, axs = plt.subplots(2, 2, sharey=True, figsize=[12., 8.])\n",
    "for counts, circuit, ax in zip(counts_list, circuits, axs.reshape(-1)):\n",
    "    plot_histogram(counts, ax=ax)\n",
    "    ax.set_title(circuit.name)\n",
    "    ax.yaxis.grid(True)"
   ]
  },
  {
   "cell_type": "markdown",
   "id": "d73a3692-bc1a-4cc3-90c8-fd54b70d42ee",
   "metadata": {},
   "source": [
    "### CHSH不等式に当てはめる"
   ]
  },
  {
   "cell_type": "code",
   "execution_count": null,
   "id": "88e866d4-358e-426b-846e-f524e7ee8d50",
   "metadata": {},
   "outputs": [],
   "source": [
    "# C^I, C^II, C^III, C^IVを一つのアレイにする\n",
    "#（今の場合ただのリストにしてもいいが、純粋な数字の羅列にはnumpy arrayを使うといいことが多い）\n",
    "C = np.zeros(4, dtype=float)\n",
    "\n",
    "# enumerate(L)でリストのインデックスと対応する要素に関するループを回せる\n",
    "for ic, counts in enumerate(counts_list):\n",
    "    # counts['00'] でなく counts.get('00', 0) - 上のテキストを参照\n",
    "    C[ic] = counts.get('00', 0) + counts.get('11', 0) - counts.get('01', 0) - counts.get('10', 0)\n",
    "\n",
    "# 4つの要素を同時にshotsで規格化（リストではこういうことはできない）\n",
    "C /= shots\n",
    "    \n",
    "S = C[0] - C[1] + C[2] + C[3]\n",
    "\n",
    "print('C:', C)\n",
    "print('S =', S)\n",
    "if S > 2.:\n",
    "    print('Yes, we are using a quantum computer!')\n",
    "else:\n",
    "    print('Armonk, we have a problem.')"
   ]
  },
  {
   "cell_type": "markdown",
   "id": "74eac944-9447-4814-a460-70a6974f9233",
   "metadata": {},
   "source": [
    "無事、$S$が2を超えました。"
   ]
  },
  {
   "cell_type": "markdown",
   "id": "ac0d9e59-b771-40b7-b8ab-cae4fa5363e1",
   "metadata": {},
   "source": [
    "## 参考文献\n",
    "\n",
    "```{bibliography}\n",
    ":filter: docname in docnames\n",
    "```"
   ]
  }
 ],
 "metadata": {
  "kernelspec": {
   "display_name": "Python 3 (ipykernel)",
   "language": "python",
   "name": "python3"
  },
  "language_info": {
   "codemirror_mode": {
    "name": "ipython",
    "version": 3
   },
   "file_extension": ".py",
   "mimetype": "text/x-python",
   "name": "python",
   "nbconvert_exporter": "python",
   "pygments_lexer": "ipython3",
   "version": "3.8.10"
  }
 },
 "nbformat": 4,
 "nbformat_minor": 5
}
