{
 "cells": [
  {
   "cell_type": "markdown",
   "metadata": {},
   "source": [
    "# 2021/04/22 - 1"
   ]
  },
  {
   "cell_type": "code",
   "execution_count": null,
   "metadata": {
    "tags": [
     "remove-output"
    ]
   },
   "outputs": [],
   "source": [
    "# まずは必要になるpythonモジュールをすべてインポートしておく\n",
    "import numpy as np\n",
    "import matplotlib.pyplot as plt\n",
    "from qiskit import ClassicalRegister, QuantumRegister, QuantumCircuit, IBMQ, Aer, execute, transpile, assemble\n",
    "from qiskit.providers.ibmq import least_busy\n",
    "from qiskit.tools.monitor import job_monitor\n",
    "from qiskit.visualization import plot_histogram\n",
    "\n",
    "# utilsはこのワークブック独自のモジュール（インポートエラーが出る場合はPYTHONPATHを設定するか、sys.pathをいじってください）\n",
    "from utils.show_state import show_state\n",
    "from utils.optimized_additions import optimized_additions, get_initial_layout"
   ]
  },
  {
   "cell_type": "markdown",
   "metadata": {},
   "source": [
    "## 状態ベクトルシミュレータで量子状態を調べる\n",
    "\n",
    "`statevector_simulator`はヒストグラムデータではなく状態ベクトルを（計算基底の複素振幅の配列として）直接返します。"
   ]
  },
  {
   "cell_type": "code",
   "execution_count": null,
   "metadata": {},
   "outputs": [],
   "source": [
    "simulator = Aer.get_backend('statevector_simulator')\n",
    "print(simulator.name())"
   ]
  },
  {
   "cell_type": "markdown",
   "metadata": {},
   "source": [
    "例としてCHSH不等式の回路1を使います。測定（`measure_all()`）以外のゲートをかけていきます。"
   ]
  },
  {
   "cell_type": "code",
   "execution_count": null,
   "metadata": {},
   "outputs": [],
   "source": [
    "circuit = QuantumCircuit(2)\n",
    "circuit.h(0)\n",
    "circuit.cx(0, 1)\n",
    "circuit.ry(3. * np.pi / 4., 1)\n",
    "\n",
    "circuit.draw('mpl')"
   ]
  },
  {
   "cell_type": "code",
   "execution_count": null,
   "metadata": {},
   "outputs": [],
   "source": [
    "job = execute(circuit, simulator)\n",
    "result = job.result()\n",
    "statevector = result.data()['statevector']\n",
    "\n",
    "print(type(statevector), statevector.dtype)\n",
    "print(statevector)"
   ]
  },
  {
   "cell_type": "markdown",
   "metadata": {},
   "source": [
    "### 状態ベクトルをケット表示（後で関数化する）"
   ]
  },
  {
   "cell_type": "code",
   "execution_count": null,
   "metadata": {},
   "outputs": [],
   "source": [
    "state_string = r'|\\psi\\rangle ='\n",
    "for idx in range(statevector.shape[0]):\n",
    "    angle = np.arcsin(statevector[idx].real * np.sqrt(2.))\n",
    "    norm_angle = np.round(angle / np.pi * 8.).astype(int)\n",
    "    state_string += r' sin({} \\pi / 8)|{}\\rangle'.format('' if norm_angle == 1 else norm_angle, idx)\n",
    "    if idx != statevector.shape[0] - 1:\n",
    "        state_string += '+'\n",
    "\n",
    "plt.figure(figsize=[10., 0.2])\n",
    "plt.axis('off')\n",
    "t = plt.text(0.5, 0.5, '${}$'.format(state_string), fontsize='xx-large')"
   ]
  },
  {
   "cell_type": "markdown",
   "metadata": {},
   "source": [
    "## エクササイズ：量子状態生成"
   ]
  },
  {
   "cell_type": "markdown",
   "metadata": {},
   "source": [
    "### 問題1: 1量子ビット、相対位相付き\n",
    "\n",
    "**問題**\n",
    "\n",
    "1量子ビットに対して状態\n",
    "\n",
    "$$\n",
    "\\frac{1}{\\sqrt{2}}\\left(\\ket{0} + i\\ket{1}\\right)\n",
    "$$\n",
    "\n",
    "を作りなさい。"
   ]
  },
  {
   "cell_type": "code",
   "execution_count": null,
   "metadata": {
    "tags": [
     "remove-output"
    ]
   },
   "outputs": [],
   "source": [
    "circuit = QuantumCircuit(1)\n",
    "##################\n",
    "### EDIT BELOW ###\n",
    "##################\n",
    "circuit.h(0)\n",
    "# circuit.?\n",
    "##################\n",
    "### EDIT ABOVE ###\n",
    "##################\n",
    "\n",
    "show_state(circuit, amp_norm=(np.sqrt(0.5), r'\\frac{1}{\\sqrt{2}}'))"
   ]
  },
  {
   "cell_type": "markdown",
   "metadata": {},
   "source": [
    "**解答例**\n",
    "\n",
    "```\n",
    "circuit.h(0)\n",
    "circuit.p(np.pi / 2., 0)\n",
    "```\n",
    "\n",
    "もしくは\n",
    "\n",
    "```\n",
    "circuit.u3(np.pi / 2., np.pi / 2., 0., 0)\n",
    "```\n",
    "\n",
    "など"
   ]
  },
  {
   "cell_type": "markdown",
   "metadata": {},
   "source": [
    "### 問題2: ベル状態、相対位相付き\n",
    "\n",
    "**問題**\n",
    "\n",
    "2量子ビットに対して状態\n",
    "\n",
    "$$\n",
    "\\frac{1}{\\sqrt{2}}\\left(\\ket{0} + i\\ket{3}\\right)\n",
    "$$\n",
    "\n",
    "を作りなさい。"
   ]
  },
  {
   "cell_type": "code",
   "execution_count": null,
   "metadata": {
    "tags": [
     "remove-output"
    ]
   },
   "outputs": [],
   "source": [
    "circuit = QuantumCircuit(2)\n",
    "\n",
    "##################\n",
    "### EDIT BELOW ###\n",
    "##################\n",
    "# circuit.?\n",
    "circuit.cx(0, 1)\n",
    "##################\n",
    "### EDIT ABOVE ###\n",
    "##################\n",
    "\n",
    "show_state(circuit, amp_norm=(np.sqrt(0.5), r'\\frac{1}{\\sqrt{2}}'))"
   ]
  },
  {
   "cell_type": "markdown",
   "metadata": {},
   "source": [
    "**解答例**\n",
    "\n",
    "```\n",
    "circuit.h(0)\n",
    "circuit.p(np.pi / 2., 0)\n",
    "circuit.cx(0, 1)\n",
    "```"
   ]
  },
  {
   "cell_type": "markdown",
   "metadata": {},
   "source": [
    "### 問題3: GHZ状態\n",
    "\n",
    "**問題**\n",
    "\n",
    "3量子ビットに対して状態\n",
    "\n",
    "$$\n",
    "\\frac{1}{\\sqrt{2}} (\\ket{0} + \\ket{7})\n",
    "$$\n",
    "\n",
    "を作りなさい。"
   ]
  },
  {
   "cell_type": "code",
   "execution_count": null,
   "metadata": {
    "tags": [
     "remove-output"
    ]
   },
   "outputs": [],
   "source": [
    "circuit = QuantumCircuit(3)\n",
    "\n",
    "##################\n",
    "### EDIT BELOW ###\n",
    "##################\n",
    "# circuit.?\n",
    "circuit.mcx([0, 1], 2)\n",
    "##################\n",
    "### EDIT ABOVE ###\n",
    "##################\n",
    "\n",
    "show_state(circuit, amp_norm=(np.sqrt(0.5), r'\\frac{1}{\\sqrt{2}}'))"
   ]
  },
  {
   "cell_type": "markdown",
   "metadata": {
    "tags": [
     "hide-cell"
    ]
   },
   "source": [
    "**解答例**\n",
    "\n",
    "```\n",
    "circuit.h(0)\n",
    "circuit.cx(0, 1)\n",
    "circuit.mcx([0, 1], 2)\n",
    "```"
   ]
  },
  {
   "cell_type": "markdown",
   "metadata": {},
   "source": [
    "### 問題4: Equal superposition\n",
    "\n",
    "**問題**\n",
    "\n",
    "一般の$n$量子ビットに対して状態\n",
    "\n",
    "$$\n",
    "\\frac{1}{\\sqrt{2^n}} \\sum_{k=0}^{2^n-1} \\ket{k}\n",
    "$$\n",
    "\n",
    "を作る回路を考え、$n=4$のケースを実装しなさい。"
   ]
  },
  {
   "cell_type": "code",
   "execution_count": null,
   "metadata": {
    "tags": [
     "remove-output"
    ]
   },
   "outputs": [],
   "source": [
    "num_qubits = 4\n",
    "\n",
    "circuit = QuantumCircuit(num_qubits)\n",
    "\n",
    "##################\n",
    "### EDIT BELOW ###\n",
    "##################\n",
    "# circuit.?\n",
    "##################\n",
    "### EDIT ABOVE ###\n",
    "##################\n",
    "\n",
    "sqrt_2_to_n = np.sqrt(2 ** num_qubits)\n",
    "show_state(circuit, amp_norm=(1. / sqrt_2_to_n, r'\\frac{1}{' + str(int(sqrt_2_to_n)) + '}'))"
   ]
  },
  {
   "cell_type": "markdown",
   "metadata": {
    "tags": [
     "hide-cell"
    ]
   },
   "source": [
    "**解答例**\n",
    "\n",
    "$$\n",
    "\\frac{1}{\\sqrt{2^n}} \\sum_{k=0}^{2^n-1} \\ket{k} = \\frac{1}{\\sqrt{2}}(\\ket{0} + \\ket{1}) \\otimes \\frac{1}{\\sqrt{2}}(\\ket{0} + \\ket{1}) \\otimes \\cdots \\otimes \\frac{1}{\\sqrt{2}}(\\ket{0} + \\ket{1})\n",
    "$$\n",
    "\n",
    "なので\n",
    "\n",
    "```\n",
    "for i in range(4):\n",
    "    circuit.h(i)\n",
    "```"
   ]
  },
  {
   "cell_type": "markdown",
   "metadata": {},
   "source": [
    "### 問題5: 特定の基底の符号を反転させる\n",
    "\n",
    "**問題**\n",
    "\n",
    "問題4の4ビットequal superposition状態において、基底$\\ket{5}$の符号を反転させなさい。"
   ]
  },
  {
   "cell_type": "code",
   "execution_count": null,
   "metadata": {
    "tags": [
     "remove-output"
    ]
   },
   "outputs": [],
   "source": [
    "num_qubits = 4\n",
    "\n",
    "circuit = QuantumCircuit(num_qubits)\n",
    "\n",
    "##################\n",
    "### EDIT BELOW ###\n",
    "##################\n",
    "for i in range(num_qubits):\n",
    "    circuit.h(i)\n",
    "    \n",
    "# circuit.?\n",
    "##################\n",
    "### EDIT ABOVE ###\n",
    "##################\n",
    "\n",
    "sqrt_2_to_n = np.sqrt(2 ** num_qubits)\n",
    "show_state(circuit, amp_norm=(1. / sqrt_2_to_n, r'\\frac{1}{' + str(int(sqrt_2_to_n)) + '}'))"
   ]
  },
  {
   "cell_type": "markdown",
   "metadata": {
    "tags": [
     "hide-cell"
    ]
   },
   "source": [
    "**解答例**\n",
    "\n",
    "```\n",
    "for i in range(4):\n",
    "    circuit.h(i)\n",
    "\n",
    "circuit.x(1)\n",
    "circuit.x(3)\n",
    "circuit.mcp(np.pi, [0, 1, 2], 3)\n",
    "circuit.x(1) # Xの逆操作はX\n",
    "circuit.x(3)\n",
    "```"
   ]
  },
  {
   "cell_type": "markdown",
   "metadata": {},
   "source": [
    "### 問題6: Equal superpositionに位相を付ける\n",
    "\n",
    "**問題**\n",
    "\n",
    "一般の$n$量子ビットに対して状態\n",
    "\n",
    "$$\n",
    "\\frac{1}{\\sqrt{2^n}}\\sum_{k=0}^{2^n-1} e^{2\\pi i s k/2^n} \\ket{k} \\quad (s \\in \\mathbb{R})\n",
    "$$\n",
    "\n",
    "を作る回路を考え、$n=6, s=2.5$のケースを実装しなさい。"
   ]
  },
  {
   "cell_type": "code",
   "execution_count": null,
   "metadata": {
    "tags": [
     "output_scroll",
     "remove-output"
    ]
   },
   "outputs": [],
   "source": [
    "num_qubits = 6\n",
    "\n",
    "circuit = QuantumCircuit(num_qubits)\n",
    "\n",
    "s = 2.5\n",
    "\n",
    "##################\n",
    "### EDIT BELOW ###\n",
    "##################\n",
    "#for i in range(num_qubits):\n",
    "#    circuit.h(i)\n",
    "#\n",
    "# circuit.?\n",
    "##################\n",
    "### EDIT ABOVE ###\n",
    "##################\n",
    "\n",
    "sqrt_2_to_n = np.sqrt(2 ** num_qubits)\n",
    "show_state(circuit, amp_norm=(1. / sqrt_2_to_n, r'\\frac{1}{' + str(int(sqrt_2_to_n)) + '}'), phase_norm=(2 * np.pi / (2 ** num_qubits), r'\\frac{2 \\pi i}{' + str(2 ** num_qubits) + '}'))"
   ]
  },
  {
   "cell_type": "markdown",
   "metadata": {
    "tags": [
     "hide-cell"
    ]
   },
   "source": [
    "**解答例**\n",
    "\n",
    "$$\n",
    "\\exp\\left(2\\pi i \\frac{sk}{2^n}\\right) = \\exp \\left(2\\pi i \\frac{s}{2^n} \\sum_{m=0}^{n-1} 2^m k_m\\right) = \\prod_{m=0}^{n-1} \\exp \\left(2\\pi i \\frac{s}{2^{n-m}} k_m\\right)\n",
    "$$\n",
    "\n",
    "と\n",
    "\n",
    "$$\n",
    "\\ket{k} = \\ket{k_{n-1}} \\otimes \\ket{k_{n-2}} \\otimes \\cdots \\ket{k_0}\n",
    "$$\n",
    "\n",
    "より\n",
    "\n",
    "$$\n",
    "e^{2\\pi i sk/2^n} \\ket{k} = e^{2\\pi i sk_{n-1}/2} \\ket{k_{n-1}} \\otimes \\cdots \\otimes e^{2\\pi i sk_{1}/2^{n-1}} \\ket{k_1} \\otimes e^{2\\pi i sk_{0}/2^n} \\ket{k_{0}}.\n",
    "$$\n",
    "\n",
    "$k_m = 0$ならば$e^{2\\pi i sk_{m}/2^n} = 1$であることから、\n",
    "\n",
    "$$\n",
    "\\frac{1}{\\sqrt{2^n}}\\sum_{k=0}^{2^n-1} e^{2\\pi i sk/2^n} \\ket{k} = \\frac{1}{\\sqrt{2}} \\left(\\ket{0} + e^{2\\pi i s/2} \\ket{1}\\right) \\otimes \\cdots \\otimes \\frac{1}{\\sqrt{2}} \\left(\\ket{0} + e^{2\\pi i s/2^n} \\ket{1}\\right)\n",
    "$$\n",
    "\n",
    "なので\n",
    "\n",
    "```\n",
    "for m in range(num_qubits):\n",
    "    circuit.h(m)\n",
    "    circuit.p(2. * np.pi * s / (2 ** (num_qubits - m)), m)\n",
    "```"
   ]
  },
  {
   "cell_type": "markdown",
   "metadata": {},
   "source": [
    "### 問題7: 量子フーリエ変換\n",
    "\n",
    "**問題**\n",
    "\n",
    "$n$量子ビットレジスタの状態$\\ket{j} \\, (j \\in \\{0,1,\\dots,2^n-1\\})$を以下のように変換する回路を考え、$n=6, j=23$のケースを実装しなさい。\n",
    "\n",
    "$$\n",
    "\\ket{j} \\rightarrow \\frac{1}{\\sqrt{2^n}}\\sum_{k=0}^{2^n-1} e^{2\\pi i jk/2^n} \\ket{k}\n",
    "$$"
   ]
  },
  {
   "cell_type": "code",
   "execution_count": null,
   "metadata": {
    "tags": [
     "output_scroll",
     "remove-output"
    ]
   },
   "outputs": [],
   "source": [
    "num_qubits = 6\n",
    "\n",
    "circuit = QuantumCircuit(num_qubits)\n",
    "\n",
    "j = 23\n",
    "\n",
    "# jの二進数表現で値が1になっているビットに対してXを作用させる -> 状態|j>を作る\n",
    "for i in range(num_qubits):\n",
    "    if ((j >> i) & 1) == 1:\n",
    "        circuit.x(i)\n",
    "\n",
    "##################\n",
    "### EDIT BELOW ###\n",
    "##################\n",
    "# circuit.?\n",
    "##################\n",
    "### EDIT ABOVE ###\n",
    "##################\n",
    "\n",
    "sqrt_2_to_n = np.sqrt(2 ** num_qubits)\n",
    "show_state(circuit, amp_norm=(1. / sqrt_2_to_n, r'\\frac{1}{' + str(int(sqrt_2_to_n)) + '}'), phase_norm=(2 * np.pi / (2 ** num_qubits), r'\\frac{2 \\pi i}{' + str(2 ** num_qubits) + '}'))"
   ]
  },
  {
   "cell_type": "markdown",
   "metadata": {},
   "source": [
    "**解答例**\n",
    "\n",
    "ビットn-1に関して\n",
    "\n",
    "$$\n",
    "H\\ket{j_{n-1}}_{n-1} = \\frac{1}{\\sqrt{2}} \\left[\\ket{0}_{n-1} + e^{2 \\pi i \\frac{j_{n-1}}{2}} \\ket{1}_{n-1}\\right]\n",
    "$$\n",
    "\n",
    "$$\n",
    "\\begin{align}\n",
    "& C^{n-2}_{n-1}\\left[P\\left(\\frac{2^{n-2} \\cdot 2 \\pi}{2^n}\\right)\\right] \\cdots C^{0}_{n-1}\\left[P\\left(\\frac{2 \\pi}{2^n}\\right)\\right] (H\\ket{j_{n-1}}_{n-1}) \\ket{j_{n-2}}_{n-2} \\cdots \\ket{j_0}_0 \\\\\n",
    "= & \\frac{1}{\\sqrt{2}} \\left[\\ket{0}_{n-1} + \\exp \\left(2 \\pi i \\frac{\\sum_{m=0}^{n-1} 2^{m} j_m}{2^n}\\right) \\ket{1}_{n-1}\\right] \\ket{j_{n-2}}_{n-2} \\cdots \\ket{j_0}_0\n",
    "\\end{align}\n",
    "$$\n",
    "\n",
    "次に、ビットn-2、n-3、...にも同様に\n",
    "\n",
    "$$\n",
    "\\begin{align}\n",
    "& C^{n-3}_{n-2}\\left[P\\left(\\frac{2^{n-2} \\cdot 2 \\pi}{2^n}\\right)\\right] \\cdots C^{0}_{n-2}\\left[P\\left(\\frac{2 \\cdot 2 \\pi}{2^n}\\right)\\right] (H\\ket{j_{n-2}}_{n-2}) \\cdots \\ket{j_0}_0 \\\\\n",
    "= & \\frac{1}{\\sqrt{2}} \\left[\\ket{0}_{n-2} + \\exp \\left(2 \\pi i \\frac{2 \\sum_{m=0}^{n-2} 2^{m} j_m}{2^n}\\right) \\ket{1}_{n-2}\\right] \\ket{j_{n-3}}_{n-3} \\cdots \\ket{j_0}_0\n",
    "\\end{align}\n",
    "$$\n",
    "\n",
    "これをビット0まで繰り返すと\n",
    "\n",
    "$$\n",
    "\\begin{align}\n",
    "& C^{n-4}_{n-3}\\left[P\\left(\\frac{2^{n-2} \\cdot 2 \\pi}{2^n}\\right)\\right] \\cdots C^{0}_{n-3}\\left[P\\left(\\frac{2^2 \\cdot 2 \\pi}{2^n}\\right)\\right] (H\\ket{j_{n-3}}_{n-3}) \\cdots \\ket{j_0}_0 \\\\\n",
    "= & \\frac{1}{\\sqrt{2}} \\left[\\ket{0}_{n-3} + \\exp \\left(2 \\pi i \\frac{2^2 \\sum_{m=0}^{n-3} 2^{m} j_m}{2^n}\\right) \\ket{1}_{n-3}\\right] \\ket{j_{n-4}}_{n-4} \\cdots \\ket{j_0}_0\n",
    "\\end{align}\n",
    "$$\n",
    "\n",
    "$$\n",
    "\\dots\n",
    "$$\n",
    "\n",
    "$$\n",
    "\\begin{align}\n",
    "& C^{0}_{1}\\left[P\\left(\\frac{2^{n-2} \\cdot 2 \\pi}{2^n}\\right)\\right] (H\\ket{j_{1}}_{1}) \\ket{j_0}_0 \\\\\n",
    "= & \\frac{1}{\\sqrt{2}} \\left[\\ket{0}_{1} + \\exp \\left(2 \\pi i \\frac{2^{n-2} \\sum_{m=0}^{1} 2^{m} j_m}{2^n}\\right) \\ket{1}_{1}\\right] \\ket{j_0}_0\n",
    "\\end{align}\n",
    "$$\n",
    "\n",
    "$$\n",
    "\\begin{align}\n",
    "& H\\ket{j_0}_0 \\\\\n",
    "= & \\frac{1}{\\sqrt{2}} \\left[\\ket{0}_0 + \\exp \\left(2 \\pi i \\frac{2^{n-1} \\sum_{m=0}^{0} 2^{m} j_m}{2^n}\\right) \\ket{1}_{0}\\right].\n",
    "\\end{align}\n",
    "$$\n",
    "\n",
    "全ての操作を順に適用すると、\n",
    "\n",
    "$$\n",
    "(H_0) (C^{0}_{1}[P]H_1) \\cdots (C^{n-2}_{n-1}[P] \\cdots C^{0}_{n-1}[P]H_{n-1}) \\, \\ket{j_{n-1}}_{n-1} \\ket{j_{n-2}}_{n-2} \\cdots \\ket{j_{0}}_0 \\\\\n",
    "= \\frac{1}{\\sqrt{2^n}} \\left[\\ket{0}_{n-1} + \\exp \\left(2 \\pi i \\frac{\\sum_{m=0}^{n-1} 2^{m} j_m}{2^n}\\right) \\ket{1}_{n-1}\\right] \\cdots \\left[\\ket{0}_0 + \\exp \\left(2 \\pi i \\frac{2^{n-1} \\sum_{m=0}^{0} 2^{m} j_m}{2^n}\\right) \\ket{1}_0\\right].\n",
    "$$\n",
    "\n",
    "$\\newcommand{tk}{\\tilde{k}}$\n",
    "\n",
    "右辺は振幅$\\{c_k\\}$を用いて\n",
    "\n",
    "$$\n",
    "\\sum_{k=0}^{2^n-1} c_k \\ket{k}\n",
    "$$\n",
    "\n",
    "の形で表せます。後の利便性のために$k$の代わりに整数$\\tk$とその二進数表現$\\tk_{l}$を使って、\n",
    "\n",
    "$$\n",
    "c_{\\tk} = \\exp \\left(\\frac{2 \\pi i}{2^n} \\sum_{l=0}^{n-1}\\sum_{m=0}^{l} 2^{n-1-l+m} j_m \\tk_l \\right).\n",
    "$$\n",
    "\n",
    "$m$についての和は$n-1$までに拡張しても結果が変わらない。$k_l = \\tk_{n-1 - l}$と定義すると、\n",
    "\n",
    "$$\n",
    "c_{\\tk} = \\exp \\left(\\frac{2 \\pi i}{2^n} \\sum_{m=0}^{n-1} 2^m j_m \\sum_{l=0}^{n-1} 2^l k_l \\right).\n",
    "$$\n",
    "\n",
    "つまり、\n",
    "\n",
    "$$\n",
    "\\frac{1}{\\sqrt{2^n}} \\sum_{k_l=0,1} \\exp \\left(\\frac{2 \\pi i}{2^n} j \\sum_{l=0}^{n-1} 2^l k_l \\right) \\ket{k_0}_{n-1} \\cdots \\ket{k_{n-1}}_0\n",
    "$$\n",
    "\n",
    "であり、求める状態に対してビット順序が逆転したものが得られている。\n",
    "\n",
    "最後にSWAPを使ってビット順序を逆転させれば量子フーリエ変換が完成。\n",
    "\n",
    "```\n",
    "for itarg in range(num_qubits - 1, -1, -1):\n",
    "    circuit.h(itarg)\n",
    "    for ictrl in range(itarg - 1, -1, -1):\n",
    "        power = ictrl - itarg - 1 + num_qubits\n",
    "        circuit.cp((2 ** power) * 2. * np.pi / (2 ** num_qubits), ictrl, itarg)\n",
    "        \n",
    "for i in range(num_qubits // 2):\n",
    "    circuit.swap(i, num_qubits - 1 - i)\n",
    "```"
   ]
  }
 ],
 "metadata": {
  "kernelspec": {
   "display_name": "Python 3",
   "language": "python",
   "name": "python3"
  },
  "language_info": {
   "codemirror_mode": {
    "name": "ipython",
    "version": 3
   },
   "file_extension": ".py",
   "mimetype": "text/x-python",
   "name": "python",
   "nbconvert_exporter": "python",
   "pygments_lexer": "ipython3",
   "version": "3.8.5"
  }
 },
 "nbformat": 4,
 "nbformat_minor": 4
}
