{
 "cells": [
  {
   "cell_type": "markdown",
   "id": "eadeaee7-33aa-4594-8104-b1604e3735db",
   "metadata": {},
   "source": [
    "# マイクロ波パルスで超伝導量子ビットを制御する\n",
    "\n",
    "$\\newcommand{\\ket}[1]{|#1\\rangle}$"
   ]
  },
  {
   "cell_type": "code",
   "execution_count": null,
   "id": "34aa69da-3f70-4c6c-bc73-6a1aca7a813d",
   "metadata": {},
   "outputs": [],
   "source": [
    "%pip install qudit-sim"
   ]
  },
  {
   "cell_type": "code",
   "execution_count": null,
   "id": "2ffb2a34-5027-46e1-b6f1-ef67e62e388b",
   "metadata": {},
   "outputs": [],
   "source": [
    "import sys\n",
    "import numpy as np\n",
    "import matplotlib.pyplot as plt\n",
    "import scipy.optimize as sciopt\n",
    "import qutip as qtp\n",
    "from qiskit import pulse, QuantumCircuit, IBMQ, transpile, schedule\n",
    "from qiskit.circuit import Gate\n",
    "from qiskit.providers.ibmq import least_busy\n",
    "\n",
    "from qudit_sim import HamiltonianBuilder, pulse_sim\n",
    "import qudit_sim.pulse as simpulse\n",
    "import rqutils.paulis as paulis\n",
    "\n",
    "sys.path.append('/home/jovyan/qc-workbook-lecturenotes')\n",
    "from qc_workbook.bloch import draw_path\n",
    "from qc_workbook.utils import operational_backend, find_best_chain"
   ]
  },
  {
   "cell_type": "markdown",
   "id": "8508aa55-f554-4e79-9ec0-264430427f97",
   "metadata": {},
   "source": [
    "## 量子ビットのドライブシミュレーション\n",
    "\n",
    "現実的なパラメータ値の量子ビットを定義し、$\\ket{0}$を初期状態として一定振幅のドライブを加え、状態の変化を観察します。"
   ]
  },
  {
   "cell_type": "code",
   "execution_count": null,
   "id": "6d263a88-fcd1-4ea9-af04-d3ebc1ddd5c8",
   "metadata": {},
   "outputs": [],
   "source": [
    "twopi = np.pi * 2.\n",
    "\n",
    "# ωq = 2π×5GHz\n",
    "qubit_frequency = 5.e+9 * twopi\n",
    "# 今は量子ビット（最低2準位）のみを考えるので、非調和度（|1>↔︎|2>角振動数と|0>↔︎|1>角振動数の差）は実は関係ない\n",
    "anharmonicity = -0.3e+9 * twopi\n",
    "# ドライブの強さのスケール\n",
    "drive_amplitude = 140.e+6 * twopi\n",
    "\n",
    "hgen = HamiltonianBuilder(2)\n",
    "# 量子ビットを定義\n",
    "hgen.add_qudit(qubit_frequency=qubit_frequency, anharmonicity=anharmonicity, drive_amplitude=drive_amplitude, qudit_id='q0')\n",
    "# ドライブを加える。角振動数はqubit_frequency, 振幅は上のdrive_amplitudeの0.4倍\n",
    "hgen.add_drive('q0', frequency=qubit_frequency, amplitude=0.4)"
   ]
  },
  {
   "cell_type": "code",
   "execution_count": null,
   "id": "f2813df4-a629-4242-ad25-dc63cd32c45b",
   "metadata": {},
   "outputs": [],
   "source": [
    "# シミュレーションでは時間を有限のステップで刻む。ここではドライブ1周期に対して10点取り、100周期シミュレートする\n",
    "tlist = {'points_per_cycle': 10, 'num_cycles': 100}\n",
    "# 初期状態は|0>\n",
    "psi0 = qtp.basis(2, 0) # QuTiPという量子力学計算ライブラリにおける、2準位系の0基底\n",
    "# X, Y, Zの期待値を各時刻で計算させる\n",
    "e_ops = [qtp.sigmax(), qtp.sigmay(), qtp.sigmaz()]\n",
    "\n",
    "# シミュレーションの実行\n",
    "sim_result = pulse_sim(hgen, tlist, psi0=psi0, e_ops=e_ops)"
   ]
  },
  {
   "cell_type": "markdown",
   "id": "3a3ff907-cd86-4417-a42b-f993c093a794",
   "metadata": {},
   "source": [
    "`sim_result.times`にシミュレーションに使われた時刻の値が記録されている。\n",
    "\n",
    "`sim_result.expect`は`e_ops`に対応して3つの要素を持つ配列で、各要素がX, Y, Zそれぞれの各時刻での期待値に対応する。\n",
    "\n",
    "今は量子ビットを`qubit_frequency`で回転するフレームで観察しているので、状態はX軸周りに回転するはず。"
   ]
  },
  {
   "cell_type": "code",
   "execution_count": null,
   "id": "87f896bd-3756-4ee5-a80d-95c4b801686e",
   "metadata": {},
   "outputs": [],
   "source": [
    "x, y, z = sim_result.expect\n",
    "t = sim_result.times\n",
    "draw_path(x, y, z, t)"
   ]
  },
  {
   "cell_type": "markdown",
   "id": "7f1d153d-90a2-4cc2-b835-f54636c939e4",
   "metadata": {},
   "source": [
    "$\\langle Z \\rangle$だけを時間に対してプロットする。"
   ]
  },
  {
   "cell_type": "code",
   "execution_count": null,
   "id": "0a394629-1c2d-4fc7-979c-4a54279eefa9",
   "metadata": {},
   "outputs": [],
   "source": [
    "plt.plot(t, z);"
   ]
  },
  {
   "cell_type": "markdown",
   "id": "810e2b70-b05a-4539-89f1-fd56942218f3",
   "metadata": {},
   "source": [
    "少しズームインすると、rotating-wave approximationで無視した高周波成分の影響も見える。"
   ]
  },
  {
   "cell_type": "code",
   "execution_count": null,
   "id": "38d240ce-379b-413f-9f22-7c9e6b01f960",
   "metadata": {},
   "outputs": [],
   "source": [
    "plt.plot(t[:100], z[:100]);"
   ]
  },
  {
   "cell_type": "markdown",
   "id": "2e7392fe-1caf-4b16-b2bc-41e6cbbac042",
   "metadata": {},
   "source": [
    "X軸周りの回転なので、$\\langle X \\rangle$は時間変化しない。"
   ]
  },
  {
   "cell_type": "code",
   "execution_count": null,
   "id": "cd4be816-8ef6-4fd8-bddf-eb9abfe0a9b2",
   "metadata": {},
   "outputs": [],
   "source": [
    "plt.plot(t, x, label=r'$\\langle X \\rangle$')\n",
    "plt.plot(t, y, label=r'$\\langle Y \\rangle$')\n",
    "plt.legend();"
   ]
  },
  {
   "cell_type": "markdown",
   "id": "170a5725-80ef-4982-8c60-dbea8939ed93",
   "metadata": {},
   "source": [
    "同じダイナミクスを回転しないフレームで観察する。"
   ]
  },
  {
   "cell_type": "code",
   "execution_count": null,
   "id": "5646e97c-b79d-497e-b2af-6463e85cc960",
   "metadata": {},
   "outputs": [],
   "source": [
    "hgen.set_global_frame('lab')\n",
    "# 点の動きを見やすくするため、時刻を少しずらす\n",
    "tlist = sim_result.times * 0.9\n",
    "sim_result = pulse_sim(hgen, tlist, psi0=psi0, e_ops=e_ops)\n",
    "\n",
    "x, y, z = sim_result.expect\n",
    "t = sim_result.times\n",
    "draw_path(x, y, z, t)"
   ]
  },
  {
   "cell_type": "markdown",
   "id": "b17c1524-ebd7-4c5c-a533-7256f252e5fd",
   "metadata": {},
   "source": [
    "再び量子ビットのフレームに戻し、今度は位相オフセット$\\pi/2$を加えたドライブをかける。"
   ]
  },
  {
   "cell_type": "code",
   "execution_count": null,
   "id": "2c435eb6-4688-4dd4-aef2-f75a6848d517",
   "metadata": {},
   "outputs": [],
   "source": [
    "hgen.set_global_frame('qudit')\n",
    "hgen.clear_drive()\n",
    "hgen.add_drive('q0', frequency=qubit_frequency, amplitude=(0.4 * np.exp(0.5j * np.pi)))\n",
    "\n",
    "tlist = {'points_per_cycle': 10, 'num_cycles': 100}\n",
    "\n",
    "sim_result = pulse_sim(hgen, tlist, psi0=psi0, e_ops=e_ops)\n",
    "\n",
    "x, y, z = sim_result.expect\n",
    "t = sim_result.times\n",
    "draw_path(x, y, z, t)"
   ]
  },
  {
   "cell_type": "markdown",
   "id": "57328d3e-6a17-4091-9e81-be2eb8a62a02",
   "metadata": {},
   "source": [
    "実際の量子ビットでは高位順位があるので、操作はこんなに簡単ではない。"
   ]
  },
  {
   "cell_type": "code",
   "execution_count": null,
   "id": "17a04c43-2cec-448b-95e3-1a6ee6abeaaa",
   "metadata": {},
   "outputs": [],
   "source": [
    "# |0>, |1>, |2>を含める\n",
    "hgen = HamiltonianBuilder(3)\n",
    "# 量子ビットを定義\n",
    "hgen.add_qudit(qubit_frequency=qubit_frequency, anharmonicity=anharmonicity, drive_amplitude=drive_amplitude, qudit_id='q0')\n",
    "# ドライブを加える。角振動数はqubit_frequency, 振幅は上のdrive_amplitudeの0.4倍\n",
    "hgen.add_drive('q0', frequency=qubit_frequency, amplitude=0.4)"
   ]
  },
  {
   "cell_type": "code",
   "execution_count": null,
   "id": "296200be-5126-4630-8102-8269e6c265f1",
   "metadata": {},
   "outputs": [],
   "source": [
    "# シミュレーションでは時間を有限のステップで刻む。ここではドライブ1周期に対して10点取り、100周期シミュレートする\n",
    "tlist = {'points_per_cycle': 10, 'num_cycles': 100}\n",
    "# 初期状態は|0>\n",
    "psi0 = qtp.basis(3, 0)\n",
    "# X, Y, Zの期待値を各時刻で計算させる\n",
    "sigmas = paulis.paulis(3)\n",
    "e_ops = [qtp.Qobj(inpt=sigmas[1]), qtp.Qobj(inpt=sigmas[2]), qtp.Qobj(inpt=sigmas[3])]\n",
    "\n",
    "# シミュレーションの実行\n",
    "sim_result = pulse_sim(hgen, tlist, psi0=psi0, e_ops=e_ops)"
   ]
  },
  {
   "cell_type": "code",
   "execution_count": null,
   "id": "aaf6fc6c-97a0-46c3-a16c-f5fdec5434c0",
   "metadata": {},
   "outputs": [],
   "source": [
    "x, y, z = sim_result.expect\n",
    "t = sim_result.times\n",
    "draw_path(x, y, z, t)"
   ]
  },
  {
   "cell_type": "code",
   "execution_count": null,
   "id": "3a68da03-e0e5-46f3-9f05-e12f251559ac",
   "metadata": {},
   "outputs": [],
   "source": [
    "plt.plot(t, x, label=r'$\\langle X \\rangle$')\n",
    "plt.plot(t, y, label=r'$\\langle Y \\rangle$')\n",
    "plt.legend();"
   ]
  },
  {
   "cell_type": "markdown",
   "id": "d23f1bc4-693d-4969-a8d2-5f86fae89078",
   "metadata": {},
   "source": [
    "## 実機の量子ビットをX軸周りに回す"
   ]
  },
  {
   "cell_type": "code",
   "execution_count": null,
   "id": "2330480c-f2e9-497a-8a10-c790c4dda7f4",
   "metadata": {},
   "outputs": [],
   "source": [
    "# 認証し、バックエンドを選ぶ\n",
    "\n",
    "IBMQ.load_account()\n",
    "provider = IBMQ.get_provider(hub='ibm-q-utokyo', group='internal', project='qc-training22')\n",
    "\n",
    "backend_list = provider.backends(filters=operational_backend(min_qubits=1))\n",
    "\n",
    "# 今一番空いているバックエンド\n",
    "backend = least_busy(backend_list)\n",
    "print(backend.name())"
   ]
  },
  {
   "cell_type": "code",
   "execution_count": null,
   "id": "ab96f766-0bfc-44d4-92d2-7c83d29331e1",
   "metadata": {},
   "outputs": [],
   "source": [
    "# 一番測定エラー率の低い量子ビットを選ぶ\n",
    "\n",
    "config = backend.configuration()\n",
    "prop = backend.properties()\n",
    "defaults = backend.defaults()\n",
    "\n",
    "best_qubit = 0\n",
    "min_err = 1.\n",
    "for iq in range(config.n_qubits):\n",
    "    err = prop.readout_error(iq)\n",
    "    if err < min_err:\n",
    "        best_qubit = iq\n",
    "        min_err = err\n",
    "        \n",
    "print(f'Using qubit {best_qubit}')"
   ]
  },
  {
   "cell_type": "markdown",
   "id": "10c0872d-a6e4-447c-85be-f50daeeeac7b",
   "metadata": {},
   "source": [
    "### Xゲートを調べる"
   ]
  },
  {
   "cell_type": "code",
   "execution_count": null,
   "id": "5422697c-3067-4d40-bd5d-e400c6d3e4cd",
   "metadata": {},
   "outputs": [],
   "source": [
    "# 実際にXゲートとして使われているパルス列（Xなのでパルス一つ）\n",
    "x_sched = defaults.instruction_schedule_map.get('x', best_qubit)\n",
    "\n",
    "x_pulse = x_sched.instructions[0][1].pulse\n",
    "print(x_pulse)\n",
    "\n",
    "x_sched.draw()"
   ]
  },
  {
   "cell_type": "markdown",
   "id": "1d792204-fb7d-4d34-a6ff-bd5fd485a85e",
   "metadata": {},
   "source": [
    "これが具体的にどんな電気信号なのか、シミュレータで確認する。"
   ]
  },
  {
   "cell_type": "code",
   "execution_count": null,
   "id": "1287a0b0-abd1-4026-b217-c53cf2b73a8e",
   "metadata": {},
   "outputs": [],
   "source": [
    "unit_time = 0.22e-9\n",
    "drag = simpulse.Drag(duration=x_pulse.duration * unit_time,\n",
    "                     amp=x_pulse.amp,\n",
    "                     sigma=x_pulse.sigma * unit_time,\n",
    "                     beta=x_pulse.beta * unit_time)\n",
    "\n",
    "t = np.linspace(0., drag.duration, 3200)\n",
    "signal = drag.modulate(1., defaults.qubit_freq_est[best_qubit] * twopi, 0., 0., 0., 'x', False)(t)"
   ]
  },
  {
   "cell_type": "code",
   "execution_count": null,
   "id": "d98833fb-30eb-4fa1-8f83-54104b055c7c",
   "metadata": {},
   "outputs": [],
   "source": [
    "plt.plot(t, signal.real)"
   ]
  },
  {
   "cell_type": "markdown",
   "id": "6d653c63-a13a-4362-a72b-4c247280823c",
   "metadata": {},
   "source": [
    "これではよくわからないので、最初の200点だけを見る。"
   ]
  },
  {
   "cell_type": "code",
   "execution_count": null,
   "id": "9852639b-cd31-45f8-959c-b4771a547225",
   "metadata": {},
   "outputs": [],
   "source": [
    "plt.plot(t[:200], signal.real[:200])"
   ]
  },
  {
   "cell_type": "markdown",
   "id": "d1e0f169-0b22-4031-98f7-0e18a14b070d",
   "metadata": {},
   "source": [
    "### 実験\n",
    "\n",
    "GaussianSquareパルスのプラトー長を変えて、それぞれのパルスで量子ビットがどのくらいブロッホ球上を回るか見る。"
   ]
  },
  {
   "cell_type": "code",
   "execution_count": null,
   "id": "a1afc3dd-1e1b-4bc6-be37-31edc8914bde",
   "metadata": {},
   "outputs": [],
   "source": [
    "# プラトーの幅\n",
    "widths = np.arange(0, 640, 32)\n",
    "# 振幅はXパルスの半分にしておく\n",
    "amp = x_pulse.amp * 0.5\n",
    "# ガウシアン部分のsigmaにはXパルスのものを使う\n",
    "sigma = x_pulse.sigma\n",
    "\n",
    "circuits = []\n",
    "\n",
    "for width in widths:\n",
    "    # パルスを定義\n",
    "    duration = int(x_pulse.duration + width)\n",
    "    gspulse = pulse.GaussianSquare(duration=duration, amp=amp, sigma=sigma, width=int(width))\n",
    "    \n",
    "    # パルススケジュールを組む\n",
    "    with pulse.build(backend=backend) as sched:\n",
    "        drive_chan = pulse.drive_channel(best_qubit)\n",
    "        pulse.play(gspulse, drive_chan)\n",
    "        \n",
    "    circuit = QuantumCircuit(1)\n",
    "        \n",
    "    # 作ったスケジュールを新しいゲートとして回路に追加\n",
    "    gate = Gate('gspulse', 1, [])\n",
    "    circuit.add_calibration('gspulse', (best_qubit,), sched)\n",
    "    circuit.append(gate, qargs=[0])\n",
    "    \n",
    "    circuit.measure_all()\n",
    "\n",
    "    circuits.append(circuit)\n",
    "\n",
    "circuits = transpile(circuits, backend=backend)"
   ]
  },
  {
   "cell_type": "markdown",
   "id": "19f5595d-7f11-4067-993a-c5704cd86e76",
   "metadata": {},
   "source": [
    "例として一つの回路の全体のパルススケジュールを確認する。"
   ]
  },
  {
   "cell_type": "code",
   "execution_count": null,
   "id": "5fe71a04-6d1e-4a8b-9fb6-e422799ba483",
   "metadata": {},
   "outputs": [],
   "source": [
    "schedule(circuits[10], backend=backend).draw()"
   ]
  },
  {
   "cell_type": "code",
   "execution_count": null,
   "id": "58d6ed9f-97a2-4673-89ce-5da7f5693518",
   "metadata": {},
   "outputs": [],
   "source": [
    "shots = 1000\n",
    "job = backend.run(circuits, shots=shots)\n",
    "counts = job.result().get_counts()"
   ]
  },
  {
   "cell_type": "code",
   "execution_count": null,
   "id": "df8a97e0-e489-423e-b2c5-898a3c697fcb",
   "metadata": {},
   "outputs": [],
   "source": [
    "z = np.array([c.get('0', 0) - c.get('1', 0) for c in counts]) / shots\n",
    "plt.scatter(widths, z)"
   ]
  },
  {
   "cell_type": "markdown",
   "id": "2e847801-12f7-42fd-a679-df314d5997f5",
   "metadata": {},
   "source": [
    "## Ramsey実験で共鳴周波数を求める"
   ]
  },
  {
   "cell_type": "markdown",
   "id": "dda480f5-56d6-428c-8131-3ed879f81f12",
   "metadata": {},
   "source": [
    "### 実験"
   ]
  },
  {
   "cell_type": "code",
   "execution_count": null,
   "id": "5fa398a7-5106-4bd8-8508-b671f225bbfd",
   "metadata": {},
   "outputs": [],
   "source": [
    "# SXパルス\n",
    "sx_pulse = defaults.instruction_schedule_map.get('sx', best_qubit).instructions[0][1].pulse\n",
    "sx_pulse"
   ]
  },
  {
   "cell_type": "code",
   "execution_count": null,
   "id": "b6fbd157-6298-4e1a-a96e-2e348080ef16",
   "metadata": {},
   "outputs": [],
   "source": [
    "circuits = []\n",
    "\n",
    "# 予想される周波数から2MHzずらした周波数\n",
    "frequency = round(defaults.qubit_freq_est[best_qubit] + 2.e+6, 6)\n",
    "\n",
    "# SXパルス間の遅延を伸ばしていって、周波数のずれによる位相の進みを見る\n",
    "delays = np.arange(512, 5120, 128)\n",
    "\n",
    "for delay in delays:\n",
    "    with pulse.build(backend=backend) as sched:\n",
    "        drive_chan = pulse.drive_channel(best_qubit)\n",
    "        # 周波数をずらす\n",
    "        pulse.set_frequency(frequency, drive_chan)\n",
    "        # SXパルスを打ち、delayだけ待って、再びSXを打つ\n",
    "        pulse.play(sx_pulse, drive_chan)\n",
    "        pulse.delay(int(delay), drive_chan)\n",
    "        pulse.play(sx_pulse, drive_chan)\n",
    "        \n",
    "    gate = Gate('ramsey', 1, [])\n",
    "    circuit = QuantumCircuit(1)\n",
    "    circuit.add_calibration('ramsey', (best_qubit,), sched)\n",
    "\n",
    "    circuit.append(gate, qargs=[0])\n",
    "    circuit.measure_all()\n",
    "\n",
    "    circuits.append(circuit)\n",
    "\n",
    "circuits = transpile(circuits, backend=backend)"
   ]
  },
  {
   "cell_type": "code",
   "execution_count": null,
   "id": "b9b451a4-ce1b-41d0-b603-c00a83a30bb9",
   "metadata": {},
   "outputs": [],
   "source": [
    "# 一つ描いてみる\n",
    "schedule(circuits[10], backend=backend).draw()"
   ]
  },
  {
   "cell_type": "code",
   "execution_count": null,
   "id": "159030e1-8564-4537-b52a-b4296395fd58",
   "metadata": {},
   "outputs": [],
   "source": [
    "shots = 1000\n",
    "job = backend.run(circuits, shots=shots)\n",
    "counts = job.result().get_counts()"
   ]
  },
  {
   "cell_type": "code",
   "execution_count": null,
   "id": "2e5f2f9c-38e6-4c32-bf71-1de7945aa3a0",
   "metadata": {},
   "outputs": [],
   "source": [
    "t = delays * unit_time\n",
    "z = np.array([c.get('0', 0) - c.get('1', 0) for c in counts]) / shots\n",
    "plt.scatter(t, z)"
   ]
  },
  {
   "cell_type": "markdown",
   "id": "2e79904f-d15f-4f37-9092-79163f107f68",
   "metadata": {},
   "source": [
    "### 結果の解析（フィッティング）"
   ]
  },
  {
   "cell_type": "code",
   "execution_count": null,
   "id": "b0037617-2e57-406d-a3f8-e1defbb85189",
   "metadata": {},
   "outputs": [],
   "source": [
    "def curve(delay, amp, freq, off):\n",
    "    return amp * np.cos(delay * freq * twopi + off)\n",
    "\n",
    "popt, _ = sciopt.curve_fit(curve, t, z, p0=(1., 2.e+6, 0.))\n",
    "\n",
    "plt.plot(t, curve(t, *popt))\n",
    "plt.scatter(t, z)"
   ]
  },
  {
   "cell_type": "code",
   "execution_count": null,
   "id": "edbecfe1-7b8b-45ab-9db6-3546c3342708",
   "metadata": {},
   "outputs": [],
   "source": [
    "calibrated_frequency = 2.e+6 - popt[1] + defaults.qubit_freq_est[best_qubit]\n",
    "print(f'Frequency update: {defaults.qubit_freq_est[best_qubit]} -> {calibrated_frequency}')"
   ]
  }
 ],
 "metadata": {
  "kernelspec": {
   "display_name": "Python 3 (ipykernel)",
   "language": "python",
   "name": "python3"
  },
  "language_info": {
   "codemirror_mode": {
    "name": "ipython",
    "version": 3
   },
   "file_extension": ".py",
   "mimetype": "text/x-python",
   "name": "python",
   "nbconvert_exporter": "python",
   "pygments_lexer": "ipython3",
   "version": "3.8.10"
  }
 },
 "nbformat": 4,
 "nbformat_minor": 5
}
