{
 "cells": [
  {
   "cell_type": "markdown",
   "id": "24984863",
   "metadata": {},
   "source": [
    "# CHSH不等式の破れを確認する"
   ]
  },
  {
   "cell_type": "markdown",
   "id": "4c72118b-6fae-47eb-8581-5a62c7c28548",
   "metadata": {},
   "source": [
    "## まずこのセルを実行してから授業を始めます"
   ]
  },
  {
   "cell_type": "code",
   "execution_count": null,
   "id": "705e643e-06a7-4f6e-b2d1-2753fb16866a",
   "metadata": {
    "tags": [
     "remove-output"
    ]
   },
   "outputs": [],
   "source": [
    "# まずは必要になるpythonモジュールをすべてインポートしておく\n",
    "import sys\n",
    "import numpy as np\n",
    "import matplotlib.pyplot as plt\n",
    "from qiskit import QuantumCircuit, transpile\n",
    "from qiskit.providers.ibmq import least_busy\n",
    "from qiskit.tools.monitor import job_monitor\n",
    "from qiskit.visualization import plot_histogram\n",
    "from qiskit_ibm_provider import IBMProvider\n",
    "# qc_workbookはこのワークブック独自のモジュールなので、インポート元を指定する必要がある\n",
    "sys.path.append('/home/jovyan/qc-workbook-lecturenotes/ja')\n",
    "from qc_workbook.utils import operational_backend\n",
    "\n",
    "circuits = []\n",
    "\n",
    "angles = [\n",
    "    (None, -np.pi / 4.),\n",
    "    (None, -3. * np.pi / 4.),\n",
    "    (-np.pi / 2., -np.pi / 4.),\n",
    "    (-np.pi / 2., -3. * np.pi / 4.)\n",
    "]\n",
    "\n",
    "for angle0, angle1 in angles:\n",
    "    circuit = QuantumCircuit(2)\n",
    "    circuit.h(0)\n",
    "    circuit.cx(0, 1)\n",
    "\n",
    "    if angle0 is not None:\n",
    "        circuit.ry(angle0, 0)\n",
    "    if angle1 is not None:\n",
    "        circuit.ry(angle1, 1)\n",
    "    \n",
    "    circuit.measure_all()\n",
    "    \n",
    "    circuits.append(circuit)\n",
    "\n",
    "provider = IBMProvider()\n",
    "\n",
    "backend_list = provider.backends(filters=operational_backend(min_qubits=2))\n",
    "\n",
    "backend = least_busy(backend_list)\n",
    "\n",
    "shots = backend.configuration().max_shots\n",
    "\n",
    "circuits = transpile(circuits, backend=backend)\n",
    "job = backend.run(circuits, shots=shots)\n",
    "\n",
    "print(f'Provider instance: {provider.active_account()[\"instance\"]}')\n",
    "print(f'Backend: {backend.name}')\n",
    "print(f'Job ID: {job.job_id()}')"
   ]
  },
  {
   "cell_type": "markdown",
   "id": "5d820fa3-0404-4fb7-948a-a53502abc954",
   "metadata": {},
   "source": [
    "## 最初の量子回路"
   ]
  },
  {
   "cell_type": "code",
   "execution_count": null,
   "id": "a2215ed7",
   "metadata": {},
   "outputs": [],
   "source": [
    "circuit = QuantumCircuit(2) # レジスタを介さずビット数を指定して回路を作成することもできます\n",
    "circuit.h(0) # その場合、ゲートにはregister[0]ではなく直接量子ビットの番号を指定します\n",
    "circuit.ry(np.pi / 2., 0) #　θ = π/2\n",
    "circuit.x(0)\n",
    "# 実際の回路では出力を得るためには必ず最後に測定を行う\n",
    "circuit.measure_all()\n",
    "\n",
    "print(f'This circuit has {circuit.num_qubits} qubits and {circuit.size()} operations')"
   ]
  },
  {
   "cell_type": "markdown",
   "id": "b2f0937b",
   "metadata": {},
   "source": [
    "### 回路の数式表現\n",
    "\n",
    "$$\n",
    "\\begin{align}\n",
    "X R_y\\left(\\frac{\\pi}{2}\\right) H \\ket{0} & = X R_y\\left(\\frac{\\pi}{2}\\right) \\frac{1}{\\sqrt{2}}(\\ket{0} + \\ket{1}) \\\\\n",
    "& = \\frac{1}{\\sqrt{2}} X \\left[\\left(\\cos\\left(\\frac{\\pi}{4}\\right)\\ket{0} + \\sin\\left(\\frac{\\pi}{4}\\right)\\ket{1}\\right) + \\left(-\\sin\\left(\\frac{\\pi}{4}\\right)\\ket{0} + \\cos\\left(\\frac{\\pi}{4}\\right)\\ket{1}\\right)\\right] \\\\\n",
    "& = \\frac{1}{\\sqrt{2}} X \\frac{1}{\\sqrt{2}} \\left[\\left(\\ket{0} + \\ket{1}\\right) + \\left(-\\ket{0} + \\ket{1}\\right)\\right] \\\\\n",
    "& = X \\ket{1} \\\\\n",
    "& = \\ket{0}\n",
    "\\end{align}\n",
    "$$"
   ]
  },
  {
   "cell_type": "markdown",
   "id": "c64c4d72-b5b8-4f6e-aa8d-809430d56d4b",
   "metadata": {},
   "source": [
    "## 制御ゲートを使った例"
   ]
  },
  {
   "cell_type": "code",
   "execution_count": null,
   "id": "a2a964b4",
   "metadata": {},
   "outputs": [],
   "source": [
    "theta1 = 2. * np.arctan(np.sqrt(7. / 3.))\n",
    "theta2 = 2. * np.arctan(np.sqrt(2.))\n",
    "theta3 = 2. * np.arctan(np.sqrt(4. / 3))\n",
    "\n",
    "circuit = QuantumCircuit(2)\n",
    "circuit.ry(theta1, 1)\n",
    "circuit.ry(theta2, 0)\n",
    "circuit.cry(theta3 - theta2, 1, 0) # C[Ry]　1が制御で0が標的\n",
    "circuit.cz(0, 1) # C[Z] 0が制御で1が標的（実はC[Z]ではどちらが制御でも結果は同じ）\n",
    "circuit.measure_all()\n",
    "\n",
    "print(f'This circuit has {circuit.num_qubits} qubits and {circuit.size()} operations')"
   ]
  },
  {
   "cell_type": "markdown",
   "id": "4a817891",
   "metadata": {},
   "source": [
    "### 回路の数式表現\n",
    "\n",
    "$$\n",
    "\\begin{align}\n",
    "R_y(\\theta_1)\\ket{0} & = \\sqrt{\\frac{3}{10}} \\ket{0} + \\sqrt{\\frac{7}{10}} \\ket{1} \\\\\n",
    "R_y(\\theta_2)\\ket{0} & = \\sqrt{\\frac{1}{3}} \\ket{0} + \\sqrt{\\frac{2}{3}} \\ket{1} \\\\\n",
    "R_y(\\theta_3 - \\theta_2)R_y(\\theta_2)\\ket{0} & = R_y(\\theta_3)\\ket{0} = \\sqrt{\\frac{3}{7}} \\ket{0} + \\sqrt{\\frac{4}{7}} \\ket{1}.\n",
    "\\end{align}\n",
    "$$\n",
    "\n",
    "したがって、\n",
    "\n",
    "$$\n",
    "\\begin{align}\n",
    "& C^1_0[R_y(\\theta_3 - \\theta_2)]R_{y1}(\\theta_1)R_{y0}(\\theta_2)\\ket{0}_1\\ket{0}_0 \\\\\n",
    "= & C^1_0[R_y(\\theta_3 - \\theta_2)]\\left(\\sqrt{\\frac{3}{10}} \\ket{0}_1 + \\sqrt{\\frac{7}{10}} \\ket{1}_1\\right) R_y(\\theta_2)\\ket{0}_0\\\\\n",
    "= & \\sqrt{\\frac{3}{10}} \\ket{0}_1 R_y(\\theta_2)\\ket{0}_0 + \\sqrt{\\frac{7}{10}} \\ket{1}_1 R_y(\\theta_3)\\ket{0}_0 \\\\\n",
    "= & \\sqrt{\\frac{3}{10}} \\ket{0}_1 \\left(\\sqrt{\\frac{1}{3}} \\ket{0}_0 + \\sqrt{\\frac{2}{3}} \\ket{1}_0\\right) + \\sqrt{\\frac{7}{10}} \\ket{1}_1 \\left(\\sqrt{\\frac{3}{7}} \\ket{0}_0 + \\sqrt{\\frac{4}{7}} \\ket{1}_0\\right) \\\\\n",
    "= & \\sqrt{\\frac{1}{10}} \\ket{00} + \\sqrt{\\frac{2}{10}} \\ket{01} + \\sqrt{\\frac{3}{10}} \\ket{10} + \\sqrt{\\frac{4}{10}} \\ket{11}\n",
    "\\end{align}\n",
    "$$\n",
    "\n",
    "最初の行で、ビット0と1にかかる$R_y$ゲートをそれぞれ$R_{y0}, R_{y1}$と表しました。\n",
    "\n",
    "最後に$C[Z]$をかけると、$\\ket{11}$だけ符号が反転します。"
   ]
  },
  {
   "cell_type": "markdown",
   "id": "a22323e9",
   "metadata": {},
   "source": [
    "## 回路図"
   ]
  },
  {
   "cell_type": "code",
   "execution_count": null,
   "id": "4bb34c6a",
   "metadata": {},
   "outputs": [],
   "source": [
    "circuit.draw('mpl')"
   ]
  },
  {
   "cell_type": "code",
   "execution_count": null,
   "id": "b62a05b6",
   "metadata": {},
   "outputs": [],
   "source": [
    "circuit.draw()"
   ]
  },
  {
   "cell_type": "markdown",
   "id": "c7c6d731",
   "metadata": {},
   "source": [
    "## CHSH不等式を計算する回路を書く"
   ]
  },
  {
   "cell_type": "code",
   "execution_count": null,
   "id": "47d1f2b0",
   "metadata": {},
   "outputs": [],
   "source": [
    "circuits = []\n",
    "\n",
    "# 回路I - H, CX[0, 1], Ry(-π/4)[1]をかける\n",
    "circuit = QuantumCircuit(2, name='circuit_I')\n",
    "circuit.h(0)\n",
    "circuit.cx(0, 1)\n",
    "circuit.ry(-np.pi / 4., 1)\n",
    "circuit.measure_all()\n",
    "# 回路リストに追加\n",
    "circuits.append(circuit)\n",
    "\n",
    "# 回路II - H, CX[0, 1], Ry(-3π/4)[1]をかける\n",
    "circuit = QuantumCircuit(2, name='circuit_II')\n",
    "circuit.h(0)\n",
    "circuit.cx(0, 1)\n",
    "circuit.ry(-3. * np.pi / 4., 1)\n",
    "circuit.measure_all()\n",
    "# 回路リストに追加\n",
    "circuits.append(circuit)\n",
    "\n",
    "# 回路III - H, CX[0, 1], Ry(-π/4)[1], Ry(-π/2)[0]をかける\n",
    "circuit = QuantumCircuit(2, name='circuit_III')\n",
    "circuit.h(0)\n",
    "circuit.cx(0, 1)\n",
    "circuit.ry(-np.pi / 4., 1)\n",
    "circuit.ry(-np.pi / 2., 0)\n",
    "circuit.measure_all()\n",
    "# 回路リストに追加\n",
    "circuits.append(circuit)\n",
    "\n",
    "# 回路IV - H, CX[0, 1], Ry(-3π/4)[1], Ry(-π/2)[0]をかける\n",
    "circuit = QuantumCircuit(2, name='circuit_IV')\n",
    "circuit.h(0)\n",
    "circuit.cx(0, 1)\n",
    "circuit.ry(-3. * np.pi / 4., 1)\n",
    "circuit.ry(-np.pi / 2., 0)\n",
    "circuit.measure_all()\n",
    "# 回路リストに追加\n",
    "circuits.append(circuit)\n",
    "\n",
    "# draw()にmatplotlibのaxesオブジェクトを渡すと、そこに描画してくれる\n",
    "# 一つのノートブックセルで複数プロットしたい時などに便利\n",
    "fig, axs = plt.subplots(2, 2, figsize=[12., 6.])\n",
    "for circuit, ax in zip(circuits, axs.reshape(-1)):\n",
    "    circuit.draw('mpl', ax=ax)\n",
    "    ax.set_title(circuit.name)"
   ]
  },
  {
   "cell_type": "markdown",
   "id": "0c57cae8",
   "metadata": {},
   "source": [
    "## 回路を実機で実行する"
   ]
  },
  {
   "cell_type": "code",
   "execution_count": null,
   "id": "25dcea35",
   "metadata": {
    "tags": [
     "remove-output",
     "raises-exception"
    ]
   },
   "outputs": [],
   "source": [
    "provider = IBMProvider()"
   ]
  },
  {
   "cell_type": "code",
   "execution_count": null,
   "id": "29a7c2de",
   "metadata": {
    "tags": [
     "raises-exception",
     "remove-output"
    ]
   },
   "outputs": [],
   "source": [
    "# バックエンド（実機）のうち量子ビット数2個以上のもののリストをプロバイダから取得する\n",
    "# operational_backendはこのワークブック用にqc_workbook.utilsで定義された関数\n",
    "backend_list = provider.backends(filters=operational_backend(min_qubits=2))\n",
    "\n",
    "# リストの中から一番空いているものを選ぶ\n",
    "backend = least_busy(backend_list)\n",
    "\n",
    "print(f'Jobs will run on {backend.name}')"
   ]
  },
  {
   "cell_type": "code",
   "execution_count": null,
   "id": "cd820ea6",
   "metadata": {
    "tags": [
     "raises-exception",
     "remove-output"
    ]
   },
   "outputs": [],
   "source": [
    "# バックエンドごとに決められている最大ショット数\n",
    "shots = backend.configuration().max_shots\n",
    "print(f'Running four circuits, {shots} shots each')\n",
    "\n",
    "# transpileの説明は次回の実習にて\n",
    "circuits = transpile(circuits, backend=backend)\n",
    "# バックエンドで回路をshots回実行させ、測定結果を返させる\n",
    "# すでに最初のセルで同じジョブを投げているので、次の行はコメントアウトしている\n",
    "# job = backend.run(circuits, shots=shots)\n",
    "\n",
    "# ジョブが終了するまで状態を表示しながら待つ（正常に完了、エラーで停止、など終了する理由は一つではない）\n",
    "# これは最初に投げたジョブ\n",
    "job_monitor(job, interval=2)"
   ]
  },
  {
   "cell_type": "markdown",
   "id": "f963a481-341c-44a8-a51f-287db10e7a41",
   "metadata": {},
   "source": [
    "### （カーネルを再起動するなどで）ジョブオブジェクトが無効になったら"
   ]
  },
  {
   "cell_type": "code",
   "execution_count": null,
   "id": "2965bda2-edf4-4cc6-aab8-a818e1180ecf",
   "metadata": {},
   "outputs": [],
   "source": [
    "#provider = IBMProvider()\n",
    "#backend = provider.get_backend('__backend_you_used__')\n",
    "#job = backend.retrieve_job('__job_id__')"
   ]
  },
  {
   "cell_type": "markdown",
   "id": "83ea406b",
   "metadata": {},
   "source": [
    "### IBM Quantumのよく使うページ\n",
    "\n",
    "<a href=\"https://quantum-computing.ibm.com/services?services=systems\" target=\"_blank\">バックエンド一覧</a>\n",
    "\n",
    "- バックエンドを一つクリックすると詳細が表示される\n",
    "- 現在の全ジョブ数が Total pending jobs として表示される\n",
    "- 一番下の Your access providers という欄でバックエンドのジョブあたりの最大ショット数と最大回路数を確認できる\n",
    "\n",
    "<a href=\"https://quantum-computing.ibm.com/jobs\" target=\"_blank\">ジョブ一覧</a>"
   ]
  },
  {
   "cell_type": "markdown",
   "id": "9b5f39c5",
   "metadata": {},
   "source": [
    "## 量子測定結果の解析\n",
    "\n",
    "### ジョブの結果をダウンロード"
   ]
  },
  {
   "cell_type": "code",
   "execution_count": null,
   "id": "47f7a0b9",
   "metadata": {
    "tags": [
     "raises-exception",
     "remove-output"
    ]
   },
   "outputs": [],
   "source": [
    "result = job.result()\n",
    "\n",
    "# 4つの回路のヒストグラムデータを入れるリスト\n",
    "counts_list = []\n",
    "\n",
    "# 回路ごとの結果をresultから抽出する\n",
    "for idx in range(4):\n",
    "    # get_counts(i)で回路iのヒストグラムデータが得られる\n",
    "    counts = result.get_counts(idx)\n",
    "    # データをリストに足す\n",
    "    counts_list.append(counts)\n",
    "\n",
    "print(counts_list)"
   ]
  },
  {
   "cell_type": "markdown",
   "id": "3b32e8b9-c9e1-4371-b9d6-3a273704ab2f",
   "metadata": {},
   "source": [
    "### ヒストグラムの表示"
   ]
  },
  {
   "cell_type": "code",
   "execution_count": null,
   "id": "f4ad11e7",
   "metadata": {},
   "outputs": [],
   "source": [
    "fig, axs = plt.subplots(2, 2, sharey=True, figsize=[12., 8.])\n",
    "for counts, circuit, ax in zip(counts_list, circuits, axs.reshape(-1)):\n",
    "    plot_histogram(counts, ax=ax)\n",
    "    ax.set_title(circuit.name)\n",
    "    ax.yaxis.grid(True)"
   ]
  },
  {
   "cell_type": "markdown",
   "id": "46ebd1be-97be-4339-ae7c-1a15a0f66776",
   "metadata": {},
   "source": [
    "### $S$の値"
   ]
  },
  {
   "cell_type": "code",
   "execution_count": null,
   "id": "4034aefa",
   "metadata": {},
   "outputs": [],
   "source": [
    "# C^I, C^II, C^III, C^IVを一つのアレイにする\n",
    "#（今の場合ただのリストにしてもいいが、純粋な数字の羅列にはnumpy arrayを使うといいことが多い）\n",
    "C = np.zeros(4, dtype=float)\n",
    "\n",
    "# enumerate(L)でリストのインデックスと対応する要素に関するループを回せる\n",
    "for ic, counts in enumerate(counts_list):\n",
    "    # counts['00'] でなく counts.get('00', 0) - 上のテキストを参照\n",
    "    C[ic] = counts.get('00', 0) + counts.get('11', 0) - counts.get('01', 0) - counts.get('10', 0)\n",
    "\n",
    "# 4つの要素を同時にshotsで規格化（リストではこういうことはできない）\n",
    "C /= shots\n",
    "\n",
    "S = C[0] - C[1] + C[2] + C[3]\n",
    "\n",
    "print('C:', C)\n",
    "print('S =', S)\n",
    "if S > 2.:\n",
    "    print('Yes, we are using a quantum computer!')\n",
    "else:\n",
    "    print('Armonk, we have a problem.')"
   ]
  }
 ],
 "metadata": {
  "jupytext": {
   "notebook_metadata_filter": "all"
  },
  "kernelspec": {
   "display_name": "Python 3 (ipykernel)",
   "language": "python",
   "name": "python3"
  },
  "language_info": {
   "codemirror_mode": {
    "name": "ipython",
    "version": 3
   },
   "file_extension": ".py",
   "mimetype": "text/x-python",
   "name": "python",
   "nbconvert_exporter": "python",
   "pygments_lexer": "ipython3",
   "version": "3.10.6"
  }
 },
 "nbformat": 4,
 "nbformat_minor": 5
}
