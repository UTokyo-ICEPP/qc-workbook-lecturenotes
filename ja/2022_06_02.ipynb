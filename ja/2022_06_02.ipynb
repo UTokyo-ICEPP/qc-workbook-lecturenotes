{
 "cells": [
  {
   "cell_type": "markdown",
   "metadata": {
    "collapsed": true,
    "pycharm": {
     "name": "#%% md\n"
    }
   },
   "source": [
    "## 量子回路学習\n",
    "\n",
    "まず、必要なライブラリを最初にインポートします。"
   ]
  },
  {
   "cell_type": "code",
   "execution_count": null,
   "outputs": [],
   "source": [
    "# Tested with python 3.8.12, qiskit 0.34.2, numpy 1.22.2\n",
    "import numpy as np\n",
    "import matplotlib.pyplot as plt\n",
    "import pandas as pd\n",
    "\n",
    "from qiskit import QuantumCircuit, ClassicalRegister, QuantumRegister, Aer, transpile\n",
    "from qiskit.circuit.library import TwoLocal, ZFeatureMap, ZZFeatureMap\n",
    "from qiskit.utils import QuantumInstance\n",
    "from qiskit_machine_learning.algorithms.classifiers import VQC\n",
    "#from qiskit.utils import split_dataset_to_data_and_labels, map_label_to_class_name\n",
    "from qiskit.algorithms.optimizers import SPSA, COBYLA\n",
    "from IPython.display import clear_output\n",
    "from sklearn.preprocessing import MinMaxScaler"
   ],
   "metadata": {
    "collapsed": false,
    "pycharm": {
     "name": "#%%\n"
    }
   }
  },
  {
   "cell_type": "markdown",
   "source": [
    "## 初歩的な例\n",
    "ある入力$\\{x_i\\}$と、既知の関数$f$による出力$y_i=f(x_i)$が学習データとして与えられた時に、そのデータから関数$f$を近似的に求める問題を考えてみます。例として、$f(x)=x^3$としてみます。\n",
    "\n",
    "### 学習データの準備"
   ],
   "metadata": {
    "collapsed": false,
    "pycharm": {
     "name": "#%% md\n"
    }
   }
  },
  {
   "cell_type": "code",
   "execution_count": null,
   "outputs": [],
   "source": [
    "random_seed = 0\n",
    "np.random.seed(random_seed)\n",
    "\n",
    "# Qubit数、回路の深さ、訓練サンプル数の定義など\n",
    "nqubit = 3\n",
    "c_depth = 5\n",
    "x_min = -1.; x_max = 1.; num_x_train = 30\n",
    "\n",
    "# パラメータ数の設定\n",
    "num_vars = nqubit*3*(c_depth+1)\n",
    "params = np.random.rand(num_vars)*2*np.pi\n",
    "\n",
    "# 関数の定義\n",
    "func_to_learn = lambda x: x**3\n",
    "x_train = x_min + (x_max - x_min) * np.random.rand(num_x_train)\n",
    "y_train = func_to_learn(x_train)\n",
    "\n",
    "# 関数に正規分布ノイズを付加\n",
    "mag_noise = 0.05\n",
    "y_train_noise = y_train + mag_noise * np.random.randn(num_x_train)"
   ],
   "metadata": {
    "collapsed": false,
    "pycharm": {
     "name": "#%%\n"
    }
   }
  },
  {
   "cell_type": "markdown",
   "source": [
    "### 量子状態の生成"
   ],
   "metadata": {
    "collapsed": false,
    "pycharm": {
     "name": "#%% md\n"
    }
   }
  },
  {
   "cell_type": "code",
   "execution_count": null,
   "outputs": [],
   "source": [
    "def U_in(x, nqubit):\n",
    "    qr = QuantumRegister(nqubit)\n",
    "    U = QuantumCircuit(qr)\n",
    "\n",
    "    angle_y = np.arcsin(x)\n",
    "    angle_z = np.arccos(x**2)\n",
    "\n",
    "    for i in range(nqubit):\n",
    "        U.ry(angle_y, i)\n",
    "        U.rz(angle_z, i)\n",
    "\n",
    "    U.name = \"U_in\"\n",
    "    return U\n",
    "\n",
    "U_in(x_train[0], nqubit).draw('mpl')"
   ],
   "metadata": {
    "collapsed": false,
    "pycharm": {
     "name": "#%%\n"
    }
   }
  },
  {
   "cell_type": "markdown",
   "source": [
    "### 変分フォームを使った状態変換"
   ],
   "metadata": {
    "collapsed": false,
    "pycharm": {
     "name": "#%% md\n"
    }
   }
  },
  {
   "cell_type": "code",
   "execution_count": null,
   "outputs": [],
   "source": [
    "def U_out(nqubit, params):\n",
    "    qr = QuantumRegister(nqubit)\n",
    "    #cr = ClassicalRegister(nqubit)\n",
    "    U = QuantumCircuit(qr)\n",
    "\n",
    "    for i in range(nqubit):\n",
    "        U.ry(params[i], i)\n",
    "        U.rz(params[nqubit+i], i)\n",
    "        U.ry(params[nqubit*2+i], i)\n",
    "    for d in range(c_depth):\n",
    "        for j in range(nqubit-1):\n",
    "            U.cz(j, j+1)\n",
    "        U.cz(nqubit-1, 0)\n",
    "        for i in range(nqubit):\n",
    "            U.ry(params[nqubit*(3*d+3)+i], i)\n",
    "            U.rz(params[nqubit*(3*d+4)+i], i)\n",
    "            U.ry(params[nqubit*(3*d+5)+i], i)\n",
    "    U.name = \"U_out\"\n",
    "    return U\n",
    "\n",
    "U_out(nqubit, params).draw('mpl')"
   ],
   "metadata": {
    "collapsed": false,
    "pycharm": {
     "name": "#%%\n"
    }
   }
  },
  {
   "cell_type": "markdown",
   "source": [
    "### 測定とモデル出力"
   ],
   "metadata": {
    "collapsed": false,
    "pycharm": {
     "name": "#%% md\n"
    }
   }
  },
  {
   "cell_type": "code",
   "execution_count": null,
   "outputs": [],
   "source": [
    "def pred_circ(x, nqubit, params):\n",
    "\n",
    "    qr = QuantumRegister(nqubit, name='q')\n",
    "    cr = ClassicalRegister(1, name='c')\n",
    "    circ = QuantumCircuit(qr, cr)\n",
    "\n",
    "    u_in = U_in(x, nqubit).to_instruction()\n",
    "    u_out = U_out(nqubit, params).to_instruction()\n",
    "\n",
    "    circ.append(u_in, qr)\n",
    "    circ.append(u_out, qr)\n",
    "    circ.measure(0, 0)\n",
    "\n",
    "    return circ\n",
    "\n",
    "pred_circ(x_train[0], nqubit, params).decompose().draw('mpl')"
   ],
   "metadata": {
    "collapsed": false,
    "pycharm": {
     "name": "#%%\n"
    }
   }
  },
  {
   "cell_type": "code",
   "execution_count": null,
   "outputs": [],
   "source": [
    "backend = Aer.get_backend(\"qasm_simulator\")\n",
    "NUM_SHOTS = 8192\n",
    "\n",
    "def objective_function(params):\n",
    "    cost_total = 0\n",
    "    for i in range(len(x_train)):\n",
    "        qc = pred_circ(x_train[i], nqubit, params)\n",
    "        qc = transpile(qc, backend=backend)\n",
    "        result = backend.run(qc, shots=NUM_SHOTS).result()\n",
    "        counts = result.get_counts(qc)\n",
    "        exp_2Z = (2*counts['0']-2*counts['1'])/NUM_SHOTS\n",
    "        cost = (y_train_noise[i] - exp_2Z)**2\n",
    "        cost_total += cost\n",
    "\n",
    "    return cost_total"
   ],
   "metadata": {
    "collapsed": false,
    "pycharm": {
     "name": "#%%\n"
    }
   }
  },
  {
   "cell_type": "code",
   "execution_count": null,
   "outputs": [],
   "source": [
    "optimizer = COBYLA(maxiter=50, tol=0.05)\n",
    "ret = optimizer.optimize(num_vars=num_vars, objective_function=objective_function, initial_point=params)\n",
    "\n",
    "# 最適化したパラメータをプリントアウト\n",
    "print('ret[0] =',ret[0])\n",
    "\n",
    "x_list = np.arange(x_min, x_max, 0.02)\n",
    "y_pred = []\n",
    "for x in x_list:\n",
    "    qc = pred_circ(x, nqubit, ret[0])\n",
    "    qc = transpile(qc, backend=backend)\n",
    "    result = backend.run(qc, shots=NUM_SHOTS).result()\n",
    "    counts = result.get_counts(qc)\n",
    "    exp_2Z = (2*counts['0']-2*counts['1'])/NUM_SHOTS\n",
    "    y_pred.append(exp_2Z)\n",
    "\n",
    "# 結果を図示する\n",
    "plt.plot(x_train, y_train_noise, \"o\", label='Training Data (w/ Noise)')\n",
    "plt.plot(x_list, func_to_learn(x_list), label='Original Function')\n",
    "plt.plot(x_list, np.array(y_pred), label='Predicted Function')\n",
    "plt.legend();"
   ],
   "metadata": {
    "collapsed": false,
    "pycharm": {
     "name": "#%%\n"
    }
   }
  },
  {
   "cell_type": "markdown",
   "source": [
    "## 素粒子現象の探索への応用\n",
    "\n",
    "### 学習データの準備"
   ],
   "metadata": {
    "collapsed": false,
    "pycharm": {
     "name": "#%% md\n"
    }
   }
  },
  {
   "cell_type": "code",
   "execution_count": null,
   "outputs": [],
   "source": [
    "# ファイルから変数を読み出す\n",
    "df = pd.read_csv(\"data/SUSY_1K.csv\",\n",
    "                 names=('isSignal','lep1_pt','lep1_eta','lep1_phi','lep2_pt','lep2_eta',\n",
    "                        'lep2_phi','miss_ene','miss_phi','MET_rel','axial_MET','M_R','M_TR_2',\n",
    "                        'R','MT2','S_R','M_Delta_R','dPhi_r_b','cos_theta_r1'))\n",
    "\n",
    "# 学習に使う変数の数\n",
    "feature_dim = 3  # dimension of each data point\n",
    "\n",
    "# 3, 5, 7変数の場合に使う変数のセット\n",
    "if feature_dim == 3:\n",
    "    SelectedFeatures = ['lep1_pt', 'lep2_pt', 'miss_ene']\n",
    "elif feature_dim == 5:\n",
    "    SelectedFeatures = ['lep1_pt','lep2_pt','miss_ene','M_TR_2','M_Delta_R']\n",
    "elif feature_dim == 7:\n",
    "    SelectedFeatures = ['lep1_pt','lep1_eta','lep2_pt','lep2_eta','miss_ene','M_TR_2','M_Delta_R']\n",
    "\n",
    "# 学習に使う事象数: trainingは訓練用サンプル、testingはテスト用サンプル\n",
    "train_size = 20\n",
    "test_size = 20\n",
    "\n",
    "# オプティマイザーをCallする回数の上限\n",
    "niter = 300\n",
    "random_seed = 10598\n",
    "\n",
    "df_sig = df.loc[df.isSignal==1, SelectedFeatures]\n",
    "df_bkg = df.loc[df.isSignal==0, SelectedFeatures]\n",
    "\n",
    "# サンプルの生成\n",
    "df_sig_train = df_sig.values[:train_size]\n",
    "df_bkg_train = df_bkg.values[:train_size]\n",
    "df_sig_test = df_sig.values[train_size:train_size+test_size]\n",
    "df_bkg_test = df_bkg.values[train_size:train_size+test_size]\n",
    "train_data = np.concatenate([df_sig_train,df_bkg_train])\n",
    "test_data = np.concatenate([df_sig_test,df_bkg_test])\n",
    "#print('train_data =',training_data)\n",
    "#print('test_data =',test_data)\n",
    "train_label = np.concatenate([np.ones((train_size),dtype=int),np.zeros((train_size),dtype=int)])\n",
    "test_label = np.concatenate([np.ones((test_size),dtype=int),np.zeros((test_size),dtype=int)])\n",
    "\n",
    "train_label_one_hot = np.zeros((train_size*2, 2))\n",
    "for i in range(train_size*2):\n",
    "    train_label_one_hot[i, train_label[i]] = 1\n",
    "test_label_one_hot = np.zeros((test_size*2, 2))\n",
    "for i in range(test_size*2):\n",
    "    test_label_one_hot[i, test_label[i]] = 1\n",
    "\n",
    "#datapoints, class_to_label = split_dataset_to_data_and_labels(test_input)\n",
    "#datapoints_tr, class_to_label_tr = split_dataset_to_data_and_labels(training_input)\n",
    "\n",
    "mms = MinMaxScaler((-1, 1))\n",
    "norm_train_data = mms.fit_transform(train_data)\n",
    "norm_test_data = mms.transform(test_data)"
   ],
   "metadata": {
    "collapsed": false,
    "pycharm": {
     "name": "#%%\n"
    }
   }
  },
  {
   "cell_type": "markdown",
   "source": [
    "### 量子状態の生成"
   ],
   "metadata": {
    "collapsed": false,
    "pycharm": {
     "name": "#%% md\n"
    }
   }
  },
  {
   "cell_type": "code",
   "execution_count": null,
   "outputs": [],
   "source": [
    "#feature_map = ZFeatureMap(feature_dimension=feature_dim, reps=1)\n",
    "feature_map = ZZFeatureMap(feature_dimension=feature_dim, reps=1, entanglement='circular')"
   ],
   "metadata": {
    "collapsed": false,
    "pycharm": {
     "name": "#%%\n"
    }
   }
  },
  {
   "cell_type": "markdown",
   "source": [
    "### 変分フォームを使った状態変換"
   ],
   "metadata": {
    "collapsed": false,
    "pycharm": {
     "name": "#%% md\n"
    }
   }
  },
  {
   "cell_type": "code",
   "execution_count": null,
   "outputs": [],
   "source": [
    "ansatz = TwoLocal(num_qubits=feature_dim, rotation_blocks=['ry','rz'], entanglement_blocks='cz', entanglement='circular', reps=3)\n",
    "#ansatz = TwoLocal(num_qubits=feature_dim, rotation_blocks=['ry'], entanglement_blocks='cz', entanglement='circular', reps=3)\n",
    "ansatz.decompose().draw('mpl')"
   ],
   "metadata": {
    "collapsed": false,
    "pycharm": {
     "name": "#%%\n"
    }
   }
  },
  {
   "cell_type": "markdown",
   "source": [
    "### 測定とモデル出力"
   ],
   "metadata": {
    "collapsed": false,
    "pycharm": {
     "name": "#%% md\n"
    }
   }
  },
  {
   "cell_type": "code",
   "execution_count": null,
   "outputs": [],
   "source": [
    "# シミュレータで実行する場合\n",
    "backend = Aer.get_backend('qasm_simulator')\n",
    "\n",
    "# 量子コンピュータで実行する場合\n",
    "#from qiskit import IBMQ\n",
    "#IBMQ.enable_account('__your_token__')\n",
    "#provider0 = IBMQ.get_provider(hub='ibm-q', group='open', project='main')\n",
    "#backend_name = 'ibmq_santiago'\n",
    "#backend = provider0.get_backend(backend_name)\n",
    "\n",
    "optimizer = COBYLA(maxiter=niter, disp=True)\n",
    "\n",
    "quantum_instance = QuantumInstance(backend=backend,\n",
    "                                   shots=4096,\n",
    "                                   seed_simulator=random_seed,\n",
    "                                   seed_transpiler=random_seed,\n",
    "                                   skip_qobj_validation=True)\n",
    "\n",
    "objective_func_vals = []\n",
    "# Draw the value of objective function every time when the fit() method is called\n",
    "def callback_graph(weights, obj_func_eval):\n",
    "    clear_output(wait=True)\n",
    "    objective_func_vals.append(obj_func_eval)\n",
    "    #print('obj_func_eval =',obj_func_eval)\n",
    "\n",
    "    plt.title(\"Objective function value against iteration\")\n",
    "    plt.xlabel(\"Iteration\")\n",
    "    plt.ylabel(\"Objective function value\")\n",
    "    plt.plot(range(len(objective_func_vals)), objective_func_vals)\n",
    "    plt.show()"
   ],
   "metadata": {
    "collapsed": false,
    "pycharm": {
     "name": "#%%\n"
    }
   }
  },
  {
   "cell_type": "markdown",
   "source": [
    "### シミュレーションで実行"
   ],
   "metadata": {
    "collapsed": false,
    "pycharm": {
     "name": "#%% md\n"
    }
   }
  },
  {
   "cell_type": "code",
   "execution_count": null,
   "outputs": [],
   "source": [
    "vqc = VQC(num_qubits=feature_dim,\n",
    "          feature_map=feature_map,\n",
    "          ansatz=ansatz,\n",
    "          loss=\"cross_entropy\",\n",
    "          optimizer=optimizer,\n",
    "          quantum_instance=quantum_instance,\n",
    "          callback=callback_graph)\n",
    "vqc.fit(norm_train_data, train_label_one_hot)\n",
    "\n",
    "train_score = vqc.score(norm_train_data, train_label_one_hot)\n",
    "test_score = vqc.score(norm_test_data, test_label_one_hot)\n",
    "print(f'--- Classification Train score: {train_score} ---')\n",
    "print(f'--- Classification Test score:  {test_score} ---')"
   ],
   "metadata": {
    "collapsed": false,
    "pycharm": {
     "name": "#%%\n"
    }
   }
  }
 ],
 "metadata": {
  "kernelspec": {
   "display_name": "Python 3",
   "language": "python",
   "name": "python3"
  },
  "language_info": {
   "codemirror_mode": {
    "name": "ipython",
    "version": 2
   },
   "file_extension": ".py",
   "mimetype": "text/x-python",
   "name": "python",
   "nbconvert_exporter": "python",
   "pygments_lexer": "ipython2",
   "version": "2.7.6"
  }
 },
 "nbformat": 4,
 "nbformat_minor": 0
}