{
 "cells": [
  {
   "cell_type": "markdown",
   "id": "ef3aa85d-b9f9-44cd-9c77-4efb55416f19",
   "metadata": {},
   "source": [
    "# 【課題】量子相関を調べる\n",
    "\n",
    "[課題ページ](https://utokyo-icepp.github.io/qc-workbook/nonlocal_correlations.html)\n",
    "\n",
    "[ワークブックのソースとなっているノートブック](https://github.com/UTokyo-ICEPP/qc-workbook/blob/master/source/ja/nonlocal_correlations.md) ← Executable Markdown形式なので、ダウンロードして新しめのJupyter Labバージョンでノートブックとして開く必要あり"
   ]
  },
  {
   "cell_type": "markdown",
   "id": "6220ab52-6fc6-4cfa-826d-951d033fd4e2",
   "metadata": {},
   "source": [
    "## QCシミュレータの使い方"
   ]
  },
  {
   "cell_type": "code",
   "execution_count": null,
   "id": "bf86ef7c-e5e0-40ac-b478-eceff3200858",
   "metadata": {
    "tags": [
     "remove-output"
    ]
   },
   "outputs": [],
   "source": [
    "# まずは全てインポート\n",
    "import numpy as np\n",
    "import matplotlib.pyplot as plt\n",
    "from scipy.optimize import minimize, Bounds\n",
    "from qiskit import QuantumCircuit, Aer, transpile\n",
    "from qiskit.visualization import plot_histogram\n",
    "\n",
    "print('notebook ready')"
   ]
  },
  {
   "cell_type": "code",
   "execution_count": null,
   "id": "01cd1cb6-96fa-4d47-9fbe-aa9eb58b6384",
   "metadata": {},
   "outputs": [],
   "source": [
    "# シミュレータをバックエンドとして使うときは、IBMQのプロバイダではなくAerのget_backend()を呼ぶ\n",
    "simulator = Aer.get_backend('qasm_simulator')\n",
    "print(simulator.name())"
   ]
  },
  {
   "cell_type": "code",
   "execution_count": null,
   "id": "7d09b1c8-01df-4dc0-8d59-b49467cf734f",
   "metadata": {
    "tags": []
   },
   "outputs": [],
   "source": [
    "circuits = []\n",
    "\n",
    "circuit = QuantumCircuit(2, name='circuit_I')\n",
    "circuit.h(0)\n",
    "circuit.cx(0, 1)\n",
    "circuit.ry(-np.pi / 4., 1)\n",
    "circuit.measure_all()\n",
    "circuits.append(circuit)\n",
    "\n",
    "circuit = QuantumCircuit(2, name='circuit_II')\n",
    "circuit.h(0)\n",
    "circuit.cx(0, 1)\n",
    "circuit.ry(-3. * np.pi / 4., 1)\n",
    "circuit.measure_all()\n",
    "circuits.append(circuit)\n",
    "\n",
    "circuit = QuantumCircuit(2, name='circuit_III')\n",
    "circuit.h(0)\n",
    "circuit.cx(0, 1)\n",
    "circuit.ry(-np.pi / 4., 1)\n",
    "circuit.ry(-np.pi / 2., 0)\n",
    "circuit.measure_all()\n",
    "circuits.append(circuit)\n",
    "\n",
    "circuit = QuantumCircuit(2, name='circuit_IV')\n",
    "circuit.h(0)\n",
    "circuit.cx(0, 1)\n",
    "circuit.ry(-3. * np.pi / 4., 1)\n",
    "circuit.ry(-np.pi / 2., 0)\n",
    "circuit.measure_all()\n",
    "circuits.append(circuit)"
   ]
  },
  {
   "cell_type": "code",
   "execution_count": null,
   "id": "180f974c-555f-4c4f-8549-f7ef5b457689",
   "metadata": {
    "tags": []
   },
   "outputs": [],
   "source": [
    "# シミュレータにはショット数の制限がないので、時間の許す限りいくらでも大きい値を使っていい\n",
    "shots = 10000\n",
    "\n",
    "# 実習と同じく transpile() - 今は「おまじない」と思ってよい\n",
    "circuits = transpile(circuits, backend=simulator)\n",
    "# シミュレータもバックエンドと同じように振る舞うので、runメソッドで回路とショット数を受け取り、ジョブオブジェクトを返す\n",
    "sim_job = simulator.run(circuits, shots=shots)\n",
    "\n",
    "# シミュレータから渡されたジョブオブジェクトは実機のジョブと全く同じように扱える\n",
    "sim_result = sim_job.result()\n",
    "\n",
    "C = np.zeros(4, dtype=float)\n",
    "fig, axs = plt.subplots(2, 2, sharey=True, figsize=[12., 8.])\n",
    "for idx, (circuit, ax) in enumerate(zip(circuits, axs.reshape(-1))):\n",
    "    counts = sim_result.get_counts(idx)\n",
    "    plot_histogram(counts, ax=ax)\n",
    "    ax.set_title(circuit.name)\n",
    "    ax.yaxis.grid(True)\n",
    "    \n",
    "    C[idx] = counts.get('00', 0) + counts.get('11', 0) - counts.get('01', 0) - counts.get('10', 0)\n",
    "    \n",
    "C /= shots\n",
    "    \n",
    "S = C[0] - C[1] + C[2] + C[3]\n",
    "print('S =', S)"
   ]
  },
  {
   "cell_type": "markdown",
   "id": "8d4465f9-7d35-4df6-b138-b27e491b1912",
   "metadata": {},
   "source": [
    "## 測定基底の変換"
   ]
  },
  {
   "cell_type": "code",
   "execution_count": null,
   "id": "a0fb1aa6-44b5-45cc-bcec-62fd704acbc2",
   "metadata": {
    "tags": [
     "remove-input"
    ]
   },
   "outputs": [],
   "source": [
    "fig, axs = plt.subplots(2, 2, figsize=[12., 6.])\n",
    "for circuit, ax in zip(circuits, axs.reshape(-1)):\n",
    "    circuit.draw('mpl', ax=ax)\n",
    "    ax.set_title(circuit.name)"
   ]
  },
  {
   "cell_type": "markdown",
   "id": "65fb6204-a7d0-425a-b35e-d5055910431e",
   "metadata": {},
   "source": [
    "## 問題：ベル状態について調べる\n",
    "\n",
    "### 実験1"
   ]
  },
  {
   "cell_type": "code",
   "execution_count": null,
   "id": "3d975723-e984-47e9-96f4-05b07dd63a35",
   "metadata": {
    "tags": [
     "remove-output"
    ]
   },
   "outputs": [],
   "source": [
    "# Consider 20 points each for theta and phi (400 points total)\n",
    "ntheta = 20\n",
    "nchi = 20\n",
    "\n",
    "thetas = np.linspace(0., np.pi, ntheta)\n",
    "chis = np.linspace(0., np.pi, nchi)\n",
    "\n",
    "# Construct a circuit for each (theta, chi) pair\n",
    "circuits = []\n",
    "# np.ndindex returns an iterator over a multi-dimensional array\n",
    "# -> idx = (0, 0), (0, 1), ..., (1, 0), (1, 1), ...\n",
    "for idx in np.ndindex(ntheta, nchi):\n",
    "    theta = thetas[idx[0]]\n",
    "    chi = chis[idx[1]]\n",
    "    \n",
    "    circuit = QuantumCircuit(2, name=f'circuit_{idx[0]}_{idx[1]}')\n",
    "    \n",
    "    # Create a circuit that forms a Bell state and then measures the two qubits\n",
    "    # along theta and chi bases\n",
    "\n",
    "    ##################\n",
    "    ### EDIT BELOW ###\n",
    "    ##################\n",
    "\n",
    "    #circuit.?\n",
    "\n",
    "    ##################\n",
    "    ### EDIT ABOVE ###\n",
    "    ##################\n",
    "\n",
    "    circuit.measure_all()\n",
    "\n",
    "    circuits.append(circuit)\n",
    "\n",
    "# Execute all circuits in qasm_simulator and retrieve the results\n",
    "simulator = Aer.get_backend('qasm_simulator')\n",
    "shots = 10000\n",
    "circuits = transpile(circuits, backend=simulator)\n",
    "sim_job = simulator.run(circuits, shots=shots)\n",
    "result = sim_job.result()"
   ]
  },
  {
   "cell_type": "code",
   "execution_count": null,
   "id": "496c9132-ee26-493e-a82e-0a60df86f69c",
   "metadata": {
    "tags": [
     "remove-output"
    ]
   },
   "outputs": [],
   "source": [
    "# Compute the C values for each (theta, chi)\n",
    "c_values = np.zeros((ntheta, nchi), dtype=float)\n",
    "for icirc, idx in enumerate(np.ndindex(ntheta, nchi)):\n",
    "    # This is the counts dict for the (theta, chi) pair\n",
    "    counts = result.get_counts(icirc)\n",
    "\n",
    "    ##################\n",
    "    ### EDIT BELOW ###\n",
    "    ##################\n",
    "\n",
    "    #c_values[idx] = ?\n",
    "\n",
    "    ##################\n",
    "    ### EDIT ABOVE ###\n",
    "    ##################\n",
    "\n",
    "# Making a 2D plot using imshow()\n",
    "# The theta dimension of c_values must be reversed because imshow() puts the origin at the top left corner\n",
    "dtheta = (thetas[1] - thetas[0]) * 0.5\n",
    "dchi = (chis[1] - chis[0]) * 0.5\n",
    "plt.imshow(c_values[::-1], extent=(chis[0] - dchi, chis[-1] + dchi, thetas[0] - dtheta, thetas[-1] + dtheta))\n",
    "plt.xlabel(r'$\\chi$')\n",
    "plt.ylabel(r'$\\theta$')\n",
    "plt.colorbar(label='C')\n",
    "# Place markers at theta and chi values that realize |S| = 2 sqrt(2)\n",
    "plt.scatter([np.pi / 4., np.pi / 4., 3. * np.pi / 4.], [0., np.pi / 2., np.pi / 2.], c='red', marker='+')\n",
    "plt.scatter([3. * np.pi / 4.], [0.], c='white', marker='+');"
   ]
  },
  {
   "cell_type": "markdown",
   "id": "fe8ef27e-7e4e-4de8-a483-f85f2d927737",
   "metadata": {},
   "source": [
    "### 実験2"
   ]
  },
  {
   "cell_type": "code",
   "execution_count": null,
   "id": "0d8ec8dc-4c7e-4b13-9d27-47fe5270284b",
   "metadata": {
    "tags": [
     "remove-output"
    ]
   },
   "outputs": [],
   "source": [
    "# Construct a circuit for each (theta, chi) pair\n",
    "circuits_ghz = []\n",
    "# np.ndindex returns an iterator over a multi-dimensional array\n",
    "# -> idx = (0, 0), (0, 1), ..., (1, 0), (1, 1), ...\n",
    "for idx in np.ndindex(ntheta, nchi):\n",
    "    theta = thetas[idx[0]]\n",
    "    chi = chis[idx[1]]\n",
    "    \n",
    "    circuit = QuantumCircuit(3, name=f'circuit_{idx[0]}_{idx[1]}')\n",
    "    \n",
    "    # Create a circuit that forms a Bell state and then measures the two qubits\n",
    "    # along theta and chi bases\n",
    "\n",
    "    ##################\n",
    "    ### EDIT BELOW ###\n",
    "    ##################\n",
    "    \n",
    "    #circuit.?\n",
    "\n",
    "    ##################\n",
    "    ### EDIT ABOVE ###\n",
    "    ##################\n",
    "\n",
    "    circuit.measure_all()\n",
    "\n",
    "    circuits_ghz.append(circuit)\n",
    "\n",
    "# Execute all circuits in qasm_simulator and retrieve the results\n",
    "circuits_ghz = transpile(circuits_ghz, backend=simulator)\n",
    "sim_job_ghz = simulator.run(circuits_ghz, shots=shots)\n",
    "result_ghz = sim_job_ghz.result()"
   ]
  },
  {
   "cell_type": "code",
   "execution_count": null,
   "id": "fc3139be-de19-4b77-8764-07687e0deaa4",
   "metadata": {
    "tags": [
     "remove-output"
    ]
   },
   "outputs": [],
   "source": [
    "def counts_ignoring_qubit2(counts, bitstring):\n",
    "    \"\"\"Add the counts of cases where qubit C is 0 and 1\"\"\"\n",
    "    \n",
    "    return counts.get(f'0{bitstring}', 0) + counts.get(f'1{bitstring}', 0)\n",
    "\n",
    "# Compute the C values for each (theta, chi)\n",
    "c_values_ghz = np.zeros((ntheta, nchi), dtype=float)\n",
    "for icirc, idx in enumerate(np.ndindex(ntheta, nchi)):\n",
    "    # This is the counts dict for the (theta, chi) pair\n",
    "    counts = result_ghz.get_counts(icirc)\n",
    "    \n",
    "    ##################\n",
    "    ### EDIT BELOW ###\n",
    "    ##################\n",
    "    \n",
    "    #c_values_ghz[idx] = ?\n",
    "\n",
    "    ##################\n",
    "    ### EDIT ABOVE ###\n",
    "    ##################\n",
    "\n",
    "# Making a 2D plot using imshow()\n",
    "# The theta dimension of c_values must be reversed because imshow() puts the origin at the top left corner\n",
    "plt.imshow(c_values_ghz[::-1], extent=(chis[0] - dchi, chis[-1] + dchi, thetas[0] - dtheta, thetas[-1] + dtheta))\n",
    "plt.xlabel(r'$\\chi$')\n",
    "plt.ylabel(r'$\\theta$')\n",
    "plt.colorbar(label='C');"
   ]
  },
  {
   "cell_type": "code",
   "execution_count": null,
   "id": "eece6bca-9b36-4735-ba98-92ebf0a40816",
   "metadata": {
    "tags": [
     "remove-output"
    ]
   },
   "outputs": [],
   "source": [
    "max_abs_s = 0.\n",
    "\n",
    "# Use ndindex to iterate over all index combinations\n",
    "for ikappa, ilambda, imu, inu in np.ndindex(ntheta, nchi, ntheta, nchi):\n",
    "    abs_s = abs(c_values_ghz[ikappa, ilambda] - c_values_ghz[ikappa, inu] + c_values_ghz[imu, ilambda] + c_values_ghz[imu, inu])\n",
    "    max_abs_s = max(abs_s, max_abs_s)\n",
    "    \n",
    "print(f'max |S| = {max_abs_s}')"
   ]
  },
  {
   "cell_type": "markdown",
   "id": "85b584fe-54a6-4330-bbea-48d0a3476ac6",
   "metadata": {
    "tags": [
     "raises-exception",
     "remove-output"
    ]
   },
   "source": [
    "**提出するもの**\n",
    "\n",
    "1. 完成した回路のコード（EDIT BELOW / EDIT ABOVEの間を埋める）とシミュレーション結果によるプロット\n",
    "1. 実験2で、「確率1/2で$\\ket{00}$、確率1/2で$\\ket{11}$」という状態が作られたメカニズムの考察\n",
    "- おまけ（評価対象外）：実験2で、量子ビットCをどのような基底で測定しても、その結果を無視する限りにおいて$C$の値は変わらないということの証明\n",
    "- おまけ（評価対象外）：実験2で、量子ビットCをある基底で測定し、その結果が0であった時のみを考慮すると、ABにベル状態を回復することができる。そのような基底の同定と、できれば実験2のように量子回路を組んで実験1と同じプロットが得られることの確認"
   ]
  },
  {
   "cell_type": "markdown",
   "id": "ba31d729-ec59-4107-a873-7d3948254e09",
   "metadata": {},
   "source": [
    "**2の考察は以下に：**\n",
    "\n",
    "（別ファイルに書いても構いません）"
   ]
  },
  {
   "cell_type": "code",
   "execution_count": null,
   "id": "a1b59e4e-0b61-44a4-871e-ce2dbbbb625a",
   "metadata": {},
   "outputs": [],
   "source": []
  }
 ],
 "metadata": {
  "kernelspec": {
   "display_name": "Python 3 (ipykernel)",
   "language": "python",
   "name": "python3"
  },
  "language_info": {
   "codemirror_mode": {
    "name": "ipython",
    "version": 3
   },
   "file_extension": ".py",
   "mimetype": "text/x-python",
   "name": "python",
   "nbconvert_exporter": "python",
   "pygments_lexer": "ipython3",
   "version": "3.8.10"
  }
 },
 "nbformat": 4,
 "nbformat_minor": 5
}
