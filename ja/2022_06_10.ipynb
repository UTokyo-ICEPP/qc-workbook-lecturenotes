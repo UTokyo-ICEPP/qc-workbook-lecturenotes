{
 "cells": [
  {
   "cell_type": "markdown",
   "id": "6692e2bf-a0c9-440e-a0db-b23824f21059",
   "metadata": {},
   "source": [
    "# 演習：Shorコードでの量子エラー訂正"
   ]
  },
  {
   "cell_type": "code",
   "execution_count": 37,
   "id": "82f8c448-9b6b-4ad3-87f7-7d0aca517794",
   "metadata": {},
   "outputs": [],
   "source": [
    "import numpy as np\n",
    "from qiskit import QuantumCircuit, Aer, transpile\n",
    "from qiskit.quantum_info.operators import Operator\n",
    "from IPython.display import Latex\n",
    "\n",
    "from qc_workbook.show_state import show_state\n",
    "\n",
    "def show_circuit_op(circuit, global_phase=0.):\n",
    "    op = Operator(circuit)\n",
    "    \n",
    "    unitary = op.data * np.exp(-1.j * global_phase)\n",
    "\n",
    "    rows = list()\n",
    "    for row_data in unitary:\n",
    "        elements = list()\n",
    "        for elem in row_data:\n",
    "            if elem == 0.:\n",
    "                elements.append('0')\n",
    "            else:\n",
    "                mod = np.abs(elem)\n",
    "                arg = np.angle(elem) / np.pi\n",
    "                \n",
    "                mod_round = np.round(mod)\n",
    "                if np.isclose(mod, mod_round):\n",
    "                    modstr = f'{int(mod_round)}'\n",
    "                else:\n",
    "                    modstr = f'{mod:.4f}'.rstrip('0')\n",
    "                    \n",
    "                if np.isclose(arg, 0.):\n",
    "                    elements.append(f'{modstr}')\n",
    "                elif np.isclose(arg, 1.) or np.isclose(arg, -1.):\n",
    "                    elements.append(f'-{modstr}')\n",
    "                else:\n",
    "                    if modstr == '1':\n",
    "                        modstr = ''\n",
    "                        \n",
    "                    argstr = f'{arg:.4f}'.rstrip('0')\n",
    "                    elements.append(fr'{modstr}e^{{{argstr} \\pi i}}')\n",
    "                    \n",
    "        rows.append(' & '.join(elements))\n",
    "        \n",
    "    expr = r'\\begin{pmatrix} ' + r' \\\\ '.join(rows) + r'\\end{pmatrix}'\n",
    "\n",
    "    return Latex(expr)"
   ]
  },
  {
   "cell_type": "markdown",
   "id": "17e41ff9-193a-44bf-a2dc-fa28f4699aa1",
   "metadata": {},
   "source": [
    "## CPゲート"
   ]
  },
  {
   "cell_type": "code",
   "execution_count": 38,
   "id": "e37b4b55-7bc0-4b48-b9e8-24e428b89a53",
   "metadata": {},
   "outputs": [
    {
     "data": {
      "text/latex": [
       "\\begin{pmatrix} 1 & 0 & 0 & 0 \\\\ 0 & 1 & 0 & 0 \\\\ 0 & 0 & 1 & 0 \\\\ 0 & 0 & 0 & e^{0.25 \\pi i}\\end{pmatrix}"
      ],
      "text/plain": [
       "<IPython.core.display.Latex object>"
      ]
     },
     "execution_count": 38,
     "metadata": {},
     "output_type": "execute_result"
    }
   ],
   "source": [
    "def apply_cp(circuit, theta, control, target):\n",
    "    circuit.rz(theta / 2., control)\n",
    "    circuit.cx(control, target)\n",
    "    circuit.rz(-theta / 2., target)\n",
    "    circuit.cx(control, target)\n",
    "    circuit.rz(theta / 2., target)    \n",
    "\n",
    "theta = np.pi / 4.\n",
    "\n",
    "circuit = QuantumCircuit(2)\n",
    "\n",
    "apply_cp(circuit, theta, 1, 0)\n",
    "\n",
    "show_circuit_op(circuit, global_phase=-np.pi / 16.)"
   ]
  },
  {
   "cell_type": "markdown",
   "id": "205e83e4-89b1-49ee-ac7c-df4061f77884",
   "metadata": {},
   "source": [
    "## CCZゲート"
   ]
  },
  {
   "cell_type": "code",
   "execution_count": 39,
   "id": "c0d3a4f5-6355-4696-8398-1076baaa76a1",
   "metadata": {},
   "outputs": [
    {
     "data": {
      "text/latex": [
       "\\begin{pmatrix} 1 & 0 & 0 & 0 & 0 & 0 & 0 & 0 \\\\ 0 & 1 & 0 & 0 & 0 & 0 & 0 & 0 \\\\ 0 & 0 & 1 & 0 & 0 & 0 & 0 & 0 \\\\ 0 & 0 & 0 & 1 & 0 & 0 & 0 & 0 \\\\ 0 & 0 & 0 & 0 & 1 & 0 & 0 & 0 \\\\ 0 & 0 & 0 & 0 & 0 & 1 & 0 & 0 \\\\ 0 & 0 & 0 & 0 & 0 & 0 & 1 & 0 \\\\ 0 & 0 & 0 & 0 & 0 & 0 & 0 & -1\\end{pmatrix}"
      ],
      "text/plain": [
       "<IPython.core.display.Latex object>"
      ]
     },
     "execution_count": 39,
     "metadata": {},
     "output_type": "execute_result"
    }
   ],
   "source": [
    "theta = np.pi\n",
    "\n",
    "circuit = QuantumCircuit(3)\n",
    "\n",
    "apply_cp(circuit, theta / 2., 1, 0)\n",
    "circuit.cx(2, 1)\n",
    "apply_cp(circuit, -theta / 2., 1, 0)\n",
    "circuit.cx(2, 1)\n",
    "apply_cp(circuit, theta / 2., 2, 0)\n",
    "\n",
    "show_circuit_op(circuit, global_phase=-np.pi / 8.)"
   ]
  },
  {
   "cell_type": "markdown",
   "id": "96f9fc0d-b8fa-49b9-9537-534751766945",
   "metadata": {},
   "source": [
    "## Toffoliゲート"
   ]
  },
  {
   "cell_type": "code",
   "execution_count": 40,
   "id": "341bdb71-9832-429e-9ab0-13275956e415",
   "metadata": {},
   "outputs": [
    {
     "data": {
      "text/latex": [
       "\\begin{pmatrix} 1 & 0 & 0 & 0 & 0 & 0 & 0 & 0 \\\\ 0 & 1 & 0 & 0 & 0 & 0 & 0 & 0 \\\\ 0 & 0 & 1 & 0 & 0 & 0 & 0 & 0 \\\\ 0 & 0 & 0 & 1 & 0 & 0 & 0 & 0 \\\\ 0 & 0 & 0 & 0 & 1 & 0 & 0 & 0 \\\\ 0 & 0 & 0 & 0 & 0 & 1 & 0 & 0 \\\\ 0 & 0 & 0 & 0 & 0 & 0 & 0 & 1 \\\\ 0 & 0 & 0 & 0 & 0 & 0 & 1 & 0\\end{pmatrix}"
      ],
      "text/plain": [
       "<IPython.core.display.Latex object>"
      ]
     },
     "execution_count": 40,
     "metadata": {},
     "output_type": "execute_result"
    }
   ],
   "source": [
    "def apply_toffoli(circuit, control1, control2, target):\n",
    "    circuit.h(target)\n",
    "    apply_cp(circuit, np.pi / 2., control2, target)\n",
    "    circuit.cx(control1, control2)\n",
    "    apply_cp(circuit, -np.pi / 2., control2, target)\n",
    "    circuit.cx(control1, control2)\n",
    "    apply_cp(circuit, np.pi / 2., control1, target)\n",
    "    circuit.h(target)\n",
    "\n",
    "circuit = QuantumCircuit(3)\n",
    "\n",
    "apply_toffoli(circuit, 2, 1, 0)\n",
    "\n",
    "show_circuit_op(circuit, global_phase=-np.pi / 8.)"
   ]
  },
  {
   "cell_type": "markdown",
   "id": "b563db13-564f-4ef8-95d3-74db51816783",
   "metadata": {},
   "source": [
    "## 量子エラーとエラー訂正"
   ]
  },
  {
   "cell_type": "markdown",
   "id": "ee0b874a-e3c6-457c-b369-d50056262639",
   "metadata": {},
   "source": [
    "### ビット反転（$X$）エラー"
   ]
  },
  {
   "cell_type": "code",
   "execution_count": 41,
   "id": "4acf1be3-2c5d-4024-bc00-61d29a9732d5",
   "metadata": {},
   "outputs": [
    {
     "data": {
      "image/png": "[encoded data removed]",
      "text/plain": [
       "<Figure size 720x36 with 1 Axes>"
      ]
     },
     "metadata": {
      "needs_background": "light"
     },
     "output_type": "display_data"
    },
    {
     "data": {
      "image/png": "[encoded data removed]",
      "text/plain": [
       "<Figure size 720x36 with 1 Axes>"
      ]
     },
     "metadata": {
      "needs_background": "light"
     },
     "output_type": "display_data"
    }
   ],
   "source": [
    "circuit = QuantumCircuit(3)\n",
    "\n",
    "circuit.u(0.2, 0.7, 0., 0)\n",
    "\n",
    "show_state(circuit)\n",
    "\n",
    "circuit.cx(0, 1)\n",
    "circuit.cx(0, 2)\n",
    "\n",
    "circuit.x(np.random.randint(3))\n",
    "\n",
    "circuit.cx(0, 1)\n",
    "circuit.cx(0, 2)\n",
    "\n",
    "apply_toffoli(circuit, 2, 1, 0)\n",
    "\n",
    "show_state(circuit, global_phase=-np.pi / 8.);"
   ]
  },
  {
   "cell_type": "markdown",
   "id": "cac34f7b-af08-46d7-b952-fc48762c682f",
   "metadata": {},
   "source": [
    "### 位相反転（$Z$）エラー"
   ]
  },
  {
   "cell_type": "code",
   "execution_count": 42,
   "id": "baad053a-f366-4e4a-8d62-f2a31865574d",
   "metadata": {},
   "outputs": [
    {
     "data": {
      "image/png": "[encoded data removed]",
      "text/plain": [
       "<Figure size 720x36 with 1 Axes>"
      ]
     },
     "metadata": {
      "needs_background": "light"
     },
     "output_type": "display_data"
    },
    {
     "data": {
      "image/png": "[encoded data removed]",
      "text/plain": [
       "<Figure size 720x36 with 1 Axes>"
      ]
     },
     "metadata": {
      "needs_background": "light"
     },
     "output_type": "display_data"
    }
   ],
   "source": [
    "circuit = QuantumCircuit(3)\n",
    "\n",
    "circuit.u(0.2, 0.7, 0., 0)\n",
    "\n",
    "show_state(circuit)\n",
    "\n",
    "circuit.cx(0, 1)\n",
    "circuit.cx(0, 2)\n",
    "circuit.h([0, 1, 2])\n",
    "\n",
    "circuit.z(np.random.randint(3))\n",
    "\n",
    "circuit.h([0, 1, 2])\n",
    "circuit.cx(0, 1)\n",
    "circuit.cx(0, 2)\n",
    "\n",
    "apply_toffoli(circuit, 2, 1, 0)\n",
    "\n",
    "show_state(circuit, global_phase=-np.pi / 8.);"
   ]
  },
  {
   "cell_type": "markdown",
   "id": "ac8ae005-9abe-46cf-aca3-ce3e21ed48be",
   "metadata": {},
   "source": [
    "### Shorコード"
   ]
  },
  {
   "cell_type": "code",
   "execution_count": 44,
   "id": "81a667a4-07d0-49e4-b919-20b5569caf06",
   "metadata": {},
   "outputs": [
    {
     "data": {
      "image/png": "[encoded data removed]",
      "text/plain": [
       "<Figure size 720x36 with 1 Axes>"
      ]
     },
     "metadata": {
      "needs_background": "light"
     },
     "output_type": "display_data"
    },
    {
     "data": {
      "image/png": "[encoded data removed]",
      "text/plain": [
       "<Figure size 720x36 with 1 Axes>"
      ]
     },
     "metadata": {
      "needs_background": "light"
     },
     "output_type": "display_data"
    }
   ],
   "source": [
    "circuit = QuantumCircuit(9)\n",
    "\n",
    "circuit.u(0.2, 0.7, 0., 0)\n",
    "\n",
    "show_state(circuit)\n",
    "\n",
    "circuit.cx(0, 3)\n",
    "circuit.cx(0, 6)\n",
    "circuit.h([0, 3, 6])\n",
    "\n",
    "for iq in [0, 3, 6]:\n",
    "    circuit.cx(iq, iq + 1)\n",
    "    circuit.cx(iq, iq + 2)\n",
    "\n",
    "circuit.z(np.random.randint(9))\n",
    "circuit.x(np.random.randint(9))\n",
    "\n",
    "for iq in [0, 3, 6]:\n",
    "    circuit.cx(iq, iq + 1)\n",
    "    circuit.cx(iq, iq + 2)\n",
    "    apply_toffoli(circuit, iq + 2, iq + 1, iq)\n",
    "    \n",
    "circuit.h([0, 3, 6])\n",
    "circuit.cx(0, 3)\n",
    "circuit.cx(0, 6)\n",
    "\n",
    "apply_toffoli(circuit, 6, 3, 0)\n",
    "\n",
    "show_state(circuit, global_phase=1.5 * np.pi);"
   ]
  },
  {
   "cell_type": "code",
   "execution_count": null,
   "id": "9ece1f22-a656-43f5-99bb-5004c9ec4ad7",
   "metadata": {},
   "outputs": [],
   "source": []
  }
 ],
 "metadata": {
  "kernelspec": {
   "display_name": "Python 3 (ipykernel)",
   "language": "python",
   "name": "python3"
  },
  "language_info": {
   "codemirror_mode": {
    "name": "ipython",
    "version": 3
   },
   "file_extension": ".py",
   "mimetype": "text/x-python",
   "name": "python",
   "nbconvert_exporter": "python",
   "pygments_lexer": "ipython3",
   "version": "3.8.10"
  }
 },
 "nbformat": 4,
 "nbformat_minor": 5
}
