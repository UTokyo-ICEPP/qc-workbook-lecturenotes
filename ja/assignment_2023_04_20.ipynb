{
 "cells": [
  {
   "cell_type": "markdown",
   "id": "077af0f9",
   "metadata": {},
   "source": [
    "# 【課題】アダマールテスト\n",
    "\n",
    "$\\newcommand{\\ket}[1]{|#1\\rangle}$\n",
    "$\\newcommand{\\braket}[2]{\\langle #1 | #2 \\rangle}$"
   ]
  },
  {
   "cell_type": "code",
   "execution_count": null,
   "id": "7d4e3980",
   "metadata": {
    "tags": [
     "remove-output"
    ]
   },
   "outputs": [],
   "source": [
    "# まずは全てインポート\n",
    "import numpy as np\n",
    "import matplotlib.pyplot as plt\n",
    "from qiskit import QuantumRegister, ClassicalRegister, QuantumCircuit, transpile\n",
    "from qiskit_aer import AerSimulator\n",
    "from qiskit.visualization import plot_histogram\n",
    "\n",
    "print('notebook ready')"
   ]
  },
  {
   "cell_type": "markdown",
   "id": "0f2ca353",
   "metadata": {},
   "source": [
    "## 問題1: アダマールテストで状態ベクトルを同定する\n",
    "\n",
    "既知の（量子回路での作り方を知っている）状態$\\ket{\\psi}$の状態ベクトルを調べます。"
   ]
  },
  {
   "cell_type": "code",
   "execution_count": null,
   "id": "2638ebb8",
   "metadata": {},
   "outputs": [],
   "source": [
    "# データレジスタのビット数\n",
    "data_width = 6\n",
    "\n",
    "# 状態|ψ>を作る回路\n",
    "upsi = QuantumCircuit(data_width, name='psi')\n",
    "upsi.x(0)\n",
    "upsi.h(2)\n",
    "upsi.cx(2, 3)\n",
    "for itarg in range(data_width - 1, -1, -1):\n",
    "    upsi.h(itarg)\n",
    "    for ictrl in range(itarg - 1, -1, -1):\n",
    "        power = ictrl - itarg - 1 + data_width\n",
    "        upsi.cp((2 ** power) * 2. * np.pi / (2 ** data_width), ictrl, itarg)\n",
    "\n",
    "for iq in range(data_width // 2):\n",
    "    upsi.swap(iq, data_width - 1 - iq)"
   ]
  },
  {
   "cell_type": "code",
   "execution_count": null,
   "id": "96fd1730",
   "metadata": {},
   "outputs": [],
   "source": [
    "upsi_gate = upsi.to_gate() # 量子回路をゲートに変換\n",
    "cupsi_gate = upsi_gate.control(1) # ゲートを制御ゲートに変換"
   ]
  },
  {
   "cell_type": "markdown",
   "id": "d05fd473",
   "metadata": {},
   "source": [
    "$U^{-1}_k$とその制御ゲート化は$k$の関数として定義しておきます。"
   ]
  },
  {
   "cell_type": "code",
   "execution_count": null,
   "id": "0eea55c5",
   "metadata": {},
   "outputs": [],
   "source": [
    "# 整数kについて、|0>から|k>を作る量子回路U_kを定義し、その逆回路を制御ゲート化する\n",
    "def make_cukinv_gate(k):\n",
    "    \"\"\"Make a circuit that implements controlled-U_k^{-1}.\"\"\"\n",
    "    \n",
    "    uk = QuantumCircuit(data_width, name=f'u_{k}')\n",
    "\n",
    "    # kの２進数表現を得るために、unpackbitsを利用（他にもいろいろな方法がある）\n",
    "    # unpackbitsはuint8タイプのアレイを引数に取るので、jをその形に変換してから渡している\n",
    "    k_bits = np.unpackbits(np.asarray(k, dtype=np.uint8), bitorder='little')\n",
    "    # k_bitsアレイのうち、ビットが立っているインデックスを得て、それらにXゲートをかける\n",
    "    for idx in np.nonzero(k_bits)[0]:\n",
    "        uk.x(idx)\n",
    "\n",
    "    # 形式上逆回路を作るが、Xの逆操作はXなので、実は全く同一の回路\n",
    "    ukinv = uk.inverse()\n",
    "\n",
    "    ukinv_gate = ukinv.to_gate()\n",
    "    cukinv_gate = ukinv_gate.control(1)\n",
    "\n",
    "    return cukinv_gate"
   ]
  },
  {
   "cell_type": "markdown",
   "id": "e85872c5",
   "metadata": {},
   "source": [
    "ゲートオブジェクトは`QuantumCircuit`オブジェクトに`append()`で組み込むことができます。制御ゲートを埋め込む場合は、制御ビットが組み込み先の最初のnビットとなるので、`append()`の`qargs`引数で正しく対応づけします。\n",
    "\n",
    "次のセルで$k=0$から$2^n-1$までそれぞれ2通りのアダマールテストを行い、$\\ket{\\psi}$の計算基底展開を求めてください。"
   ]
  },
  {
   "cell_type": "code",
   "execution_count": null,
   "id": "a7792b7e",
   "metadata": {
    "tags": [
     "remove-output"
    ]
   },
   "outputs": [],
   "source": [
    "reg_data = QuantumRegister(data_width, name='data')\n",
    "reg_test = QuantumRegister(1, name='test')\n",
    "creg_test = ClassicalRegister(1)\n",
    "\n",
    "# 実部用と虚部用の回路をそれぞれリストに入れ、一度にシミュレータに渡す\n",
    "circuits_re = []\n",
    "circuits_im = []\n",
    "\n",
    "ks = np.arange(2 ** data_width)\n",
    "\n",
    "for k in ks:\n",
    "    circuit_re = QuantumCircuit(reg_data, reg_test, creg_test)\n",
    "    circuit_im = QuantumCircuit(reg_data, reg_test, creg_test)\n",
    "\n",
    "    ##################\n",
    "    ### EDIT BELOW ###\n",
    "    ##################\n",
    "\n",
    "    # 制御ゲートをcircuitに組み込む例\n",
    "    # circuit.append(cupsi_gate, qargs=([reg_test[0]] + reg_data[:]))\n",
    "\n",
    "    ##################\n",
    "    ### EDIT ABOVE ###\n",
    "    ##################\n",
    "\n",
    "    circuit_re.measure(reg_test, creg_test)\n",
    "    circuit_im.measure(reg_test, creg_test)\n",
    "\n",
    "    circuits_re.append(circuit_re)\n",
    "    circuits_im.append(circuit_im)\n",
    "\n",
    "# シミュレータで回路を実行\n",
    "simulator = AerSimulator()\n",
    "shots = 10000\n",
    "\n",
    "circuits_re = transpile(circuits_re, backend=simulator)\n",
    "circuits_im = transpile(circuits_im, backend=simulator)\n",
    "\n",
    "counts_list_re = simulator.run(circuits_re, shots=shots).result().get_counts()\n",
    "counts_list_im = simulator.run(circuits_im, shots=shots).result().get_counts()\n",
    "\n",
    "# 状態ベクトルアレイ\n",
    "statevector = np.empty(2 ** data_width, dtype=np.complex128)\n",
    "\n",
    "for k in ks:\n",
    "    counts_re = counts_list_re[k]\n",
    "    counts_im = counts_list_im[k]\n",
    "    statevector[k] = (counts_re.get('0', 0) - counts_re.get('1', 0)) / shots\n",
    "    statevector[k] += 1.j * (counts_im.get('0', 0) - counts_im.get('1', 0)) / shots"
   ]
  },
  {
   "cell_type": "code",
   "execution_count": null,
   "id": "77008841",
   "metadata": {
    "tags": [
     "remove-output"
    ]
   },
   "outputs": [],
   "source": [
    "plt.plot(ks, statevector.real, label='Re($c_k$)')\n",
    "plt.plot(ks, statevector.imag, label='Im($c_k$)')\n",
    "plt.xlabel('k')\n",
    "plt.legend();"
   ]
  },
  {
   "cell_type": "markdown",
   "id": "12e00dd3",
   "metadata": {},
   "source": [
    "得られた結果と状態ベクトルシミュレータで計算される状態ベクトルとを比較してみましょう。"
   ]
  },
  {
   "cell_type": "code",
   "execution_count": null,
   "id": "d9eda6ba",
   "metadata": {
    "tags": [
     "remove-output"
    ]
   },
   "outputs": [],
   "source": [
    "sv_simulator = AerSimulator(method='statevector')\n",
    "\n",
    "# save_statevectorをくっつけるので元の回路をコピーする\n",
    "circuit = upsi.copy()\n",
    "circuit.save_statevector()\n",
    "\n",
    "circuit = transpile(circuit, backend=sv_simulator)\n",
    "statevector_truth = np.asarray(sv_simulator.run(circuit).result().data()['statevector'])\n",
    "\n",
    "plt.plot(ks, statevector_truth.real, label='Re($c_k$) truth')\n",
    "plt.plot(ks, statevector_truth.imag, label='Im($c_k$) truth')\n",
    "plt.scatter(ks, statevector.real, label='Re($c_k$)')\n",
    "plt.scatter(ks, statevector.imag, label='Im($c_k$)')\n",
    "plt.xlabel('k')\n",
    "plt.legend();"
   ]
  },
  {
   "cell_type": "markdown",
   "id": "e02a91db",
   "metadata": {},
   "source": [
    "## 問題2: 符号が反転している基底を見つける\n",
    "\n",
    "状態\n",
    "\n",
    "$$\n",
    "\\frac{1}{\\sqrt{2^n}} \\left( \\sum_{k \\neq \\tilde{k}} \\ket{k} - \\ket{\\tilde{k}} \\right)\n",
    "$$\n",
    "\n",
    "を与えられたときに、$\\tilde{k}$を求める回路を作ります。"
   ]
  },
  {
   "cell_type": "code",
   "execution_count": null,
   "id": "e1db04bb",
   "metadata": {},
   "outputs": [],
   "source": [
    "num_qubits = 3\n",
    "needle = 5\n",
    "\n",
    "haystack_register = QuantumRegister(num_qubits, name='haystack') # ビット数を指定してレジスタを作る\n",
    "blackbox_circuit = QuantumCircuit(haystack_register, name='blackbox') # レジスタから回路を作る\n",
    "\n",
    "# unpackbitsでneedleが二進数のビット列に変換される。それを1から引くことでビット反転\n",
    "needle_bits = 1 - np.unpackbits(np.asarray(needle, dtype=np.uint8), bitorder='little')[:num_qubits]\n",
    "for idx in np.nonzero(needle_bits)[0]:\n",
    "    blackbox_circuit.x(haystack_register[idx])\n",
    "\n",
    "# レジスタの（0番から）最後から二番目のビットまでで制御し、最後のビットを標的にする\n",
    "blackbox_circuit.mcp(np.pi, haystack_register[:-1], haystack_register[-1])\n",
    "\n",
    "# 後片付け\n",
    "for idx in np.nonzero(needle_bits)[0]:\n",
    "    blackbox_circuit.x(haystack_register[idx])\n",
    "\n",
    "blackbox_circuit.draw('mpl')"
   ]
  },
  {
   "cell_type": "markdown",
   "id": "26384f9a",
   "metadata": {},
   "source": [
    "問題1でやったのと同様、QuantumCircuitオブジェクト全体を一つのゲートのようにみなして、それから制御ゲートを派生させます。"
   ]
  },
  {
   "cell_type": "code",
   "execution_count": null,
   "id": "9e683361",
   "metadata": {},
   "outputs": [],
   "source": [
    "# blackbox_circuitを3量子ビットゲート化\n",
    "blackbox = blackbox_circuit.to_gate()\n",
    "# さらにblackboxゲートを1制御+3標的ビットゲート化\n",
    "cblackbox = blackbox.control(1)"
   ]
  },
  {
   "cell_type": "markdown",
   "id": "61e10cf3",
   "metadata": {},
   "source": [
    "それでは、この制御ブラックボックスゲートを利用して、equal superpositionにある`haystack`レジスタで干渉を起こして、観測で`needle`が識別できるような回路を書いてください。\n",
    "\n",
    "ヒント：アダマールテストの回路は、量子状態ベクトル同士を足したり引いたりして振幅の干渉を起こさせる回路のテンプレートでもあります。"
   ]
  },
  {
   "cell_type": "code",
   "execution_count": null,
   "id": "d4faeffa",
   "metadata": {
    "tags": [
     "remove-output"
    ]
   },
   "outputs": [],
   "source": [
    "def make_haystack_needle():\n",
    "    test_register = QuantumRegister(1, 'test')\n",
    "    circuit = QuantumCircuit(haystack_register, test_register)\n",
    "\n",
    "    # equal superpositionを作る（このようにゲート操作のメソッドにレジスタを渡すと、レジスタの各ビットにゲートがかかります。）\n",
    "    circuit.h(haystack_register)\n",
    "\n",
    "    ##################\n",
    "    ### EDIT BELOW ###\n",
    "    ##################\n",
    "\n",
    "    #circuit.?\n",
    "\n",
    "    ##################\n",
    "    ### EDIT ABOVE ###\n",
    "    ##################\n",
    "\n",
    "    circuit.measure_all()\n",
    "\n",
    "    return circuit"
   ]
  },
  {
   "cell_type": "code",
   "execution_count": null,
   "id": "bfe42c43",
   "metadata": {
    "tags": [
     "remove-output"
    ]
   },
   "outputs": [],
   "source": [
    "haystack_needle = make_haystack_needle()\n",
    "haystack_needle.draw('mpl')"
   ]
  },
  {
   "cell_type": "markdown",
   "id": "3790e0e3",
   "metadata": {},
   "source": [
    "回路が完成したら、`qasm_simulator`で実行し、ヒストグラムをプロットしてください。"
   ]
  },
  {
   "cell_type": "code",
   "execution_count": null,
   "id": "e66ea46a",
   "metadata": {
    "tags": [
     "remove-output"
    ]
   },
   "outputs": [],
   "source": [
    "simulator = AerSimulator()\n",
    "haystack_needle = transpile(haystack_needle, backend=simulator)\n",
    "sim_job = simulator.run(haystack_needle, shots=10000)\n",
    "sim_result = sim_job.result()\n",
    "plot_histogram(sim_result.get_counts(), figsize=(16, 4))"
   ]
  },
  {
   "cell_type": "markdown",
   "id": "46a95bab",
   "metadata": {},
   "source": [
    "**提出するもの**\n",
    "\n",
    "- 問題1と2の完成した回路のコード（EDIT BELOWからEDIT ABOVEの部分を埋める）と得られるプロット\n",
    "- 問題2で、ヒストグラムから`needle`を見つける方法の記述\n",
    "- `haystack`レジスタが一般の$n$ビットであるとき、この方法で`needle`を探すことの問題点（実行時間の観点から）に関する考察\n",
    "- おまけ（評価対象外）：`haystack_needle`回路を適当な実機でも実行してみる。エラーによってシミュレーションと結果が大幅に異なると予想されるが、なぜ一見単純な回路が大きく撹乱されてしまうのか？を考えてみる"
   ]
  }
 ],
 "metadata": {
  "jupytext": {
   "notebook_metadata_filter": "all"
  },
  "kernelspec": {
   "display_name": "Python 3 (ipykernel)",
   "language": "python",
   "name": "python3"
  },
  "language_info": {
   "codemirror_mode": {
    "name": "ipython",
    "version": 3
   },
   "file_extension": ".py",
   "mimetype": "text/x-python",
   "name": "python",
   "nbconvert_exporter": "python",
   "pygments_lexer": "ipython3",
   "version": "3.10.6"
  }
 },
 "nbformat": 4,
 "nbformat_minor": 5
}
