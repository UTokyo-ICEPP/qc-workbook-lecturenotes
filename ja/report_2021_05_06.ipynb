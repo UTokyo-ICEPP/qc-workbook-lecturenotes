{
 "cells": [
  {
   "cell_type": "markdown",
   "metadata": {},
   "source": [
    "# 【課題】位相推定によるスペクトル分解\n",
    "\n"
   ]
  },
  {
   "cell_type": "code",
   "execution_count": null,
   "metadata": {
    "tags": [
     "remove-output"
    ]
   },
   "outputs": [],
   "source": [
    "# まず必要なモジュールをインポートする\n",
    "import numpy as np\n",
    "import matplotlib.pyplot as plt\n",
    "from qiskit import QuantumRegister, ClassicalRegister, QuantumCircuit, Aer, execute\n",
    "from qiskit.visualization import plot_histogram\n",
    "# ワークブック独自のモジュール\n",
    "from utils.hamiltonian import make_hamiltonian\n",
    "from utils.show_state import show_state, show_statevector\n",
    "\n",
    "print('notebook ready')"
   ]
  },
  {
   "cell_type": "code",
   "execution_count": null,
   "metadata": {},
   "outputs": [],
   "source": [
    "# Number of spins\n",
    "n_s = 2\n",
    "# Coupling parameter\n",
    "J = 1.\n",
    "# External field / J\n",
    "g = 0.\n",
    "\n",
    "# Construct the Hamiltonian matrix\n",
    "paulis = list()\n",
    "coeffs = list()\n",
    "for j in range(n_s):\n",
    "    paulis.append(list('x' if k in (j, (j + 1) % n_s) else 'i' for k in range(n_s)))\n",
    "    coeffs.append(-J)\n",
    "    paulis.append(list('y' if k in (j, (j + 1) % n_s) else 'i' for k in range(n_s)))\n",
    "    coeffs.append(-J)\n",
    "    paulis.append(list('z' if k in (j, (j + 1) % n_s) else 'i' for k in range(n_s)))\n",
    "    coeffs.append(-J)\n",
    "    if g != 0.:\n",
    "        paulis.append(list('z' if k == j else 'i' for k in range(n_s)))\n",
    "        coeffs.append(-J * g)\n",
    "\n",
    "hamiltonian = make_hamiltonian(paulis, coeffs)\n",
    "\n",
    "# Diagonalize and obtain the eigenvalues and vectors\n",
    "eigvals, eigvectors = np.linalg.eigh(hamiltonian)\n",
    "\n",
    "# Print the eigenvectors\n",
    "for i in range(eigvals.shape[0]):\n",
    "    show_statevector(eigvectors[:, i], binary=True, state_label=r'\\phi_{} (E={}J)'.format(i, eigvals[i]))\n"
   ]
  },
  {
   "cell_type": "markdown",
   "metadata": {},
   "source": [
    "## 問題1: スペクトル推定を実装し、厳密解と照らし合わせる"
   ]
  },
  {
   "cell_type": "code",
   "execution_count": null,
   "metadata": {},
   "outputs": [],
   "source": [
    "def make_trotter_step_heisenberg(n, g, hbar_omega=None):\n",
    "    \"\"\"Return a function that implements a single Trotter step for the Heisenberg model.\n",
    "    \n",
    "    Args:\n",
    "        n (int): Number of spins in the model.\n",
    "        g (float): External field strength relative to the coupling constant J.\n",
    "        hbar_omega (None or float): If not None, provides a custom Hamiltonian normalization in units of J.\n",
    "        \n",
    "    Returns:\n",
    "        function(dphi: float)->QuantumCircuit: A function that returns a circuit corresponding to a single Trotter step by dphi.\n",
    "    \"\"\"\n",
    "\n",
    "    if hbar_omega is None:\n",
    "        # H = -J sum[XX + YY + ZZ + gZ]\n",
    "        # |sum[]| < (3 + |g|) * n\n",
    "        # -> hbar * omega = 2 * (3 + |g|) * n * J\n",
    "        #    Theta = -1 / 2 / [(3 + |g|) * n] * sum[]\n",
    "        hbar_omega = 2. * (3. + abs(g)) * n\n",
    "        \n",
    "    def trotter_step_heisenberg(dphi):\n",
    "        \"\"\"\n",
    "        Evolve the state by exp[i * dphi * Theta].\n",
    "        Theta = H / (hbar * omega) is the normalized Hamiltonian.\n",
    "    \n",
    "        Args:\n",
    "            dphi (float): Trotter step size.\n",
    "            \n",
    "        Returns:\n",
    "            QuantumCircuit: A circuit corresponding to a single Trotter step.\n",
    "        \"\"\"\n",
    "        \n",
    "        circuit = QuantumCircuit(n)\n",
    "        \n",
    "        ##################\n",
    "        ### EDIT BELOW ###\n",
    "        ##################\n",
    "\n",
    "        #circuit.?\n",
    "\n",
    "        ##################\n",
    "        ### EDIT ABOVE ###\n",
    "        ##################\n",
    "        \n",
    "        return circuit\n",
    "    \n",
    "    return trotter_step_heisenberg"
   ]
  },
  {
   "cell_type": "code",
   "execution_count": null,
   "metadata": {},
   "outputs": [],
   "source": [
    "def propagator(trotter_step, power, num_steps=6):\n",
    "    \"\"\"Call trotter_step(2 * pi / num_steps) for power * num_steps times and convert the circuit to a gate.\n",
    "    \n",
    "    Args:\n",
    "        trotter_step (callable): A function implementing a single Trotter step.\n",
    "        power (int): Number of repetitions of the 2pi evolution.\n",
    "        num_steps (int): Number of Trotter steps per 2pi evolution.\n",
    "        \n",
    "    Returns:\n",
    "        Gate: Propagator circuit converted to a gate.\n",
    "    \"\"\"\n",
    "    \n",
    "    circuit = QuantumCircuit(name='propagator^{}'.format(power))\n",
    "    circuit += trotter_step(2. * np.pi / num_steps).repeat(power * num_steps)\n",
    "    return circuit.to_gate()\n",
    "\n",
    "def spectrum_estimation(circuit, trotter_step):\n",
    "    \"\"\"Perform a spectrum estimation given a circuit containing state and readout registers and a callable implementing\n",
    "    a single Trotter step.\n",
    "    \n",
    "    Args:\n",
    "        circuit (QuantumCircuit): Circuit with two registers 'state' and 'readout'.\n",
    "        trotter_step (callable): A function returning a QuantumCircuit corresponding to a Trotter step.\n",
    "    \"\"\"\n",
    "    \n",
    "    state_register = next(reg for reg in circuit.qregs if reg.name == 'state')\n",
    "    readout_register = next(reg for reg in circuit.qregs if reg.name == 'readout')\n",
    "    \n",
    "    # Set the R register to an equal superposition\n",
    "    circuit.h(readout_register)\n",
    "\n",
    "    # Apply controlled-U operations to the circuit\n",
    "    for qubit in readout_register:\n",
    "        # Create a gate from repeated execution of the Trotter step, and convert it to a controlled gate\n",
    "        controlled_u = propagator(trotter_step, 2 ** qubit.index).control(1)\n",
    "        # Append the controlled gate specifying the control and target qubits\n",
    "        circuit.append(controlled_u, qargs=([qubit] + state_register[:]))\n",
    "\n",
    "    # Inverse QFT\n",
    "    for j in range(readout_register.size // 2):\n",
    "        circuit.swap(readout_register[j], readout_register[-1 - j])\n",
    "\n",
    "    dphi = 2. * np.pi / (2 ** readout_register.size)\n",
    "\n",
    "    for jtarg in range(readout_register.size):\n",
    "        for jctrl in range(jtarg):\n",
    "            power = jctrl - jtarg - 1 + readout_register.size\n",
    "            circuit.cp(-dphi * (2 ** power), readout_register[jctrl], readout_register[jtarg])\n",
    "\n",
    "        circuit.h(readout_register[jtarg])"
   ]
  },
  {
   "cell_type": "code",
   "execution_count": null,
   "metadata": {
    "tags": [
     "remove-output"
    ]
   },
   "outputs": [],
   "source": [
    "n_state = 2\n",
    "n_readout = 4\n",
    "g = 0.\n",
    "hbar_omega = 16. # 16J but we are setting J=1\n",
    "\n",
    "state_register = QuantumRegister(n_state, 'state')\n",
    "readout_register = QuantumRegister(n_readout, 'readout')\n",
    "circuit = QuantumCircuit(state_register, readout_register)\n",
    "\n",
    "# Set the initial state of the state vector to (1/2)|00> - (1/sqrt(2))|01> + (1/2)|11>\n",
    "##################\n",
    "### EDIT BELOW ###\n",
    "##################\n",
    "\n",
    "#circuit.?\n",
    "\n",
    "##################\n",
    "### EDIT ABOVE ###\n",
    "##################\n",
    "\n",
    "trotter_step = make_trotter_step_heisenberg(n_state, g, hbar_omega=hbar_omega)\n",
    "\n",
    "spectrum_estimation(circuit, trotter_step)\n",
    "    \n",
    "circuit.measure_all()\n",
    "\n",
    "# Run the circuit in qasm_simulator and plot the histogram\n",
    "qasm_simulator = Aer.get_backend('qasm_simulator')\n",
    "job = execute(circuit, backend=qasm_simulator, shots=10000)\n",
    "result = job.result()\n",
    "counts = result.get_counts(circuit)\n",
    "plot_histogram(counts)"
   ]
  },
  {
   "cell_type": "markdown",
   "metadata": {},
   "source": [
    "**提出するもの**\n",
    "\n",
    "- 完成した`make_trotter_step_heisenberg`関数\n",
    "- 完成した状態レジスタの初期化回路\n",
    "- スペクトル推定の結果のヒストグラムと、その解釈"
   ]
  },
  {
   "cell_type": "markdown",
   "metadata": {},
   "source": [
    "## 問題2: 非自明な系の振る舞いを調べる"
   ]
  },
  {
   "cell_type": "code",
   "execution_count": null,
   "metadata": {},
   "outputs": [],
   "source": [
    "def get_spectrum_for_comp_basis(n_state, n_readout, l, g, hbar_omega=None, use_qasm=False):\n",
    "    \"\"\"Compute and return the distribution P_l(k, h) as an ndarray.\n",
    "    \n",
    "    Args:\n",
    "        n_state (int): Size of the state register.\n",
    "        n_readout (int): Size of the readout register.\n",
    "        l (int): Index of the initial-state computational basis in the state register.\n",
    "        g (float): Parameter g of the Heisenberg model.\n",
    "        hbar_omega (None or float): Hamiltonian normalization.\n",
    "        use_qasm (bool): Use the qasm_simulator if True.\n",
    "    \"\"\"\n",
    "    \n",
    "    # Define the circuit\n",
    "    state_register = QuantumRegister(n_state, 'state')\n",
    "    readout_register = QuantumRegister(n_readout, 'readout')\n",
    "    circuit = QuantumCircuit(state_register, readout_register)\n",
    "\n",
    "    # Initialize the state register\n",
    "    for iq in range(n_state):\n",
    "        if ((l >> iq) & 1) == 1:\n",
    "            circuit.x(state_register[iq])\n",
    "\n",
    "    # Run the spectrum estimation\n",
    "    trotter_step = make_trotter_step_heisenberg(n_state, g, hbar_omega=hbar_omega)\n",
    "    spectrum_estimation(circuit, trotter_step)\n",
    "\n",
    "    # Extract the probability distribution as an array of shape (2 ** n_readout, 2 ** n_state)\n",
    "    if use_qasm:\n",
    "        circuit.measure_all()\n",
    "\n",
    "        # Run the circuit in qasm_simulator and plot the histogram\n",
    "        qasm_simulator = Aer.get_backend('qasm_simulator')\n",
    "        job = execute(circuit, backend=qasm_simulator, shots=10000)\n",
    "        result = job.result()\n",
    "        counts = result.get_counts(circuit)\n",
    "\n",
    "        probs = np.zeros((2 ** n_readout, 2 ** n_state), dtype=float)\n",
    "\n",
    "        for bitstring, count in counts.items():\n",
    "            readout = int(bitstring[:n_readout], 2)\n",
    "            state = int(bitstring[n_readout:], 2)\n",
    "\n",
    "            probs[readout, state] = count\n",
    "\n",
    "        probs /= np.sum(probs)\n",
    "    \n",
    "    else:\n",
    "        sv_simulator = Aer.get_backend('statevector_simulator')\n",
    "        job = execute(circuit, backend=sv_simulator)\n",
    "        result = job.result()\n",
    "        statevector = result.data()['statevector']\n",
    "        \n",
    "        # Convert the state vector into a probability distribution by taking the norm-squared\n",
    "        probs = np.square(np.abs(statevector)).reshape((2 ** n_readout, 2 ** n_state))\n",
    "        # Clean up the numerical artifacts\n",
    "        probs = np.where(probs > 1.e-6, probs, np.zeros_like(probs))\n",
    "    \n",
    "    # probs[k, h] = P_l(k, h)\n",
    "    return probs"
   ]
  },
  {
   "cell_type": "markdown",
   "metadata": {},
   "source": []
  },
  {
   "cell_type": "code",
   "execution_count": null,
   "metadata": {
    "tags": [
     "remove-output"
    ]
   },
   "outputs": [],
   "source": [
    "n_state = 4\n",
    "n_readout = 5\n",
    "hbar_omega = 24.\n",
    "\n",
    "g_values = np.linspace(0., 0.5, 6, endpoint=True)\n",
    "\n",
    "spectra = np.empty((g_values.shape[0], 2 ** n_readout), dtype=float)\n",
    "\n",
    "def get_full_spectrum(g):\n",
    "    \"\"\"Compute and return the distribution P(k) for a value of g.\n",
    "    \"\"\"\n",
    "\n",
    "    spectrum = np.zeros(2 ** n_readout, dtype=float)\n",
    "    \n",
    "    for l in range(2 ** n_state):\n",
    "        probs = get_spectrum_for_comp_basis(n_state, n_readout, l, g, hbar_omega=hbar_omega)\n",
    "        print('Computed spectrum for g = {:.1f} l = {:d}'.format(g, l))\n",
    "\n",
    "        ##################\n",
    "        ### EDIT BELOW ###\n",
    "        ##################\n",
    "\n",
    "        ##################\n",
    "        ### EDIT ABOVE ###\n",
    "        ##################\n",
    "        \n",
    "    return spectrum\n",
    "\n",
    "# roll(spectrum, 2^{n_R-1}) => range of k is [-2^{n_R}/2, 2^{n_R}/2 - 1]\n",
    "spectra[0] = np.roll(get_full_spectrum(0.), 2 ** (n_readout - 1))"
   ]
  },
  {
   "cell_type": "code",
   "execution_count": null,
   "metadata": {
    "tags": [
     "remove-output"
    ]
   },
   "outputs": [],
   "source": [
    "plt.plot(np.linspace(-0.5 * hbar_omega, 0.5 * hbar_omega, 2 ** n_readout), spectra[0], 'o')\n",
    "plt.xlabel('E/J')\n",
    "plt.ylabel('P(E)')"
   ]
  },
  {
   "cell_type": "code",
   "execution_count": null,
   "metadata": {
    "tags": [
     "remove-output"
    ]
   },
   "outputs": [],
   "source": [
    "for i in range(1, g_values.shape[0]):\n",
    "    spectra[i] = np.roll(get_full_spectrum(g_values[i]), 2 ** (n_readout - 1))"
   ]
  },
  {
   "cell_type": "code",
   "execution_count": null,
   "metadata": {
    "tags": [
     "remove-output"
    ]
   },
   "outputs": [],
   "source": [
    "energy_eigenvalues = np.empty((g_values.shape[0], 2 ** n_state))\n",
    "\n",
    "# Extract the energy eigenvalues from spectra and fill the array\n",
    "##################\n",
    "### EDIT BELOW ###\n",
    "##################\n",
    "\n",
    "#energy_eigenvalues[ig, m] = E_ig_m\n",
    "\n",
    "##################\n",
    "### EDIT ABOVE ###\n",
    "##################\n",
    "\n",
    "plt.plot(g_values, energy_eigenvalues)"
   ]
  },
  {
   "cell_type": "markdown",
   "metadata": {
    "pycharm": {
     "name": "#%% md\n"
    }
   },
   "source": [
    "**提出するもの**\n",
    "\n",
    "- $P_l(k, h)$から$P(k)$を導出する方法の説明と、`get_full_spectrum`関数への実装\n",
    "- $P(k)$からエネルギー固有値を抽出する方法を考案し、実装したコード（エネルギー固有値を求める全く別の方法を考えつけば、それでもよい）\n",
    "- 16個のエネルギー固有値と$g$の関係のプロット"
   ]
  }
 ],
 "metadata": {
  "kernelspec": {
   "display_name": "Python 3",
   "language": "python",
   "name": "python3"
  },
  "language_info": {
   "codemirror_mode": {
    "name": "ipython",
    "version": 3
   },
   "file_extension": ".py",
   "mimetype": "text/x-python",
   "name": "python",
   "nbconvert_exporter": "python",
   "pygments_lexer": "ipython3",
   "version": "3.8.5"
  }
 },
 "nbformat": 4,
 "nbformat_minor": 4
}