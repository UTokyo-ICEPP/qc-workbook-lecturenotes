{
 "cells": [
  {
   "cell_type": "markdown",
   "metadata": {
    "collapsed": true,
    "pycharm": {
     "name": "#%% md\n"
    }
   },
   "source": [
    "## 変分量子アルゴリズム\n",
    "\n",
    "まず、VQEの元になっている**変分量子アルゴリズム**（*Variational Quantum Algorithm*, VQA）と呼ばれる手法について見ていきます。"
   ]
  },
  {
   "cell_type": "code",
   "execution_count": 1,
   "outputs": [],
   "source": [
    "# Tested with python 3.8.12, qiskit 0.34.2, numpy 1.22.2\n",
    "import numpy as np\n",
    "import matplotlib.pyplot as plt\n",
    "from qiskit import IBMQ, QuantumCircuit, ClassicalRegister, QuantumRegister, Aer, transpile\n",
    "from qiskit.providers.ibmq import least_busy, IBMQAccountCredentialsNotFound\n",
    "from qiskit.algorithms.optimizers import SPSA, COBYLA\n",
    "from qiskit.utils import QuantumInstance\n",
    "from qiskit.opflow import I, X, Y, Z\n",
    "from qiskit.opflow.gradients import Gradient\n",
    "from qiskit.algorithms import VQE\n",
    "from qiskit.algorithms.optimizers import CG, GradientDescent\n",
    "\n",
    "# ワークブック独自のモジュール\n",
    "import sys\n",
    "sys.path.append('/home/jovyan/qc-workbook-lecturenotes/ja')\n",
    "from qc_workbook.utils import operational_backend"
   ],
   "metadata": {
    "collapsed": false,
    "pycharm": {
     "name": "#%%\n"
    }
   }
  },
  {
   "cell_type": "code",
   "execution_count": 2,
   "outputs": [
    {
     "name": "stderr",
     "output_type": "stream",
     "text": [
      "/opt/anaconda3/envs/env_qiskit_fy2022_code/lib/python3.8/site-packages/qiskit/utils/run_circuits.py:743: UserWarning: max_credits is not a recognized runtime option and may be ignored by the backend.\n",
      "  return backend.run(circuits, **run_kwargs)\n",
      "/opt/anaconda3/envs/env_qiskit_fy2022_code/lib/python3.8/site-packages/qiskit/utils/run_circuits.py:743: UserWarning: seed_simulator is not a recognized runtime option and may be ignored by the backend.\n",
      "  return backend.run(circuits, **run_kwargs)\n",
      "capi_return is NULL\n",
      "Call-back cb_calcfc_in__cobyla__user__routines failed.\n"
     ]
    },
    {
     "ename": "KeyboardInterrupt",
     "evalue": "",
     "output_type": "error",
     "traceback": [
      "\u001B[0;31m---------------------------------------------------------------------------\u001B[0m",
      "\u001B[0;31mKeyboardInterrupt\u001B[0m                         Traceback (most recent call last)",
      "\u001B[0;32m/var/folders/wg/l7y2frtd5m7f_2r2sh2lmj800000gn/T/ipykernel_10923/4052186736.py\u001B[0m in \u001B[0;36m<module>\u001B[0;34m\u001B[0m\n\u001B[1;32m     32\u001B[0m \u001B[0;31m# VQEアルゴリズムの実装\u001B[0m\u001B[0;34m\u001B[0m\u001B[0;34m\u001B[0m\u001B[0;34m\u001B[0m\u001B[0m\n\u001B[1;32m     33\u001B[0m \u001B[0mibmq_vqe_gfree\u001B[0m \u001B[0;34m=\u001B[0m \u001B[0mVQE\u001B[0m\u001B[0;34m(\u001B[0m\u001B[0mansatz\u001B[0m\u001B[0;34m=\u001B[0m\u001B[0mvqe_circuit\u001B[0m\u001B[0;34m,\u001B[0m \u001B[0moptimizer\u001B[0m\u001B[0;34m=\u001B[0m\u001B[0mcobyla\u001B[0m\u001B[0;34m,\u001B[0m \u001B[0mquantum_instance\u001B[0m\u001B[0;34m=\u001B[0m\u001B[0mquantum_instance\u001B[0m\u001B[0;34m)\u001B[0m\u001B[0;34m\u001B[0m\u001B[0;34m\u001B[0m\u001B[0m\n\u001B[0;32m---> 34\u001B[0;31m \u001B[0mresult_ibmq_vqe_gfree\u001B[0m \u001B[0;34m=\u001B[0m \u001B[0mibmq_vqe_gfree\u001B[0m\u001B[0;34m.\u001B[0m\u001B[0mcompute_minimum_eigenvalue\u001B[0m\u001B[0;34m(\u001B[0m\u001B[0mobs\u001B[0m\u001B[0;34m)\u001B[0m\u001B[0;34m\u001B[0m\u001B[0;34m\u001B[0m\u001B[0m\n\u001B[0m\u001B[1;32m     35\u001B[0m \u001B[0;34m\u001B[0m\u001B[0m\n\u001B[1;32m     36\u001B[0m \u001B[0mibmq_vqe_cg\u001B[0m \u001B[0;34m=\u001B[0m \u001B[0mVQE\u001B[0m\u001B[0;34m(\u001B[0m\u001B[0mansatz\u001B[0m\u001B[0;34m=\u001B[0m\u001B[0mvqe_circuit\u001B[0m\u001B[0;34m,\u001B[0m \u001B[0moptimizer\u001B[0m\u001B[0;34m=\u001B[0m\u001B[0mcg\u001B[0m\u001B[0;34m,\u001B[0m \u001B[0mgradient\u001B[0m\u001B[0;34m=\u001B[0m\u001B[0mgrad\u001B[0m\u001B[0;34m,\u001B[0m \u001B[0mquantum_instance\u001B[0m\u001B[0;34m=\u001B[0m\u001B[0mquantum_instance\u001B[0m\u001B[0;34m)\u001B[0m\u001B[0;34m\u001B[0m\u001B[0;34m\u001B[0m\u001B[0m\n",
      "\u001B[0;32m/opt/anaconda3/envs/env_qiskit_fy2022_code/lib/python3.8/site-packages/qiskit/algorithms/minimum_eigen_solvers/vqe.py\u001B[0m in \u001B[0;36mcompute_minimum_eigenvalue\u001B[0;34m(self, operator, aux_operators)\u001B[0m\n\u001B[1;32m    537\u001B[0m         \u001B[0;31m# keep this until Optimizer.optimize is removed\u001B[0m\u001B[0;34m\u001B[0m\u001B[0;34m\u001B[0m\u001B[0;34m\u001B[0m\u001B[0m\n\u001B[1;32m    538\u001B[0m         \u001B[0;32mtry\u001B[0m\u001B[0;34m:\u001B[0m\u001B[0;34m\u001B[0m\u001B[0;34m\u001B[0m\u001B[0m\n\u001B[0;32m--> 539\u001B[0;31m             opt_result = self.optimizer.minimize(\n\u001B[0m\u001B[1;32m    540\u001B[0m                 \u001B[0mfun\u001B[0m\u001B[0;34m=\u001B[0m\u001B[0menergy_evaluation\u001B[0m\u001B[0;34m,\u001B[0m \u001B[0mx0\u001B[0m\u001B[0;34m=\u001B[0m\u001B[0minitial_point\u001B[0m\u001B[0;34m,\u001B[0m \u001B[0mjac\u001B[0m\u001B[0;34m=\u001B[0m\u001B[0mgradient\u001B[0m\u001B[0;34m,\u001B[0m \u001B[0mbounds\u001B[0m\u001B[0;34m=\u001B[0m\u001B[0mbounds\u001B[0m\u001B[0;34m\u001B[0m\u001B[0;34m\u001B[0m\u001B[0m\n\u001B[1;32m    541\u001B[0m             )\n",
      "\u001B[0;32m/opt/anaconda3/envs/env_qiskit_fy2022_code/lib/python3.8/site-packages/qiskit/algorithms/optimizers/scipy_optimizer.py\u001B[0m in \u001B[0;36mminimize\u001B[0;34m(self, fun, x0, jac, bounds)\u001B[0m\n\u001B[1;32m    127\u001B[0m             \u001B[0mjac\u001B[0m \u001B[0;34m=\u001B[0m \u001B[0mself\u001B[0m\u001B[0;34m.\u001B[0m\u001B[0m_wrap_gradient\u001B[0m\u001B[0;34m(\u001B[0m\u001B[0mjac\u001B[0m\u001B[0;34m)\u001B[0m\u001B[0;34m\u001B[0m\u001B[0;34m\u001B[0m\u001B[0m\n\u001B[1;32m    128\u001B[0m \u001B[0;34m\u001B[0m\u001B[0m\n\u001B[0;32m--> 129\u001B[0;31m         raw_result = minimize(\n\u001B[0m\u001B[1;32m    130\u001B[0m             \u001B[0mfun\u001B[0m\u001B[0;34m=\u001B[0m\u001B[0mfun\u001B[0m\u001B[0;34m,\u001B[0m\u001B[0;34m\u001B[0m\u001B[0;34m\u001B[0m\u001B[0m\n\u001B[1;32m    131\u001B[0m             \u001B[0mx0\u001B[0m\u001B[0;34m=\u001B[0m\u001B[0mx0\u001B[0m\u001B[0;34m,\u001B[0m\u001B[0;34m\u001B[0m\u001B[0;34m\u001B[0m\u001B[0m\n",
      "\u001B[0;32m/opt/anaconda3/envs/env_qiskit_fy2022_code/lib/python3.8/site-packages/scipy/optimize/_minimize.py\u001B[0m in \u001B[0;36mminimize\u001B[0;34m(fun, x0, args, method, jac, hess, hessp, bounds, constraints, tol, callback, options)\u001B[0m\n\u001B[1;32m    685\u001B[0m                             **options)\n\u001B[1;32m    686\u001B[0m     \u001B[0;32melif\u001B[0m \u001B[0mmeth\u001B[0m \u001B[0;34m==\u001B[0m \u001B[0;34m'cobyla'\u001B[0m\u001B[0;34m:\u001B[0m\u001B[0;34m\u001B[0m\u001B[0;34m\u001B[0m\u001B[0m\n\u001B[0;32m--> 687\u001B[0;31m         res = _minimize_cobyla(fun, x0, args, constraints, callback=callback,\n\u001B[0m\u001B[1;32m    688\u001B[0m                                 **options)\n\u001B[1;32m    689\u001B[0m     \u001B[0;32melif\u001B[0m \u001B[0mmeth\u001B[0m \u001B[0;34m==\u001B[0m \u001B[0;34m'slsqp'\u001B[0m\u001B[0;34m:\u001B[0m\u001B[0;34m\u001B[0m\u001B[0;34m\u001B[0m\u001B[0m\n",
      "\u001B[0;32m/opt/anaconda3/envs/env_qiskit_fy2022_code/lib/python3.8/site-packages/scipy/optimize/_cobyla_py.py\u001B[0m in \u001B[0;36mwrapper\u001B[0;34m(*args, **kwargs)\u001B[0m\n\u001B[1;32m     32\u001B[0m     \u001B[0;32mdef\u001B[0m \u001B[0mwrapper\u001B[0m\u001B[0;34m(\u001B[0m\u001B[0;34m*\u001B[0m\u001B[0margs\u001B[0m\u001B[0;34m,\u001B[0m \u001B[0;34m**\u001B[0m\u001B[0mkwargs\u001B[0m\u001B[0;34m)\u001B[0m\u001B[0;34m:\u001B[0m\u001B[0;34m\u001B[0m\u001B[0;34m\u001B[0m\u001B[0m\n\u001B[1;32m     33\u001B[0m         \u001B[0;32mwith\u001B[0m \u001B[0m_module_lock\u001B[0m\u001B[0;34m:\u001B[0m\u001B[0;34m\u001B[0m\u001B[0;34m\u001B[0m\u001B[0m\n\u001B[0;32m---> 34\u001B[0;31m             \u001B[0;32mreturn\u001B[0m \u001B[0mfunc\u001B[0m\u001B[0;34m(\u001B[0m\u001B[0;34m*\u001B[0m\u001B[0margs\u001B[0m\u001B[0;34m,\u001B[0m \u001B[0;34m**\u001B[0m\u001B[0mkwargs\u001B[0m\u001B[0;34m)\u001B[0m\u001B[0;34m\u001B[0m\u001B[0;34m\u001B[0m\u001B[0m\n\u001B[0m\u001B[1;32m     35\u001B[0m     \u001B[0;32mreturn\u001B[0m \u001B[0mwrapper\u001B[0m\u001B[0;34m\u001B[0m\u001B[0;34m\u001B[0m\u001B[0m\n\u001B[1;32m     36\u001B[0m \u001B[0;34m\u001B[0m\u001B[0m\n",
      "\u001B[0;32m/opt/anaconda3/envs/env_qiskit_fy2022_code/lib/python3.8/site-packages/scipy/optimize/_cobyla_py.py\u001B[0m in \u001B[0;36m_minimize_cobyla\u001B[0;34m(fun, x0, args, constraints, rhobeg, tol, maxiter, disp, catol, callback, **unknown_options)\u001B[0m\n\u001B[1;32m    271\u001B[0m \u001B[0;34m\u001B[0m\u001B[0m\n\u001B[1;32m    272\u001B[0m     \u001B[0minfo\u001B[0m \u001B[0;34m=\u001B[0m \u001B[0mnp\u001B[0m\u001B[0;34m.\u001B[0m\u001B[0mzeros\u001B[0m\u001B[0;34m(\u001B[0m\u001B[0;36m4\u001B[0m\u001B[0;34m,\u001B[0m \u001B[0mnp\u001B[0m\u001B[0;34m.\u001B[0m\u001B[0mfloat64\u001B[0m\u001B[0;34m)\u001B[0m\u001B[0;34m\u001B[0m\u001B[0;34m\u001B[0m\u001B[0m\n\u001B[0;32m--> 273\u001B[0;31m     xopt, info = cobyla.minimize(calcfc, m=m, x=np.copy(x0), rhobeg=rhobeg,\n\u001B[0m\u001B[1;32m    274\u001B[0m                                   \u001B[0mrhoend\u001B[0m\u001B[0;34m=\u001B[0m\u001B[0mrhoend\u001B[0m\u001B[0;34m,\u001B[0m \u001B[0miprint\u001B[0m\u001B[0;34m=\u001B[0m\u001B[0miprint\u001B[0m\u001B[0;34m,\u001B[0m \u001B[0mmaxfun\u001B[0m\u001B[0;34m=\u001B[0m\u001B[0mmaxfun\u001B[0m\u001B[0;34m,\u001B[0m\u001B[0;34m\u001B[0m\u001B[0;34m\u001B[0m\u001B[0m\n\u001B[1;32m    275\u001B[0m                                   dinfo=info, callback=wrapped_callback)\n",
      "\u001B[0;32m/opt/anaconda3/envs/env_qiskit_fy2022_code/lib/python3.8/site-packages/scipy/optimize/_cobyla_py.py\u001B[0m in \u001B[0;36mcalcfc\u001B[0;34m(x, con)\u001B[0m\n\u001B[1;32m    259\u001B[0m \u001B[0;34m\u001B[0m\u001B[0m\n\u001B[1;32m    260\u001B[0m     \u001B[0;32mdef\u001B[0m \u001B[0mcalcfc\u001B[0m\u001B[0;34m(\u001B[0m\u001B[0mx\u001B[0m\u001B[0;34m,\u001B[0m \u001B[0mcon\u001B[0m\u001B[0;34m)\u001B[0m\u001B[0;34m:\u001B[0m\u001B[0;34m\u001B[0m\u001B[0;34m\u001B[0m\u001B[0m\n\u001B[0;32m--> 261\u001B[0;31m         \u001B[0mf\u001B[0m \u001B[0;34m=\u001B[0m \u001B[0mfun\u001B[0m\u001B[0;34m(\u001B[0m\u001B[0mnp\u001B[0m\u001B[0;34m.\u001B[0m\u001B[0mcopy\u001B[0m\u001B[0;34m(\u001B[0m\u001B[0mx\u001B[0m\u001B[0;34m)\u001B[0m\u001B[0;34m,\u001B[0m \u001B[0;34m*\u001B[0m\u001B[0margs\u001B[0m\u001B[0;34m)\u001B[0m\u001B[0;34m\u001B[0m\u001B[0;34m\u001B[0m\u001B[0m\n\u001B[0m\u001B[1;32m    262\u001B[0m         \u001B[0mi\u001B[0m \u001B[0;34m=\u001B[0m \u001B[0;36m0\u001B[0m\u001B[0;34m\u001B[0m\u001B[0;34m\u001B[0m\u001B[0m\n\u001B[1;32m    263\u001B[0m         \u001B[0;32mfor\u001B[0m \u001B[0msize\u001B[0m\u001B[0;34m,\u001B[0m \u001B[0mc\u001B[0m \u001B[0;32min\u001B[0m \u001B[0mizip\u001B[0m\u001B[0;34m(\u001B[0m\u001B[0mcons_lengths\u001B[0m\u001B[0;34m,\u001B[0m \u001B[0mconstraints\u001B[0m\u001B[0;34m)\u001B[0m\u001B[0;34m:\u001B[0m\u001B[0;34m\u001B[0m\u001B[0;34m\u001B[0m\u001B[0m\n",
      "\u001B[0;32m/opt/anaconda3/envs/env_qiskit_fy2022_code/lib/python3.8/site-packages/qiskit/algorithms/minimum_eigen_solvers/vqe.py\u001B[0m in \u001B[0;36menergy_evaluation\u001B[0;34m(parameters)\u001B[0m\n\u001B[1;32m    622\u001B[0m \u001B[0;34m\u001B[0m\u001B[0m\n\u001B[1;32m    623\u001B[0m             \u001B[0mstart_time\u001B[0m \u001B[0;34m=\u001B[0m \u001B[0mtime\u001B[0m\u001B[0;34m(\u001B[0m\u001B[0;34m)\u001B[0m\u001B[0;34m\u001B[0m\u001B[0;34m\u001B[0m\u001B[0m\n\u001B[0;32m--> 624\u001B[0;31m             \u001B[0msampled_expect_op\u001B[0m \u001B[0;34m=\u001B[0m \u001B[0mself\u001B[0m\u001B[0;34m.\u001B[0m\u001B[0m_circuit_sampler\u001B[0m\u001B[0;34m.\u001B[0m\u001B[0mconvert\u001B[0m\u001B[0;34m(\u001B[0m\u001B[0mexpect_op\u001B[0m\u001B[0;34m,\u001B[0m \u001B[0mparams\u001B[0m\u001B[0;34m=\u001B[0m\u001B[0mparam_bindings\u001B[0m\u001B[0;34m)\u001B[0m\u001B[0;34m\u001B[0m\u001B[0;34m\u001B[0m\u001B[0m\n\u001B[0m\u001B[1;32m    625\u001B[0m             \u001B[0mmeans\u001B[0m \u001B[0;34m=\u001B[0m \u001B[0mnp\u001B[0m\u001B[0;34m.\u001B[0m\u001B[0mreal\u001B[0m\u001B[0;34m(\u001B[0m\u001B[0msampled_expect_op\u001B[0m\u001B[0;34m.\u001B[0m\u001B[0meval\u001B[0m\u001B[0;34m(\u001B[0m\u001B[0;34m)\u001B[0m\u001B[0;34m)\u001B[0m\u001B[0;34m\u001B[0m\u001B[0;34m\u001B[0m\u001B[0m\n\u001B[1;32m    626\u001B[0m \u001B[0;34m\u001B[0m\u001B[0m\n",
      "\u001B[0;32m/opt/anaconda3/envs/env_qiskit_fy2022_code/lib/python3.8/site-packages/qiskit/opflow/converters/circuit_sampler.py\u001B[0m in \u001B[0;36mconvert\u001B[0;34m(self, operator, params)\u001B[0m\n\u001B[1;32m    216\u001B[0m         \u001B[0mcircs\u001B[0m \u001B[0;34m=\u001B[0m \u001B[0mlist\u001B[0m\u001B[0;34m(\u001B[0m\u001B[0mself\u001B[0m\u001B[0;34m.\u001B[0m\u001B[0m_circuit_ops_cache\u001B[0m\u001B[0;34m.\u001B[0m\u001B[0mvalues\u001B[0m\u001B[0;34m(\u001B[0m\u001B[0;34m)\u001B[0m\u001B[0;34m)\u001B[0m \u001B[0;32mif\u001B[0m \u001B[0;32mnot\u001B[0m \u001B[0mself\u001B[0m\u001B[0;34m.\u001B[0m\u001B[0m_transpiled_circ_cache\u001B[0m \u001B[0;32melse\u001B[0m \u001B[0;32mNone\u001B[0m\u001B[0;34m\u001B[0m\u001B[0;34m\u001B[0m\u001B[0m\n\u001B[1;32m    217\u001B[0m         \u001B[0mp_b\u001B[0m \u001B[0;34m=\u001B[0m \u001B[0mcast\u001B[0m\u001B[0;34m(\u001B[0m\u001B[0mList\u001B[0m\u001B[0;34m[\u001B[0m\u001B[0mDict\u001B[0m\u001B[0;34m[\u001B[0m\u001B[0mParameter\u001B[0m\u001B[0;34m,\u001B[0m \u001B[0mfloat\u001B[0m\u001B[0;34m]\u001B[0m\u001B[0;34m]\u001B[0m\u001B[0;34m,\u001B[0m \u001B[0mparam_bindings\u001B[0m\u001B[0;34m)\u001B[0m\u001B[0;34m\u001B[0m\u001B[0;34m\u001B[0m\u001B[0m\n\u001B[0;32m--> 218\u001B[0;31m         \u001B[0msampled_statefn_dicts\u001B[0m \u001B[0;34m=\u001B[0m \u001B[0mself\u001B[0m\u001B[0;34m.\u001B[0m\u001B[0msample_circuits\u001B[0m\u001B[0;34m(\u001B[0m\u001B[0mcircuit_sfns\u001B[0m\u001B[0;34m=\u001B[0m\u001B[0mcircs\u001B[0m\u001B[0;34m,\u001B[0m \u001B[0mparam_bindings\u001B[0m\u001B[0;34m=\u001B[0m\u001B[0mp_b\u001B[0m\u001B[0;34m)\u001B[0m\u001B[0;34m\u001B[0m\u001B[0;34m\u001B[0m\u001B[0m\n\u001B[0m\u001B[1;32m    219\u001B[0m \u001B[0;34m\u001B[0m\u001B[0m\n\u001B[1;32m    220\u001B[0m         \u001B[0;32mdef\u001B[0m \u001B[0mreplace_circuits_with_dicts\u001B[0m\u001B[0;34m(\u001B[0m\u001B[0moperator\u001B[0m\u001B[0;34m,\u001B[0m \u001B[0mparam_index\u001B[0m\u001B[0;34m=\u001B[0m\u001B[0;36m0\u001B[0m\u001B[0;34m)\u001B[0m\u001B[0;34m:\u001B[0m\u001B[0;34m\u001B[0m\u001B[0;34m\u001B[0m\u001B[0m\n",
      "\u001B[0;32m/opt/anaconda3/envs/env_qiskit_fy2022_code/lib/python3.8/site-packages/qiskit/opflow/converters/circuit_sampler.py\u001B[0m in \u001B[0;36msample_circuits\u001B[0;34m(self, circuit_sfns, param_bindings)\u001B[0m\n\u001B[1;32m    335\u001B[0m             )\n\u001B[1;32m    336\u001B[0m \u001B[0;34m\u001B[0m\u001B[0m\n\u001B[0;32m--> 337\u001B[0;31m         results = self.quantum_instance.execute(\n\u001B[0m\u001B[1;32m    338\u001B[0m             \u001B[0mready_circs\u001B[0m\u001B[0;34m,\u001B[0m \u001B[0mhad_transpiled\u001B[0m\u001B[0;34m=\u001B[0m\u001B[0mself\u001B[0m\u001B[0;34m.\u001B[0m\u001B[0m_transpile_before_bind\u001B[0m\u001B[0;34m\u001B[0m\u001B[0;34m\u001B[0m\u001B[0m\n\u001B[1;32m    339\u001B[0m         )\n",
      "\u001B[0;32m/opt/anaconda3/envs/env_qiskit_fy2022_code/lib/python3.8/site-packages/qiskit/utils/quantum_instance.py\u001B[0m in \u001B[0;36mexecute\u001B[0;34m(self, circuits, had_transpiled)\u001B[0m\n\u001B[1;32m    788\u001B[0m         \u001B[0;32melse\u001B[0m\u001B[0;34m:\u001B[0m\u001B[0;34m\u001B[0m\u001B[0;34m\u001B[0m\u001B[0m\n\u001B[1;32m    789\u001B[0m             result = (\n\u001B[0;32m--> 790\u001B[0;31m                 run_circuits(\n\u001B[0m\u001B[1;32m    791\u001B[0m                     \u001B[0mcircuits\u001B[0m\u001B[0;34m,\u001B[0m\u001B[0;34m\u001B[0m\u001B[0;34m\u001B[0m\u001B[0m\n\u001B[1;32m    792\u001B[0m                     \u001B[0mself\u001B[0m\u001B[0;34m.\u001B[0m\u001B[0m_backend\u001B[0m\u001B[0;34m,\u001B[0m\u001B[0;34m\u001B[0m\u001B[0;34m\u001B[0m\u001B[0m\n",
      "\u001B[0;32m/opt/anaconda3/envs/env_qiskit_fy2022_code/lib/python3.8/site-packages/qiskit/utils/run_circuits.py\u001B[0m in \u001B[0;36mrun_circuits\u001B[0;34m(circuits, backend, qjob_config, backend_options, noise_config, run_config, job_callback, max_job_retries)\u001B[0m\n\u001B[1;32m    564\u001B[0m                     \u001B[0;32mif\u001B[0m \u001B[0mjob_callback\u001B[0m \u001B[0;32mis\u001B[0m \u001B[0;32mnot\u001B[0m \u001B[0;32mNone\u001B[0m\u001B[0;34m:\u001B[0m\u001B[0;34m\u001B[0m\u001B[0;34m\u001B[0m\u001B[0m\n\u001B[1;32m    565\u001B[0m                         \u001B[0mjob_callback\u001B[0m\u001B[0;34m(\u001B[0m\u001B[0mjob_id\u001B[0m\u001B[0;34m,\u001B[0m \u001B[0mjob_status\u001B[0m\u001B[0;34m,\u001B[0m \u001B[0mqueue_position\u001B[0m\u001B[0;34m,\u001B[0m \u001B[0mjob\u001B[0m\u001B[0;34m)\u001B[0m\u001B[0;34m\u001B[0m\u001B[0;34m\u001B[0m\u001B[0m\n\u001B[0;32m--> 566\u001B[0;31m                     \u001B[0mtime\u001B[0m\u001B[0;34m.\u001B[0m\u001B[0msleep\u001B[0m\u001B[0;34m(\u001B[0m\u001B[0mqjob_config\u001B[0m\u001B[0;34m[\u001B[0m\u001B[0;34m\"wait\"\u001B[0m\u001B[0;34m]\u001B[0m\u001B[0;34m)\u001B[0m\u001B[0;34m\u001B[0m\u001B[0;34m\u001B[0m\u001B[0m\n\u001B[0m\u001B[1;32m    567\u001B[0m \u001B[0;34m\u001B[0m\u001B[0m\n\u001B[1;32m    568\u001B[0m                 \u001B[0;31m# get result after the status is DONE\u001B[0m\u001B[0;34m\u001B[0m\u001B[0;34m\u001B[0m\u001B[0;34m\u001B[0m\u001B[0m\n",
      "\u001B[0;31mKeyboardInterrupt\u001B[0m: "
     ]
    }
   ],
   "source": [
    "from qc_workbook.vqe import make_vqe_circuit\n",
    "\n",
    "n = 3   # 量子ビット数\n",
    "nl = 2  # レイヤー数\n",
    "npar = n*2*nl   # パラメータ数\n",
    "\n",
    "IBMQ.load_account()\n",
    "try:\n",
    "    provider = IBMQ.get_provider(hub='ibm-q-utokyo', group='internal', project='qc-training22')\n",
    "except IBMQProviderError:\n",
    "    provider = IBMQ.get_provider(hub='ibm-q', group='open', project='main')\n",
    "\n",
    "backend_list = provider.backends(filters=operational_backend(min_qubits=n))\n",
    "backend = least_busy(backend_list)\n",
    "\n",
    "vqe_circuit = make_vqe_circuit(n,nl,npar)\n",
    "\n",
    "obs = Z ^ X ^ Y\n",
    "\n",
    "grad = Gradient(grad_method=\"param_shift\")\n",
    "cg = CG(maxiter=200)\n",
    "gd = GradientDescent(maxiter=200)\n",
    "cobyla = COBYLA(maxiter=300)\n",
    "\n",
    "random_seed = 10598\n",
    "quantum_instance = QuantumInstance(backend=backend,\n",
    "                                   shots=8192,\n",
    "                                   seed_simulator=random_seed,\n",
    "                                   seed_transpiler=random_seed,\n",
    "                                   optimization_level=3,\n",
    "                                   skip_qobj_validation=True)\n",
    "# VQEアルゴリズムの実装\n",
    "ibmq_vqe_gfree = VQE(ansatz=vqe_circuit, optimizer=cobyla, quantum_instance=quantum_instance)\n",
    "result_ibmq_vqe_gfree = ibmq_vqe_gfree.compute_minimum_eigenvalue(obs)\n",
    "\n",
    "ibmq_vqe_cg = VQE(ansatz=vqe_circuit, optimizer=cg, gradient=grad, quantum_instance=quantum_instance)\n",
    "result_ibmq_vqe_cg = ibmq_vqe_cg.compute_minimum_eigenvalue(obs)\n",
    "\n",
    "ibmq_vqe_gd = VQE(ansatz=vqe_circuit, optimizer=gd, gradient=grad, quantum_instance=quantum_instance)\n",
    "result_ibmq_vqe_gd = ibmq_vqe_gd.compute_minimum_eigenvalue(obs)"
   ],
   "metadata": {
    "collapsed": false,
    "pycharm": {
     "name": "#%%\n"
    }
   }
  },
  {
   "cell_type": "code",
   "execution_count": null,
   "outputs": [],
   "source": [
    "# 厳密解\n",
    "ee = NumPyMinimumEigensolver()\n",
    "result_ee = ee.compute_minimum_eigenvalue(obs)\n",
    "\n",
    "print('Result:')\n",
    "print(f'  Exact      = {result_ee.eigenvalue}')\n",
    "print(f'  VQE(GFree) = {result_ibmq_vqe_gfree.optimal_value}')\n",
    "print(f'  VQE(CG)    = {result_ibmq_vqe_cg.optimal_value}')\n",
    "print(f'  VQE(GD)    = {result_ibmq_vqe_gd.optimal_value}')"
   ],
   "metadata": {
    "collapsed": false,
    "pycharm": {
     "name": "#%%\n"
    }
   }
  },
  {
   "cell_type": "markdown",
   "source": [
    "### 変分フォームを使った実例\n",
    "ではここで、単一量子ビットの変分フォームを利用してパラメータ最適化の例を実行してみましょう。例として、ランダムな確率分布のベクトル$\\vec{x}$（要素数は2）を入力として与えた時、出力の確率分布が$\\vec{x}$に近くなるように単一量子ビットの変分フォームを決定するという問題を考えます（2つの確率分布の近さはL1距離によって定義します）。"
   ],
   "metadata": {
    "collapsed": false,
    "pycharm": {
     "name": "#%% md\n"
    }
   }
  },
  {
   "cell_type": "code",
   "execution_count": 2,
   "outputs": [],
   "source": [
    "nq = 1  # 量子ビットの数\n",
    "\n",
    "npar = 3*nq  # パラメータの数\n",
    "\n",
    "np.random.seed(999999)\n",
    "target_distr = np.random.rand(2**nq)\n",
    "target_distr /= sum(target_distr)"
   ],
   "metadata": {
    "collapsed": false,
    "pycharm": {
     "name": "#%%\n"
    }
   }
  },
  {
   "cell_type": "markdown",
   "source": [
    "次に、単一の$U3$変分フォームの3つのパラメータを引数として受け取り、対応する量子回路を返す関数を定義します。"
   ],
   "metadata": {
    "collapsed": false,
    "pycharm": {
     "name": "#%% md\n"
    }
   }
  },
  {
   "cell_type": "code",
   "execution_count": 3,
   "outputs": [
    {
     "data": {
      "text/plain": "<Figure size 253.926x144.48 with 1 Axes>",
      "image/png": "[encoded data removed]"
     },
     "execution_count": 3,
     "metadata": {},
     "output_type": "execute_result"
    }
   ],
   "source": [
    "def get_var_form(params):\n",
    "    qr = QuantumRegister(nq, name=\"q\")\n",
    "    cr = ClassicalRegister(nq, name='c')\n",
    "    qc = QuantumCircuit(qr, cr)\n",
    "\n",
    "    for i in range(nq):\n",
    "        qc.u(params[3*i], params[3*i+1], params[3*i+2], qr[i])\n",
    "\n",
    "    for i in range(nq):\n",
    "        qc.measure(qr[i], cr[i])\n",
    "    return qc\n",
    "\n",
    "get_var_form(np.random.rand(npar)).draw('mpl')"
   ],
   "metadata": {
    "collapsed": false,
    "pycharm": {
     "name": "#%%\n"
    }
   }
  },
  {
   "cell_type": "markdown",
   "source": [
    "変分フォームのパラメータのリストを入力とし、パラメータに対応したコストを計算する目的関数を定義します。アルゴリズムを実行するバックエンドとして、**QASMシミュレータ**を使用します。"
   ],
   "metadata": {
    "collapsed": false,
    "pycharm": {
     "name": "#%% md\n"
    }
   }
  },
  {
   "cell_type": "code",
   "execution_count": 4,
   "outputs": [],
   "source": [
    "backend = Aer.get_backend(\"qasm_simulator\")\n",
    "NUM_SHOTS = 10000  # 測定する回数\n",
    "\n",
    "# 出力されるビット列の確率分布を計算\n",
    "def get_probability_distribution(counts):\n",
    "    output_distr = []\n",
    "    for i in range(2**nq):\n",
    "        match = False\n",
    "        for (k,v) in counts.items():\n",
    "            if i == int(k,2):\n",
    "                output_distr.append(v/NUM_SHOTS)\n",
    "                match = True\n",
    "        if not match:\n",
    "            output_distr.append(0)\n",
    "\n",
    "    if len(output_distr) == 1:\n",
    "        output_distr.append(0)\n",
    "    return output_distr\n",
    "\n",
    "# コストを計算する目的関数を定義\n",
    "def objective_function(params):\n",
    "    qc = get_var_form(params)\n",
    "    qc = transpile(qc, backend=backend)\n",
    "    result = backend.run(qc, shots=NUM_SHOTS).result()\n",
    "    output_distr = get_probability_distribution(result.get_counts(qc))\n",
    "    cost = sum([np.abs(output_distr[i] - target_distr[i]) for i in range(2**nq)])\n",
    "    return cost"
   ],
   "metadata": {
    "collapsed": false,
    "pycharm": {
     "name": "#%%\n"
    }
   }
  },
  {
   "cell_type": "markdown",
   "source": [
    "最後にCOBYLAオプティマイザーのインスタンスを作成し、アルゴリズムを実行します。出力される確率分布は実行の度に異なり、ターゲットの確率分布と完全には同じにならないことに注意してください。出力の精度は量子計算の回数（ショット数＝NUM_SHOTS）に依存するので、ショット数を増減させた時の一致具合を確認してみてください。"
   ],
   "metadata": {
    "collapsed": false,
    "pycharm": {
     "name": "#%% md\n"
    }
   }
  },
  {
   "cell_type": "code",
   "execution_count": 5,
   "outputs": [
    {
     "name": "stdout",
     "output_type": "stream",
     "text": [
      "Target Distribution:          [0.5136 0.4864]\n",
      "Obtained Distribution:        [0.5198 0.4802]\n",
      "Cost Value (L1-Distance):     0.016860\n",
      "Parameters Found:             [1.5405 0.2643 1.8482]\n"
     ]
    }
   ],
   "source": [
    "optimizer = COBYLA(maxiter=500, tol=0.0001)\n",
    "\n",
    "params = np.random.rand(npar)\n",
    "ret = optimizer.optimize(num_vars=npar, objective_function=objective_function, initial_point=params)\n",
    "\n",
    "qc = get_var_form(ret[0])\n",
    "qc = transpile(qc, backend=backend)\n",
    "counts = backend.run(qc, shots=NUM_SHOTS).result().get_counts(qc)\n",
    "output_distr = get_probability_distribution(counts)\n",
    "\n",
    "print(\"Target Distribution:         \", np.round(target_distr,4))\n",
    "print(\"Obtained Distribution:       \", np.round(np.array(output_distr),4))\n",
    "print(\"Cost Value (L1-Distance):     {:.6f}\".format(ret[1]))\n",
    "print(\"Parameters Found:            \", np.round(ret[0],4))"
   ],
   "metadata": {
    "collapsed": false,
    "pycharm": {
     "name": "#%%\n"
    }
   }
  },
  {
   "cell_type": "markdown",
   "source": [
    "では次に、この問題を2量子ビット（確率分布の要素数は4）に拡張してやってみましょう。上に戻って"
   ],
   "metadata": {
    "collapsed": false,
    "pycharm": {
     "name": "#%% md\n"
    }
   }
  },
  {
   "cell_type": "code",
   "execution_count": null,
   "outputs": [],
   "source": [
    "nq = 2  # 量子ビットの数"
   ],
   "metadata": {
    "collapsed": false,
    "pycharm": {
     "name": "#%%\n"
    }
   }
  },
  {
   "cell_type": "markdown",
   "source": [
    "として再度実行するとどういう結果が得られるでしょうか。量子回路とオプティマイザーの関係はこのようになってますね。\n",
    "\n",
    "```{image} figs/vqe_2q_u3.png\n",
    ":alt: vqe_2q_u3\n",
    ":class: bg-primary mb-1\n",
    ":width: 500px\n",
    ":align: center\n",
    "```\n",
    "\n",
    "やってみると分かりますが、結果は1量子ビットの場合と比べて良くないですね。どうすれば良くなるでしょうか？（やり方は複数あると思います）\n",
    "\n",
    "**一つの解決策：変分フォームにエンタングルメントを導入する**\n",
    "\n",
    "```python\n",
    "    for i in range(nq):\n",
    "        qc.u(params[3*i], params[3*i+1], params[3*i+2], qr[i])\n",
    "    qc.cx(qr[0],qr[1])\n",
    "```\n",
    "\n",
    "どうなるか確かめてください。"
   ],
   "metadata": {
    "collapsed": false,
    "pycharm": {
     "name": "#%% md\n"
    }
   }
  },
  {
   "cell_type": "markdown",
   "source": [
    "量子ビットをエンタングルさせることで相関のあるデータを表現しやすくなるという状況は、例えば、ベル状態（[CHSH不等式の破れを確認する](https://utokyo-icepp.github.io/qc-workbook/chsh_inequality.html#id14)を参照）の確率分布を再現したいときにクリアに見ることができます。上で"
   ],
   "metadata": {
    "collapsed": false,
    "pycharm": {
     "name": "#%% md\n"
    }
   }
  },
  {
   "cell_type": "code",
   "execution_count": null,
   "outputs": [],
   "source": [
    "target_distr = np.random.rand(2**nq)"
   ],
   "metadata": {
    "collapsed": false,
    "pycharm": {
     "name": "#%%\n"
    }
   }
  },
  {
   "cell_type": "markdown",
   "source": [
    "を"
   ],
   "metadata": {
    "collapsed": false,
    "pycharm": {
     "name": "#%% md\n"
    }
   }
  },
  {
   "cell_type": "code",
   "execution_count": null,
   "outputs": [],
   "source": [
    "# 00と11を測定する確率が50%、01と10の確率は0\n",
    "target_distr = np.array([0.5,0.,0.,0.5])"
   ],
   "metadata": {
    "collapsed": false,
    "pycharm": {
     "name": "#%%\n"
    }
   }
  },
  {
   "cell_type": "markdown",
   "source": [
    "として実行するとどうなるでしょうか。エンタングルさせる場合とさせない場合で大きな違いが見えるでしょう。3量子ビットのGHZ状態（[単純な量子回路をゼロから書く](https://utokyo-icepp.github.io/qc-workbook/circuit_from_scratch.html#ghz)を参照）"
   ],
   "metadata": {
    "collapsed": false,
    "pycharm": {
     "name": "#%% md\n"
    }
   }
  },
  {
   "cell_type": "code",
   "execution_count": null,
   "outputs": [],
   "source": [
    "# 000と111を測定する確率が50%、それ以外の確率は0\n",
    "target_distr = np.array([0.5,0.,0.,0.,0.,0.,0.,0.5])"
   ],
   "metadata": {
    "collapsed": false,
    "pycharm": {
     "name": "#%%\n"
    }
   }
  },
  {
   "cell_type": "markdown",
   "source": [
    "に拡張してみるなどして、遊んでみてください。"
   ],
   "metadata": {
    "collapsed": false,
    "pycharm": {
     "name": "#%% md\n"
    }
   }
  },
  {
   "cell_type": "markdown",
   "source": [
    "## 変分量子固有値ソルバー法\n",
    "\n",
    "それでは、ここからVQEの簡単な実装例を見ていくことにします。"
   ],
   "metadata": {
    "collapsed": false,
    "pycharm": {
     "name": "#%% md\n"
    }
   }
  },
  {
   "cell_type": "markdown",
   "source": [
    "### VQEの実装\n",
    "では、パラメータシフト法を使って簡単なVQEの例を実装してみます。ある観測量の期待値が最小になるように、VQEを使ってAnsatzを更新する回路パラメータを決定するという問題を考えてみます。\n",
    "\n",
    "量子回路として、$R_YR_Z$ゲートを繰り返すシンプルなパラメータ回路を使うことにします。"
   ],
   "metadata": {
    "collapsed": false,
    "pycharm": {
     "name": "#%% md\n"
    }
   }
  },
  {
   "cell_type": "code",
   "execution_count": 6,
   "outputs": [],
   "source": [
    "# Tested with python 3.8.12, qiskit 0.34.2, numpy 1.22.2\n",
    "from qiskit.circuit import ParameterVector\n",
    "from qiskit.algorithms import NumPyMinimumEigensolver\n",
    "from qiskit.algorithms.optimizers import CG, GradientDescent"
   ],
   "metadata": {
    "collapsed": false,
    "pycharm": {
     "name": "#%%\n"
    }
   }
  },
  {
   "cell_type": "code",
   "execution_count": 7,
   "outputs": [],
   "source": [
    "n = 3   # 量子ビット数\n",
    "nl = 2  # レイヤー数\n",
    "npar = n*2*nl   # パラメータ数\n",
    "\n",
    "qc = QuantumCircuit(n)\n",
    "param_list = ParameterVector('param_list',npar)\n",
    "for i in range(nl):\n",
    "    qc.ry(param_list[6*i], 0)\n",
    "    qc.ry(param_list[6*i+1], 1)\n",
    "    qc.ry(param_list[6*i+2], 2)\n",
    "    qc.rz(param_list[6*i+3], 0)\n",
    "    qc.rz(param_list[6*i+4], 1)\n",
    "    qc.rz(param_list[6*i+5], 2)\n",
    "    #qc.cnot(0, 1)\n",
    "    #qc.cnot(1, 2)"
   ],
   "metadata": {
    "collapsed": false,
    "pycharm": {
     "name": "#%%\n"
    }
   }
  },
  {
   "cell_type": "markdown",
   "source": [
    "観測量として、パウリ演算子のテンソル積$ZXY$を使います。"
   ],
   "metadata": {
    "collapsed": false,
    "pycharm": {
     "name": "#%% md\n"
    }
   }
  },
  {
   "cell_type": "code",
   "execution_count": 9,
   "outputs": [],
   "source": [
    "obs = Z ^ X ^ Y\n",
    "\n",
    "grad = Gradient(grad_method=\"param_shift\")\n",
    "cg = CG(maxiter=200)\n",
    "gd = GradientDescent(maxiter=200)\n",
    "cobyla = COBYLA(maxiter=300)"
   ],
   "metadata": {
    "collapsed": false,
    "pycharm": {
     "name": "#%%\n"
    }
   }
  },
  {
   "cell_type": "code",
   "execution_count": 12,
   "outputs": [
    {
     "name": "stdout",
     "output_type": "stream",
     "text": [
      "Result:\n",
      "  Exact      = -1.0000000000000004\n",
      "  VQE(GFree) = -0.9982910156249999\n",
      "  VQE(CG)    = -0.998046875\n",
      "  VQE(GD)    = -0.9909667968750001\n"
     ]
    }
   ],
   "source": [
    "random_seed = 10598\n",
    "backend = Aer.get_backend('qasm_simulator')\n",
    "quantum_instance = QuantumInstance(backend=backend,\n",
    "                                   shots=8192,\n",
    "                                   seed_simulator=random_seed,\n",
    "                                   seed_transpiler=random_seed,\n",
    "                                   skip_qobj_validation=True)\n",
    "# VQEアルゴリズムの実装\n",
    "vqe_gfree = VQE(ansatz=qc, optimizer=cobyla, quantum_instance=quantum_instance)\n",
    "result_vqe_gfree = vqe_gfree.compute_minimum_eigenvalue(obs)\n",
    "\n",
    "vqe_cg = VQE(ansatz=qc, optimizer=cg, gradient=grad, quantum_instance=quantum_instance)\n",
    "result_vqe_cg = vqe_cg.compute_minimum_eigenvalue(obs)\n",
    "\n",
    "vqe_gd = VQE(ansatz=qc, optimizer=gd, gradient=grad, quantum_instance=quantum_instance)\n",
    "result_vqe_gd = vqe_gd.compute_minimum_eigenvalue(obs)\n",
    "\n",
    "# 厳密解\n",
    "ee = NumPyMinimumEigensolver()\n",
    "result_ee = ee.compute_minimum_eigenvalue(obs)\n",
    "\n",
    "print('Result:')\n",
    "print(f'  Exact      = {result_ee.eigenvalue}')\n",
    "print(f'  VQE(GFree) = {result_vqe_gfree.optimal_value}')\n",
    "print(f'  VQE(CG)    = {result_vqe_cg.optimal_value}')\n",
    "print(f'  VQE(GD)    = {result_vqe_gd.optimal_value}')"
   ],
   "metadata": {
    "collapsed": false,
    "pycharm": {
     "name": "#%%\n"
    }
   }
  },
  {
   "cell_type": "code",
   "execution_count": null,
   "outputs": [],
   "source": [],
   "metadata": {
    "collapsed": false,
    "pycharm": {
     "name": "#%%\n"
    }
   }
  }
 ],
 "metadata": {
  "kernelspec": {
   "display_name": "Python 3",
   "language": "python",
   "name": "python3"
  },
  "language_info": {
   "codemirror_mode": {
    "name": "ipython",
    "version": 2
   },
   "file_extension": ".py",
   "mimetype": "text/x-python",
   "name": "python",
   "nbconvert_exporter": "python",
   "pygments_lexer": "ipython2",
   "version": "2.7.6"
  }
 },
 "nbformat": 4,
 "nbformat_minor": 0
}