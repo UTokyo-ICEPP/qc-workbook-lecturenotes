{
 "cells": [
  {
   "cell_type": "markdown",
   "metadata": {
    "collapsed": true,
    "pycharm": {
     "name": "#%% md\n"
    }
   },
   "source": [
    "## 変分量子アルゴリズム\n",
    "\n",
    "まず、VQEの元になっている**変分量子アルゴリズム**（*Variational Quantum Algorithm*, VQA）と呼ばれる手法について見ていきます。"
   ]
  },
  {
   "cell_type": "code",
   "execution_count": 1,
   "outputs": [],
   "source": [
    "# Tested with python 3.8.12, qiskit 0.34.2, numpy 1.22.2\n",
    "import numpy as np\n",
    "import matplotlib.pyplot as plt\n",
    "import pprint\n",
    "from qiskit import IBMQ, QuantumCircuit, ClassicalRegister, QuantumRegister, Aer, transpile\n",
    "from qiskit.algorithms.optimizers import SPSA, COBYLA\n",
    "from qiskit.utils import QuantumInstance\n",
    "from qiskit.algorithms import VQE\n",
    "\n",
    "# ワークブック独自のモジュール\n",
    "import sys\n",
    "sys.path.append('/home/jovyan/qc-workbook-lecturenotes/ja')\n",
    "from qc_workbook.utils import operational_backend"
   ],
   "metadata": {
    "collapsed": false,
    "pycharm": {
     "name": "#%%\n"
    }
   }
  },
  {
   "cell_type": "markdown",
   "source": [
    "### 変分フォームを使った実例\n",
    "ではここで、単一量子ビットの変分フォームを利用してパラメータ最適化の例を実行してみましょう。例として、ランダムな確率分布のベクトル$\\vec{x}$（要素数は2）を入力として与えた時、出力の確率分布が$\\vec{x}$に近くなるように単一量子ビットの変分フォームを決定するという問題を考えます（2つの確率分布の近さはL1距離によって定義します）。"
   ],
   "metadata": {
    "collapsed": false,
    "pycharm": {
     "name": "#%% md\n"
    }
   }
  },
  {
   "cell_type": "code",
   "execution_count": 2,
   "outputs": [],
   "source": [
    "nq = 1  # 量子ビットの数\n",
    "\n",
    "npar = 3*nq  # パラメータの数\n",
    "\n",
    "np.random.seed(999999)\n",
    "target_distr = np.random.rand(2**nq)\n",
    "target_distr /= sum(target_distr)"
   ],
   "metadata": {
    "collapsed": false,
    "pycharm": {
     "name": "#%%\n"
    }
   }
  },
  {
   "cell_type": "markdown",
   "source": [
    "次に、単一の$U3$変分フォームの3つのパラメータを引数として受け取り、対応する量子回路を返す関数を定義します。"
   ],
   "metadata": {
    "collapsed": false,
    "pycharm": {
     "name": "#%% md\n"
    }
   }
  },
  {
   "cell_type": "code",
   "execution_count": 3,
   "outputs": [
    {
     "data": {
      "text/plain": "<Figure size 314.126x144.48 with 1 Axes>",
      "image/png": "[encoded data removed]"
     },
     "execution_count": 3,
     "metadata": {},
     "output_type": "execute_result"
    }
   ],
   "source": [
    "def get_var_form(params):\n",
    "    qr = QuantumRegister(nq, name=\"q\")\n",
    "    cr = ClassicalRegister(nq, name='c')\n",
    "    qc = QuantumCircuit(qr, cr)\n",
    "\n",
    "    for i in range(nq):\n",
    "        qc.u(params[3*i], params[3*i+1], params[3*i+2], qr[i])\n",
    "\n",
    "    qc.barrier()\n",
    "    for i in range(nq):\n",
    "        qc.measure(qr[i], cr[i])\n",
    "    return qc\n",
    "\n",
    "get_var_form(np.random.rand(npar)).draw('mpl')"
   ],
   "metadata": {
    "collapsed": false,
    "pycharm": {
     "name": "#%%\n"
    }
   }
  },
  {
   "cell_type": "markdown",
   "source": [
    "変分フォームのパラメータのリストを入力とし、パラメータに対応したコストを計算する目的関数を定義します。アルゴリズムを実行するバックエンドとして、**QASMシミュレータ**を使用します。"
   ],
   "metadata": {
    "collapsed": false,
    "pycharm": {
     "name": "#%% md\n"
    }
   }
  },
  {
   "cell_type": "code",
   "execution_count": 4,
   "outputs": [],
   "source": [
    "backend = Aer.get_backend(\"qasm_simulator\")\n",
    "NUM_SHOTS = 10000  # 測定する回数\n",
    "\n",
    "# 出力されるビット列の確率分布を計算\n",
    "def get_probability_distribution(counts):\n",
    "    output_distr = []\n",
    "    for i in range(2**nq):\n",
    "        match = False\n",
    "        for (k,v) in counts.items():\n",
    "            if i == int(k,2):\n",
    "                output_distr.append(v/NUM_SHOTS)\n",
    "                match = True\n",
    "        if not match:\n",
    "            output_distr.append(0)\n",
    "\n",
    "    if len(output_distr) == 1:\n",
    "        output_distr.append(0)\n",
    "    return output_distr\n",
    "\n",
    "# コストを計算する目的関数を定義\n",
    "def objective_function(params):\n",
    "    qc = get_var_form(params)\n",
    "    qc = transpile(qc, backend=backend)\n",
    "    result = backend.run(qc, shots=NUM_SHOTS).result()\n",
    "    output_distr = get_probability_distribution(result.get_counts(qc))\n",
    "    cost = sum([np.abs(output_distr[i] - target_distr[i]) for i in range(2**nq)])\n",
    "    return cost"
   ],
   "metadata": {
    "collapsed": false,
    "pycharm": {
     "name": "#%%\n"
    }
   }
  },
  {
   "cell_type": "markdown",
   "source": [
    "最後にCOBYLAオプティマイザーのインスタンスを作成し、アルゴリズムを実行します。出力される確率分布は実行の度に異なり、ターゲットの確率分布と完全には同じにならないことに注意してください。出力の精度は量子計算の回数（ショット数＝NUM_SHOTS）に依存するので、ショット数を増減させた時の一致具合を確認してみてください。"
   ],
   "metadata": {
    "collapsed": false,
    "pycharm": {
     "name": "#%% md\n"
    }
   }
  },
  {
   "cell_type": "code",
   "execution_count": 5,
   "outputs": [
    {
     "name": "stdout",
     "output_type": "stream",
     "text": [
      "Target Distribution:          [0.5136 0.4864]\n",
      "Obtained Distribution:        [0.5168 0.4832]\n",
      "Cost Value (L1-Distance):     0.007660\n",
      "Parameters Found:             [1.5339 0.2657 1.6631]\n"
     ]
    }
   ],
   "source": [
    "optimizer = COBYLA(maxiter=500, tol=0.0001)\n",
    "\n",
    "params = np.random.rand(npar)\n",
    "ret = optimizer.optimize(num_vars=npar, objective_function=objective_function, initial_point=params)\n",
    "\n",
    "qc = get_var_form(ret[0])\n",
    "qc = transpile(qc, backend=backend)\n",
    "counts = backend.run(qc, shots=NUM_SHOTS).result().get_counts(qc)\n",
    "output_distr = get_probability_distribution(counts)\n",
    "\n",
    "print(\"Target Distribution:         \", np.round(target_distr,4))\n",
    "print(\"Obtained Distribution:       \", np.round(np.array(output_distr),4))\n",
    "print(\"Cost Value (L1-Distance):     {:.6f}\".format(ret[1]))\n",
    "print(\"Parameters Found:            \", np.round(ret[0],4))"
   ],
   "metadata": {
    "collapsed": false,
    "pycharm": {
     "name": "#%%\n"
    }
   }
  },
  {
   "cell_type": "markdown",
   "source": [
    "では次に、この問題を2量子ビット（確率分布の要素数は4）に拡張してやってみましょう。上に戻って"
   ],
   "metadata": {
    "collapsed": false,
    "pycharm": {
     "name": "#%% md\n"
    }
   }
  },
  {
   "cell_type": "code",
   "execution_count": null,
   "outputs": [],
   "source": [
    "nq = 2  # 量子ビットの数"
   ],
   "metadata": {
    "collapsed": false,
    "pycharm": {
     "name": "#%%\n"
    }
   }
  },
  {
   "cell_type": "markdown",
   "source": [
    "として再度実行するとどういう結果が得られるでしょうか。\n",
    "\n",
    "やってみると分かりますが、結果は1量子ビットの場合と比べて良くないですね。どうすれば良くなるでしょうか？（やり方は複数あると思います）\n",
    "\n",
    "**一つの解決策：変分フォームにエンタングルメントを導入する**\n",
    "\n",
    "```python\n",
    "    for i in range(nq):\n",
    "        qc.u(params[3*i], params[3*i+1], params[3*i+2], qr[i])\n",
    "    qc.cx(qr[0],qr[1])\n",
    "```\n",
    "\n",
    "どうなるか確かめてください。"
   ],
   "metadata": {
    "collapsed": false,
    "pycharm": {
     "name": "#%% md\n"
    }
   }
  },
  {
   "cell_type": "markdown",
   "source": [
    "量子ビットをエンタングルさせることで相関のあるデータを表現しやすくなるという状況は、例えば、ベル状態（[CHSH不等式の破れを確認する](https://utokyo-icepp.github.io/qc-workbook/chsh_inequality.html#id14)を参照）の確率分布を再現したいときにクリアに見ることができます。上で"
   ],
   "metadata": {
    "collapsed": false,
    "pycharm": {
     "name": "#%% md\n"
    }
   }
  },
  {
   "cell_type": "code",
   "execution_count": null,
   "outputs": [],
   "source": [
    "target_distr = np.random.rand(2**nq)"
   ],
   "metadata": {
    "collapsed": false,
    "pycharm": {
     "name": "#%%\n"
    }
   }
  },
  {
   "cell_type": "markdown",
   "source": [
    "を"
   ],
   "metadata": {
    "collapsed": false,
    "pycharm": {
     "name": "#%% md\n"
    }
   }
  },
  {
   "cell_type": "code",
   "execution_count": null,
   "outputs": [],
   "source": [
    "# 00と11を測定する確率が50%、01と10の確率は0\n",
    "target_distr = np.array([0.5,0.,0.,0.5])"
   ],
   "metadata": {
    "collapsed": false,
    "pycharm": {
     "name": "#%%\n"
    }
   }
  },
  {
   "cell_type": "markdown",
   "source": [
    "として実行するとどうなるでしょうか。エンタングルさせる場合とさせない場合で大きな違いが見えるでしょう。3量子ビットのGHZ状態（[単純な量子回路をゼロから書く](https://utokyo-icepp.github.io/qc-workbook/circuit_from_scratch.html#ghz)を参照）"
   ],
   "metadata": {
    "collapsed": false,
    "pycharm": {
     "name": "#%% md\n"
    }
   }
  },
  {
   "cell_type": "code",
   "execution_count": null,
   "outputs": [],
   "source": [
    "# 000と111を測定する確率が50%、それ以外の確率は0\n",
    "target_distr = np.array([0.5,0.,0.,0.,0.,0.,0.,0.5])"
   ],
   "metadata": {
    "collapsed": false,
    "pycharm": {
     "name": "#%%\n"
    }
   }
  },
  {
   "cell_type": "markdown",
   "source": [
    "に拡張してみるなどして、遊んでみてください。"
   ],
   "metadata": {
    "collapsed": false,
    "pycharm": {
     "name": "#%% md\n"
    }
   }
  },
  {
   "cell_type": "markdown",
   "source": [
    "## 変分量子固有値ソルバー法\n",
    "\n",
    "それでは、ここからVQEの簡単な実装例を見ていくことにします。"
   ],
   "metadata": {
    "collapsed": false,
    "pycharm": {
     "name": "#%% md\n"
    }
   }
  },
  {
   "cell_type": "markdown",
   "source": [
    "### VQEの実装\n",
    "では、パラメータシフト法を使って簡単なVQEの例を実装してみます。ある観測量の期待値が最小になるように、VQEを使ってAnsatzを更新する回路パラメータを決定するという問題を考えてみます。\n",
    "\n",
    "量子回路として、$R_YR_Z$ゲートを繰り返すシンプルなパラメータ回路を使うことにします。"
   ],
   "metadata": {
    "collapsed": false,
    "pycharm": {
     "name": "#%% md\n"
    }
   }
  },
  {
   "cell_type": "code",
   "execution_count": 6,
   "outputs": [],
   "source": [
    "# Tested with python 3.8.12, qiskit 0.34.2, numpy 1.22.2\n",
    "from qiskit.circuit import ParameterVector\n",
    "from qiskit.algorithms import NumPyMinimumEigensolver\n",
    "from qiskit.algorithms.optimizers import CG, GradientDescent\n",
    "from qiskit.opflow import I, X, Y, Z, StateFn, CircuitStateFn\n",
    "from qiskit.opflow.expectations import AerPauliExpectation\n",
    "from qiskit.opflow.converters import CircuitSampler\n",
    "from qiskit.opflow.gradients import Gradient"
   ],
   "metadata": {
    "collapsed": false,
    "pycharm": {
     "name": "#%%\n"
    }
   }
  },
  {
   "cell_type": "code",
   "execution_count": 7,
   "outputs": [
    {
     "data": {
      "text/plain": "<Figure size 568.197x204.68 with 1 Axes>",
      "image/png": "[encoded data removed]"
     },
     "execution_count": 7,
     "metadata": {},
     "output_type": "execute_result"
    }
   ],
   "source": [
    "n = 3   # 量子ビット数\n",
    "nl = 2  # レイヤー数\n",
    "npar = n*2*nl   # パラメータ数\n",
    "\n",
    "# 回路を作成\n",
    "def make_circuit():\n",
    "    qc = QuantumCircuit(n)\n",
    "    param_list = ParameterVector('param_list',npar)\n",
    "    for i in range(nl):\n",
    "        qc.ry(param_list[6*i], 0)\n",
    "        qc.ry(param_list[6*i+1], 1)\n",
    "        qc.ry(param_list[6*i+2], 2)\n",
    "        qc.rz(param_list[6*i+3], 0)\n",
    "        qc.rz(param_list[6*i+4], 1)\n",
    "        qc.rz(param_list[6*i+5], 2)\n",
    "        #qc.cnot(0, 1)\n",
    "        #qc.cnot(1, 2)\n",
    "\n",
    "    return qc, param_list\n",
    "\n",
    "qc, param_list = make_circuit()\n",
    "qc.draw('mpl')"
   ],
   "metadata": {
    "collapsed": false,
    "pycharm": {
     "name": "#%%\n"
    }
   }
  },
  {
   "cell_type": "markdown",
   "source": [
    "観測量として、パウリ演算子のテンソル積$ZXY$を使います。\n",
    "\n",
    "この回路の場合パラメータは全部で12個あります。まず適当な値をパラメータに入れて、勾配の値を計算してみましょう。パラメータシフト法を使って計算する場合と、Qiskitにすでに実装されているGradientクラスを使って計算する場合の比較をしてみます。"
   ],
   "metadata": {
    "collapsed": false,
    "pycharm": {
     "name": "#%% md\n"
    }
   }
  },
  {
   "cell_type": "code",
   "execution_count": 8,
   "outputs": [],
   "source": [
    "obs = Z ^ X ^ Y\n",
    "\n",
    "random_seed = 10598\n",
    "backend = Aer.get_backend('qasm_simulator')\n",
    "quantum_instance = QuantumInstance(backend=backend,\n",
    "                                   shots=8192,\n",
    "                                   seed_simulator=random_seed,\n",
    "                                   seed_transpiler=random_seed)\n",
    "\n",
    "# 観測量の期待値を計算する\n",
    "def exp_val(obs, params):\n",
    "    qc, param_list = make_circuit()\n",
    "\n",
    "    param_dict = dict(zip(param_list.params, params))\n",
    "    qc.assign_parameters(param_dict, inplace=True)\n",
    "\n",
    "    psi = CircuitStateFn(primitive=qc, coeff=1.) # 状態ベクトルを定義\n",
    "    measurable_expression = StateFn(obs, is_measurement=True).compose(psi)\n",
    "\n",
    "    # 期待値を計算\n",
    "    expectation = AerPauliExpectation().convert(measurable_expression)\n",
    "    sampler = CircuitSampler(quantum_instance).convert(expectation)\n",
    "    return sampler.eval().real\n",
    "\n",
    "# Gradientクラスを使って勾配を計算する\n",
    "def parameter_shift_gradient(obs, params):\n",
    "    qc, param_list = make_circuit()\n",
    "    param_dict = dict(zip(param_list.params, params))\n",
    "\n",
    "    psi = CircuitStateFn(primitive=qc, coeff=1.) # 状態ベクトルを定義\n",
    "    operator = ~StateFn(obs) @ psi\n",
    "\n",
    "    state_grad = Gradient(grad_method=\"param_shift\").convert(operator=operator, params=param_list)\n",
    "    result = state_grad.assign_parameters(param_dict).eval()\n",
    "    return result"
   ],
   "metadata": {
    "collapsed": false,
    "pycharm": {
     "name": "#%%\n"
    }
   }
  },
  {
   "cell_type": "code",
   "execution_count": 12,
   "outputs": [
    {
     "name": "stdout",
     "output_type": "stream",
     "text": [
      "Gradients:\n",
      "Parameter shift rule:\n",
      "array([-0.179084, -0.293177, -0.00376 , -0.019732,  0.030086, -0.124975,\n",
      "       -0.149504, -0.228207, -0.025882, -0.100611, -0.170874,  0.      ])\n",
      "Gradient class:\n",
      "array([-0.179084, -0.293177, -0.00376 , -0.019732,  0.030086, -0.124975,\n",
      "       -0.149504, -0.228207, -0.025882, -0.100611, -0.170874, -0.      ])\n"
     ]
    }
   ],
   "source": [
    "params = np.random.rand(npar)*np.pi  # パラメータ初期値を[0,pi]の範囲でランダムに取る\n",
    "\n",
    "# パラメータシフト方による勾配の計算\n",
    "gradient = np.zeros_like(params)  # 勾配の計算結果\n",
    "for i in range(len(params)):\n",
    "    shifted = params.copy()\n",
    "    shifted[i] += np.pi/2\n",
    "    forward = exp_val(obs, shifted)\n",
    "\n",
    "    shifted[i] -= np.pi\n",
    "    backward = exp_val(obs, shifted)\n",
    "\n",
    "    gradient[i] = 0.5 * (forward - backward)\n",
    "\n",
    "# Gradientクラスによる勾配の計算\n",
    "result = parameter_shift_gradient(obs, params)\n",
    "\n",
    "print(\"Gradients:\")\n",
    "print(\"Parameter shift rule:\")\n",
    "pprint.pprint(np.round(gradient, 6))\n",
    "print(\"Gradient class:\")\n",
    "pprint.pprint(np.round(np.array(result).real, 6))"
   ],
   "metadata": {
    "collapsed": false,
    "pycharm": {
     "name": "#%%\n"
    }
   }
  },
  {
   "cell_type": "markdown",
   "source": [
    "最後に、この観測量の期待値が最小になるように、パラメータを最適化してみます。Gradientクラスを使った計算した勾配を使って勾配降下を行うConjugate Descent (CG)とGradient Descentの2つのオプティマイザーを使います。比較のためにCOBYLAも使うことにします。\n",
    "\n",
    "最終的に、3通りのVQEを使って求めた最小エネルギーの近似解を、厳密対角化して求めた最小エネルギーの値と比較することにします。"
   ],
   "metadata": {
    "collapsed": false,
    "pycharm": {
     "name": "#%% md\n"
    }
   }
  },
  {
   "cell_type": "code",
   "execution_count": 13,
   "outputs": [],
   "source": [
    "grad = Gradient(grad_method=\"param_shift\")\n",
    "cg = CG(maxiter=200)\n",
    "gd = GradientDescent(maxiter=200)\n",
    "cobyla = COBYLA(maxiter=300)"
   ],
   "metadata": {
    "collapsed": false,
    "pycharm": {
     "name": "#%%\n"
    }
   }
  },
  {
   "cell_type": "code",
   "execution_count": 14,
   "outputs": [
    {
     "name": "stdout",
     "output_type": "stream",
     "text": [
      "Result:\n",
      "  Exact       = -1.0000000000000002\n",
      "  VQE(COBYLA) = -0.998046875\n",
      "  VQE(CG)     = -0.9990234375\n",
      "  VQE(GD)     = -0.9938964843750001\n"
     ]
    }
   ],
   "source": [
    "# VQEアルゴリズムの実装\n",
    "vqe_gfree = VQE(ansatz=qc, optimizer=cobyla, quantum_instance=quantum_instance)\n",
    "result_vqe_gfree = vqe_gfree.compute_minimum_eigenvalue(obs)\n",
    "\n",
    "vqe_cg = VQE(ansatz=qc, optimizer=cg, gradient=grad, quantum_instance=quantum_instance)\n",
    "result_vqe_cg = vqe_cg.compute_minimum_eigenvalue(obs)\n",
    "\n",
    "vqe_gd = VQE(ansatz=qc, optimizer=gd, gradient=grad, quantum_instance=quantum_instance)\n",
    "result_vqe_gd = vqe_gd.compute_minimum_eigenvalue(obs)\n",
    "\n",
    "# 厳密解\n",
    "ee = NumPyMinimumEigensolver()\n",
    "result_ee = ee.compute_minimum_eigenvalue(obs)\n",
    "\n",
    "print('Result:')\n",
    "print(f'  Exact       = {result_ee.eigenvalue}')\n",
    "print(f'  VQE(COBYLA) = {result_vqe_gfree.optimal_value}')\n",
    "print(f'  VQE(CG)     = {result_vqe_cg.optimal_value}')\n",
    "print(f'  VQE(GD)     = {result_vqe_gd.optimal_value}')"
   ],
   "metadata": {
    "collapsed": false,
    "pycharm": {
     "name": "#%%\n"
    }
   }
  },
  {
   "cell_type": "code",
   "execution_count": null,
   "outputs": [],
   "source": [],
   "metadata": {
    "collapsed": false,
    "pycharm": {
     "name": "#%%\n"
    }
   }
  }
 ],
 "metadata": {
  "kernelspec": {
   "display_name": "Python 3",
   "language": "python",
   "name": "python3"
  },
  "language_info": {
   "codemirror_mode": {
    "name": "ipython",
    "version": 2
   },
   "file_extension": ".py",
   "mimetype": "text/x-python",
   "name": "python",
   "nbconvert_exporter": "python",
   "pygments_lexer": "ipython2",
   "version": "2.7.6"
  }
 },
 "nbformat": 4,
 "nbformat_minor": 0
}