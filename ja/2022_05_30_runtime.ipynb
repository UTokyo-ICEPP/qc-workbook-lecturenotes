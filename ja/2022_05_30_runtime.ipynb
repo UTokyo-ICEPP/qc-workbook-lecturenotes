{
 "cells": [
  {
   "cell_type": "markdown",
   "metadata": {
    "collapsed": true,
    "pycharm": {
     "name": "#%% md\n"
    }
   },
   "source": [
    "## 変分量子固有値ソルバー法 (実機を使ってRunTimeで実行)\n",
    "\n",
    "Qiskit Runtimeという仕組みを使って、実機でVQEを実行します。\n",
    "\n",
    "### 最初に以下の２つのセルを実行しておいてください。"
   ]
  },
  {
   "cell_type": "code",
   "execution_count": 1,
   "outputs": [],
   "source": [
    "# Tested with python 3.8.12, qiskit 0.34.2, numpy 1.22.2\n",
    "import numpy as np\n",
    "import matplotlib.pyplot as plt\n",
    "from qiskit import IBMQ, QuantumCircuit, ClassicalRegister, QuantumRegister, Aer, transpile\n",
    "from qiskit.providers.ibmq import least_busy, IBMQAccountCredentialsNotFound\n",
    "from qiskit.algorithms.optimizers import SPSA, COBYLA\n",
    "from qiskit.utils import QuantumInstance\n",
    "from qiskit.opflow import I, X, Y, Z\n",
    "from qiskit.opflow.gradients import Gradient\n",
    "from qiskit.algorithms import VQE\n",
    "from qiskit.algorithms.optimizers import CG, GradientDescent\n",
    "\n",
    "# ワークブック独自のモジュール\n",
    "import sys\n",
    "sys.path.append('/home/jovyan/qc-workbook-lecturenotes/ja')\n",
    "from qc_workbook.utils import operational_backend"
   ],
   "metadata": {
    "collapsed": false,
    "pycharm": {
     "name": "#%%\n"
    }
   }
  },
  {
   "cell_type": "code",
   "execution_count": 2,
   "outputs": [],
   "source": [
    "from qc_workbook.vqe import make_vqe_circuit\n",
    "from qiskit_nature.runtime import VQEClient\n",
    "\n",
    "intermediate_info = {\n",
    "    'nfev': [],\n",
    "    'parameters': [],\n",
    "    'energy': [],\n",
    "    'stddev': []\n",
    "}\n",
    "def callback(nfev, parameters, energy, stddev):\n",
    "    intermediate_info['nfev'].append(nfev)\n",
    "    intermediate_info['parameters'].append(parameters)\n",
    "    intermediate_info['energy'].append(energy)\n",
    "    intermediate_info['stddev'].append(stddev)\n",
    "\n",
    "n = 3   # 量子ビット数\n",
    "nl = 2  # レイヤー数\n",
    "npar = n*2*nl   # パラメータ数\n",
    "\n",
    "vqe_circuit = make_vqe_circuit(n,nl,npar)\n",
    "\n",
    "obs = Z ^ X ^ Y\n",
    "optimizer = {'name': 'SPSA', 'maxiter': 100}\n",
    "np.random.seed(10)  # seed for reproducibility\n",
    "initial_point = np.random.random(vqe_circuit.num_parameters)\n",
    "measurement_error_mitigation = True\n",
    "\n",
    "IBMQ.load_account()\n",
    "try:\n",
    "    provider = IBMQ.get_provider(hub='ibm-q-utokyo', group='internal', project='qc-training22')\n",
    "except IBMQProviderError:\n",
    "    provider = IBMQ.get_provider(hub='ibm-q', group='open', project='main')\n",
    "backend_list = provider.backends(filters=lambda x: x.configuration().n_qubits >= n and\n",
    "                                                   not x.configuration().simulator and x.status().operational==True)\n",
    "backend = least_busy(backend_list)\n",
    "\n",
    "runtime_vqe = VQEClient(ansatz=vqe_circuit,\n",
    "                        optimizer=optimizer,\n",
    "                        initial_point=initial_point,\n",
    "                        provider=provider,\n",
    "                        backend=backend,\n",
    "                        shots=4096,\n",
    "                        measurement_error_mitigation=measurement_error_mitigation,\n",
    "                        callback=callback)\n",
    "runtime_result = runtime_vqe.compute_minimum_eigenvalue(obs)"
   ],
   "metadata": {
    "collapsed": false,
    "pycharm": {
     "name": "#%%\n"
    }
   }
  },
  {
   "cell_type": "markdown",
   "source": [
    "## 変分量子固有値ソルバー法 (シミュレータで実行)\n"
   ],
   "metadata": {
    "collapsed": false,
    "pycharm": {
     "name": "#%% md\n"
    }
   }
  },
  {
   "cell_type": "code",
   "execution_count": 3,
   "outputs": [
    {
     "name": "stdout",
     "output_type": "stream",
     "text": [
      "Result:\n",
      "  Exact      = -1.0000000000000002\n",
      "  VQE(SPSA, Sim)  = -0.9990234375\n"
     ]
    }
   ],
   "source": [
    "from qiskit.circuit import ParameterVector\n",
    "from qiskit.algorithms import NumPyMinimumEigensolver\n",
    "from qiskit.algorithms.optimizers import CG, GradientDescent\n",
    "\n",
    "n = 3   # 量子ビット数\n",
    "nl = 2  # レイヤー数\n",
    "npar = n*2*nl   # パラメータ数\n",
    "\n",
    "qc = QuantumCircuit(n)\n",
    "param_list = ParameterVector('param_list',npar)\n",
    "for i in range(nl):\n",
    "    qc.ry(param_list[6*i], 0)\n",
    "    qc.ry(param_list[6*i+1], 1)\n",
    "    qc.ry(param_list[6*i+2], 2)\n",
    "    qc.rz(param_list[6*i+3], 0)\n",
    "    qc.rz(param_list[6*i+4], 1)\n",
    "    qc.rz(param_list[6*i+5], 2)\n",
    "    #qc.cnot(0, 1)\n",
    "    #qc.cnot(1, 2)\n",
    "\n",
    "obs = Z ^ X ^ Y\n",
    "\n",
    "spsa = SPSA(maxiter=100)\n",
    "\n",
    "random_seed = 10598\n",
    "backend = Aer.get_backend('qasm_simulator')\n",
    "quantum_instance = QuantumInstance(backend=backend,\n",
    "                                   shots=4096,\n",
    "                                   seed_simulator=random_seed,\n",
    "                                   seed_transpiler=random_seed,\n",
    "                                   skip_qobj_validation=True)\n",
    "# VQEアルゴリズムの実装\n",
    "vqe_spsa = VQE(ansatz=qc, optimizer=spsa, quantum_instance=quantum_instance)\n",
    "result_vqe_spsa = vqe_spsa.compute_minimum_eigenvalue(obs)\n",
    "\n",
    "# 厳密解\n",
    "ee = NumPyMinimumEigensolver()\n",
    "result_ee = ee.compute_minimum_eigenvalue(obs)\n",
    "\n",
    "print('Result:')\n",
    "print(f'  Exact      = {result_ee.eigenvalue}')\n",
    "print(f'  VQE(SPSA, Sim)  = {result_vqe_spsa.optimal_value}')"
   ],
   "metadata": {
    "collapsed": false,
    "pycharm": {
     "name": "#%%\n"
    }
   }
  },
  {
   "cell_type": "markdown",
   "source": [
    "## 実機での実行が終了していたら"
   ],
   "metadata": {
    "collapsed": false,
    "pycharm": {
     "name": "#%% md\n"
    }
   }
  },
  {
   "cell_type": "code",
   "execution_count": 4,
   "outputs": [
    {
     "name": "stdout",
     "output_type": "stream",
     "text": [
      "  VQE(SPSA, IBMQ) = -0.9941406250000001\n"
     ]
    },
    {
     "data": {
      "text/plain": "[<matplotlib.lines.Line2D at 0x7f929cd23610>]"
     },
     "execution_count": 4,
     "metadata": {},
     "output_type": "execute_result"
    },
    {
     "data": {
      "text/plain": "<Figure size 432x288 with 1 Axes>",
      "image/png": "[encoded data removed]"
     },
     "metadata": {
      "needs_background": "light"
     },
     "output_type": "display_data"
    }
   ],
   "source": [
    "print(f'  VQE(SPSA, IBMQ) = {runtime_result.optimal_value}')\n",
    "\n",
    "history = runtime_result.optimizer_history\n",
    "loss = history['loss']\n",
    "timestamps = history['time']\n",
    "runtimes = np.concatenate(([0], np.diff(timestamps)))\n",
    "\n",
    "plt.title(\"Energy vs Iteration\")\n",
    "plt.xlabel(\"Iterations\")\n",
    "plt.ylabel(\"Energy value\")\n",
    "plt.plot(range(len(runtimes)),loss)"
   ],
   "metadata": {
    "collapsed": false,
    "pycharm": {
     "name": "#%%\n"
    }
   }
  },
  {
   "cell_type": "code",
   "execution_count": null,
   "outputs": [],
   "source": [],
   "metadata": {
    "collapsed": false,
    "pycharm": {
     "name": "#%%\n"
    }
   }
  }
 ],
 "metadata": {
  "kernelspec": {
   "display_name": "Python 3",
   "language": "python",
   "name": "python3"
  },
  "language_info": {
   "codemirror_mode": {
    "name": "ipython",
    "version": 2
   },
   "file_extension": ".py",
   "mimetype": "text/x-python",
   "name": "python",
   "nbconvert_exporter": "python",
   "pygments_lexer": "ipython2",
   "version": "2.7.6"
  }
 },
 "nbformat": 4,
 "nbformat_minor": 0
}