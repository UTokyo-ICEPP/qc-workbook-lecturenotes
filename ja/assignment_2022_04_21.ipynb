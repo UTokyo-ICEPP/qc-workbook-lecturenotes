{
 "cells": [
  {
   "cell_type": "markdown",
   "id": "8b325db9-8e0d-4da5-888b-16768df76212",
   "metadata": {},
   "source": [
    "# 【課題】アダマールテスト\n",
    "\n",
    "[課題ページ](https://utokyo-icepp.github.io/qc-workbook/quantum_computation.html)\n",
    "\n",
    "[ワークブックのソースとなっているノートブック](https://github.com/UTokyo-ICEPP/qc-workbook/blob/master/source/ja/quantum_computation.md) ← Executable Markdown形式なので、ダウンロードして新しめのJupyter Labバージョンでノートブックとして開く必要あり"
   ]
  },
  {
   "cell_type": "code",
   "execution_count": null,
   "id": "ce17408b-825c-46cc-86a5-82cbae4c7dcb",
   "metadata": {
    "tags": [
     "remove-output"
    ]
   },
   "outputs": [],
   "source": [
    "# まずは全てインポート\n",
    "import numpy as np\n",
    "import matplotlib.pyplot as plt\n",
    "from qiskit import QuantumRegister, ClassicalRegister, QuantumCircuit, Aer, transpile\n",
    "from qiskit.visualization import plot_histogram\n",
    "\n",
    "print('notebook ready')"
   ]
  },
  {
   "cell_type": "markdown",
   "id": "3a576dfd-66e0-4644-8982-dc3c87941c57",
   "metadata": {},
   "source": [
    "## 問題1: アダマールテストで状態ベクトルを同定する"
   ]
  },
  {
   "cell_type": "code",
   "execution_count": null,
   "id": "ef1cda93-09ce-4a2b-b1ec-f12b60fd3511",
   "metadata": {},
   "outputs": [],
   "source": [
    "# データレジスタのビット数\n",
    "data_width = 6\n",
    "\n",
    "# 状態|ψ>を作る回路\n",
    "upsi = QuantumCircuit(data_width, name='psi')\n",
    "upsi.x(0)\n",
    "upsi.h(2)\n",
    "upsi.cx(2, 3)\n",
    "for itarg in range(data_width - 1, -1, -1):\n",
    "    upsi.h(itarg)\n",
    "    for ictrl in range(itarg - 1, -1, -1):\n",
    "        power = ictrl - itarg - 1 + data_width\n",
    "        upsi.cp((2 ** power) * 2. * np.pi / (2 ** data_width), ictrl, itarg)\n",
    "\n",
    "for iq in range(data_width // 2):\n",
    "    upsi.swap(iq, data_width - 1 - iq)"
   ]
  },
  {
   "cell_type": "code",
   "execution_count": null,
   "id": "7697fcca-294c-4c97-8371-0319cde5906a",
   "metadata": {},
   "outputs": [],
   "source": [
    "upsi_gate = upsi.to_gate()\n",
    "cupsi_gate = upsi_gate.control(1)"
   ]
  },
  {
   "cell_type": "code",
   "execution_count": null,
   "id": "5f18d8bd-5b23-414b-b7e8-bdbc3432a4af",
   "metadata": {},
   "outputs": [],
   "source": [
    "def make_cukinv_gate(k):\n",
    "    uk = QuantumCircuit(data_width, name=f'u_{k}')\n",
    "    \n",
    "    # kの２進数表現を得るために、unpackbitsを利用（他にもいろいろな方法がある）\n",
    "    # unpackbitsはuint8タイプのアレイを引数に取るので、jをその形に変換してから渡している\n",
    "    k_bits = np.unpackbits(np.asarray(k, dtype=np.uint8), bitorder='little')\n",
    "    # k_bitsアレイのうち、ビットが立っているインデックスを得て、それらにXゲートをかける\n",
    "    for idx in np.nonzero(k_bits)[0]:\n",
    "        uk.x(idx)\n",
    "\n",
    "    # 形式上逆回路を作るが、Xの逆操作はXなので、実は全く同一の回路\n",
    "    ukinv = uk.inverse()\n",
    "    \n",
    "    ukinv_gate = ukinv.to_gate()\n",
    "    cukinv_gate = ukinv_gate.control(1)\n",
    "    \n",
    "    return cukinv_gate"
   ]
  },
  {
   "cell_type": "code",
   "execution_count": null,
   "id": "e22093a4-e847-4ec6-9a4f-e532fb466f18",
   "metadata": {
    "tags": [
     "remove-output"
    ]
   },
   "outputs": [],
   "source": [
    "reg_data = QuantumRegister(data_width, name='data')\n",
    "reg_test = QuantumRegister(1, name='test')\n",
    "creg_test = ClassicalRegister(1)\n",
    "\n",
    "# 実部用と虚部用の回路をそれぞれリストに入れ、一度にシミュレータに渡す\n",
    "circuits_re = []\n",
    "circuits_im = []\n",
    "\n",
    "ks = np.arange(2 ** data_width)\n",
    "\n",
    "for k in ks:\n",
    "    circuit_re = QuantumCircuit(reg_data, reg_test, creg_test)\n",
    "    circuit_im = QuantumCircuit(reg_data, reg_test, creg_test)\n",
    "    \n",
    "    ##################\n",
    "    ### EDIT BELOW ###\n",
    "    ##################\n",
    "\n",
    "    # 制御ゲートをcircuitに組み込む例\n",
    "    # circuit.append(cupsi_gate, qargs=([reg_test[0]] + reg_data[:]))\n",
    "    \n",
    "    ##################\n",
    "    ### EDIT ABOVE ###\n",
    "    ##################\n",
    "\n",
    "    circuit_re.measure(reg_test, creg_test)\n",
    "    circuit_im.measure(reg_test, creg_test)\n",
    "\n",
    "    circuits_re.append(circuit_re)\n",
    "    circuits_im.append(circuit_im)\n",
    "\n",
    "# シミュレータで回路を実行\n",
    "simulator = Aer.get_backend('qasm_simulator')\n",
    "shots = 10000\n",
    "\n",
    "circuits_re = transpile(circuits_re, backend=simulator)\n",
    "circuits_im = transpile(circuits_im, backend=simulator)\n",
    "\n",
    "counts_list_re = simulator.run(circuits_re, shots=shots).result().get_counts()\n",
    "counts_list_im = simulator.run(circuits_im, shots=shots).result().get_counts()\n",
    "\n",
    "# 状態ベクトルアレイ\n",
    "statevector = np.empty(2 ** data_width, dtype=np.complex128)\n",
    "\n",
    "for k in ks:\n",
    "    counts_re = counts_list_re[k]\n",
    "    counts_im = counts_list_im[k]\n",
    "    statevector[k] = (counts_re.get('0', 0) - counts_re.get('1', 0)) / shots\n",
    "    statevector[k] += 1.j * (counts_im.get('0', 0) - counts_im.get('1', 0)) / shots"
   ]
  },
  {
   "cell_type": "code",
   "execution_count": null,
   "id": "bd126156-6eb4-45e1-bb95-3ddde0e6ee84",
   "metadata": {
    "tags": [
     "remove-output"
    ]
   },
   "outputs": [],
   "source": [
    "plt.plot(ks, statevector.real, label='Re($c_k$)')\n",
    "plt.plot(ks, statevector.imag, label='Im($c_k$)')\n",
    "plt.xlabel('k')\n",
    "plt.legend();"
   ]
  },
  {
   "cell_type": "code",
   "execution_count": null,
   "id": "8da7cc7b-5bb1-482b-b34e-6dd4f0c8d573",
   "metadata": {
    "tags": [
     "remove-output"
    ]
   },
   "outputs": [],
   "source": [
    "sv_simulator = Aer.get_backend('statevector_simulator')\n",
    "\n",
    "circuit = transpile(upsi, backend=sv_simulator)\n",
    "statevector_truth = np.asarray(sv_simulator.run(circuit).result().data()['statevector'])\n",
    "\n",
    "plt.plot(ks, statevector_truth.real, label='Re($c_k$) truth')\n",
    "plt.plot(ks, statevector_truth.imag, label='Im($c_k$) truth')\n",
    "plt.scatter(ks, statevector.real, label='Re($c_k$)')\n",
    "plt.scatter(ks, statevector.imag, label='Im($c_k$)')\n",
    "plt.xlabel('k')\n",
    "plt.legend();"
   ]
  },
  {
   "cell_type": "markdown",
   "id": "b3fec1a1-6ec2-418c-a324-a30d57d258d9",
   "metadata": {},
   "source": [
    "## 問題2: 符号が反転している基底を見つける"
   ]
  },
  {
   "cell_type": "code",
   "execution_count": null,
   "id": "d2aa112e-0668-403d-976f-ccfbf568ee13",
   "metadata": {},
   "outputs": [],
   "source": [
    "num_qubits = 3\n",
    "needle = 5\n",
    "\n",
    "haystack_register = QuantumRegister(num_qubits, name='haystack') # ビット数を指定してレジスタを作る\n",
    "blackbox_circuit = QuantumCircuit(haystack_register, name='blackbox') # レジスタから回路を作る\n",
    "\n",
    "# unpackbitsでneedleが二進数のビット列に変換される。それを1から引くことでビット反転\n",
    "needle_bits = 1 - np.unpackbits(np.asarray(needle, dtype=np.uint8), bitorder='little')[:num_qubits]\n",
    "for idx in np.nonzero(needle_bits)[0]:\n",
    "    blackbox_circuit.x(haystack_register[idx])\n",
    "    \n",
    "# レジスタの（0番から）最後から二番目のビットまでで制御し、最後のビットを標的にする\n",
    "blackbox_circuit.mcp(np.pi, haystack_register[:-1], haystack_register[-1])\n",
    "\n",
    "# 後片付け\n",
    "for idx in np.nonzero(needle_bits)[0]:\n",
    "    blackbox_circuit.x(haystack_register[idx])\n",
    "        \n",
    "blackbox_circuit.draw('mpl')"
   ]
  },
  {
   "cell_type": "code",
   "execution_count": null,
   "id": "e500ccf6-0a0e-4af6-b106-b8f0ee21c1ec",
   "metadata": {},
   "outputs": [],
   "source": [
    "# blackbox_circuitを3量子ビットゲート化\n",
    "blackbox = blackbox_circuit.to_gate()\n",
    "# さらにblackboxゲートを1制御+3標的ビットゲート化\n",
    "cblackbox = blackbox.control(1)"
   ]
  },
  {
   "cell_type": "code",
   "execution_count": null,
   "id": "14e40d48-9443-49e3-b6bb-74a705f7f017",
   "metadata": {
    "tags": [
     "remove-output"
    ]
   },
   "outputs": [],
   "source": [
    "def make_haystack_needle():\n",
    "    test_register = QuantumRegister(1, 'test')\n",
    "    circuit = QuantumCircuit(haystack_register, test_register)\n",
    "\n",
    "    # equal superpositionを作る（このようにゲート操作のメソッドにレジスタを渡すと、レジスタの各ビットにゲートがかかります。）\n",
    "    circuit.h(haystack_register)\n",
    "\n",
    "    ##################\n",
    "    ### EDIT BELOW ###\n",
    "    ##################\n",
    "\n",
    "    #circuit.?\n",
    "\n",
    "    ##################\n",
    "    ### EDIT ABOVE ###\n",
    "    ##################\n",
    "\n",
    "    circuit.measure_all()\n",
    "\n",
    "    return circuit"
   ]
  },
  {
   "cell_type": "code",
   "execution_count": null,
   "id": "07c47d45-5dd8-4305-801b-19ff29e83d16",
   "metadata": {
    "tags": [
     "remove-output"
    ]
   },
   "outputs": [],
   "source": [
    "haystack_needle = make_haystack_needle()\n",
    "haystack_needle.draw('mpl')"
   ]
  },
  {
   "cell_type": "code",
   "execution_count": null,
   "id": "8540d3b4-aef8-4157-a2a9-3817a6b127b4",
   "metadata": {
    "tags": [
     "remove-output"
    ]
   },
   "outputs": [],
   "source": [
    "simulator = Aer.get_backend('qasm_simulator')\n",
    "haystack_needle = transpile(haystack_needle, backend=simulator)\n",
    "sim_job = simulator.run(haystack_needle, shots=10000)\n",
    "sim_result = sim_job.result()\n",
    "plot_histogram(sim_result.get_counts(), figsize=(16, 4))"
   ]
  },
  {
   "cell_type": "markdown",
   "id": "48d3ad61-ea53-4966-8a4e-ca6666f347b0",
   "metadata": {},
   "source": [
    "**提出するもの**\n",
    "\n",
    "- 問題1と2の完成した回路のコード（EDIT BELOWからEDIT ABOVEの部分を埋める）と得られるプロット\n",
    "- 問題2で、ヒストグラムから`needle`を見つける方法の記述\n",
    "- `haystack`レジスタが一般の$n$ビットであるとき、この方法で`needle`を探すことの問題点（実行時間の観点から）に関する考察\n",
    "- おまけ（評価対象外）：`haystack_needle`回路を適当な実機でも実行してみる。エラーによってシミュレーションと結果が大幅に異なると予想されるが、なぜ一見単純な回路が大きく撹乱されてしまうのか？を考えてみる"
   ]
  },
  {
   "cell_type": "markdown",
   "id": "2cabb0f9-bdac-4260-aff9-845ce78569d2",
   "metadata": {},
   "source": [
    "**記述形式の提出物は以下に：**\n",
    "\n",
    "（別ファイルに書いても構いません）"
   ]
  },
  {
   "cell_type": "markdown",
   "id": "7de44368-17b1-4bd2-814b-432cdc7f1d65",
   "metadata": {},
   "source": [
    "## ヒストグラムからneedleを見つける方法\n"
   ]
  },
  {
   "cell_type": "markdown",
   "id": "669b9ac9-5a23-4728-b078-a192399fc659",
   "metadata": {},
   "source": [
    "## nが大きくなったとき、この方法でneedleを探せるか？何が問題か？"
   ]
  }
 ],
 "metadata": {
  "kernelspec": {
   "display_name": "Python 3 (ipykernel)",
   "language": "python",
   "name": "python3"
  },
  "language_info": {
   "codemirror_mode": {
    "name": "ipython",
    "version": 3
   },
   "file_extension": ".py",
   "mimetype": "text/x-python",
   "name": "python",
   "nbconvert_exporter": "python",
   "pygments_lexer": "ipython3",
   "version": "3.8.10"
  }
 },
 "nbformat": 4,
 "nbformat_minor": 5
}
