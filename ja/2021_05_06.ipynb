{
 "cells": [
  {
   "cell_type": "markdown",
   "metadata": {
    "pycharm": {
     "name": "#%% md\n"
    }
   },
   "source": [
    "# 2021/05/06\n",
    "\n",
    "$\\newcommand{\\ket}[1]{| #1 \\rangle}$\n",
    "\n",
    "## ショアのアルゴリズムの実装"
   ]
  },
  {
   "cell_type": "code",
   "execution_count": null,
   "metadata": {
    "jupyter": {
     "outputs_hidden": false
    },
    "pycharm": {
     "name": "#%%\n"
    }
   },
   "outputs": [],
   "source": [
    "# Tested with python 3.7.9, qiskit 0.23.5, numpy 1.20.1\n",
    "import matplotlib.pyplot as plt\n",
    "import numpy as np\n",
    "\n",
    "from qiskit import QuantumCircuit, Aer, execute\n",
    "from qiskit.visualization import plot_histogram\n",
    "from math import gcd\n",
    "from numpy.random import randint\n",
    "from fractions import Fraction"
   ]
  },
  {
   "cell_type": "markdown",
   "metadata": {
    "pycharm": {
     "name": "#%%　md\n"
    }
   },
   "source": [
    "### 位数の発見\n",
    "\n",
    "最初に、繰り返しの位数（周期）を発見するアルゴリズムを見てみます。\n",
    "\n",
    "ここで見てみるのは、$N$を正の整数としたときの関数$f(x) = a^x \\bmod N$の振る舞いです。"
   ]
  },
  {
   "cell_type": "code",
   "execution_count": null,
   "metadata": {
    "jupyter": {
     "outputs_hidden": false
    },
    "pycharm": {
     "name": "#%%\n"
    }
   },
   "outputs": [],
   "source": [
    "N = 35\n",
    "a = 3\n",
    "\n",
    "# プロットするデータを計算する\n",
    "xvals = np.arange(N)\n",
    "yvals = [np.mod(a**x, N) for x in xvals]\n",
    "\n",
    "# matplotlibを使って描画\n",
    "fig, ax = plt.subplots()\n",
    "ax.plot(xvals, yvals, linewidth=1, linestyle='dotted', marker='x')\n",
    "ax.set(xlabel='$x$', ylabel='$%i^x$ mod $%i$' % (a, N),\n",
    "       title=\"Example of Periodic Function in Shor's Algorithm\")\n",
    "try: # グラフ上にrをプロット\n",
    "    r = yvals[1:].index(1) + 1\n",
    "    plt.annotate(text='', xy=(0,1), xytext=(r,1), arrowprops=dict(arrowstyle='<->'))\n",
    "    plt.annotate(text='$r=%i$' % r, xy=(r/3,1.5))\n",
    "except:\n",
    "    print('Could not find period, check a < N and have no common factors.')"
   ]
  },
  {
   "cell_type": "markdown",
   "metadata": {},
   "source": [
    "### オラクルの実装\n",
    "\n",
    "以下では、$N=15$を素因数に分解してみます。やりたいことは、$U\\ket{m}=\\ket{am \\bmod N}$となるユニタリー$U$を$|1\\rangle$に$x$回繰り返すことでオラクル$U_f$を実装することです。\n",
    "\n",
    "練習として、$U\\ket{m}=\\ket{am \\bmod 15}$を実行する関数`U_amod15`を以下に実装してみましょう（`U_amod15`は制御ゲートですが、標的ビットのユニタリー演算に対応する部分を書いてみます）。"
   ]
  },
  {
   "cell_type": "code",
   "execution_count": null,
   "metadata": {
    "jupyter": {
     "outputs_hidden": false
    },
    "pycharm": {
     "name": "#%%\n"
    }
   },
   "outputs": [],
   "source": [
    "def c_amod15(a, power):\n",
    "    \"\"\"mod 15による制御ゲート\"\"\"\n",
    "    if a not in [2,4,7,8,11,13,14]:\n",
    "        raise ValueError(\"'a' must be 2,4,7,8,11,13 or 14\")\n",
    "\n",
    "    U = QuantumCircuit(4)\n",
    "\n",
    "    ##################\n",
    "    ### EDIT BELOW ###\n",
    "    ##################\n",
    "    \n",
    "    #U.?\n",
    "\n",
    "    ##################\n",
    "    ### EDIT ABOVE ###\n",
    "    ##################\n",
    "\n",
    "    # 以下で制御ゲートに変換\n",
    "    U = U.to_gate()\n",
    "    U.name = \"%i^%i mod 15\" % (a, power)\n",
    "    c_U = U.control()\n",
    "    return c_U"
   ]
  },
  {
   "cell_type": "markdown",
   "metadata": {},
   "source": [
    "`power`は繰り返しの回数を表します。"
   ]
  },
  {
   "cell_type": "markdown",
   "metadata": {},
   "source": [
    "**解答例**\n",
    "\n",
    "```python\n",
    "    for iteration in range(power):\n",
    "        if a in [2,13]:\n",
    "            U.swap(0,1)\n",
    "            U.swap(1,2)\n",
    "            U.swap(2,3)\n",
    "        if a in [7,8]:\n",
    "            U.swap(2,3)\n",
    "            U.swap(1,2)\n",
    "            U.swap(0,1)\n",
    "        if a in [4,11]:\n",
    "            U.swap(1,3)\n",
    "            U.swap(0,2)\n",
    "        if a in [7,11,13,14]:\n",
    "            for q in range(4):\n",
    "                U.x(q)\n",
    "```\n",
    "\n",
    "\n",
    "### 回路全体の実装\n",
    "\n",
    "測定用ビットとして、8量子ビットを使います。"
   ]
  },
  {
   "cell_type": "code",
   "execution_count": null,
   "metadata": {
    "jupyter": {
     "outputs_hidden": false
    },
    "pycharm": {
     "name": "#%%\n"
    }
   },
   "outputs": [],
   "source": [
    "# 測定用ビットの数\n",
    "n_count = 8\n",
    "\n",
    "a = 7"
   ]
  },
  {
   "cell_type": "markdown",
   "metadata": {},
   "source": [
    "次に、逆QFTの回路を考えます。この{doc}`実習 <2021_04_22_1>`の問題7を参考にして、QFTの**逆回路**`qft_dagger(n)`を書いてみましょう。引数の$n$は測定用ビットの数`n_count`が入ることに注意します。"
   ]
  },
  {
   "cell_type": "code",
   "execution_count": null,
   "metadata": {
    "jupyter": {
     "outputs_hidden": false
    },
    "pycharm": {
     "name": "#%%\n"
    }
   },
   "outputs": [],
   "source": [
    "def qft_dagger(n):\n",
    "    \"\"\"n量子ビットの逆量子フーリエ変換回路を書く\"\"\"\n",
    "    qc = QuantumCircuit(n)\n",
    "\n",
    "    ##################\n",
    "    ### EDIT BELOW ###\n",
    "    ##################\n",
    "    \n",
    "    #qc.?\n",
    "\n",
    "    ##################\n",
    "    ### EDIT ABOVE ###\n",
    "    ##################\n",
    "\n",
    "    qc.name = \"QFT^dagger\"\n",
    "    return qc"
   ]
  },
  {
   "cell_type": "markdown",
   "metadata": {
    "pycharm": {
     "name": "#%% md\n"
    }
   },
   "source": [
    "**解答例**\n",
    "\n",
    "```python\n",
    "    # 最初にSwapsを忘れない!\n",
    "    for qubit in range(n//2):\n",
    "        qc.swap(qubit, n-qubit-1)\n",
    "    for j in range(n):\n",
    "        for m in range(j):\n",
    "            qc.cp(-np.pi/float(2**(j-m)), m, j)\n",
    "        qc.h(j)\n",
    "```"
   ]
  },
  {
   "cell_type": "markdown",
   "source": [
    "以上の要素を使って、ショアのアルゴリズムを実装する量子回路を作ります。"
   ],
   "metadata": {
    "collapsed": false
   }
  },
  {
   "cell_type": "code",
   "execution_count": null,
   "metadata": {
    "jupyter": {
     "outputs_hidden": false
    },
    "pycharm": {
     "name": "#%%\n"
    }
   },
   "outputs": [],
   "source": [
    "# n_count個の測定用量子ビットと、Uを操作するための4つの作業用量子ビットで量子回路を作る\n",
    "qc = QuantumCircuit(n_count+4, n_count)\n",
    "\n",
    "# 測定用量子ビットにHゲートをかけて初期化\n",
    "qc.h(list(range(n_count)))\n",
    "\n",
    "# 最後の作業用量子ビットを|1>の状態にする\n",
    "qc.x(3+n_count)\n",
    "\n",
    "# 制御Uゲートを適用\n",
    "for q in range(n_count):\n",
    "    qc.append(c_amod15(a, 2**q), [q]+[i+n_count for i in range(4)])\n",
    "\n",
    "# 逆QFTを適用\n",
    "qc.append(qft_dagger(n_count), list(range(n_count)))\n",
    "\n",
    "# 回路を測定\n",
    "qc.measure(list(range(n_count)), list(range(n_count)))\n",
    "qc.draw('mpl')"
   ]
  },
  {
   "cell_type": "markdown",
   "metadata": {},
   "source": [
    "シミュレータで実行して、結果を確認してみます。"
   ]
  },
  {
   "cell_type": "code",
   "execution_count": null,
   "metadata": {
    "jupyter": {
     "outputs_hidden": false
    },
    "pycharm": {
     "name": "#%%\n"
    }
   },
   "outputs": [],
   "source": [
    "backend = Aer.get_backend('qasm_simulator')\n",
    "results = execute(qc, backend, shots=2048).result()\n",
    "answer = results.get_counts()\n",
    "\n",
    "def show_distribution(answer):\n",
    "    n = len(answer)\n",
    "    x = [int(key,2) for key in list(answer.keys())]\n",
    "    y = list(answer.values())\n",
    "\n",
    "    fig, ax = plt.subplots()\n",
    "    rect = ax.bar(x,y)\n",
    "\n",
    "    def autolabel(rects):\n",
    "        for rect in rects:\n",
    "            height = rect.get_height()\n",
    "            ax.annotate('{:.3f}'.format(height/sum(y)),\n",
    "                        xy=(rect.get_x()+rect.get_width()/2, height),xytext=(0,0),\n",
    "                        textcoords=\"offset points\",ha='center', va='bottom')\n",
    "    autolabel(rect)\n",
    "    plt.ylabel('Probabilities')\n",
    "    plt.show()\n",
    "\n",
    "show_distribution(answer)"
   ]
  },
  {
   "cell_type": "markdown",
   "metadata": {
    "pycharm": {
     "name": "#%% md\n"
    }
   },
   "source": [
    "### 計算結果の解析\n",
    "出力された結果から、位相を求めてみます。"
   ]
  },
  {
   "cell_type": "code",
   "execution_count": null,
   "metadata": {
    "jupyter": {
     "outputs_hidden": false
    },
    "pycharm": {
     "name": "#%%\n"
    }
   },
   "outputs": [],
   "source": [
    "rows, measured_phases = [], []\n",
    "for output in answer:\n",
    "    decimal = int(output, 2)  # 10進数に変換\n",
    "    phase = decimal/(2**n_count)\n",
    "    measured_phases.append(phase)\n",
    "    # これらの値をテーブルの行に追加：\n",
    "    rows.append([\"%i\" % (decimal),\n",
    "                 \"%i/%i = %.2f\" % (decimal, 2**n_count, phase)])\n",
    "# 結果を表示\n",
    "print('Register Output              Phase')\n",
    "print('----------------------------------')\n",
    "\n",
    "# 回路を実装できたら、以下のコードをコメントアウトして結果を確認\n",
    "for i in range(len(rows)):\n",
    "    print('%15s %18s' % (rows[i][0],rows[i][1]))"
   ]
  },
  {
   "cell_type": "markdown",
   "metadata": {},
   "source": [
    "得られた位相の情報から、連分数アルゴリズムを使用して$s$と$r$を見つけることができます。Pythonの組み込みの`fractions`(分数)モジュールを使用して、小数を`Fraction`オブジェクトに変換できます。"
   ]
  },
  {
   "cell_type": "code",
   "execution_count": null,
   "metadata": {
    "jupyter": {
     "outputs_hidden": false
    },
    "pycharm": {
     "name": "#%%\n"
    }
   },
   "outputs": [],
   "source": [
    "rows = []\n",
    "for phase in measured_phases:\n",
    "    frac = Fraction(phase).limit_denominator(15)\n",
    "    rows.append([phase, \"%i/%i\" % (frac.numerator, frac.denominator), frac.denominator])\n",
    "\n",
    "# 結果を表示\n",
    "print('     Phase   Fraction     Guess for r')\n",
    "print('-------------------------------------')\n",
    "\n",
    "# 回路を実装できたら、以下のコードをコメントアウトして結果を確認\n",
    "for i in range(len(rows)):\n",
    "    print('%10s %10s %15s' % (rows[i][0],rows[i][1],rows[i][2]))"
   ]
  },
  {
   "cell_type": "markdown",
   "metadata": {
    "pycharm": {
     "name": "#%% md\n"
    }
   },
   "source": [
    "`limit_denominator`メソッドを使って、分母が特定の値（ここでは15）を下回る分数で、最も位相の値に近いものを得ています。\n",
    "\n",
    "測定された結果のうち、2つ（64と192）が正しい答えである$r=4$を与えたことが分かります。"
   ]
  }
 ],
 "metadata": {
  "kernelspec": {
   "display_name": "Python 3",
   "language": "python",
   "name": "python3"
  },
  "language_info": {
   "codemirror_mode": {
    "name": "ipython",
    "version": 3
   },
   "file_extension": ".py",
   "mimetype": "text/x-python",
   "name": "python",
   "nbconvert_exporter": "python",
   "pygments_lexer": "ipython3",
   "version": "3.6.7"
  }
 },
 "nbformat": 4,
 "nbformat_minor": 4
}
