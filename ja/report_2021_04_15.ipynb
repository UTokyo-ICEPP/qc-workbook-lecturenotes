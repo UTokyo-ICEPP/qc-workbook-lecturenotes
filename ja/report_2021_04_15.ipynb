{
 "cells": [
  {
   "cell_type": "markdown",
   "metadata": {},
   "source": [
    "# 【課題】量子相関を調べる"
   ]
  },
  {
   "cell_type": "code",
   "execution_count": null,
   "metadata": {},
   "outputs": [],
   "source": [
    "# まずは全てインポート\n",
    "import numpy as np\n",
    "import matplotlib.pyplot as plt\n",
    "from scipy.optimize import minimize, Bounds\n",
    "from qiskit import QuantumCircuit, Aer, execute\n",
    "from qiskit.visualization import plot_histogram\n",
    "\n",
    "print('notebook ready')"
   ]
  },
  {
   "cell_type": "code",
   "execution_count": null,
   "metadata": {},
   "outputs": [],
   "source": [
    "simulator = Aer.get_backend('qasm_simulator')\n",
    "print(simulator.name())"
   ]
  },
  {
   "cell_type": "code",
   "execution_count": null,
   "metadata": {
    "tags": [
     "remove-output"
    ]
   },
   "outputs": [],
   "source": [
    "circuits = []\n",
    "for ic in range(4):\n",
    "    circuit = QuantumCircuit(2, name='circuit{}'.format(ic))\n",
    "    circuit.h(0)\n",
    "    circuit.cx(0, 1)\n",
    "    circuits.append(circuit)\n",
    "\n",
    "circuits[0].ry(-np.pi / 4., 1)\n",
    "circuits[1].ry(-3. * np.pi / 4., 1)\n",
    "circuits[2].ry(-np.pi / 4., 1)\n",
    "circuits[3].ry(-3. * np.pi / 4., 1)\n",
    "\n",
    "circuits[2].ry(-np.pi / 2., 0)\n",
    "circuits[3].ry(-np.pi / 2., 0)\n",
    "\n",
    "for circuit in circuits:\n",
    "    circuit.measure_all()\n",
    "    \n",
    "shots = 10000\n",
    "    \n",
    "sim_job = execute(circuits, backend=simulator, shots=shots)\n",
    "\n",
    "sim_result = sim_job.result()\n",
    "\n",
    "C = []\n",
    "for circuit in circuits:\n",
    "    c = sim_result.get_counts(circuit)\n",
    "    ax = plt.figure().add_subplot()\n",
    "    plot_histogram(c, ax=ax)\n",
    "    \n",
    "    C.append((c['00'] + c['11'] - c['01'] - c['10']) / shots)\n",
    "    \n",
    "S = C[0] - C[1] + C[2] + C[3]\n",
    "print('S =', S)"
   ]
  },
  {
   "cell_type": "code",
   "execution_count": null,
   "metadata": {
    "tags": [
     "remove-input"
    ]
   },
   "outputs": [],
   "source": [
    "for circuit in circuits:\n",
    "    ax = plt.figure().add_subplot()\n",
    "    circuit.draw('mpl', ax=ax)"
   ]
  },
  {
   "cell_type": "code",
   "execution_count": null,
   "metadata": {
    "tags": [
     "raises-exception",
     "remove-output"
    ]
   },
   "outputs": [],
   "source": [
    "# Define theta and phi values\n",
    "thetas = [0., np.pi / 4., np.pi / 2., 3. * np.pi / 4., np.pi]\n",
    "theta_labels = ['0', r'$\\pi/4$', r'$\\pi/2$', r'$3\\pi/4$', r'$\\pi$']\n",
    "phis = np.linspace(0., np.pi, 16, endpoint=True)\n",
    "\n",
    "# Construct a circuit for each (theta, phi) pair\n",
    "circuits = []\n",
    "for itheta, theta in enumerate(thetas):\n",
    "    for iphi, phi in enumerate(phis):\n",
    "        circuit = QuantumCircuit(2, name='circuit_{}_{}'.format(itheta, iphi))\n",
    "\n",
    "        ##################\n",
    "        ### EDIT BELOW ###\n",
    "        ##################\n",
    "\n",
    "        #circuit.?\n",
    "        \n",
    "        ##################\n",
    "        ### EDIT ABOVE ###\n",
    "        ##################\n",
    "        \n",
    "        circuit.measure_all()\n",
    "\n",
    "        circuits.append(circuit)\n",
    "\n",
    "# Execute the circuit in qasm_simulator and retrieve the results\n",
    "simulator = Aer.get_backend('qasm_simulator')\n",
    "shots = 10000\n",
    "sim_job = execute(circuits, backend=simulator, shots=shots)\n",
    "result = sim_job.result()\n",
    "\n",
    "# Plot C versus (theta - phi) for each theta\n",
    "icirc = 0\n",
    "for itheta, theta in enumerate(thetas):\n",
    "    x = theta - phis\n",
    "    y = np.zeros_like(x)\n",
    "\n",
    "    for iphi, phi in enumerate(phis):\n",
    "        c = result.get_counts(circuits[icirc])\n",
    "\n",
    "        ##################\n",
    "        ### EDIT BELOW ###\n",
    "        ##################\n",
    "\n",
    "        #y[iphi] = ?\n",
    "        \n",
    "        ##################\n",
    "        ### EDIT ABOVE ###\n",
    "        ##################\n",
    "\n",
    "        icirc += 1\n",
    "\n",
    "    plt.plot(x, y, 'o', label=theta_labels[itheta])\n",
    "\n",
    "plt.legend()\n",
    "plt.xlabel(r'$\\theta - \\phi$')\n",
    "plt.ylabel(r'$\\langle \\Psi | \\sigma^{\\phi}_B \\sigma^{\\theta}_A | \\Psi \\rangle$')"
   ]
  },
  {
   "cell_type": "code",
   "execution_count": null,
   "metadata": {
    "tags": [
     "remove-output"
    ]
   },
   "outputs": [],
   "source": [
    "def classical_S(params):\n",
    "    \"\"\"\n",
    "    Four-parameter function to be minimized. Returns -|S| = -|<sigma^k sigma^l> - <sigma^k sigma^n> + <sigma^m sigma^l> + <sigma^m sigma^n>|.\n",
    "    \n",
    "    Args:\n",
    "        params (np.ndarray): Values of kappa, lambda, mu, nu\n",
    "        \n",
    "    Returns:\n",
    "        float: -|S|\n",
    "    \"\"\"\n",
    "    \n",
    "    k, l, m, n = params\n",
    "    \n",
    "    S = 0.\n",
    "    \n",
    "    # S from |00>\n",
    "    ##################\n",
    "    ### EDIT BELOW ###\n",
    "    ##################\n",
    "    #sksl_00 = \n",
    "    #sksn_00 = \n",
    "    #smsl_00 = \n",
    "    #smsn_00 = \n",
    "    #S += (sksl_00 - sksn_00 + smsl_00 + smsn_00) * 0.5\n",
    "    ##################\n",
    "    ### EDIT ABOVE ###\n",
    "    ##################\n",
    "    \n",
    "    # S from |11>\n",
    "    ##################\n",
    "    ### EDIT BELOW ###\n",
    "    ##################\n",
    "    #sksl_11 = \n",
    "    #sksn_11 = \n",
    "    #smsl_11 = \n",
    "    #smsn_11 = \n",
    "    #S += (sksl_11 - sksn_11 + smsl_11 + smsn_11) * 0.5\n",
    "    ##################\n",
    "    ### EDIT ABOVE ###\n",
    "    ##################\n",
    "    \n",
    "    return -np.abs(S)\n",
    "\n",
    "# Initial values\n",
    "x0 = np.array([0., np.pi / 2., 0., np.pi / 2.])\n",
    "# Bounds on all parameters ([0, pi])\n",
    "bounds = Bounds([0.] * 4, [np.pi] * 4)\n",
    "# Minimize using scipy.optimize.minimize\n",
    "res = minimize(classical_S, x0, method='trust-constr', bounds=bounds)\n",
    "print('argmax |S|: kappa={:.3f}pi, lambda={:.3f}pi, mu={:.3f}pi, nu={:.3f}pi'.format(*(res.x / np.pi)))\n",
    "print('max |S|:', -res.fun)"
   ]
  },
  {
   "cell_type": "code",
   "execution_count": null,
   "metadata": {
    "tags": [
     "remove-output"
    ]
   },
   "outputs": [],
   "source": [
    "# Construct a circuit for each (theta, phi) pair\n",
    "circuits = []\n",
    "for itheta, theta in enumerate(thetas):\n",
    "    for iphi, phi in enumerate(phis):\n",
    "        circuit_00 = QuantumCircuit(2, name='circuit_{}_{}_00'.format(itheta, iphi))\n",
    "        circuit_11 = QuantumCircuit(2, name='circuit_{}_{}_11'.format(itheta, iphi))\n",
    "\n",
    "        ##################\n",
    "        ### EDIT BELOW ###\n",
    "        ##################\n",
    "\n",
    "        #circuit_00.?\n",
    "        #circuit_11.?\n",
    "        \n",
    "        ##################\n",
    "        ### EDIT ABOVE ###\n",
    "        ##################\n",
    "        \n",
    "        circuit_00.measure_all()\n",
    "        circuit_11.measure_all()\n",
    "\n",
    "        circuits.append(circuit_00)\n",
    "        circuits.append(circuit_11)\n",
    "\n",
    "# Execute the circuit in qasm_simulator and retrieve the results\n",
    "shots = 10000\n",
    "sim_job = execute(circuits, backend=simulator, shots=shots)\n",
    "result = sim_job.result()\n",
    "\n",
    "# Plot C versus (theta - phi) for each theta\n",
    "icirc = 0\n",
    "for itheta, theta in enumerate(thetas):\n",
    "    x = theta - phis\n",
    "    y = np.zeros_like(x)\n",
    "\n",
    "    for iphi, phi in enumerate(phis):\n",
    "        c_00 = result.get_counts(circuits[icirc])\n",
    "        c_11 = result.get_counts(circuits[icirc + 1])\n",
    "\n",
    "        ##################\n",
    "        ### EDIT BELOW ###\n",
    "        ##################\n",
    "\n",
    "        #y[iphi] = ?\n",
    "        \n",
    "        ##################\n",
    "        ### EDIT ABOVE ###\n",
    "        ##################\n",
    "\n",
    "        icirc += 2\n",
    "\n",
    "    plt.plot(x, y, 'o', label=theta_labels[itheta])\n",
    "\n",
    "plt.legend()\n",
    "plt.xlabel(r'$\\theta - \\phi$')\n",
    "plt.ylabel(r'$\\langle \\Psi | \\sigma^{\\theta}_A \\sigma^{\\phi}_B | \\Psi \\rangle$')"
   ]
  },
  {
   "cell_type": "markdown",
   "metadata": {
    "tags": [
     "raises-exception",
     "remove-output"
    ]
   },
   "source": [
    "**提出するもの**\n",
    "\n",
    "- 完成した回路のコード（EDIT BELOW / EDIT ABOVEの間を埋める）とシミュレーション結果によるプロット\n",
    "- ベル状態と可分状態の混合状態とでの2体相関の違いに関する考察\n",
    "- （おまけ）可分状態の混合状態で、$|S|=2$を実現するものを考案し、その$\\sigma^{\\theta}\\sigma^{\\phi}$の期待値のプロット"
   ]
  }
 ],
 "metadata": {
  "kernelspec": {
   "display_name": "Python 3",
   "language": "python",
   "name": "python3"
  },
  "language_info": {
   "codemirror_mode": {
    "name": "ipython",
    "version": 3
   },
   "file_extension": ".py",
   "mimetype": "text/x-python",
   "name": "python",
   "nbconvert_exporter": "python",
   "pygments_lexer": "ipython3",
   "version": "3.8.5"
  }
 },
 "nbformat": 4,
 "nbformat_minor": 4
}
