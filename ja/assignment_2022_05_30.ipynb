{
 "cells": [
  {
   "cell_type": "markdown",
   "metadata": {},
   "source": [
    "# 【課題】高エネルギー実験で生成された荷電粒子の飛跡を見つける"
   ]
  },
  {
   "cell_type": "markdown",
   "metadata": {},
   "source": [
    "必要なライブラリを最初にインポートします。"
   ]
  },
  {
   "cell_type": "code",
   "execution_count": null,
   "metadata": {},
   "outputs": [],
   "source": [
    "import os\n",
    "import sys\n",
    "\n",
    "repo_dir = os.path.join(os.environ['HOME'], 'qc-workbook-lecturenotes')\n",
    "sys.path.append(repo_dir)\n",
    "\n",
    "if not os.path.exists(os.path.join(repo_dir, 'qc_workbook', 'hepqpr')):\n",
    "    import subprocess\n",
    "    \n",
    "    proc = subprocess.Popen(['git', 'submodule', 'init'], cwd=repo_dir)\n",
    "    proc.wait()\n",
    "    \n",
    "    proc = subprocess.Popen(['git', 'submodule', 'update'], cwd=repo_dir)\n",
    "    proc.wait()\n",
    "    \n",
    "    os.symlink(os.path.join(repo_dir, 'qc_workbook', 'hepqpr-qallse', 'src', 'hepqpr'), os.path.join(repo_dir, 'qc_workbook', 'hepqpr'))\n",
    "    \n",
    "    %pip install 'git+https://github.com/LAL/trackml-library.git'\n",
    "    \n",
    "    %pip install dwave-qbsolv    "
   ]
  },
  {
   "cell_type": "code",
   "execution_count": null,
   "metadata": {
    "collapsed": false,
    "jupyter": {
     "outputs_hidden": false
    },
    "pycharm": {
     "name": "#%%\n"
    }
   },
   "outputs": [],
   "source": [
    "# Tested with python 3.8.12, qiskit 0.34.2, numpy 1.22.2\n",
    "import numpy as np\n",
    "import matplotlib.pyplot as plt\n",
    "\n",
    "from qiskit import QuantumCircuit, ClassicalRegister, QuantumRegister, Aer\n",
    "from qiskit.circuit.library import TwoLocal\n",
    "from qiskit.algorithms import VQE, NumPyMinimumEigensolver, NumPyEigensolver\n",
    "#from qiskit_optimization.applications import sample_most_likely\n",
    "from qiskit.algorithms.optimizers import SPSA, COBYLA\n",
    "from qiskit.utils import QuantumInstance\n",
    "\n",
    "from collections import OrderedDict\n",
    "from qiskit.opflow import StateFn\n",
    "def sample_most_likely(state_vector):\n",
    "    \"\"\"Compute the most likely binary string from state vector.\n",
    "    Args:\n",
    "        state_vector (numpy.ndarray or dict): state vector or counts.\n",
    "    Returns:\n",
    "        numpy.ndarray: binary string as numpy.ndarray of ints.\n",
    "    \"\"\"\n",
    "    if isinstance(state_vector, (OrderedDict, dict)):\n",
    "        # get the binary string with the largest count\n",
    "        binary_string = sorted(state_vector.items(), key=lambda kv: kv[1])[-1][0]\n",
    "        x = np.asarray([int(y) for y in reversed(list(binary_string))])\n",
    "        return x\n",
    "    elif isinstance(state_vector, StateFn):\n",
    "        binary_string = list(state_vector.sample().keys())[0]\n",
    "        x = np.asarray([int(y) for y in reversed(list(binary_string))])\n",
    "        return x\n",
    "    else:\n",
    "        n = int(np.log2(state_vector.shape[0]))\n",
    "        k = np.argmax(np.abs(state_vector))\n",
    "        x = np.zeros(n)\n",
    "        for i in range(n):\n",
    "            x[i] = k % 2\n",
    "            k >>= 1\n",
    "        return x"
   ]
  },
  {
   "cell_type": "markdown",
   "metadata": {},
   "source": [
    "### 問題\n",
    "\n",
    "以上のデータから、VQEで用いるハミルトニアンを構成してみてください。\n",
    "\n",
    "**ヒント1**：この形式のデータを以下のコードを使って読み込むとします。"
   ]
  },
  {
   "cell_type": "code",
   "execution_count": null,
   "metadata": {
    "collapsed": false,
    "jupyter": {
     "outputs_hidden": false
    },
    "pycharm": {
     "name": "#%%\n"
    }
   },
   "outputs": [],
   "source": [
    "file_r = 'data/QUBO_05pct_input.txt'\n",
    "from ast import literal_eval\n",
    "with open(file_r, \"r\") as f:\n",
    "    line = f.read()\n",
    "    Q = literal_eval(line)\n",
    "print(\"Q size =\",len(Q))\n",
    "\n",
    "n_max = 100\n",
    "\n",
    "nvar = 0\n",
    "key_i = []\n",
    "b_ij = np.zeros((n_max,n_max))\n",
    "for (k1, k2), v in Q.items():\n",
    "    if k1 == k2:\n",
    "        b_ij[nvar][nvar] = v\n",
    "        key_i.append(k1)\n",
    "        nvar += 1\n",
    "\n",
    "for (k1, k2), v in Q.items():\n",
    "    if k1 != k2:\n",
    "        for i in range(nvar):\n",
    "            for j in range(nvar):\n",
    "                if k1 == key_i[i] and k2 == key_i[j]:\n",
    "                    if i < j:\n",
    "                        b_ij[i][j] = v\n",
    "                    else:\n",
    "                        b_ij[j][i] = v\n",
    "\n",
    "b_ij = b_ij[:nvar,:nvar]\n",
    "print(\"# of segments =\",nvar)"
   ]
  },
  {
   "cell_type": "markdown",
   "metadata": {},
   "source": [
    "**ヒント2**：まず、{0,1}のバイナリー値を持つ$T$を{+1,-1}をもつスピン$s$に変換します。$T=0$を$s=1$、$T=1$を$s=-1$に対応させるとします。この関係の下で、目的関数$O$を\n",
    "\n",
    "$$\n",
    "H(h,J,s) = \\sum_{i=1}^Nh_is_i + \\sum_{i=1}^N\\sum_{j=1\\:(i<j)}^NJ_{ij}s_is_j\n",
    "$$\n",
    "\n",
    "となるような関数$H$に書き換えてみてください。この関数$H$はイジング模型のハミルトニアンと同じ形になっています。"
   ]
  },
  {
   "cell_type": "code",
   "execution_count": null,
   "metadata": {
    "pycharm": {
     "name": "#%%\n"
    },
    "tags": [
     "raises-exception",
     "remove-output"
    ]
   },
   "outputs": [],
   "source": [
    "from qiskit.quantum_info import Pauli\n",
    "from qiskit.opflow import PrimitiveOp\n",
    "\n",
    "##################\n",
    "### EDIT BELOW ###\n",
    "##################\n",
    "\n",
    "# ステップ１：{0,1}を取るTに対して定義されているb_ijを、{+1,-1}を取る変数sに対して定義しなおす。\n",
    "J_ij = np.zeros((nvar,nvar))\n",
    "for i in range(nvar):\n",
    "    for j in range(nvar):\n",
    "        if i >= j:\n",
    "            continue\n",
    "        J_ij[i][j] = b_ij[i][j]+b_ij[j][i]\n",
    "        if J_ij[i][j] == 0:\n",
    "            continue\n",
    "\n",
    "h_i = np.zeros(nvar)\n",
    "for i in range(nvar):\n",
    "    bias = 0\n",
    "    for k in range(nvar):\n",
    "        bias += b_ij[i][k]+b_ij[k][i]\n",
    "    bias *= -1\n",
    "    h_i[i] = bias\n",
    "    if h_i[i] == 0:\n",
    "        continue\n",
    "\n",
    "# ステップ２：変数sをパウリZ演算子を使って実装する。\n",
    "def get_qubitops(J_ij,h_i,penalty=1e6):\n",
    "    num_qubits = len(h_i)\n",
    "    print(\"Number of qubits (selected triplets) =\",num_qubits)\n",
    "    weighted_sum = 0\n",
    "\n",
    "    zero = np.zeros(num_qubits, dtype=bool)\n",
    "    for i in range(num_qubits):\n",
    "        for j in range(num_qubits):\n",
    "            if i >= j:\n",
    "                continue\n",
    "            if J_ij[i][j] == 0:\n",
    "                continue\n",
    "            print(\"J_ij[\",i,\"][\",j,\"]=\",J_ij[i][j])\n",
    "            vp = np.zeros(num_qubits, dtype=bool)\n",
    "            vp[i] = True\n",
    "            vp[j] = True\n",
    "            weighted_sum += J_ij[i][j]*PrimitiveOp(Pauli(vp, zero))\n",
    "\n",
    "    zero = np.zeros(num_qubits, dtype=bool)\n",
    "    for i in range(num_qubits):\n",
    "        print(\"h_i[\",i,\"]=\",h_i[i])\n",
    "        vp = np.zeros(num_qubits, dtype=bool)\n",
    "        vp[i] = True\n",
    "        weighted_sum += h_i[i]*PrimitiveOp(Pauli(vp, zero))\n",
    "\n",
    "    return weighted_sum\n",
    "\n",
    "#def get_qubitops(...):\n",
    "#\n",
    "#\n",
    "#    return ??\n",
    "\n",
    "##################\n",
    "### EDIT ABOVE ###\n",
    "##################"
   ]
  },
  {
   "cell_type": "markdown",
   "metadata": {},
   "source": [
    "このコードの部分を課題として提出してください。\n",
    "\n",
    "**ヒント3**：get_qubitopsは、パウリ$Z$演算子を使って実装した観測量$H$を返す関数です。Qiskitでパウリ$Z$演算子とそのテンソル積を実装するには、qiskit.quantum_info.Pauliクラス（[ここ](https://qiskit.org/documentation/stubs/qiskit.quantum_info.Pauli.html)を参照）とqiskit.aqua.operatorsライブラリ（[ここ](https://qiskit.org/documentation/apidoc/qiskit.aqua.operators.html)を参照）を使うのが便利です。セグメント間の相互作用の強さを表す$J_{ij}$は、2つのパウリ$Z$演算子のテンソル積に対する係数として導入する必要があります。それをqiskit.quantum_info.Pauliを使ってどのように書くでしょうか？$h_i$は単一パウリ$Z$演算子の係数になります。そして、最終的に測定する観測量$H$は、それらパウリ$Z$演算子の線形結合になりますね。"
   ]
  },
  {
   "cell_type": "markdown",
   "metadata": {},
   "source": [
    "### VQEによる近似解の探索\n",
    "\n",
    "上で定義したハミルトニアンを元に、VQEを使ってエネルギーの最小固有値（の近似解）を求めていきます。ただその前に、このハミルトニアンの行列を対角化して、エネルギーの最小固有値とその固有ベクトルを厳密に計算した場合の答えを出してみましょう。"
   ]
  },
  {
   "cell_type": "code",
   "execution_count": null,
   "metadata": {
    "pycharm": {
     "name": "#%%\n"
    },
    "tags": [
     "raises-exception",
     "remove-output"
    ]
   },
   "outputs": [],
   "source": [
    "# ハミルトニアンオペレータを取得\n",
    "##################\n",
    "### EDIT BELOW ###\n",
    "##################\n",
    "\n",
    "qubitOp = get_qubitops(J_ij, h_i)\n",
    "\n",
    "##################\n",
    "### EDIT ABOVE ###\n",
    "##################\n",
    "print(\"\")\n",
    "print(\"total number of qubits = \",qubitOp.num_qubits)\n",
    "\n",
    "# ハミルトニアン行列を対角化して、エネルギーの最小固有値と固有ベクトルを求める\n",
    "#ee  = NumPyMinimumEigensolver(qubitOp)\n",
    "#result = ee.run()\n",
    "ee  = NumPyMinimumEigensolver()\n",
    "result = ee.compute_minimum_eigenvalue(operator=qubitOp)\n",
    "\n",
    "# 最小エネルギーに対応する量子ビットの組み合わせを表示\n",
    "print('Eigensolver: objective =', result.eigenvalue.real)\n",
    "x = sample_most_likely(result.eigenstate)\n",
    "print('Eigensolver: x =',x)\n",
    "\n",
    "samples_eigen = {}\n",
    "for i in range(nvar):\n",
    "    samples_eigen[key_i[i]] = x[i]"
   ]
  },
  {
   "cell_type": "markdown",
   "metadata": {
    "pycharm": {
     "name": "#%% md\n"
    }
   },
   "source": [
    "xのリストで1になっている量子ビット（セグメント）が、最小エネルギーに対応するものとして選ばれているのが分かります。"
   ]
  },
  {
   "cell_type": "markdown",
   "metadata": {},
   "source": [
    "次に、同じハミルトニアンモデルをVQEに実装して、最小エネルギーを求めてみます。オプティマイザーとしてSPSAあるいはCOBYLAを使う場合のコードは以下のようになります。\n",
    "\n",
    "まず最初に、VQE用の量子回路を作ります。"
   ]
  },
  {
   "cell_type": "code",
   "execution_count": null,
   "metadata": {
    "pycharm": {
     "name": "#%%\n"
    },
    "tags": [
     "raises-exception",
     "remove-output"
    ]
   },
   "outputs": [],
   "source": [
    "# VQE用の回路を作る：ここではTwoLocalという組み込み関数を使う\n",
    "seed = 10598\n",
    "spsa = SPSA(maxiter=300)\n",
    "cobyla = COBYLA(maxiter=500)\n",
    "#ansatz = TwoLocal(num_qubits=qubitOp.num_qubits, rotation_blocks=['ry'], entanglement_blocks='cz', entanglement='linear', reps=1)\n",
    "ansatz = TwoLocal(num_qubits=qubitOp.num_qubits, rotation_blocks=['ry','rz'], entanglement_blocks='cz', entanglement='linear', reps=3)\n",
    "ansatz.decompose().draw('mpl')"
   ]
  },
  {
   "cell_type": "markdown",
   "metadata": {},
   "source": [
    "バックエンドしてqasm_simulatorを使い、実行した結果を書き出します。"
   ]
  },
  {
   "cell_type": "code",
   "execution_count": null,
   "metadata": {
    "pycharm": {
     "name": "#%%\n"
    }
   },
   "outputs": [],
   "source": [
    "# VQEの実行\n",
    "backend = Aer.get_backend('qasm_simulator')\n",
    "quantum_instance = QuantumInstance(backend=backend, shots=4096, seed_simulator=seed)\n",
    "#vqe = VQE(ansatz, optimizer=spsa, quantum_instance=quantum_instance)\n",
    "vqe = VQE(ansatz, optimizer=cobyla, quantum_instance=quantum_instance)\n",
    "result = vqe.compute_minimum_eigenvalue(operator=qubitOp)\n",
    "\n",
    "# 最小エネルギーに対応する量子ビットの組み合わせを表示\n",
    "print('')\n",
    "print('VQE: objective =', result.eigenvalue.real)\n",
    "x = sample_most_likely(result.eigenstate)\n",
    "print('VQE x =',x)\n",
    "\n",
    "samples_vqe = {}\n",
    "for i in range(nvar):\n",
    "    samples_vqe[key_i[i]] = x[i]"
   ]
  },
  {
   "cell_type": "markdown",
   "metadata": {
    "pycharm": {
     "name": "#%% md\n"
    }
   },
   "source": [
    "### おまけ\n",
    "\n",
    "Trackingがうまく行っても、この答えだと0と1が並んでいるだけで面白くないですよね。正しく飛跡が見つかったかどうか目で確認するため、以下のコードを走らせてみましょう。\n",
    "\n",
    "うまく処理が終われば、いくつかの情報とともに\"tracks found: 1\"という結果が出て、その時の飛跡の図（plot-ising_found_tracks.html）が左のサイドバーに作られていると思います。この図は、QUBOを定義する時に使った検出器のヒット位置をビーム軸に垂直な平面に投影して、どのヒットが選ばれたかを分かりやすく可視化したものです。緑の線が実際に見つかった飛跡で、青の線を含めたものが全体の飛跡の候補です。この実習では限られた数の量子ビットしか使っていないため、大部分の飛跡は見つけられていませんが、計算に使った3点ヒットから正しく飛跡が1本見つかっていることが分かると思います。"
   ]
  },
  {
   "cell_type": "code",
   "execution_count": null,
   "metadata": {
    "pycharm": {
     "name": "#%%\n"
    },
    "tags": [
     "raises-exception",
     "remove-output"
    ]
   },
   "outputs": [],
   "source": [
    "from qc_workbook.hepqpr.qallse import DataWrapper, Qallse, TrackRecreaterD, diff_rows\n",
    "input_path = './data/event000001000-hits.csv'\n",
    "dw = DataWrapper.from_path(input_path)\n",
    "\n",
    "# get the results\n",
    "#all_doublets = Qallse.process_sample(samples_eigen)\n",
    "all_doublets = Qallse.process_sample(samples_vqe)\n",
    "\n",
    "final_tracks, final_doublets = TrackRecreaterD().process_results(all_doublets)\n",
    "#print(\"all_doublets =\",all_doublets)\n",
    "#print(\"final_tracks =\",final_tracks)\n",
    "#print(\"final_doublets =\",final_doublets)\n",
    "\n",
    "p, r, ms = dw.compute_score(final_doublets)\n",
    "trackml_score = dw.compute_trackml_score(final_tracks)\n",
    "\n",
    "print(f'SCORE  -- precision (%): {p * 100}, recall (%): {r * 100}, missing: {len(ms)}')\n",
    "print(f'          tracks found: {len(final_tracks)}, trackml score (%): {trackml_score * 100}')\n",
    "\n",
    "from qc_workbook.hepqpr.qallse.plotting import iplot_results, iplot_results_tracks\n",
    "dims = ['x', 'y']\n",
    "_, missings, _ = diff_rows(final_doublets, dw.get_real_doublets())\n",
    "\n",
    "dout = 'plot-ising_found_tracks.html'\n",
    "iplot_results(dw, final_doublets, missings, dims=dims, filename=dout)"
   ]
  },
  {
   "cell_type": "markdown",
   "metadata": {
    "pycharm": {
     "name": "#%% md\n"
    }
   },
   "source": [
    "**提出するもの**\n",
    "- ハミルトニアンを実装する部分のコード"
   ]
  }
 ],
 "metadata": {
  "kernelspec": {
   "display_name": "Python 3 (ipykernel)",
   "language": "python",
   "name": "python3"
  },
  "language_info": {
   "codemirror_mode": {
    "name": "ipython",
    "version": 3
   },
   "file_extension": ".py",
   "mimetype": "text/x-python",
   "name": "python",
   "nbconvert_exporter": "python",
   "pygments_lexer": "ipython3",
   "version": "3.8.10"
  },
  "widgets": {
   "application/vnd.jupyter.widget-state+json": {
    "state": {},
    "version_major": 2,
    "version_minor": 0
   }
  }
 },
 "nbformat": 4,
 "nbformat_minor": 4
}