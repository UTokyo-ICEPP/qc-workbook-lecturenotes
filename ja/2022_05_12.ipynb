{
 "cells": [
  {
   "cell_type": "markdown",
   "id": "9fb074c9-3f3d-4933-827f-388d58631e82",
   "metadata": {},
   "source": [
    "## 最初に次の二つのセルを実行しておいてください"
   ]
  },
  {
   "cell_type": "code",
   "execution_count": null,
   "id": "199df381-91cf-41be-aaa9-e2a62d56eea7",
   "metadata": {
    "tags": [
     "raises-exception",
     "remove-output"
    ]
   },
   "outputs": [],
   "source": [
    "import sys\n",
    "sys.path.append('/home/jovyan/qc-workbook-lecturenotes/ja')\n",
    "import numpy as np\n",
    "import matplotlib.pyplot as plt\n",
    "from IPython.display import Math\n",
    "from qiskit import QuantumRegister, ClassicalRegister, QuantumCircuit, IBMQ, Aer, transpile\n",
    "from qiskit.circuit import Parameter\n",
    "from qiskit.tools.monitor import job_monitor\n",
    "from qiskit.providers import JobStatus\n",
    "from qiskit.providers.ibmq import least_busy, IBMQProviderError\n",
    "from qc_workbook.show_state import statevector_expr\n",
    "from qc_workbook.optimized_additions import optimized_additions\n",
    "from qc_workbook.utils import operational_backend, find_best_chain\n",
    "from qc_workbook.dynamics import make_heisenberg_circuits, plot_heisenberg_spins"
   ]
  },
  {
   "cell_type": "code",
   "execution_count": null,
   "id": "3e17fe30-372c-48d6-abff-4cba7416f7fc",
   "metadata": {
    "tags": [
     "raises-exception",
     "remove-output"
    ]
   },
   "outputs": [],
   "source": [
    "n_spins = 5\n",
    "M = 10\n",
    "omegadt = 0.1\n",
    "\n",
    "IBMQ.load_account()\n",
    "\n",
    "try:\n",
    "    provider = IBMQ.get_provider(hub='ibm-q-utokyo', group='internal', project='qc-training22')\n",
    "except IBMQProviderError:\n",
    "    provider = IBMQ.get_provider(hub='ibm-q', group='open', project='main')\n",
    "    \n",
    "backend_list = provider.backends(filters=operational_backend(min_qubits=n_spins, min_qv=32))\n",
    "backend = least_busy(backend_list)\n",
    "\n",
    "print(f'Job will run on {backend.name()}')\n",
    "\n",
    "circuits = make_heisenberg_circuits(n_spins, M, omegadt)\n",
    "\n",
    "circuits_ibmq = transpile(circuits, backend=backend)\n",
    "\n",
    "job_heisenberg = backend.run(circuits_ibmq, shots=8192)\n",
    "print(f'Submitted job {job_heisenberg.job_id()}')"
   ]
  },
  {
   "cell_type": "markdown",
   "id": "e08cd05e-c097-4acd-9d61-70937e3075f7",
   "metadata": {},
   "source": [
    "$\\newcommand{\\bra}[1]{\\langle #1 |}$\n",
    "$\\newcommand{\\ket}[1]{| #1 \\rangle}$\n",
    "$\\newcommand{\\upket}{\\ket{\\!\\uparrow}}$\n",
    "$\\newcommand{\\downket}{\\ket{\\!\\downarrow}}$\n",
    "$\\newcommand{\\rightket}{\\ket{\\!\\rightarrow}}$\n",
    "$\\newcommand{\\leftket}{\\ket{\\!\\leftarrow}}$\n",
    "\n",
    "# 第2回の講義の残り\n",
    "## 量子テレポーテーション"
   ]
  },
  {
   "cell_type": "code",
   "execution_count": null,
   "id": "26593020-886d-42e0-9d2d-444eb7d1bc0d",
   "metadata": {},
   "outputs": [],
   "source": [
    "# まずは入力ビットを適当な状態にする回路を作る\n",
    "# circuit.u (U3 gate)は3パラメータで一つの量子ビットを完全にコントロールするゲート\n",
    "prep_circuit = QuantumCircuit(1, name='prep')\n",
    "prep_circuit.u(0.7, 1.8, 2.1, 0)\n",
    "\n",
    "reg_in = QuantumRegister(1, name='in')\n",
    "reg_out = QuantumRegister(2, name='out')\n",
    "res_in = ClassicalRegister(1)\n",
    "res_ent = ClassicalRegister(1)\n",
    "\n",
    "circuit = QuantumCircuit(reg_in, reg_out, res_in, res_ent)\n",
    "\n",
    "# まずreg_inをprep_circuitの状態にする\n",
    "circuit.append(prep_circuit, qargs=reg_in)\n",
    "\n",
    "# reg_outはベル状態に用意する\n",
    "circuit.h(reg_out[0])\n",
    "circuit.cx(reg_out[0], reg_out[1])\n",
    "\n",
    "# reg_inとreg_outの第一ビットをエンタングルさせる\n",
    "circuit.cx(reg_in[0], reg_out[0])\n",
    "\n",
    "# reg_inにアダマールゲートをかけ、測定する\n",
    "circuit.h(reg_in[0])\n",
    "circuit.measure(reg_in[0], res_in[0])\n",
    "\n",
    "# reg_outのエンタングルしたビットも測定する\n",
    "circuit.measure(reg_out[0], res_ent[0])\n",
    "\n",
    "# reg_out[1]にreg_in, reg_entの測定結果に応じたゲートをかける\n",
    "circuit.x(reg_out[1]).c_if(res_ent[0], 1)\n",
    "circuit.z(reg_out[1]).c_if(res_in[0], 1)\n",
    "\n",
    "circuit.draw('mpl')"
   ]
  },
  {
   "cell_type": "markdown",
   "id": "614eabec-81dc-40cb-8297-c7b817118a45",
   "metadata": {},
   "source": [
    "入力ビットの状態は"
   ]
  },
  {
   "cell_type": "code",
   "execution_count": null,
   "id": "754d5654-3b91-4c95-bc22-8275a2d2dcba",
   "metadata": {},
   "outputs": [],
   "source": [
    "Math(statevector_expr(prep_circuit, state_label=r'\\text{in}'))"
   ]
  },
  {
   "cell_type": "markdown",
   "id": "12989a2e-9547-4a9d-b1b2-d4140ede5f3f",
   "metadata": {},
   "source": [
    "回路の終状態は"
   ]
  },
  {
   "cell_type": "code",
   "execution_count": null,
   "id": "e15b7ce4-803d-45ae-beb1-a78836a1b1d3",
   "metadata": {},
   "outputs": [],
   "source": [
    "Math(statevector_expr(circuit, register_sizes=(1, 1, 1)))"
   ]
  },
  {
   "cell_type": "markdown",
   "id": "abf84099-6347-4f25-b8b9-7771ace123b3",
   "metadata": {},
   "source": [
    "## トランスパイル\n",
    "\n",
    "[ibmq_limaのトポロジー](https://quantum-computing.ibm.com/services?services=systems&system=ibmq_lima)"
   ]
  },
  {
   "cell_type": "code",
   "execution_count": null,
   "id": "ece0b3b9-3054-4325-8e75-fe530ddb219b",
   "metadata": {},
   "outputs": [],
   "source": [
    "backend = provider.get_backend('ibmq_lima')"
   ]
  },
  {
   "cell_type": "code",
   "execution_count": null,
   "id": "a5ab2e7d-6c73-4e9f-997b-92ed283fe9c2",
   "metadata": {},
   "outputs": [],
   "source": [
    "# 論理ビット0と1の間でCXをやるだけの回路\n",
    "circuit = QuantumCircuit(2)\n",
    "circuit.cx(0, 1)\n",
    "\n",
    "# 論理ビットをあえて離れた物理ビットにマップする\n",
    "circuit = transpile(circuit, backend=backend, initial_layout=[0, 4])\n",
    "circuit.draw('mpl')"
   ]
  },
  {
   "cell_type": "code",
   "execution_count": null,
   "id": "a7eb2fd8-3aab-4e7d-bf76-5b7bbdcc8d60",
   "metadata": {},
   "outputs": [],
   "source": [
    "# Toffoliゲートの回路\n",
    "circuit = QuantumCircuit(3)\n",
    "circuit.ccx(0, 1, 2)\n",
    "\n",
    "circuit.draw('mpl')"
   ]
  },
  {
   "cell_type": "code",
   "execution_count": null,
   "id": "7b993d6a-973f-4a0c-b8b2-a8188a675245",
   "metadata": {},
   "outputs": [],
   "source": [
    "# 実機に送られる回路\n",
    "circuit = transpile(circuit, backend=backend)\n",
    "circuit.draw('mpl')"
   ]
  },
  {
   "cell_type": "markdown",
   "id": "d3f7e30d-998b-45aa-b561-42918115c237",
   "metadata": {},
   "source": [
    "# 計算をする量子回路の実装"
   ]
  },
  {
   "cell_type": "markdown",
   "id": "5a3f2c0a-a8e5-4d7a-b9cd-404c168eb12d",
   "metadata": {},
   "source": [
    "## 量子フーリエ変換\n",
    "\n",
    "$$\n",
    "U_{\\mathrm{QFT}} \\ket{j} = \\frac{1}{\\sqrt{2^n}}\\sum_{k=0}^{2^n-1} e^{2\\pi i jk/2^n} \\ket{k}\n",
    "$$\n",
    "\n",
    "QFTは量子回路で実装でき、線形なので、状態$\\ket{\\psi} = \\sum_{j=0}^{2^n-1} c_j \\ket{j}$に対しては\n",
    "\n",
    "$$\n",
    "\\begin{split}\n",
    "U_{\\mathrm{QFT}} \\ket{\\psi} & = \\frac{1}{\\sqrt{2^n}} \\sum_{j=0}^{2^n-1} c_j \\sum_{k=0}^{2^n-1} e^{2\\pi i jk/2^n} \\ket{k} \\\\\n",
    "& = \\frac{1}{\\sqrt{2^n}} \\sum_{k=0}^{2^n-1} \\tilde{c}_k \\ket{k} \\quad \\left( \\tilde{c}_k = \\sum_{j=0}^{2^n-1} c_j e^{2\\pi i jk/2^n} \\right)\n",
    "\\end{split}\n",
    "$$\n",
    "\n",
    "となり、振幅$\\{c_j\\}_j$の離散フーリエ変換が引き起こされることがわかります。\n",
    "\n",
    "**例：$n=6$の時のQFT回路**"
   ]
  },
  {
   "cell_type": "code",
   "execution_count": null,
   "id": "b6f115c4-d31e-4fac-928c-c8262f9b25aa",
   "metadata": {
    "tags": []
   },
   "outputs": [],
   "source": [
    "num_qubits = 6\n",
    "\n",
    "circuit = QuantumCircuit(num_qubits)\n",
    "\n",
    "# 具体的にするため、入力状態を|23>とする\n",
    "j = 23\n",
    "\n",
    "## jの２進数表現で値が1になっているビットに対してXを作用させる -> 状態|j>を作る\n",
    "\n",
    "for i in range(num_qubits):\n",
    "    # j >> i: 整数jをi桁だけ右にビットシフトする。\n",
    "    # 例えば j=13=001101 を i=2 右にシフトすると、000011 (右端の01が切り捨てられる)となる。\n",
    "    # a & 1: 整数aと1とのビットごとのANDを取る。要するに一番右端のビットに1があるかどうかを見る。\n",
    "    if ((j >> i) & 1) == 1:\n",
    "        circuit.x(i)\n",
    "\n",
    "circuit.barrier()\n",
    "\n",
    "## ここからがQFT\n",
    "\n",
    "# n-1から0まで標的ビットについてループ\n",
    "for itarg in range(num_qubits - 1, -1, -1):\n",
    "    # 標的ビットにアダマールゲートをかける\n",
    "    circuit.h(itarg)\n",
    "    # target - 1から0まで制御ビットについてループ\n",
    "    for ictrl in range(itarg - 1, -1, -1):\n",
    "        # 標的と制御ビットのインデックスに応じた角度で制御Pゲートをかける\n",
    "        power = ictrl - itarg - 1 + num_qubits\n",
    "        circuit.cp((2 ** power) * 2. * np.pi / (2 ** num_qubits), ictrl, itarg)\n",
    "        \n",
    "    # 回路図を見やすくするためにバリアを入れる\n",
    "    circuit.barrier()\n",
    "\n",
    "# 最後にビットの順番を反転させる\n",
    "for i in range(num_qubits // 2):\n",
    "    circuit.swap(i, num_qubits - 1 - i)\n",
    "    \n",
    "## ここまでがQFT\n",
    "\n",
    "circuit.draw('mpl')"
   ]
  },
  {
   "cell_type": "markdown",
   "id": "e9060df5-2aa7-4e1e-b550-2ac5fb0be190",
   "metadata": {},
   "source": [
    "**状態ベクトルの表示**"
   ]
  },
  {
   "cell_type": "code",
   "execution_count": null,
   "id": "0f55f61e-1b06-4d4a-8a5b-e9e4c2c5c40a",
   "metadata": {
    "tags": []
   },
   "outputs": [],
   "source": [
    "sqrt_2_to_n = 2 ** (num_qubits // 2)\n",
    "amp_norm = (1. / sqrt_2_to_n, r'\\frac{1}{%d}' % sqrt_2_to_n)\n",
    "phase_norm = (2 * np.pi / (2 ** num_qubits), r'\\frac{2 \\pi i}{%d}' % (2 ** num_qubits))\n",
    "expr = statevector_expr(circuit, amp_norm=amp_norm, phase_norm=phase_norm)\n",
    "Math(expr)"
   ]
  },
  {
   "cell_type": "markdown",
   "id": "3593fbd1-b0f0-47c2-8e29-fa059b9bd67e",
   "metadata": {},
   "source": [
    "## 量子フーリエ変換による足し算\n",
    "\n",
    "$$\n",
    "\\ket{0}_{\\mathrm{out}}\\ket{b}_{\\mathrm{in2}}\\ket{a}_{\\mathrm{in1}} \\rightarrow \\ket{a+b}_{\\mathrm{out}}\\ket{b}_{\\mathrm{in2}}\\ket{a}_{\\mathrm{in1}}\n",
    "$$\n",
    "\n",
    "**足し算回路を組む関数**"
   ]
  },
  {
   "cell_type": "code",
   "execution_count": null,
   "id": "72b7764d-7eb8-4ca0-aa1b-2e850872d458",
   "metadata": {
    "tags": [
     "remove-output"
    ]
   },
   "outputs": [],
   "source": [
    "def setup_addition(circuit, reg1, reg2, reg3):\n",
    "    # reg3にequal superpositionを生成\n",
    "    # QuantumCircuitの1量子ビットゲートに対応するメソッド（circuit.hなど）に単一の量子ビットの代わりに\n",
    "    # レジスタや量子ビットのリストを渡すと、含まれる全ての量子ビットに同じゲートをかけてくれる\n",
    "    circuit.h(reg3)\n",
    "\n",
    "    # 位相の単位（dphiの整数倍の位相をCPゲートでかけていく）\n",
    "    dphi = 2. * np.pi / (2 ** reg3.size)\n",
    "\n",
    "    # reg1とreg2それぞれの量子ビットで制御する\n",
    "    for reg_ctrl in [reg1, reg2]:\n",
    "        # 制御ビットに関するループ\n",
    "        for ictrl, qctrl in enumerate(reg_ctrl):\n",
    "            # reg3の標的ビットに関するループ\n",
    "            for itarg, qtarg in enumerate(reg3):\n",
    "                # C[P(phi)], phi = 2pi * 2^{ictrl} * 2^{itarg} / 2^{n3}\n",
    "                circuit.cp(dphi * (2 ** (ictrl + itarg)), qctrl, qtarg)\n",
    "\n",
    "    # 回路図を見やすくするためのバリア\n",
    "    circuit.barrier()\n",
    "\n",
    "    # Inverse QFT\n",
    "    for j in range(reg3.size // 2):\n",
    "        circuit.swap(reg3[j], reg3[-1 - j])\n",
    "\n",
    "    for itarg in range(reg3.size):\n",
    "        for ictrl in range(itarg):\n",
    "            power = ictrl - itarg - 1 + reg3.size\n",
    "            circuit.cp(-dphi * (2 ** power), reg3[ictrl], reg3[itarg])\n",
    "        \n",
    "        circuit.h(reg3[itarg])\n",
    "        \n",
    "print('Defined function setup_addition')"
   ]
  },
  {
   "cell_type": "markdown",
   "id": "6ffe567c-e2e6-40ca-b701-96b422d5be3c",
   "metadata": {},
   "source": [
    "**9+13を計算する**"
   ]
  },
  {
   "cell_type": "code",
   "execution_count": null,
   "id": "4180891c-8850-4569-a457-3d131627491c",
   "metadata": {
    "tags": []
   },
   "outputs": [],
   "source": [
    "a = 9\n",
    "b = 13\n",
    "\n",
    "# 入力の値を二進数表現できる最小のビット数を計算\n",
    "n1 = np.ceil(np.log2(a + 1)).astype(int)\n",
    "n2 = np.ceil(np.log2(b + 1)).astype(int)\n",
    "n3 = np.ceil(np.log2(a + b + 1)).astype(int)\n",
    "\n",
    "print(f'n1={n1}, n2={n2}, n3={n3}')\n",
    "\n",
    "reg1 = QuantumRegister(n1, 'r1')\n",
    "reg2 = QuantumRegister(n2, 'r2')\n",
    "reg3 = QuantumRegister(n3, 'r3')\n",
    "\n",
    "# QuantumCircuitは量子ビット数の代わりにレジスタを渡しても作成できる\n",
    "circuit = QuantumCircuit(reg1, reg2, reg3)\n",
    "\n",
    "# reg1を|a>にする\n",
    "a_bits = np.unpackbits(np.asarray(a, dtype=np.uint8), bitorder='little')\n",
    "for idx in np.nonzero(a_bits)[0]:\n",
    "    circuit.x(reg1[idx])\n",
    "\n",
    "# reg2を|b>にする\n",
    "b_bits = np.unpackbits(np.asarray(b, dtype=np.uint8), bitorder='little')\n",
    "for idx in np.nonzero(b_bits)[0]:\n",
    "    circuit.x(reg2[idx])\n",
    "\n",
    "# 足し算ルーチンを呼ぶ\n",
    "setup_addition(circuit, reg1, reg2, reg3)\n",
    "\n",
    "# 回路図を確認\n",
    "circuit.draw('mpl')"
   ]
  },
  {
   "cell_type": "markdown",
   "id": "90ae5fad-d77e-4c4f-9605-ecf9db59ac13",
   "metadata": {},
   "source": [
    "**終状態**"
   ]
  },
  {
   "cell_type": "code",
   "execution_count": null,
   "id": "78698751-8517-4765-ba97-565645b1779b",
   "metadata": {
    "tags": []
   },
   "outputs": [],
   "source": [
    "expr = statevector_expr(circuit, register_sizes=(n1, n2, n3))\n",
    "Math(expr)"
   ]
  },
  {
   "cell_type": "markdown",
   "id": "64c64a7a-f57f-4b01-bd7f-7d99d031990a",
   "metadata": {},
   "source": [
    "## 足し算の並列化\n",
    "\n",
    "$$\n",
    "\\frac{1}{\\sqrt{2^{n_1 + n_2}}} \\sum_{j=0}^{2^{n_1}-1} \\sum_{k=0}^{2^{n_2}-1} \\ket{0}\\ket{k}\\ket{j} \\rightarrow \\frac{1}{\\sqrt{2^{n_1 + n_2}}} \\sum_{j=0}^{2^{n_1}-1} \\sum_{k=0}^{2^{n_2}-1} \\ket{j+k}\\ket{k}\\ket{j}\n",
    "$$"
   ]
  },
  {
   "cell_type": "code",
   "execution_count": null,
   "id": "73d8b8f6-1641-41fa-9d0c-254faf377475",
   "metadata": {
    "tags": []
   },
   "outputs": [],
   "source": [
    "n1 = 4\n",
    "n2 = 4\n",
    "n3 = np.ceil(np.log2((2 ** n1) + (2 ** n2) - 1)).astype(int)\n",
    "\n",
    "reg1 = QuantumRegister(n1, 'r1')\n",
    "reg2 = QuantumRegister(n2, 'r2')\n",
    "reg3 = QuantumRegister(n3, 'r3')\n",
    "\n",
    "circuit = QuantumCircuit(reg1, reg2, reg3)\n",
    "\n",
    "# reg1とreg2をequal superpositionにする\n",
    "circuit.h(reg1)\n",
    "circuit.h(reg2)\n",
    "\n",
    "setup_addition(circuit, reg1, reg2, reg3)\n",
    "    \n",
    "expr = statevector_expr(circuit, register_sizes=(n1, n2, n3), amp_norm=(1. / np.sqrt(2 ** (n1 + n2)), r'\\frac{1}{\\sqrt{2^{n_1 + n_2}}}'))\n",
    "Math(expr)"
   ]
  },
  {
   "cell_type": "markdown",
   "id": "53cc5155-656a-4d9c-b9b1-fd62a0b96d11",
   "metadata": {},
   "source": [
    "## シミュレータでの実行"
   ]
  },
  {
   "cell_type": "code",
   "execution_count": null,
   "id": "1b7ac63e-c4bf-4bf0-a632-7795dcfa17c6",
   "metadata": {
    "tags": [
     "remove-output"
    ]
   },
   "outputs": [],
   "source": [
    "qasm_simulator = Aer.get_backend('qasm_simulator')\n",
    "\n",
    "# 回路に測定を加えてトランスパイルする\n",
    "circuit.measure_all()\n",
    "circuit = transpile(circuit, backend=qasm_simulator)\n",
    "\n",
    "job = qasm_simulator.run(circuit, shots=20)\n",
    "counts = job.result().get_counts()\n",
    "\n",
    "heights = []\n",
    "labels = []\n",
    "\n",
    "for key, value in counts.items():\n",
    "    heights.append(value)\n",
    "\n",
    "    # countsのキーはひとつなぎの二進数なので、出力, 入力2, 入力1の値が読み取れるように切り分ける\n",
    "    # 4 + 4 桁なら\n",
    "    #  00110 0101 0001 -> 6 = 5 + 1\n",
    "    #  n3    n2   n1\n",
    "    x1 = int(key[-n1:], 2) # last n1 digits\n",
    "    x2 = int(key[-n1 - n2:-n1], 2) # next-to-last n2 digits\n",
    "    x3 = int(key[:-n1 - n2], 2) # first n3 digits\n",
    "    labels.append('{} + {} = {}'.format(x1, x2, x3))\n",
    "\n",
    "x = np.linspace(0., len(labels), len(labels), endpoint=False)\n",
    "\n",
    "# 棒グラフをプロット\n",
    "plt.bar(x, heights, width=0.5)\n",
    "\n",
    "# ビジュアルを調整\n",
    "plt.xticks(ticks=(x - 0.2), labels=labels, rotation=70)\n",
    "plt.tick_params('x', length=0.)"
   ]
  },
  {
   "cell_type": "markdown",
   "id": "36260c4f-587a-4c72-b590-d4a9bb8dbe03",
   "metadata": {},
   "source": [
    "# 量子ダイナミクスシミュレーション"
   ]
  },
  {
   "cell_type": "markdown",
   "id": "b8f4dce5-bbde-468a-b746-6e49d6fcb5e1",
   "metadata": {},
   "source": [
    "## $\\exp \\left(\\frac{i\\theta}{2} \\sigma^{X,Y,Z}_j \\sigma^{X,Y,Z}_{j+1}\\right)$の実装"
   ]
  },
  {
   "cell_type": "code",
   "execution_count": null,
   "id": "ca03607c-b3ce-416c-89b6-5223ed15049a",
   "metadata": {},
   "outputs": [],
   "source": [
    "# Rzzの回路\n",
    "circuit = QuantumCircuit(QuantumRegister(2, 'spin'))\n",
    "circuit.cx(0, 1)\n",
    "circuit.rz(Parameter(r'-$\\theta$'), 1)\n",
    "circuit.cx(0, 1)\n",
    "circuit.draw('mpl')"
   ]
  },
  {
   "cell_type": "code",
   "execution_count": null,
   "id": "31110204-b596-443c-b064-2d7bab74ceac",
   "metadata": {},
   "outputs": [],
   "source": [
    "# equal superpositionにRzzをかけてみる\n",
    "theta = 0.2\n",
    "\n",
    "circuit = QuantumCircuit(QuantumRegister(2, 'spin'))\n",
    "\n",
    "circuit.h([0, 1])\n",
    "\n",
    "circuit.cx(0, 1)\n",
    "circuit.rz(-theta, 1)\n",
    "circuit.cx(0, 1)\n",
    "\n",
    "Math(statevector_expr(circuit, phase_norm=None, amp_norm=(0.5, r'\\frac{1}{2}'), binary=True))"
   ]
  },
  {
   "cell_type": "code",
   "execution_count": null,
   "id": "d0f98495-741a-467c-97e4-006a9add2f5a",
   "metadata": {},
   "outputs": [],
   "source": [
    "# Rxxの回路\n",
    "circuit = QuantumCircuit(QuantumRegister(2, 'q'))\n",
    "# 基底の変換（Xの固有ベクトルをZの固有ベクトルに）\n",
    "circuit.h(0)\n",
    "circuit.h(1)\n",
    "# Rzz\n",
    "circuit.cx(0, 1)\n",
    "circuit.rz(Parameter(r'-$\\theta$'), 1)\n",
    "circuit.cx(0, 1)\n",
    "# 基底の逆変換（Zの固有ベクトルをXの固有ベクトルに）\n",
    "circuit.h(0)\n",
    "circuit.h(1)\n",
    "\n",
    "circuit.draw('mpl')"
   ]
  },
  {
   "cell_type": "code",
   "execution_count": null,
   "id": "577e4b59-aac0-4cbc-8524-c13c33c2e33e",
   "metadata": {},
   "outputs": [],
   "source": [
    "# Ryyの回路\n",
    "circuit = QuantumCircuit(QuantumRegister(2, 'q'))\n",
    "# 基底の変換（Yの固有ベクトルをXの固有ベクトルに）\n",
    "circuit.p(-np.pi / 2., 0)\n",
    "circuit.p(-np.pi / 2., 1)\n",
    "# 基底の変換（Xの固有ベクトルをZの固有ベクトルに）\n",
    "circuit.h(0)\n",
    "circuit.h(1)\n",
    "# Rzz\n",
    "circuit.cx(0, 1)\n",
    "circuit.rz(Parameter(r'-$\\theta$'), 1)\n",
    "circuit.cx(0, 1)\n",
    "# 基底の逆変換（Zの固有ベクトルをXの固有ベクトルに）\n",
    "circuit.h(0)\n",
    "circuit.h(1)\n",
    "# 基底の逆変換（Xの固有ベクトルをYの固有ベクトルに）\n",
    "circuit.p(np.pi / 2., 0)\n",
    "circuit.p(np.pi / 2., 1)\n",
    "\n",
    "circuit.draw('mpl')"
   ]
  },
  {
   "cell_type": "markdown",
   "id": "26ce89be-d301-4915-8db4-47eb5063e8ef",
   "metadata": {},
   "source": [
    "## ハイゼンベルグモデルの回路\n",
    "\n",
    "初期状態$\\rightket\\upket\\upket\\upket\\upket$（量子レジスタでの表現では右から書くので$\\ket{0}\\ket{0}\\ket{0}\\ket{0}\\frac{1}{\\sqrt{2}}(\\ket{0} + \\ket{1})$）"
   ]
  },
  {
   "cell_type": "code",
   "execution_count": null,
   "id": "90c30e99-2d67-4da8-9753-52885448f698",
   "metadata": {},
   "outputs": [],
   "source": [
    "n_spins = 5\n",
    "M = 10\n",
    "omegadt = 0.1\n",
    "\n",
    "circuits = []\n",
    "\n",
    "circuit = QuantumCircuit(n_spins)\n",
    "\n",
    "# 第0ビットを 1/√2 (|0> + |1>) にする\n",
    "circuit.h(0)\n",
    "\n",
    "# Δtでの時間発展をM回繰り返すループ\n",
    "for istep in range(M):\n",
    "    # ハミルトニアンのn-1個の項への分解に関するループ\n",
    "    for jspin in range(n_spins - 1):\n",
    "        # ZZ\n",
    "        circuit.cx(jspin, jspin + 1)\n",
    "        circuit.rz(-omegadt, jspin + 1)\n",
    "        circuit.cx(jspin, jspin + 1)\n",
    "\n",
    "        # XX\n",
    "        circuit.h(jspin)\n",
    "        circuit.h(jspin + 1)\n",
    "        circuit.cx(jspin, jspin + 1)\n",
    "        circuit.rz(-omegadt, jspin + 1)\n",
    "        circuit.cx(jspin, jspin + 1)\n",
    "        circuit.h(jspin)\n",
    "        circuit.h(jspin + 1)\n",
    "\n",
    "        # YY\n",
    "        circuit.p(-np.pi / 2., jspin)\n",
    "        circuit.p(-np.pi / 2., jspin + 1)\n",
    "        circuit.h(jspin)\n",
    "        circuit.h(jspin + 1)\n",
    "        circuit.cx(jspin, jspin + 1)\n",
    "        circuit.rz(-omegadt, jspin + 1)\n",
    "        circuit.cx(jspin, jspin + 1)\n",
    "        circuit.h(jspin)\n",
    "        circuit.h(jspin + 1)\n",
    "        circuit.p(np.pi / 2., jspin)\n",
    "        circuit.p(np.pi / 2., jspin + 1)\n",
    "\n",
    "    # この時点での回路のコピーをリストに保存\n",
    "    # measure_all(inplace=False) はここまでの回路のコピーに測定を足したものを返す\n",
    "    circuits.append(circuit.measure_all(inplace=False))\n",
    "    \n",
    "print(f'{len(circuits)} circuits created')"
   ]
  },
  {
   "cell_type": "markdown",
   "id": "854c6cb4-ae44-419e-a57d-abd418cae0cb",
   "metadata": {},
   "source": [
    "qasm_simulatorで実行"
   ]
  },
  {
   "cell_type": "code",
   "execution_count": null,
   "id": "487a3069-8070-4e4e-a951-140be4fd8d51",
   "metadata": {},
   "outputs": [],
   "source": [
    "# Define the initial statevector\n",
    "initial_state = np.zeros(2 ** n_spins, dtype=np.complex128)\n",
    "initial_state[0:2] = np.sqrt(0.5)\n",
    "\n",
    "shots = 100000\n",
    "\n",
    "qasm_simulator = Aer.get_backend('qasm_simulator')\n",
    "\n",
    "circuits = transpile(circuits, backend=qasm_simulator)\n",
    "sim_job = qasm_simulator.run(circuits, shots=shots)\n",
    "sim_counts_list = sim_job.result().get_counts()\n",
    "   \n",
    "plot_heisenberg_spins(sim_counts_list, n_spins, initial_state, omegadt, add_theory_curve=True)"
   ]
  },
  {
   "cell_type": "markdown",
   "id": "a78b7d75-bb7f-4c00-aaf6-f6b2e8e0c688",
   "metadata": {},
   "source": [
    "講義の最初に投げたジョブは同じ内容を実機で実行するもの"
   ]
  },
  {
   "cell_type": "code",
   "execution_count": null,
   "id": "2f07b756-1c65-4879-ae43-e697b9da6e2d",
   "metadata": {
    "tags": [
     "raises-exception",
     "remove-output"
    ]
   },
   "outputs": [],
   "source": [
    "## ノートブックを再起動したなどの理由で、もともとのジョブオブジェクトにアクセスできない場合\n",
    "## __backend_name__ と __job_id__ はIBM Quantumのページの Recent jobsから確認できる\n",
    "# backend = provider.get_backend('__backend_name__')\n",
    "# job_heisenberg = backend.retrieve_job('__job_id__')\n",
    "\n",
    "if job_heisenberg.status() == JobStatus.DONE:\n",
    "    counts_list = job_heisenberg.result().get_counts()\n",
    "    plot_heisenberg_spins(counts_list, n_spins, initial_state, omegadt, add_theory_curve=True)\n",
    "else:\n",
    "    print('Sorry, come back later!')"
   ]
  },
  {
   "cell_type": "code",
   "execution_count": null,
   "id": "4ecb3de6-d580-4b72-acbf-2e095bc37e87",
   "metadata": {},
   "outputs": [],
   "source": []
  }
 ],
 "metadata": {
  "kernelspec": {
   "display_name": "Python 3 (ipykernel)",
   "language": "python",
   "name": "python3"
  },
  "language_info": {
   "codemirror_mode": {
    "name": "ipython",
    "version": 3
   },
   "file_extension": ".py",
   "mimetype": "text/x-python",
   "name": "python",
   "nbconvert_exporter": "python",
   "pygments_lexer": "ipython3",
   "version": "3.8.10"
  }
 },
 "nbformat": 4,
 "nbformat_minor": 5
}
