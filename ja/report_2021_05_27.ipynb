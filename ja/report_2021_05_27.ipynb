{
 "cells": [
  {
   "cell_type": "markdown",
   "metadata": {},
   "source": [
    "# 【課題】量子機械学習を使って、新しい素粒子現象の発見を目指す\n",
    "\n",
    "以下の実習「素粒子現象の探索への応用」で行った手法を、どういう方法でも良い (ただし量子回路を使った手法に限る）ので、改良する方法を考えてください（ただし、「データサンプルの事象数を増やす」方法は除きます）。\n",
    "\n",
    "例えば:\n",
    "\n",
    "- 入力変数の選び方（数やどの変数を使うか）\n",
    "- 特徴量マップの構造（変数変換の方法やゲートの選び方など）\n",
    "- 変分フォームの構造（ゲートの選び方、回路の深さ、エンタングルの方法など）\n",
    "- 変分量子回路以外の方法でもOK\n",
    "\n",
    "ここでは、「改良」の定義は\n",
    "\n",
    "- 訓練用データでのAUC値の向上\n",
    "- テスト用データでのAUC値の向上\n",
    "\n",
    "とします。\n",
    "\n",
    "**提出方法は自由です**。\n",
    "- 改良した結果のプロットやコードなど（以下のNotebookでコードセルを追加・修正などして出してもらっても良いですし、全く新しく作ってもらっても構いません）\n",
    "- テキストに書いた考察でもOK（ただし、なぜそう考えるか理由を添えてください)\n",
    "\n",
    "**注**：使うコードがqiskitの古いバージョンに対応したものなので、いろいろWarningが出ると思いますが無視してもらって大丈夫です。"
   ]
  },
  {
   "cell_type": "markdown",
   "source": [
    "## 素粒子現象の探索への応用"
   ],
   "metadata": {
    "collapsed": false
   }
  },
  {
   "cell_type": "code",
   "execution_count": 1,
   "metadata": {
    "jupyter": {
     "outputs_hidden": false
    },
    "pycharm": {
     "name": "#%%\n"
    }
   },
   "outputs": [
    {
     "name": "stderr",
     "output_type": "stream",
     "text": [
      "/Users/terashi/miniconda3/lib/python3.6/site-packages/qiskit/__init__.py:67: DeprecationWarning: Using Qiskit with Python 3.6 is deprecated as of the 0.17.0 release. Support for running Qiskit with Python 3.6 will be removed in a future release.\n",
      "  \"future release.\", DeprecationWarning)\n"
     ]
    }
   ],
   "source": [
    "# Tested with python 3.7.9, qiskit 0.23.5, numpy 1.20.1\n",
    "import logging\n",
    "import numpy as np\n",
    "\n",
    "import matplotlib.pyplot as plt\n",
    "import pandas as pd\n",
    "\n",
    "from qiskit import QuantumCircuit, ClassicalRegister, QuantumRegister, Aer, execute\n",
    "from qiskit.circuit.library import TwoLocal, ZFeatureMap, ZZFeatureMap\n",
    "from qiskit.aqua import QuantumInstance, set_qiskit_aqua_logging\n",
    "from qiskit.aqua.algorithms import VQC\n",
    "from qiskit.aqua.utils import split_dataset_to_data_and_labels, map_label_to_class_name\n",
    "from qiskit.algorithms.optimizers import SPSA, COBYLA\n",
    "\n",
    "#set_qiskit_aqua_logging(logging.DEBUG)  # choose INFO, DEBUG to see the log"
   ]
  },
  {
   "cell_type": "markdown",
   "metadata": {},
   "source": [
    "### 学習データの準備<a id='susy_data'></a>"
   ]
  },
  {
   "cell_type": "code",
   "execution_count": null,
   "metadata": {
    "jupyter": {
     "outputs_hidden": false
    },
    "pycharm": {
     "name": "#%%\n"
    }
   },
   "outputs": [],
   "source": [
    "# ファイルから変数を読み出す\n",
    "df = pd.read_csv(\"data/SUSY_1K.csv\",\n",
    "                 names=('isSignal','lep1_pt','lep1_eta','lep1_phi','lep2_pt','lep2_eta',\n",
    "                        'lep2_phi','miss_ene','miss_phi','MET_rel','axial_MET','M_R','M_TR_2',\n",
    "                        'R','MT2','S_R','M_Delta_R','dPhi_r_b','cos_theta_r1'))\n",
    "\n",
    "# 学習に使う変数の数\n",
    "feature_dim = 3  # dimension of each data point\n",
    "\n",
    "# 3, 5, 7変数の場合に使う変数のセット\n",
    "if feature_dim == 3:\n",
    "    SelectedFeatures = ['lep1_pt', 'lep2_pt', 'miss_ene']\n",
    "elif feature_dim == 5:\n",
    "    SelectedFeatures = ['lep1_pt','lep2_pt','miss_ene','M_TR_2','M_Delta_R']\n",
    "elif feature_dim == 7:\n",
    "    SelectedFeatures = ['lep1_pt','lep1_eta','lep2_pt','lep2_eta','miss_ene','M_TR_2','M_Delta_R']\n",
    "\n",
    "# 学習に使う事象数: trainingは訓練用サンプル、testingはテスト用サンプル\n",
    "training_size = 20\n",
    "testing_size = 20\n",
    "\n",
    "# オプティマイザーをCallする回数の上限\n",
    "niter = 100\n",
    "\n",
    "random_seed = 10598\n",
    "\n",
    "df_sig = df.loc[df.isSignal==1, SelectedFeatures]\n",
    "df_bkg = df.loc[df.isSignal==0, SelectedFeatures]\n",
    "\n",
    "# サンプルの生成\n",
    "df_sig_training = df_sig.values[:training_size]\n",
    "df_bkg_training = df_bkg.values[:training_size]\n",
    "df_sig_test = df_sig.values[training_size:training_size+testing_size]\n",
    "df_bkg_test = df_bkg.values[training_size:training_size+testing_size]\n",
    "training_input = {'1':df_sig_training, '0':df_bkg_training}\n",
    "test_input = {'1':df_sig_test, '0':df_bkg_test}\n",
    "#print('train_input =',training_input)\n",
    "#print('test_input =',test_input)\n",
    "\n",
    "datapoints, class_to_label = split_dataset_to_data_and_labels(test_input)\n",
    "datapoints_tr, class_to_label_tr = split_dataset_to_data_and_labels(training_input)"
   ]
  },
  {
   "cell_type": "markdown",
   "metadata": {
    "pycharm": {
     "name": "#%% md\n"
    }
   },
   "source": [
    "### 量子状態の生成<a id='susy_state_preparation'></a>"
   ]
  },
  {
   "cell_type": "code",
   "execution_count": null,
   "metadata": {
    "jupyter": {
     "outputs_hidden": false
    },
    "pycharm": {
     "name": "#%%\n"
    }
   },
   "outputs": [],
   "source": [
    "feature_map = ZFeatureMap(feature_dim, reps=1)"
   ]
  },
  {
   "cell_type": "markdown",
   "metadata": {},
   "source": [
    "### 変分フォームを使った状態変換<a id='susy_variational_form'></a>"
   ]
  },
  {
   "cell_type": "code",
   "execution_count": null,
   "metadata": {
    "jupyter": {
     "outputs_hidden": false
    },
    "pycharm": {
     "name": "#%%\n"
    }
   },
   "outputs": [],
   "source": [
    "two = TwoLocal(feature_dim, ['ry','rz'], 'cz', 'full', reps=1)\n",
    "two.draw('mpl')"
   ]
  },
  {
   "cell_type": "markdown",
   "metadata": {},
   "source": [
    "### 測定とモデル出力<a id='susy_measurement'></a>"
   ]
  },
  {
   "cell_type": "code",
   "execution_count": null,
   "metadata": {
    "jupyter": {
     "outputs_hidden": false
    },
    "pycharm": {
     "name": "#%%\n"
    }
   },
   "outputs": [],
   "source": [
    "# シミュレータで実行する場合\n",
    "backend = Aer.get_backend('qasm_simulator')\n",
    "\n",
    "# 量子コンピュータで実行する場合\n",
    "#from qiskit import IBMQ\n",
    "#IBMQ.enable_account('__your_token__')\n",
    "#provider0 = IBMQ.get_provider(hub='ibm-q', group='open', project='main')\n",
    "#backend_name = 'ibmq_santiago'\n",
    "#backend = provider0.get_backend(backend_name)\n",
    "\n",
    "\n",
    "optimizer = COBYLA(maxiter=niter, disp=True)\n",
    "vqc = VQC(optimizer, feature_map, two, training_input, test_input)\n",
    "\n",
    "quantum_instance = QuantumInstance(backend=backend, shots=1024,\n",
    "                                   seed_simulator=random_seed, seed_transpiler=random_seed,\n",
    "                                   skip_qobj_validation=True)\n",
    "\n",
    "result = vqc.run(quantum_instance)\n",
    "print(\" --- Testing success ratio: \", result['testing_accuracy'])"
   ]
  },
  {
   "cell_type": "markdown",
   "metadata": {},
   "source": []
  },
  {
   "cell_type": "code",
   "execution_count": null,
   "metadata": {
    "jupyter": {
     "outputs_hidden": false
    },
    "pycharm": {
     "name": "#%%\n"
    }
   },
   "outputs": [],
   "source": [
    "# 結果を求める\n",
    "predicted_probs, predicted_labels = vqc.predict(datapoints[0])\n",
    "prob_test_signal = predicted_probs[:,1]\n",
    "#predicted_classes = map_label_to_class_name(predicted_labels, vqc.label_to_class)\n",
    "#print(\" ---   Prediction:   {}\".format(predicted_classes))\n",
    "predicted_probs_tr, predicted_labels_tr = vqc.predict(datapoints_tr[0])\n",
    "prob_train_signal = predicted_probs_tr[:,1]\n",
    "\n",
    "# ROC曲線を描いてみる\n",
    "from sklearn.metrics import roc_curve, auc, roc_auc_score\n",
    "fpr, tpr, thresholds = roc_curve(datapoints[1], prob_test_signal, drop_intermediate=False)\n",
    "fpr_tr, tpr_tr, thresholds_tr = roc_curve(datapoints_tr[1], prob_train_signal, drop_intermediate=False)\n",
    "roc_auc = auc(fpr, tpr)\n",
    "roc_auc_tr = auc(fpr_tr, tpr_tr)\n",
    "\n",
    "plt.plot(fpr, tpr, color='darkorange', lw=2, label='Testing Data (AUC = %0.3f)' % roc_auc)\n",
    "plt.plot(fpr_tr, tpr_tr, color='darkblue', lw=2, label='Training Data (AUC = %0.3f)' % roc_auc_tr)\n",
    "plt.plot([0, 0], [1, 1], color='navy', lw=2, linestyle='--')\n",
    "plt.xlim([-0.05, 1.0])\n",
    "plt.ylim([0.0, 1.05])\n",
    "plt.xlabel('False Positive Rate')\n",
    "plt.ylabel('True Positive Rate')\n",
    "plt.legend(loc=\"lower right\")\n",
    "plt.show()\n"
   ]
  }
 ],
 "metadata": {
  "execution": {
   "timeout": -1
  },
  "kernelspec": {
   "display_name": "Python 3",
   "language": "python",
   "name": "python3"
  },
  "language_info": {
   "codemirror_mode": {
    "name": "ipython",
    "version": 3
   },
   "file_extension": ".py",
   "mimetype": "text/x-python",
   "name": "python",
   "nbconvert_exporter": "python",
   "pygments_lexer": "ipython3",
   "version": "3.6.7"
  },
  "varInspector": {
   "cols": {
    "lenName": 16,
    "lenType": 16,
    "lenVar": 40
   },
   "kernels_config": {
    "python": {
     "delete_cmd_postfix": "",
     "delete_cmd_prefix": "del ",
     "library": "var_list.py",
     "varRefreshCmd": "print(var_dic_list())"
    },
    "r": {
     "delete_cmd_postfix": ") ",
     "delete_cmd_prefix": "rm(",
     "library": "var_list.r",
     "varRefreshCmd": "cat(var_dic_list()) "
    }
   },
   "types_to_exclude": [
    "module",
    "function",
    "builtin_function_or_method",
    "instance",
    "_Feature"
   ],
   "window_display": false
  }
 },
 "nbformat": 4,
 "nbformat_minor": 4
}
