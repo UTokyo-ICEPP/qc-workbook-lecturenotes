{
 "cells": [
  {
   "cell_type": "markdown",
   "metadata": {},
   "source": [
    "# 2021/05/20"
   ]
  },
  {
   "cell_type": "markdown",
   "metadata": {},
   "source": [
    "## 単一量子ビットでの変分フォームの例\n",
    "単一量子ビットの変分フォームを利用してパラメータ最適化を実行してみます。例として、ランダムな確率分布のベクトル$\\vec{x}$（要素数は2）を入力として与えた時、出力の確率分布が$\\vec{x}$に近くなるように単一量子ビットの変分フォームを決定するという問題を考えます。\n",
    "\n",
    "<img src='figs/vqe_u3.png' width=\"400\" height=\"300\">"
   ]
  },
  {
   "cell_type": "code",
   "execution_count": 1,
   "metadata": {
    "jupyter": {
     "outputs_hidden": false
    },
    "pycharm": {
     "name": "#%%\n"
    }
   },
   "outputs": [],
   "source": [
    "# Tested with python 3.7.9, qiskit 0.23.5, numpy 1.20.1\n",
    "import numpy as np\n",
    "import matplotlib.pyplot as plt\n",
    "from qiskit import QuantumCircuit, ClassicalRegister, QuantumRegister, Aer, execute\n",
    "from qiskit.algorithms.optimizers import COBYLA"
   ]
  },
  {
   "cell_type": "code",
   "execution_count": 2,
   "metadata": {
    "jupyter": {
     "outputs_hidden": false
    },
    "pycharm": {
     "name": "#%%\n"
    }
   },
   "outputs": [],
   "source": [
    "nq = 1  # 量子ビットの数\n",
    "\n",
    "npar = 3*nq  # パラメータの数\n",
    "\n",
    "np.random.seed(999999)\n",
    "target_distr = np.random.rand(2**nq)\n",
    "target_distr /= sum(target_distr)"
   ]
  },
  {
   "cell_type": "markdown",
   "metadata": {},
   "source": [
    "次に、単一の$U3$変分フォームの3つのパラメータを引数として受け取り、対応する量子回路を返す関数を定義します。"
   ]
  },
  {
   "cell_type": "code",
   "execution_count": 6,
   "metadata": {},
   "outputs": [],
   "source": [
    "def get_var_form(params):\n",
    "    qr = QuantumRegister(nq, name=\"q\")\n",
    "    cr = ClassicalRegister(nq, name='c')\n",
    "    qc = QuantumCircuit(qr, cr)\n",
    "\n",
    "    for i in range(nq):\n",
    "        qc.u(params[3*i], params[3*i+1], params[3*i+2], qr[i])\n",
    "\n",
    "    for i in range(nq):\n",
    "        qc.measure(qr[i], cr[i])\n",
    "    return qc\n",
    "\n",
    "get_var_form(np.random.rand(npar)).draw('mpl')"
   ]
  },
  {
   "cell_type": "markdown",
   "metadata": {},
   "source": [
    "変分フォームのパラメータのリストを入力とし、パラメータに対応したコストを計算する目的関数を定義します。アルゴリズムを実行するバックエンドとして、**QASMシミュレータ**を使用します。"
   ]
  },
  {
   "cell_type": "code",
   "execution_count": 4,
   "metadata": {},
   "outputs": [],
   "source": [
    "backend = Aer.get_backend(\"qasm_simulator\")\n",
    "NUM_SHOTS = 10000  # 測定する回数\n",
    "\n",
    "# 出力されるビット列の確率分布を計算\n",
    "def get_probability_distribution(counts):\n",
    "    output_distr = []\n",
    "    for i in range(2**nq):\n",
    "        match = False\n",
    "        for (k,v) in counts.items():\n",
    "            if i == int(k,2):\n",
    "                output_distr.append(v/NUM_SHOTS)\n",
    "                match = True\n",
    "        if not match:\n",
    "            output_distr.append(0)\n",
    "\n",
    "    if len(output_distr) == 1:\n",
    "        output_distr.append(0)\n",
    "    return output_distr\n",
    "\n",
    "# コストを計算する目的関数を定義\n",
    "def objective_function(params):\n",
    "    qc = get_var_form(params)\n",
    "    result = execute(qc, backend, shots=NUM_SHOTS).result()\n",
    "    output_distr = get_probability_distribution(result.get_counts(qc))\n",
    "    cost = sum([np.abs(output_distr[i] - target_distr[i]) for i in range(2**nq)])\n",
    "    return cost"
   ]
  },
  {
   "cell_type": "markdown",
   "metadata": {},
   "source": [
    "最後にCOBYLAオプティマイザーのインスタンスを作成し、アルゴリズムを実行します。"
   ]
  },
  {
   "cell_type": "code",
   "execution_count": 9,
   "metadata": {},
   "outputs": [
    {
     "name": "stdout",
     "output_type": "stream",
     "text": [
      "Target Distribution:          [0.2203 0.2086 0.5132 0.0579]\n",
      "Obtained Distribution:        [0.2048 0.1904 0.5255 0.0793]\n",
      "Cost Value (L1-Distance):     0.07001997\n",
      "Parameters Found:             [1.1061 0.2578 0.0683 2.006  0.6452 2.1684]\n"
     ]
    }
   ],
   "source": [
    "optimizer = COBYLA(maxiter=500, tol=0.0001)\n",
    "\n",
    "params = np.random.rand(npar)\n",
    "ret = optimizer.optimize(num_vars=npar, objective_function=objective_function, initial_point=params)\n",
    "\n",
    "qc = get_var_form(ret[0])\n",
    "counts = execute(qc, backend, shots=NUM_SHOTS).result().get_counts(qc)\n",
    "output_distr = get_probability_distribution(counts)\n",
    "\n",
    "print(\"Target Distribution:         \", np.round(target_distr,4))\n",
    "print(\"Obtained Distribution:       \", np.round(np.array(output_distr),4))\n",
    "print(\"Cost Value (L1-Distance):     {:.6f}\".format(ret[1]))\n",
    "print(\"Parameters Found:            \", np.round(ret[0],4))"
   ]
  },
  {
   "cell_type": "markdown",
   "metadata": {},
   "source": [
    "では次に、この問題を2量子ビット（確率分布の要素数は4）に拡張してやってみましょう。上に戻って"
   ]
  },
  {
   "cell_type": "code",
   "execution_count": null,
   "metadata": {
    "pycharm": {
     "name": "#%%\n"
    }
   },
   "outputs": [],
   "source": [
    "nq = 2  # 量子ビットの数"
   ]
  },
  {
   "cell_type": "markdown",
   "metadata": {},
   "source": [
    "として再度実行するとどういう結果が得られるでしょうか。量子回路とオプティマイザーの関係はこのようになってますね。\n",
    "\n",
    "<img src='figs/vqe_2q_u3.png' width=\"500\" height=\"400\">\n",
    "\n",
    "やってみると分かりますが、結果は1量子ビットの場合と比べて良くないですね。どうすれば良くなるでしょうか？（やり方は複数あると思います）"
   ]
  },
  {
   "cell_type": "markdown",
   "metadata": {},
   "source": [
    "**一つの解決策：変分フォームにエンタングルメントを導入する**\n",
    "\n",
    "```python\n",
    "    for i in range(nq):\n",
    "        qc.u(params[3*i], params[3*i+1], params[3*i+2], qr[i])\n",
    "    qc.cx(qr[0],qr[1])\n",
    "```\n",
    "\n",
    "どうなるか確かめてください。"
   ]
  },
  {
   "cell_type": "markdown",
   "source": [
    "量子ビットをエンタングルさせることで相関のあるデータを表現しやすくなるという状況は、例えば、ベル状態（[CHSH不等式の破れを確認する](https://utokyo-icepp.github.io/qc-workbook/chsh_inequality.html#id14)を参照）の確率分布を再現したいときにクリアに見ることができます。上で"
   ],
   "metadata": {
    "collapsed": false
   }
  },
  {
   "cell_type": "code",
   "execution_count": null,
   "metadata": {
    "pycharm": {
     "name": "#%%\n"
    }
   },
   "outputs": [],
   "source": [
    "target_distr = np.random.rand(2**nq)"
   ]
  },
  {
   "cell_type": "markdown",
   "source": [
    "を"
   ],
   "metadata": {
    "collapsed": false
   }
  },
  {
   "cell_type": "code",
   "execution_count": null,
   "outputs": [],
   "source": [
    "# 00と11を測定する確率が50%、01と10の確率は0\n",
    "target_distr = np.array([0.5,0.,0.,0.5])"
   ],
   "metadata": {
    "collapsed": false,
    "pycharm": {
     "name": "#%%\n"
    }
   }
  },
  {
   "cell_type": "markdown",
   "source": [
    "として実行するとどうなるでしょうか。エンタングルさせる場合とさせない場合で大きな違いが見えるでしょう。3量子ビットのGHZ状態（[単純な量子回路をゼロから書く](https://utokyo-icepp.github.io/qc-workbook/circuit_from_scratch.html#ghz)を参照）"
   ],
   "metadata": {
    "collapsed": false
   }
  },
  {
   "cell_type": "code",
   "execution_count": null,
   "outputs": [],
   "source": [
    "# 000と111を測定する確率が50%、それ以外の確率は0\n",
    "target_distr = np.array([0.5,0.,0.,0.,0.,0.,0.,0.5])"
   ],
   "metadata": {
    "collapsed": false,
    "pycharm": {
     "name": "#%%\n"
    }
   }
  },
  {
   "cell_type": "markdown",
   "source": [
    "に拡張してみるなどして、遊んでみてください。"
   ],
   "metadata": {
    "collapsed": false
   }
  }
 ],
 "metadata": {
  "kernelspec": {
   "display_name": "Python 3",
   "language": "python",
   "name": "python3"
  },
  "language_info": {
   "codemirror_mode": {
    "name": "ipython",
    "version": 3
   },
   "file_extension": ".py",
   "mimetype": "text/x-python",
   "name": "python",
   "nbconvert_exporter": "python",
   "pygments_lexer": "ipython3",
   "version": "3.6.7"
  }
 },
 "nbformat": 4,
 "nbformat_minor": 4
}