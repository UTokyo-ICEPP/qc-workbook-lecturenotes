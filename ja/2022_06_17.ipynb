{
 "cells": [
  {
   "cell_type": "markdown",
   "id": "39d1fd2b-0441-49ee-86ee-88889e96aa47",
   "metadata": {},
   "source": [
    "# VQEで水素分子の基底エネルギーを求める\n",
    "\n",
    "$\\newcommand{\\ket}[1]{|#1\\rangle}$\n",
    "$\\newcommand{\\braket}[2]{\\langle #1 | #2 \\rangle}$\n",
    "\n",
    "VQE (variational quantum eigensolver; 変分量子固有値ソルバー)を使って実際の量子化学の問題を解いてみましょう。\n",
    "\n",
    "VQEは2014年に発表された手法（[Peruzzo et al.](https://doi.org/10.1038/ncomms5213)）で、超伝導型量子コンピュータを使って水素分子などの小さい分子の基底状態エネルギーを求める問題に応用されたのは2017年の[Kandala et al.](https://doi.org/10.1038/nature23879)が始めてです。2017年というと量子コンピュータ業界においては太古の出来事ですが、それでも実際の学術論文の題材になった問題を実機で試すのは面白いのではないかと思います。\n",
    "\n",
    "このコースは量子化学の講義ではないので、今回は問題のセットアップには深入りしません。幸い、Qiskit Nature（Qiskitの自然科学計算関連のモジュール）にいろいろなツールが組み込まれており、扱いたい分子の情報だけから量子コンピュータで期待値を測定すべき演算子を導出するところまでは自動でできます。この実習では、\n",
    "\n",
    "- VQEを行うための変分量子回路を書く\n",
    "- 渡された演算子の期待値を計算し、量子回路が作る量子状態のエネルギー期待値を計算する関数を書く\n",
    "- Qiskit Runtimeを使って、実機での計算結果をもとにエネルギーを最小化するように変分回路のパラメータを調整していく\n",
    "\n",
    "という部分を扱います。"
   ]
  },
  {
   "cell_type": "code",
   "execution_count": 1,
   "id": "c45b6f01-5591-4428-b38f-951971c7c2f0",
   "metadata": {},
   "outputs": [],
   "source": [
    "import sys\n",
    "sys.path.append('/home/jovyan/qc-workbook-lecturenotes')\n",
    "import numpy as np\n",
    "from qiskit import QuantumCircuit, IBMQ, Aer, transpile\n",
    "from qiskit.circuit import ParameterVector\n",
    "from qiskit.circuit.random import random_circuit\n",
    "from qiskit.quantum_info.operators import Operator\n",
    "from qiskit_nature.drivers import Molecule\n",
    "from qiskit_nature.drivers.second_quantization import ElectronicStructureMoleculeDriver, ElectronicStructureDriverType\n",
    "from qiskit_nature.mappers.second_quantization import JordanWignerMapper\n",
    "from qiskit_nature.converters.second_quantization import QubitConverter\n",
    "from qiskit.providers.ibmq import least_busy\n",
    "\n",
    "from qc_workbook.utils import operational_backend\n",
    "from qc_workbook.hamiltonian import make_hamiltonian\n",
    "from qc_workbook.show_state import show_state\n",
    "import qc_workbook.runtime_vqe"
   ]
  },
  {
   "cell_type": "markdown",
   "id": "05f79968-ac60-4d30-a8de-353a4fbfbbbc",
   "metadata": {},
   "source": [
    "## （背景知識）水素分子を解くとは？\n",
    "\n",
    "量子化学の背景とVQEとのつながりについての詳しい説明は、この実習の発想元になっている[今年のIBM Quantum Challengeのexercise 4](https://github.com/qiskit-community/ibm-quantum-spring-challenge-2022/blob/main/exercise4/04.quantum_chemistry.ipynb)（[日本語版](https://github.com/qiskit-community/ibm-quantum-spring-challenge-2022/blob/main/exercise4/04.quantum_chemistry-ja.ipynb)）が参考になります。ここでは最低限の説明をします。\n",
    "\n",
    "今やりたいことは、ある分子の基本情報（構成する原子核種と数、電子の数、原子核の位置）を与えられた時に、その分子のエネルギー基底状態のエネルギー固有値を求めることです。ここで、原子核は電子に比べて遥かに重いことを利用し、原子核の位置を手で与えるパラメータとしています（Born-Oppenheimer approximation）。この基底状態エネルギーが求められれば、例えば今度は原子核の位置を動かしながら同じ計算を繰り返すことによって、最も基底状態エネルギーの低くなる原子核の配置（＝自然界で実現される分子のエネルギー基底状態の良い近似）を探すことなどができます。\n",
    "\n",
    "### 分子軌道と$n$電子系の波動関数\n",
    "\n",
    "原子単体に対しては、電子の軌道（エネルギー固有波動関数）$\\{\\chi_j(\\mathbf{r})\\}_j$とそれらに対応するエネルギーを、古典コンピュータでも精度良く計算することができます。さらに分子中の一電子軌道（Molecular orbital）$\\phi_m(\\mathbf{r})$も、分子を構成する原子における軌道の重ね合わせとして\n",
    "\n",
    "$$\n",
    "\\phi_m(\\mathbf{r}) = \\sum_j D_{mj}\\chi_j(\\mathbf{r})\n",
    "$$\n",
    "\n",
    "のように表現できます。\n",
    "\n",
    "理論的には原子軌道も分子軌道も無数に存在しますが、今の問題のような場合、固有エネルギーの高い軌道はほとんど影響を持たないので、有限個の$\\phi_m$のみを扱います。また、電子にはスピンの自由度があり、内部に量子ビットのような二次元系を持ちますが、それも軌道の一部とみなしていいので（spin orbitals）、結局、固有エネルギーで順序づけして下から$2M$個の分子軌道を考えることになります。\n",
    "\n",
    "一般に分子には複数の電子がありますが、パウリの排他律から、各軌道には最大1個の電子しか入りません。従って、$n$電子系の波動関数は$n$個の占有されている軌道の掛け算で表現されます。ただし、同じくパウリの排他律の帰結として、全系の波動関数は電子の交換について反対称になるので、単純な掛け算ではなくSlater行列式$| \\phi_{m_1} \\phi_{m_2} \\dots \\phi_{m_n} | (\\mathbf{r}_1, \\mathbf{r}_2, \\dots, \\mathbf{r}_n) $が用いられます。$n$電子系のエネルギー固有状態はこのSlater行列式の重ね合わせで\n",
    "\n",
    "$$\n",
    "\\psi_{\\text{elec}}(\\mathbf{r}_1, \\mathbf{r}_2, \\dots,\\mathbf{r}_n) = \\sum_{m_1, m_2,\\dots,m_n} C_{m_1, m_2, \\dots, m_n} | \\phi_{m_1}\\phi_{m_2} \\dots \\phi_{m_n} | (\\mathbf{r}_1, \\mathbf{r}_2, \\dots, \\mathbf{r}_n)\n",
    "$$\n",
    "\n",
    "と書けるので、エネルギー固有状態や固有値を求めることは係数$C_{m_1, m_2, \\dots, m_n}$を求めることに帰着します。ところが、軌道$\\phi_m$が$2M$個あり、電子が$n$個あれば、系は$\\binom{2M}{n}$次元となり、古典コンピュータでの計算はすぐに破綻してしまいます。そこで量子コンピュータの出番となるわけです。\n",
    "\n",
    "### 第二量子化表現とJordan-Wigner変換\n",
    "\n",
    "分子軌道の問題を量子コンピュータで扱う場合、系の状態を$n$体の波動関数$\\psi_{\\text{elec}}(\\mathbf{r}_1, \\mathbf{r}_2, \\dots,\\mathbf{r}_n)$で表現するよりも、$2M$個の軌道の占有・非占有で表現（第二量子化）する方が自然なマッピングとなります。その場合、ハミルトニアンは分子軌道ごとに定義される「生成・消滅演算子」$\\hat{a}_m, \\hat{a}_m^{\\dagger}$を使って書かれ、\n",
    "\n",
    "$$\n",
    "\\hat{H} =\\sum_{r s} h_{r s} \\hat{a}_{r}^{\\dagger} \\hat{a}_{s}\n",
    "+\\frac{1}{2} \\sum_{p q r s} g_{p q r s} \\hat{a}_{p}^{\\dagger} \\hat{a}_{q}^{\\dagger} \\hat{a}_{r} \\hat{a}_{s}+E_{N}\n",
    "$$\n",
    "\n",
    "となります。ここで$h_{rs}$、$g_{pqrs}$、$E_N$は全て分子の構造から決まる（古典的に計算できる）定数で、それぞれ一電子のエネルギー、二電子間の電気的な反発のエネルギー、原子核同士の反発エネルギーに対応します。\n",
    "\n",
    "生成・消滅演算子は、軌道$m$が占有されていない状態を$\\ket{u}_m$、されている状態を$\\ket{o}_m$とすると、\n",
    "\n",
    "$$\n",
    "\\begin{align}\n",
    "\\hat{a}_m \\ket{u}_m & = 0, \\\\\n",
    "\\hat{a}_m \\ket{o}_m & = \\ket{u}_m, \\\\\n",
    "\\hat{a}_m^{\\dagger} \\ket{u}_m & = \\ket{o}_m, \\\\\n",
    "\\hat{a}_m^{\\dagger} \\ket{o}_m & = 0\n",
    "\\end{align}\n",
    "$$\n",
    "\n",
    "のように作用します。\n",
    "\n",
    "このような占有・非占有の2次元系は、課題3のSchwingerモデルの問題にもあった通り、そのまま量子ビットに対応づけられます。つまり、$2M$個の軌道の状態を$2M$ビットの量子レジスタで表現できます。Schwingerモデルの問題ではサイトに粒子が存在する状態を$\\ket{0}$、存在しない状態を$\\ket{1}$に対応づけしましたが、今回はQiskitの習わしに従って、軌道が占有されている状態を$\\ket{1}$、占有されていない状態を$\\ket{0}$で表します。すると、$\\hat{a}$と$\\hat{a}^{\\dagger}$はそれぞれ$\\frac{1}{2}(X + iY)$と$\\frac{1}{2}(X - iY)$に対応します。\n",
    "\n",
    "$$\n",
    "\\begin{align}\n",
    "\\frac{1}{2}(X + iY) \\ket{0} & = \\frac{1}{2} (\\ket{1} - \\ket{1}) = 0, \\\\\n",
    "\\frac{1}{2}(X + iY) \\ket{1} & = \\frac{1}{2} (\\ket{0} + \\ket{0}) = \\ket{0}, \\\\\n",
    "\\frac{1}{2}(X - iY) \\ket{0} & = \\frac{1}{2} (\\ket{1} + \\ket{1}) = \\ket{1}, \\\\\n",
    "\\frac{1}{2}(X - iY) \\ket{1} & = \\frac{1}{2} (\\ket{0} - \\ket{0}) = 0.\n",
    "\\end{align}\n",
    "$$\n",
    "\n",
    "ただし、異なる軌道$j$と$k$の生成・消滅演算子が「反交換」しなければいけない（$a_r a_s = -a_s a_r$）という物理的要請があるので、実際には軌道$j$の生成・消滅演算子は\n",
    "\n",
    "$$\n",
    "\\begin{align}\n",
    "a_j \\rightarrow I_{2M-1} \\otimes I_{2M-2} \\otimes \\dots \\otimes \\frac{X_j + iY_j}{2} \\otimes Z_{j-1} \\otimes \\dots \\otimes Z_{0}, \\\\\n",
    "a_j^{\\dagger} \\rightarrow I_{2M-1} \\otimes I_{2M-2} \\otimes \\dots \\otimes \\frac{X_j - iY_j}{2} \\otimes Z_{j-1} \\otimes \\dots \\otimes Z_{0}\n",
    "\\end{align}\n",
    "$$\n",
    "\n",
    "のように、$j$より小さい軌道のスロットに$Z$演算子を挿入したような量子レジスタの演算に対応します。このような対応づけをJordan-Wigner変換といいます。実はSchwingerモデルの問題でも同じ操作をしていますが、説明を割愛していました。\n",
    "\n",
    "Qiskit Natureのさまざまなクラスを利用すると、分子の核種と三次元位置を入力するだけで、ハミルトニアンの定数部分を計算し、生成・消滅演算子をJordan-Wigner変換して、ハミルトニアンをパウリ積（$X, Y, Z$ゲートと恒等演算$I$の組み合わせ）の和にしてくれます。"
   ]
  },
  {
   "cell_type": "code",
   "execution_count": 3,
   "id": "bad2d99a-bc05-4c17-b684-0b356ee0a528",
   "metadata": {},
   "outputs": [
    {
     "name": "stdout",
     "output_type": "stream",
     "text": [
      "Fermionic Operator\n",
      "register length=4, number terms=14\n",
      "  (0.18115454131173234+0j) * ( +_0 -_1 +_2 -_3 )\n",
      "+ (-0.18115454131173242+0j) * ( +_0 -_1 -_2 +_3 )\n",
      "+ (-0.18115454131173242+0j) * ( -_0 +_1 +_2 -_3 )\n",
      "+ (0.18115454131173214+0j) * ( -_0 +_1 -_2 +_3  ...\n"
     ]
    }
   ],
   "source": [
    "molecule = Molecule(\n",
    "    # coordinates are given in Angstrom\n",
    "    geometry=[\n",
    "        [\"H\", [0.0, 0.0, -0.3695]],\n",
    "        [\"H\", [0.0, 0.0, 0.3695]]\n",
    "    ],\n",
    "    multiplicity=1,  # = 2*spin + 1\n",
    "    charge=0,\n",
    ")\n",
    "\n",
    "driver = ElectronicStructureMoleculeDriver(\n",
    "    molecule=molecule, # 分子の構成情報\n",
    "    basis=\"sto3g\", # 原子軌道の計算手法\n",
    "    driver_type=ElectronicStructureDriverType.PYSCF, # 軌道計算用ライブラリ\n",
    ")\n",
    "\n",
    "properties = driver.run() # 分子のプロパティを計算\n",
    "\n",
    "hamiltonian = properties.second_q_ops()[0] # そこから第二量子化ハミルトニアンを構築\n",
    "print(hamiltonian)"
   ]
  },
  {
   "cell_type": "markdown",
   "id": "7029cc5a-d5b8-49c9-97bd-abc1e5e726b7",
   "metadata": {},
   "source": [
    "上で`basis=\"sto3g\"`で[STO-3G](https://en.wikipedia.org/wiki/STO-nG_basis_sets)という原子軌道の計算（展開）方法を指定しています。STO-3Gでは最低限必要な軌道しか計算に含まないので、$2M=2n$となり、水素分子の場合は$n=2$なので4分子軌道のハミルトニアンが導出されます。軌道の番号と実際の分子軌道との対応づけは\n",
    "\n",
    "- $0$から$n-1$番軌道がスピン$\\alpha$の軌道\n",
    "- $n$から$2n-1$番軌道がスピン$\\beta$の軌道\n",
    "\n",
    "で、それぞれエネルギーの低い順に並んでいます。$\\alpha$と$\\beta$は、何か適当な方向を基底に決めた時のスピンの二つの固有状態を表します。\n",
    "\n",
    "上のハミルトニアンのプリントアウトでは、例えば`+_0`は第0軌道の生成演算子、`-_3`は第3軌道の消滅演算子を表します。\n",
    "\n",
    "次にこのハミルトニアンをJordan-Wigner変換し、パウリ積の和に落とし込みます。"
   ]
  },
  {
   "cell_type": "code",
   "execution_count": 5,
   "id": "b76260d8-4078-4b2b-b3ab-b2cec2d5a169",
   "metadata": {},
   "outputs": [
    {
     "name": "stdout",
     "output_type": "stream",
     "text": [
      "0.04528863532793308 * YYYY\n",
      "+ 0.04528863532793308 * XXYY\n",
      "+ 0.04528863532793308 * YYXX\n",
      "+ 0.04528863532793308 * XXXX\n",
      "- 0.8118492064880125 * IIII\n",
      "- 0.22389389642914398 * ZIII\n",
      "+ 0.17156667591093255 * IZII\n",
      "+ 0.12068268831019147 * ZZII\n",
      "- 0.22389389642914392 * IIZI\n",
      "+ 0.1744589329758667 * ZIZI\n",
      "+ 0.16597132363812456 * IZZI\n",
      "+ 0.17156667591093255 * IIIZ\n",
      "+ 0.16597132363812456 * ZIIZ\n",
      "+ 0.16873669065193606 * IZIZ\n",
      "+ 0.12068268831019147 * IIZZ\n"
     ]
    }
   ],
   "source": [
    "converter = QubitConverter(JordanWignerMapper())\n",
    "\n",
    "ham_op = converter.convert(hamiltonian)\n",
    "print(ham_op)"
   ]
  },
  {
   "cell_type": "markdown",
   "id": "40de2f77-655f-419f-8970-b6d8a3190075",
   "metadata": {},
   "source": [
    "得られるパウリ積は、一番左が第0軌道に対応するよう順序づけられています（2nビットレジスタの第2n-1ビットが第0軌道に、第0ビットが第2n-1軌道に対応します）。\n",
    "\n",
    "我々の課題は、このハミルトニアンの期待値を最小化するような量子状態をつくる量子回路を探すことです。"
   ]
  },
  {
   "cell_type": "markdown",
   "id": "5a273f52-3040-4f3e-9a62-0e79f61a1d4f",
   "metadata": {},
   "source": [
    "## 量子計算部分\n",
    "\n",
    "### 期待値の計算\n",
    "\n",
    "量子コンピュータにおける観測量の期待値の計算方法については、課題1で軽く触れましたが、今回はより複雑な計算となるので、ステップを追って確認してみましょう。"
   ]
  },
  {
   "cell_type": "markdown",
   "id": "f5422a76-6905-46fc-9abb-cf442e244a73",
   "metadata": {},
   "source": [
    "#### $Z$の期待値\n",
    "\n",
    "適当な1ビット量子回路で作られる量子状態での$Z$の期待値を計算しましょう。\n",
    "\n",
    "量子コンピュータで観測量の期待値を計算するには、まず観測量を演算子で表し、その固有ベクトルと固有値を求め、量子回路の終状態に対して固有ベクトルが計算基底に移るような基底変換をし、測定の結果得られる計算基底の確率分布と固有値を掛け合わせるのでした。\n",
    "\n",
    "今の場合、定義上、$Z$の固有ベクトルとは計算基底そのもので、固有値は$\\pm 1$（$Z\\ket{0} = \\ket{0}, Z\\ket{1} = -\\ket{1}$）です。したがって、量子回路の終状態をそのまま測定し、0が出る確率$P_0$から1が出る確率$P_1$を引けば、$Z$の期待値が求まります。式で書けば\n",
    "\n",
    "$$\n",
    "\\langle Z \\rangle = P_0 - P_1\n",
    "$$\n",
    "\n",
    "です。"
   ]
  },
  {
   "cell_type": "code",
   "execution_count": 6,
   "id": "0d1bf80f-1f28-41f7-a18f-8e8c76ce6b96",
   "metadata": {},
   "outputs": [],
   "source": [
    "simulator = Aer.get_backend('qasm_simulator')\n",
    "shots = 10000"
   ]
  },
  {
   "cell_type": "code",
   "execution_count": 2,
   "id": "5c406607-891f-4212-b78a-6a4aff4ee671",
   "metadata": {},
   "outputs": [],
   "source": [
    "# qc_workbookのmake_hamiltonianとqiskitとでパウリ積のノーテーション（特に順序）が異なるので、混乱を避けるためにラッパー関数を定義する\n",
    "\n",
    "def compute_expval(circuit, paulis, coefficients=None):\n",
    "    statevector = Operator(circuit).data[:, 0]\n",
    "    observable = make_hamiltonian([p[::-1] for p in paulis], coeffs=coefficients)\n",
    "    return (statevector.conjugate() @ observable @ statevector).real"
   ]
  },
  {
   "cell_type": "code",
   "execution_count": 7,
   "id": "83996b37-0358-454c-8967-c97e2dda10be",
   "metadata": {},
   "outputs": [
    {
     "name": "stdout",
     "output_type": "stream",
     "text": [
      "QC: 1.0\n",
      "Exact: 1.0\n"
     ]
    }
   ],
   "source": [
    "# ランダムな1ビット回路\n",
    "circuit = random_circuit(num_qubits=1, depth=3)\n",
    "\n",
    "# 状態ベクトルから計算する厳密解\n",
    "exact = compute_expval(circuit, ['z'])\n",
    "\n",
    "expval_z = None\n",
    "\n",
    "# circuitに測定を加え、simulatorで実行して、得られるカウントから期待値expval_zを計算してください。\n",
    "##################\n",
    "### EDIT BELOW ###\n",
    "##################\n",
    "\n",
    "circuit.measure_all()\n",
    "\n",
    "circuit = transpile(circuit, backend=simulator)\n",
    "counts = simulator.run(circuit, shots=shots).result().get_counts()\n",
    "\n",
    "expval_z = (counts.get('0', 0) - counts.get('1', 0)) / shots\n",
    "\n",
    "##################\n",
    "### EDIT ABOVE ###\n",
    "##################\n",
    "\n",
    "print(f'QC: {expval_z}')\n",
    "print(f'Exact: {exact}')"
   ]
  },
  {
   "cell_type": "markdown",
   "id": "dd46a99b-0d6f-4d87-960e-ad942a9e17e5",
   "metadata": {},
   "source": [
    "上のセルを何度か実行してみて、毎回`expval_z`と`exact`が統計誤差の範囲で大体一致することを確認してください。"
   ]
  },
  {
   "cell_type": "markdown",
   "id": "9f6cf13b-b8c0-481e-b00d-ee4d9c911c8b",
   "metadata": {},
   "source": [
    "#### $X$の期待値\n",
    "\n",
    "今度は基底変換が必要です。$X$の固有値$\\pm 1$の固有ベクトルは$\\frac{1}{\\sqrt{2}} (\\ket{0} \\pm \\ket{1})$なので、アダマールゲートで基底変換ができます。"
   ]
  },
  {
   "cell_type": "code",
   "execution_count": 8,
   "id": "27b3feea-94bc-4c3d-beb9-5c4fe314d1c9",
   "metadata": {},
   "outputs": [
    {
     "name": "stdout",
     "output_type": "stream",
     "text": [
      "QC: 0.1756\n",
      "Exact: 0.18859155814402295\n"
     ]
    }
   ],
   "source": [
    "# ランダムな1ビット回路\n",
    "circuit = random_circuit(num_qubits=1, depth=3)\n",
    "\n",
    "# 状態ベクトルから計算する厳密解\n",
    "exact = compute_expval(circuit, ['x'])\n",
    "\n",
    "expval_x = None\n",
    "\n",
    "# circuitに基底変換と測定を加え、simulatorで実行して、得られるカウントから期待値expval_xを計算してください。\n",
    "##################\n",
    "### EDIT BELOW ###\n",
    "##################\n",
    "\n",
    "circuit.h(0)\n",
    "circuit.measure_all()\n",
    "\n",
    "circuit = transpile(circuit, backend=simulator)\n",
    "counts = simulator.run(circuit, shots=shots).result().get_counts()\n",
    "\n",
    "expval_x = (counts.get('0', 0) - counts.get('1', 0)) / shots\n",
    "\n",
    "##################\n",
    "### EDIT ABOVE ###\n",
    "##################\n",
    "\n",
    "print(f'QC: {expval_x}')\n",
    "print(f'Exact: {exact}')"
   ]
  },
  {
   "cell_type": "markdown",
   "id": "a67e5bf2-021d-4a17-8cca-482c92288c84",
   "metadata": {},
   "source": [
    "#### $Y$の期待値\n",
    "\n",
    "$Y$の固有ベクトルは$\\frac{1}{\\sqrt{2}}(\\ket{0} \\pm i\\ket{1})$なので、$S^{\\dagger} = P(-\\pi/2)$とアダマールゲートで基底変換ができます。$S^{\\dagger}$ゲートのqiskitでの記法は`circuit.sdg(0)`です。"
   ]
  },
  {
   "cell_type": "code",
   "execution_count": 9,
   "id": "86da7697-8027-4204-8cb9-3a50485e8bd0",
   "metadata": {},
   "outputs": [
    {
     "name": "stdout",
     "output_type": "stream",
     "text": [
      "QC: -0.9388\n",
      "Exact: -0.9309746674057489\n"
     ]
    }
   ],
   "source": [
    "# ランダムな1ビット回路\n",
    "circuit = random_circuit(num_qubits=1, depth=3)\n",
    "\n",
    "# 状態ベクトルから計算する厳密解\n",
    "exact = compute_expval(circuit, ['y'])\n",
    "\n",
    "expval_y = None\n",
    "\n",
    "# circuitに基底変換と測定を加え、simulatorで実行して、得られるカウントから期待値expval_yを計算してください。\n",
    "##################\n",
    "### EDIT BELOW ###\n",
    "##################\n",
    "\n",
    "circuit.sdg(0)\n",
    "circuit.h(0)\n",
    "circuit.measure_all()\n",
    "\n",
    "circuit = transpile(circuit, backend=simulator)\n",
    "counts = simulator.run(circuit, shots=shots).result().get_counts()\n",
    "\n",
    "expval_y = (counts.get('0', 0) - counts.get('1', 0)) / shots\n",
    "\n",
    "##################\n",
    "### EDIT ABOVE ###\n",
    "##################\n",
    "\n",
    "print(f'QC: {expval_y}')\n",
    "print(f'Exact: {exact}')"
   ]
  },
  {
   "cell_type": "markdown",
   "id": "e034c5dd-e912-4b28-a365-c2993657a73d",
   "metadata": {},
   "source": [
    "#### $I$の期待値\n",
    "\n",
    "恒等演算子を観測量としたとき、その期待値はいくらになるでしょうか？\n",
    "\n",
    "#### $ZIZI$の期待値\n",
    "\n",
    "今度は4ビットの回路で観測量$ZIZI$の期待値を計算します。固有値と固有ベクトルはどうなっているでしょうか？基底変換は必要でしょうか？"
   ]
  },
  {
   "cell_type": "code",
   "execution_count": 10,
   "id": "1077d8e5-261c-4988-944e-c19971dc2953",
   "metadata": {},
   "outputs": [
    {
     "name": "stdout",
     "output_type": "stream",
     "text": [
      "QC: 0.4998\n",
      "Exact: 0.4959938483841807\n"
     ]
    }
   ],
   "source": [
    "# ランダムな4ビット回路\n",
    "circuit = random_circuit(num_qubits=4, depth=5)\n",
    "\n",
    "# 状態ベクトルから計算する厳密解\n",
    "exact = compute_expval(circuit, ['zizi'])\n",
    "\n",
    "expval_zizi = None\n",
    "\n",
    "# circuitを使って期待値expval_ziziを計算してください。\n",
    "##################\n",
    "### EDIT BELOW ###\n",
    "##################\n",
    "\n",
    "circuit.measure_all()\n",
    "\n",
    "circuit = transpile(circuit, backend=simulator)\n",
    "counts = simulator.run(circuit, shots=shots).result().get_counts()\n",
    "\n",
    "expval_zizi = 0.\n",
    "for key, value in counts.items():\n",
    "    sign = 1.\n",
    "    if key[0] == '1':\n",
    "        sign *= -1.\n",
    "    if key[2] == '1':\n",
    "        sign *= -1.\n",
    "        \n",
    "    expval_zizi += sign * value\n",
    "\n",
    "expval_zizi /= shots\n",
    "\n",
    "##################\n",
    "### EDIT ABOVE ###\n",
    "##################\n",
    "\n",
    "print(f'QC: {expval_zizi}')\n",
    "print(f'Exact: {exact}')"
   ]
  },
  {
   "cell_type": "markdown",
   "id": "a32b0e10-3a1b-4db6-88fb-c5b7fafa68b0",
   "metadata": {},
   "source": [
    "#### $ZIZI + 2IZII + 3XXYY$の期待値\n",
    "\n",
    "今度の観測量はパウリ積の和です。量子回路ではこれを一度に計算することができませんが、和の期待値は期待値の和なので、それぞれの項について独立に期待値を計算し、最後に係数をかけて足し合わせれば同じ答えが得られます。量子回路はいくつ必要でしょうか？"
   ]
  },
  {
   "cell_type": "code",
   "execution_count": 11,
   "id": "daed45e9-1c8a-40b9-a8ca-d27ba65c179a",
   "metadata": {},
   "outputs": [
    {
     "name": "stdout",
     "output_type": "stream",
     "text": [
      "QC: 2.9664\n",
      "Exact: 3.0\n"
     ]
    }
   ],
   "source": [
    "# ランダムな4ビット回路\n",
    "circuit = random_circuit(num_qubits=4, depth=5)\n",
    "\n",
    "# 状態ベクトルから計算する厳密解\n",
    "exact = compute_expval(circuit, ['zizi', 'izii', 'xxyy'], [1., 2., 3.])\n",
    "\n",
    "expval_paulisum = None\n",
    "\n",
    "# circuitを使って期待値expval_paulisumを計算してください。\n",
    "##################\n",
    "### EDIT BELOW ###\n",
    "##################\n",
    "\n",
    "circuit1 = circuit.copy()\n",
    "\n",
    "circuit1.measure_all()\n",
    "\n",
    "circuit1 = transpile(circuit1, backend=simulator)\n",
    "counts = simulator.run(circuit1, shots=shots).result().get_counts()\n",
    "\n",
    "expval_zizi = 0.\n",
    "expval_izii = 0.\n",
    "for key, value in counts.items():\n",
    "    sign_zizi = 1.\n",
    "    sign_izii = 1.\n",
    "    if key[0] == '1':\n",
    "        sign_zizi *= -1.\n",
    "    if key[1] == '1':\n",
    "        sign_izii *= -1.\n",
    "    if key[2] == '1':\n",
    "        sign_zizi *= -1.\n",
    "        \n",
    "    expval_zizi += sign_zizi * value\n",
    "    expval_izii += sign_izii * value\n",
    "\n",
    "expval_zizi /= shots\n",
    "expval_izii /= shots\n",
    "\n",
    "circuit2 = circuit.copy()\n",
    "\n",
    "circuit2.sdg([0, 1])\n",
    "circuit2.h(range(4))\n",
    "circuit2.measure_all()\n",
    "\n",
    "circuit2 = transpile(circuit2, backend=simulator)\n",
    "counts = simulator.run(circuit2, shots=shots).result().get_counts()\n",
    "\n",
    "expval_xxyy = 0.\n",
    "for key, value in counts.items():\n",
    "    parity = key.count('1') % 2\n",
    "    sign = 2. * parity - 1.\n",
    "    \n",
    "    expval_xxyy += sign * value\n",
    "\n",
    "expval_xxyy /= shots\n",
    "\n",
    "expval_paulisum = expval_zizi + 2. * expval_izii + 3. * expval_xxyy\n",
    "\n",
    "##################\n",
    "### EDIT ABOVE ###\n",
    "##################\n",
    "\n",
    "print(f'QC: {expval_paulisum}')\n",
    "print(f'Exact: {exact}')"
   ]
  },
  {
   "cell_type": "markdown",
   "id": "a45160fe-ba35-4102-807c-4f2f98658961",
   "metadata": {},
   "source": [
    "#### 水素分子ハミルトニアンの期待値\n",
    "\n",
    "上の`ham_op`の期待値を、適当な4ビット回路について計算しましょう。"
   ]
  },
  {
   "cell_type": "code",
   "execution_count": 12,
   "id": "a29dc270-13f7-467d-8a15-bc3e24e349a7",
   "metadata": {},
   "outputs": [
    {
     "name": "stdout",
     "output_type": "stream",
     "text": [
      "QC: -1.343475129090122\n",
      "Exact: -1.329396347663856\n"
     ]
    }
   ],
   "source": [
    "# ランダムな4ビット回路\n",
    "circuit = random_circuit(num_qubits=4, depth=5)\n",
    "\n",
    "# 状態ベクトルから計算する厳密解\n",
    "exact = compute_expval(circuit, ham_op.primitive.paulis.to_labels(), ham_op.coeffs.real)\n",
    "\n",
    "# 水素分子の計算は後で再利用するので関数化しておく\n",
    "def energy_expval(circuit, hamiltonian_op, backend, shots=2000):\n",
    "    energy = 0.\n",
    "    \n",
    "    # circuitを使って期待値energyを計算してください。\n",
    "    # hamiltonian_opはパウリ積とそれぞれにかかる係数からなるので、その一つ一つについて期待値を求め、\n",
    "    # 係数をかけてenergyに足し合わせていきます。つまり、\n",
    "    # \n",
    "    # for pauli_term in hamiltonian_op:\n",
    "    #    # paulisがXXYYやIZIZなどのパウリ積を表す文字列\n",
    "    #    paulis = pauli_term.primitive.paulis.to_labels()[0]\n",
    "    #    # coefficientがこの項の係数\n",
    "    #    coefficient = pauli_term.coeffs[0].real\n",
    "    #\n",
    "    #    expval = ...\n",
    "    #\n",
    "    #    energy += expval * coefficient\n",
    "    #\n",
    "    # のようなループを書くことになります。\n",
    "    \n",
    "    ##################\n",
    "    ### EDIT BELOW ###\n",
    "    ##################\n",
    "\n",
    "    circuit_iz = circuit.copy()\n",
    "    circuit_iz.measure_all()\n",
    "\n",
    "    circuit_iz = transpile(circuit_iz, backend=backend)\n",
    "    counts_iz = backend.run(circuit_iz, shots=shots).result().get_counts()\n",
    "\n",
    "    energy = 0.\n",
    "\n",
    "    for pauli_term in hamiltonian_op:\n",
    "        # paulisがXXYYやIZIZなどのパウリ積を表す文字列\n",
    "        paulis = pauli_term.primitive.paulis.to_labels()[0]\n",
    "        # coefficientがこの項の係数\n",
    "        coefficient = pauli_term.coeffs[0].real\n",
    "\n",
    "        if 'X' in paulis or 'Y' in paulis:\n",
    "            circ = circuit.copy()\n",
    "\n",
    "            for iq, label in enumerate(paulis[::-1]):\n",
    "                if label == 'X':\n",
    "                    circ.h(iq)\n",
    "                elif label == 'Y':\n",
    "                    circ.sdg(iq)\n",
    "                    circ.h(iq)\n",
    "\n",
    "            circ.measure_all()\n",
    "\n",
    "            circ = transpile(circ, backend=backend)\n",
    "            counts = backend.run(circ, shots=shots).result().get_counts()\n",
    "\n",
    "        else:\n",
    "            counts = counts_iz\n",
    "\n",
    "        expval = 0.\n",
    "        for key, value in counts.items():\n",
    "            sign = 1.\n",
    "            for bit, label in zip(key, paulis):\n",
    "                if bit == '1' and label != 'I':\n",
    "                    sign *= -1.\n",
    "\n",
    "            expval += sign * value\n",
    "\n",
    "        expval /= shots\n",
    "\n",
    "        energy += coefficient * expval\n",
    "\n",
    "    ##################\n",
    "    ### EDIT ABOVE ###\n",
    "    ##################\n",
    "    \n",
    "    return energy\n",
    "\n",
    "\n",
    "print(f'QC: {energy_expval(circuit, ham_op, simulator)}')\n",
    "print(f'Exact: {exact}')"
   ]
  },
  {
   "cell_type": "markdown",
   "id": "2bf62bf0-a15a-4134-9739-eed19016d1ad",
   "metadata": {},
   "source": [
    "### 変分量子回路の設計と実装\n",
    "\n",
    "回路とハミルトニアンが与えられた時にエネルギーを計算する手法が確立できたので、次は最低エネルギー状態を作る回路を構成することを考えます。もちろん、そんな回路が最初からわかっているわけではないので、代わりに適当なパラメータつき量子回路を設計し、その回路におけるエネルギー期待値が最も小さくなるようにパラメータの値を更新していく、つまり変分量子回路の手法を使います。\n",
    "\n",
    "まず、近似的な低エネルギー状態を作ります。「あたり」をつけてからパラメータ付き回路部分で微調整をするようにすることで、解の探索を速くできます。\n",
    "\n",
    "最低エネルギー状態の第0近似はいわゆるHartree-Fock状態、つまり電子が軌道を下から占有した状態です。今の場合、一番エネルギーの低い軌道は$\\phi_0$と$\\phi_2$（$\\alpha$と$\\beta$スピンの最低エネルギー軌道）なので、\n",
    "\n",
    "$$\n",
    "\\psi_{\\mathrm{HF}} = |\\phi_0 \\phi_2|.\n",
    "$$\n",
    "\n",
    "Jordan-Wigner変換で対応づけた量子レジスタで表すと\n",
    "\n",
    "$$\n",
    "\\ket{\\psi_{\\mathrm{HF}}} = \\ket{1010}\n",
    "$$\n",
    "\n",
    "となります。"
   ]
  },
  {
   "cell_type": "code",
   "execution_count": 13,
   "id": "3e633b97-9743-4545-a850-48e22788bb1d",
   "metadata": {},
   "outputs": [
    {
     "data": {
      "image/png": "[encoded data removed]",
      "text/plain": [
       "<Figure size 720x36 with 1 Axes>"
      ]
     },
     "metadata": {
      "needs_background": "light"
     },
     "output_type": "display_data"
    }
   ],
   "source": [
    "hf_circuit = QuantumCircuit(4)\n",
    "\n",
    "# hf_circuitを|0000>からHartree-Fock状態|1010>を作る回路にしてください。量子ビットは右から数えることに注意。\n",
    "##################\n",
    "### EDIT BELOW ###\n",
    "##################\n",
    "\n",
    "hf_circuit.x(1)\n",
    "hf_circuit.x(3)\n",
    "\n",
    "##################\n",
    "### EDIT ABOVE ###\n",
    "##################\n",
    "\n",
    "show_state(hf_circuit, state_label=None, binary=True);"
   ]
  },
  {
   "cell_type": "markdown",
   "id": "b1154bc9-0539-4a61-a827-4b6916d69e39",
   "metadata": {},
   "source": [
    "パラメータ付き回路部分の設計には最先端の理論に基づく後ろ盾と勘が必要ですが、今は手始めに業界でTwoLocalなどと呼ばれるパターンを使いましょう。"
   ]
  },
  {
   "cell_type": "code",
   "execution_count": 14,
   "id": "ab4b0e8d-eeb6-4dfc-9796-67577dd67114",
   "metadata": {},
   "outputs": [
    {
     "data": {
      "text/html": [
       "<img src=\"figs/twolocal.png\" width=\"600\"/>"
      ],
      "text/plain": [
       "<IPython.core.display.Image object>"
      ]
     },
     "execution_count": 14,
     "metadata": {},
     "output_type": "execute_result"
    }
   ],
   "source": [
    "from IPython.display import Image\n",
    "\n",
    "Image(url='figs/twolocal.png', width=600)"
   ]
  },
  {
   "cell_type": "markdown",
   "id": "867f1fd7-f7ce-4718-9392-219afd49e443",
   "metadata": {},
   "source": [
    "上のような回路を1レイヤーとして、2レイヤー繰り返します。全ての$R_y$と$R_z$ゲートに独立なパラメータをあてがうので、全部で16個の自由パラメータを持つ回路になります。\n",
    "\n",
    "回路に自由パラメータを入れる方法として、Qiskitには`Parameter`（単一のパラメータ）や`ParameterVector`（パラメータの配列）という仕組みが備わっています。下では`theta`という`ParameterVector`を定義し、`ry`や`rz`ゲートの回転角に使います。"
   ]
  },
  {
   "cell_type": "code",
   "execution_count": 15,
   "id": "1353463d-1334-4d68-a80d-b49fba37a8f5",
   "metadata": {},
   "outputs": [
    {
     "data": {
      "image/png": "[encoded data removed]",
      "text/plain": [
       "<Figure size 989.597x264.88 with 1 Axes>"
      ]
     },
     "execution_count": 15,
     "metadata": {},
     "output_type": "execute_result"
    }
   ],
   "source": [
    "theta = ParameterVector('θ', 16)\n",
    "\n",
    "param_circuit = QuantumCircuit(4)\n",
    "\n",
    "# param_circuitを上で図示したTwoLocalレイヤーを3回繰り返す回路にしてください。\n",
    "# thetaは通常の配列のように参照できるので、例えば第5要素をビット1のRzゲートに使うときは\n",
    "#   param_circuit.ry(theta[5], 1)\n",
    "# と書きます。\n",
    "##################\n",
    "### EDIT BELOW ###\n",
    "##################\n",
    "\n",
    "iparam = 0\n",
    "\n",
    "for _ in range(2):\n",
    "    for iq in range(4):\n",
    "        param_circuit.ry(theta[iparam], iq)\n",
    "        iparam += 1\n",
    "\n",
    "    for iq in range(4):    \n",
    "        param_circuit.rz(theta[iparam], iq)\n",
    "        iparam += 1\n",
    "\n",
    "    param_circuit.cx(0, 1)\n",
    "    param_circuit.cx(0, 2)\n",
    "    param_circuit.cx(0, 3)\n",
    "    param_circuit.cx(1, 2)\n",
    "    param_circuit.cx(1, 3)\n",
    "    param_circuit.cx(2, 3)\n",
    "    \n",
    "##################\n",
    "### EDIT ABOVE ###\n",
    "##################\n",
    "\n",
    "param_circuit.draw('mpl')"
   ]
  },
  {
   "cell_type": "markdown",
   "id": "68edcc3b-b799-42b6-a2c8-fec3404fd54a",
   "metadata": {},
   "source": [
    "最後に基底状態の近似とパラメータ付き回路を組み合わせてアンザッツとします。"
   ]
  },
  {
   "cell_type": "code",
   "execution_count": 16,
   "id": "fda2621e-9cdd-4302-945c-1fa5345ecd59",
   "metadata": {},
   "outputs": [
    {
     "data": {
      "image/png": "[encoded data removed]",
      "text/plain": [
       "<Figure size 1049.8x264.88 with 1 Axes>"
      ]
     },
     "execution_count": 16,
     "metadata": {},
     "output_type": "execute_result"
    }
   ],
   "source": [
    "ansatz = hf_circuit.compose(param_circuit, inplace=False)\n",
    "ansatz.draw('mpl')"
   ]
  },
  {
   "cell_type": "markdown",
   "id": "c6a9a66d-308a-4fbd-9ec3-e3e98df8ae4f",
   "metadata": {},
   "source": [
    "アンザッツにパラメータの具体値を代入するときは`bind_parameters`関数を使います。"
   ]
  },
  {
   "cell_type": "code",
   "execution_count": 17,
   "id": "66c9c37b-b4df-4a10-9200-d1d9715bd860",
   "metadata": {},
   "outputs": [
    {
     "data": {
      "image/png": "[encoded data removed]",
      "text/plain": [
       "<Figure size 1591.6x565.88 with 1 Axes>"
      ]
     },
     "execution_count": 17,
     "metadata": {},
     "output_type": "execute_result"
    }
   ],
   "source": [
    "param_values = np.random.random(ansatz.num_parameters)\n",
    "concrete_circuit = ansatz.bind_parameters(param_values)\n",
    "concrete_circuit.draw('mpl')"
   ]
  },
  {
   "cell_type": "markdown",
   "id": "2810a8dd-1d17-41d7-bc26-796aa5ed9090",
   "metadata": {},
   "source": [
    "これまでのコードを組み合わせて、パラメータの値の配列を引数として、上のTwoLocalアンザッツでの水素分子ハミルトニアンの期待値を返す関数を書きましょう。`ham_op`や`ansatz`といった変数は関数の中でそのまま使えます。"
   ]
  },
  {
   "cell_type": "code",
   "execution_count": 18,
   "id": "d7aa4df7-8a46-43bf-81d7-b0236c565d4a",
   "metadata": {},
   "outputs": [
    {
     "name": "stdout",
     "output_type": "stream",
     "text": [
      "Objective function with test values: -0.2466927530852072\n",
      "Energy of the Hartree-Fock state: -0.25063286435873744\n"
     ]
    }
   ],
   "source": [
    "def objective_function(param_values):\n",
    "    energy = 0.\n",
    "    \n",
    "    ##################\n",
    "    ### EDIT BELOW ###\n",
    "    ##################\n",
    "    \n",
    "    circuit = ansatz.bind_parameters(param_values)\n",
    "    \n",
    "    energy = energy_expval(circuit, ham_op, simulator)\n",
    "    \n",
    "    ##################\n",
    "    ### EDIT ABOVE ###\n",
    "    ##################\n",
    "    \n",
    "    return energy\n",
    "\n",
    "# θ[11]をπにし、残りの全てのパラメータを0にすると、アンザッツの構造からHartree-Fock状態|1010>を回復できる\n",
    "test_values = np.zeros(ansatz.num_parameters)\n",
    "test_values[11] = np.pi\n",
    "\n",
    "print(f'Objective function with test values: {objective_function(test_values)}')\n",
    "print(f'Energy of the Hartree-Fock state: {energy_expval(hf_circuit, ham_op, simulator)}')"
   ]
  },
  {
   "cell_type": "markdown",
   "id": "08d914b3-ab52-4742-83fc-2511ee5284fd",
   "metadata": {},
   "source": [
    "## Qiskit Runtime\n",
    "\n",
    "ここまでできたら、qc_workbook/runtime_vqe.pyというファイルを開き、アンザッツとハミルトニアン（とその他色々）を引数に取り、ハミルトニアンの期待値を最小化するアンザッツのパラメータの値をCOBYLAで探す`main`という関数を実装してください。\n",
    "\n",
    "Qiskit Runtimeは、Qiskitを使った量子計算プログラムを一つのジョブとしてIBM Cloud上で実行するフレームワークです。プログラム全体で一つのジョブなので、プログラム実行中は指定した量子コンピュータバックエンドを占有できます。つまりプログラム中で量子コンピュータのバックエンドに回路を投げると、その量子計算「ジョブ」はキューに入ることなくほぼリアルタイムに実行され、計算が終わり次第結果を返します。Runtimeを使うとVQEのような量子・古典ハイブリッドの逐次計算が効率よくできます。\n",
    "\n",
    "量子計算プログラムは単一のPythonファイルとしてIBM側にアップロードします。Pythonファイル中のmainという関数がクラウド上で実行され、関数の返り値がプログラムジョブの実行結果として返ってきます。\n",
    "\n",
    "まずは`main`が正しく実装できたか、ローカルに試してみましょう。`qc_workbook.runtime_vqe`を普通のPythonモジュールとしてインポートし、`main`を実行します。"
   ]
  },
  {
   "cell_type": "code",
   "execution_count": 19,
   "id": "f54f97b0-da1a-460b-866c-39028f1e28c4",
   "metadata": {},
   "outputs": [],
   "source": [
    "# autoreloadを使うと、インポートしたファイルを編集したときにIPythonカーネルの再起動なしに再インポートできる\n",
    "%load_ext autoreload\n",
    "%autoreload 1\n",
    "%aimport qc_workbook.runtime_vqe"
   ]
  },
  {
   "cell_type": "markdown",
   "id": "9e575406-b09d-4130-8b31-c832825fb0c2",
   "metadata": {},
   "source": [
    "`main`の二個目の引数はジョブの実行中に途中経過をユーザーに教えてくれるUserMessengerオブジェクトで、クラウドで実行するときにはIBM側でインスタンスが用意されます。ただし、`publish`というメソッドが定義されているオブジェクトであればなんでもいいので、ここでは自前に簡易的な物を作り、`main`に渡します。"
   ]
  },
  {
   "cell_type": "code",
   "execution_count": 26,
   "id": "32df32a2-2955-4717-b427-d24eaca03206",
   "metadata": {},
   "outputs": [],
   "source": [
    "class LocalUserMessenger:\n",
    "    # このクラスは後で使い回すので、今は使わないjob_idという引数も定義されています\n",
    "    def publish(self, interim_result, job_id=None):\n",
    "        print('**-------------------------------------------------------**')\n",
    "        if job_id:\n",
    "            print(f'{time.strftime(\"%Y-%m-%d %H:%M:%S\")}: From job {job_id}')\n",
    "            \n",
    "        print(f'  Parameter values (first 4): {interim_result[\"params\"][:4]}')\n",
    "        print(f'  Current energy: {interim_result[\"energy\"]} Ha')\n",
    "        print(f'  Number of function calls: {interim_result[\"num_calls\"]}')"
   ]
  },
  {
   "cell_type": "markdown",
   "id": "2615c9b6-1dd8-456d-8adc-260653ac8963",
   "metadata": {},
   "source": [
    "一個目の引数としてqasm_simulatorを渡し、関数を実行します。"
   ]
  },
  {
   "cell_type": "code",
   "execution_count": 27,
   "id": "6eb829b9-b15b-4042-929b-736e53b8dce1",
   "metadata": {},
   "outputs": [
    {
     "name": "stdout",
     "output_type": "stream",
     "text": [
      "**-------------------------------------------------------**\n",
      "  Parameter values (first 4): [1.01 0.01 1.01 0.01]\n",
      "  Current energy: -0.8762301003938036 Ha\n",
      "  Number of function calls: 10\n",
      "**-------------------------------------------------------**\n",
      "  Parameter values (first 4): [ 1.50286738 -0.51561911  1.38890379 -0.38194216]\n",
      "  Current energy: -1.0810448005574516 Ha\n",
      "  Number of function calls: 20\n",
      "**-------------------------------------------------------**\n",
      "  Parameter values (first 4): [ 2.03801646 -0.25761294 -0.03063066 -0.46052184]\n",
      "  Current energy: -1.1339328794582628 Ha\n",
      "  Number of function calls: 30\n",
      "**-------------------------------------------------------**\n",
      "  Parameter values (first 4): [ 1.23678801 -0.6464809   0.49311281 -0.48029414]\n",
      "  Current energy: -1.1685353638909444 Ha\n",
      "  Number of function calls: 40\n",
      "**-------------------------------------------------------**\n",
      "  Parameter values (first 4): [ 1.54889684 -0.48954924 -0.29456983 -0.81350639]\n",
      "  Current energy: -1.2455755764853325 Ha\n",
      "  Number of function calls: 50\n",
      "**-------------------------------------------------------**\n",
      "  Parameter values (first 4): [ 1.26109038 -0.87056662 -0.5375669  -0.7209152 ]\n",
      "  Current energy: -1.2360626103589492 Ha\n",
      "  Number of function calls: 60\n",
      "**-------------------------------------------------------**\n",
      "  Parameter values (first 4): [ 1.37902831 -0.62341304 -0.53124244 -0.7082699 ]\n",
      "  Current energy: -1.2545297194594454 Ha\n",
      "  Number of function calls: 70\n",
      "**-------------------------------------------------------**\n",
      "  Parameter values (first 4): [ 1.66215192 -0.67264679 -0.36815542 -0.40585646]\n",
      "  Current energy: -1.2759446971621726 Ha\n",
      "  Number of function calls: 80\n",
      "**-------------------------------------------------------**\n",
      "  Parameter values (first 4): [ 1.67317141 -0.94161677 -0.40775508 -0.20548295]\n",
      "  Current energy: -1.3266497952173555 Ha\n",
      "  Number of function calls: 90\n",
      "**-------------------------------------------------------**\n",
      "  Parameter values (first 4): [ 1.68463092 -0.99056958 -0.42346649 -0.01684939]\n",
      "  Current energy: -1.3725204091163816 Ha\n",
      "  Number of function calls: 100\n",
      "**-------------------------------------------------------**\n",
      "  Parameter values (first 4): [ 1.67927969 -1.54170389 -0.86976439  0.55698982]\n",
      "  Current energy: -1.624468024663045 Ha\n",
      "  Number of function calls: 110\n",
      "**-------------------------------------------------------**\n",
      "  Parameter values (first 4): [ 1.68857723 -1.63575264 -1.04013073  0.73521496]\n",
      "  Current energy: -1.681417624711455 Ha\n",
      "  Number of function calls: 120\n",
      "**-------------------------------------------------------**\n",
      "  Parameter values (first 4): [ 1.74879096 -1.5765549  -1.12797423  1.11372747]\n",
      "  Current energy: -1.7267264350293474 Ha\n",
      "  Number of function calls: 130\n",
      "**-------------------------------------------------------**\n",
      "  Parameter values (first 4): [ 1.63418686 -1.69314752 -1.21045337  1.13070341]\n",
      "  Current energy: -1.7612249653252516 Ha\n",
      "  Number of function calls: 140\n",
      "**-------------------------------------------------------**\n",
      "  Parameter values (first 4): [ 1.81668291 -1.49962101 -1.44397381  1.4174603 ]\n",
      "  Current energy: -1.8103610728920887 Ha\n",
      "  Number of function calls: 150\n",
      "**-------------------------------------------------------**\n",
      "  Parameter values (first 4): [ 1.71051403 -1.52075274 -1.47231032  1.46509827]\n",
      "  Current energy: -1.8224590960036187 Ha\n",
      "  Number of function calls: 160\n",
      "**-------------------------------------------------------**\n",
      "  Parameter values (first 4): [ 1.75271707 -1.58322127 -1.42831814  1.53920854]\n",
      "  Current energy: -1.823116569199335 Ha\n",
      "  Number of function calls: 170\n",
      "**-------------------------------------------------------**\n",
      "  Parameter values (first 4): [ 1.72002749 -1.53111248 -1.43548758  1.51423691]\n",
      "  Current energy: -1.8236949492112842 Ha\n",
      "  Number of function calls: 180\n",
      "**-------------------------------------------------------**\n",
      "  Parameter values (first 4): [ 1.70984665 -1.56442663 -1.43132502  1.49213289]\n",
      "  Current energy: -1.8228466545114235 Ha\n",
      "  Number of function calls: 190\n",
      "**-------------------------------------------------------**\n",
      "  Parameter values (first 4): [ 1.69717644 -1.54640365 -1.42590448  1.49626475]\n",
      "  Current energy: -1.8285699375782656 Ha\n",
      "  Number of function calls: 200\n",
      "**-----------------------------------------------------------------------------------**\n",
      "Energy found with VQE: -1.822 Ha (COBYLA 201 calls)\n",
      "Exact ground-state energy: -1.853 Ha\n"
     ]
    }
   ],
   "source": [
    "result = qc_workbook.runtime_vqe.main(simulator, LocalUserMessenger(), ansatz, ham_op, maxiter=150, tol=None, shots=4000)\n",
    "\n",
    "print('**-----------------------------------------------------------------------------------**')\n",
    "print(f'Energy found with VQE: {result[\"energy\"]:.3f} Ha (COBYLA {result[\"num_calls\"]} calls)')\n",
    "print(f'Exact ground-state energy: -1.853 Ha')"
   ]
  },
  {
   "cell_type": "markdown",
   "id": "5727c46b-f655-408f-9ce2-5af8e6295786",
   "metadata": {},
   "source": [
    "厳密解に大体近い値が得られていれば成功です。時々-1.24あたりで局所解にひっかかってしまうことがあるようなので、二回程度試してみるといいかもしれません。\n",
    "\n",
    "プログラムが書けたら、最後にそれをアップロードしてクラウドで実行してみましょう。\n",
    "\n",
    "もしも登録漏れなどで`ibm-q-utokyo/internal/qc-training22`プロバイダが使えない場合は、残念ながらここから先は実行できません。（`open`プロバイダではプログラムのアップロードが許可されていないので）"
   ]
  },
  {
   "cell_type": "code",
   "execution_count": 28,
   "id": "d99b8a4b-833b-4633-973f-32dcd05239e5",
   "metadata": {},
   "outputs": [],
   "source": [
    "# まずはいつものおまじないでproviderを定義\n",
    "\n",
    "IBMQ.load_account()\n",
    "\n",
    "provider = IBMQ.get_provider(hub='ibm-q-utokyo', group='internal', project='qc-training22')"
   ]
  },
  {
   "cell_type": "code",
   "execution_count": 30,
   "id": "294348ec-1101-43c8-a807-8bf3f2801d5d",
   "metadata": {},
   "outputs": [
    {
     "name": "stdout",
     "output_type": "stream",
     "text": [
      "simple-vqe-9ZJQGjM9b1\n"
     ]
    }
   ],
   "source": [
    "# プログラムファイルの場所\n",
    "program_path = qc_workbook.runtime_vqe.__file__\n",
    "\n",
    "# プログラムに付随するメタデータ\n",
    "\n",
    "json_schema = 'https://json-schema.org/draft/2019-09/schema'\n",
    "\n",
    "metadata = {\n",
    "    'name': 'simple-vqe',\n",
    "    'description': 'Simple VQE.',\n",
    "    'max_execution_time': 14400,\n",
    "    'spec': {\n",
    "        'backend_requirements': {'min_num_qubits': 2},\n",
    "        'parameters': {\n",
    "            '$schema': json_schema,\n",
    "            'type': 'object',\n",
    "            'properties': {\n",
    "                'ansatz': {'description': 'Ansatz QuantumCircuit.', 'type': 'object'},\n",
    "                'hamiltonian_op': {'description': 'A PauliSumOp representing the Hamiltonian of the problem.', 'type': 'object'},\n",
    "                'initial': {'description': 'Initial values of the free parameters of the ansatz.', 'type': 'array'},\n",
    "                'shots': {'description': 'Number of shots for each QuantumCircuit to evaluate.', 'type': 'number'},\n",
    "                'maxiter': {'description': 'Maximum number of COBYLA iterations.', 'type': 'number'},\n",
    "                'tol': {'description': 'Tolerance parameter for the COBYLA optimizer.', 'type': 'number'},\n",
    "                'report_every': {'description': 'If >0, number of objective function calls to make before sending an interim result.', 'type': 'number'}\n",
    "            },\n",
    "            'required': ['ansatz', 'hamiltonian_op']\n",
    "        },\n",
    "        'return_values': {'$schema': json_schema, 'description': 'Counts', 'type': 'string'},\n",
    "        'interim_results': {\n",
    "            '$schema': json_schema,\n",
    "            'type': 'object',\n",
    "            'properties': {\n",
    "                'params': {'description': 'Current parameter values.', 'type': 'array'},\n",
    "                'energy': {'description': 'Current energy.', 'type': 'number'},\n",
    "                'total_call': {'description': 'Number of calls to the objective function made so far.', 'type': 'number'},\n",
    "                'total_shots': {'description': 'Number of shots used so far.', 'type': 'number'}\n",
    "            }\n",
    "        }\n",
    "    }\n",
    "}\n",
    "\n",
    "# プログラムをアップロードし、IDを取得\n",
    "program_id = provider.runtime.upload_program(data=program_path, metadata=metadata)\n",
    "    \n",
    "print(program_id)"
   ]
  },
  {
   "cell_type": "markdown",
   "id": "b1c3d515-e7d6-4434-9994-99108f9dd6cd",
   "metadata": {},
   "source": [
    "プログラムは一度アップロードすれば何回でも使えるので、上で表示されたIDを記録しておいてください。\n",
    "\n",
    "アップロードしたプログラムの一覧は[IBM QuantumのServicesページ](https://quantum-computing.ibm.com/services?services=runtime)で見ることができます。simple-vqeというパネルがあれば、アップロード成功です。パネルをクリックするとプログラムIDも確認することができます。\n",
    "\n",
    "それでは今度は[クラウド上のシミュレータ](https://quantum-computing.ibm.com/services?services=simulators&system=ibmq_qasm_simulator)をバックエンドとしてこのプログラムを実行しましょう。"
   ]
  },
  {
   "cell_type": "code",
   "execution_count": 35,
   "id": "cfab148c-3c3d-40bb-a16a-6bfec56dba91",
   "metadata": {},
   "outputs": [],
   "source": [
    "# 前述したクラウド上のUserMessengerはpublish()が呼ばれる度にユーザーと通信をし、publish()の引数を送ってくるので、それを受け取ってローカルで処理（印字するなど）する関数を定義します\n",
    "def callback_fn(job_id, interim_result):\n",
    "    LocalUserMessenger().publish(interim_result, job_id)"
   ]
  },
  {
   "cell_type": "code",
   "execution_count": 32,
   "id": "df3e8a96-739a-4224-9661-80e14d3df563",
   "metadata": {},
   "outputs": [
    {
     "name": "stderr",
     "output_type": "stream",
     "text": [
      "runtime_job._stream_results:WARNING:2022-06-15 14:36:38,435: An error occurred while streaming results for job cakmvlr762hnc4c6kk80:\n",
      "Traceback (most recent call last):\n",
      "  File \"/usr/local/lib/python3.8/dist-packages/qiskit/providers/ibmq/runtime/runtime_job.py\", line 357, in _stream_results\n",
      "    user_callback(self.job_id(), _decoder.decode(response))\n",
      "  File \"/tmp/ipykernel_6519/3562115929.py\", line 3, in callback_fn\n",
      "    LocalMessenger().publish(interim_result, job_id)\n",
      "NameError: name 'LocalMessenger' is not defined\n",
      "\n",
      "runtime_job._stream_results:WARNING:2022-06-15 14:36:44,938: An error occurred while streaming results for job cakmvlr762hnc4c6kk80:\n",
      "Traceback (most recent call last):\n",
      "  File \"/usr/local/lib/python3.8/dist-packages/qiskit/providers/ibmq/runtime/runtime_job.py\", line 357, in _stream_results\n",
      "    user_callback(self.job_id(), _decoder.decode(response))\n",
      "  File \"/tmp/ipykernel_6519/3562115929.py\", line 3, in callback_fn\n",
      "    LocalMessenger().publish(interim_result, job_id)\n",
      "NameError: name 'LocalMessenger' is not defined\n",
      "\n",
      "runtime_job._stream_results:WARNING:2022-06-15 14:36:51,210: An error occurred while streaming results for job cakmvlr762hnc4c6kk80:\n",
      "Traceback (most recent call last):\n",
      "  File \"/usr/local/lib/python3.8/dist-packages/qiskit/providers/ibmq/runtime/runtime_job.py\", line 357, in _stream_results\n",
      "    user_callback(self.job_id(), _decoder.decode(response))\n",
      "  File \"/tmp/ipykernel_6519/3562115929.py\", line 3, in callback_fn\n",
      "    LocalMessenger().publish(interim_result, job_id)\n",
      "NameError: name 'LocalMessenger' is not defined\n",
      "\n",
      "runtime_job._stream_results:WARNING:2022-06-15 14:36:57,630: An error occurred while streaming results for job cakmvlr762hnc4c6kk80:\n",
      "Traceback (most recent call last):\n",
      "  File \"/usr/local/lib/python3.8/dist-packages/qiskit/providers/ibmq/runtime/runtime_job.py\", line 357, in _stream_results\n",
      "    user_callback(self.job_id(), _decoder.decode(response))\n",
      "  File \"/tmp/ipykernel_6519/3562115929.py\", line 3, in callback_fn\n",
      "    LocalMessenger().publish(interim_result, job_id)\n",
      "NameError: name 'LocalMessenger' is not defined\n",
      "\n",
      "runtime_job._stream_results:WARNING:2022-06-15 14:37:03,809: An error occurred while streaming results for job cakmvlr762hnc4c6kk80:\n",
      "Traceback (most recent call last):\n",
      "  File \"/usr/local/lib/python3.8/dist-packages/qiskit/providers/ibmq/runtime/runtime_job.py\", line 357, in _stream_results\n",
      "    user_callback(self.job_id(), _decoder.decode(response))\n",
      "  File \"/tmp/ipykernel_6519/3562115929.py\", line 3, in callback_fn\n",
      "    LocalMessenger().publish(interim_result, job_id)\n",
      "NameError: name 'LocalMessenger' is not defined\n",
      "\n",
      "runtime_job._stream_results:WARNING:2022-06-15 14:37:10,154: An error occurred while streaming results for job cakmvlr762hnc4c6kk80:\n",
      "Traceback (most recent call last):\n",
      "  File \"/usr/local/lib/python3.8/dist-packages/qiskit/providers/ibmq/runtime/runtime_job.py\", line 357, in _stream_results\n",
      "    user_callback(self.job_id(), _decoder.decode(response))\n",
      "  File \"/tmp/ipykernel_6519/3562115929.py\", line 3, in callback_fn\n",
      "    LocalMessenger().publish(interim_result, job_id)\n",
      "NameError: name 'LocalMessenger' is not defined\n",
      "\n",
      "runtime_job._stream_results:WARNING:2022-06-15 14:37:16,164: An error occurred while streaming results for job cakmvlr762hnc4c6kk80:\n",
      "Traceback (most recent call last):\n",
      "  File \"/usr/local/lib/python3.8/dist-packages/qiskit/providers/ibmq/runtime/runtime_job.py\", line 357, in _stream_results\n",
      "    user_callback(self.job_id(), _decoder.decode(response))\n",
      "  File \"/tmp/ipykernel_6519/3562115929.py\", line 3, in callback_fn\n",
      "    LocalMessenger().publish(interim_result, job_id)\n",
      "NameError: name 'LocalMessenger' is not defined\n",
      "\n",
      "runtime_job._stream_results:WARNING:2022-06-15 14:37:19,488: An error occurred while streaming results for job cakmvlr762hnc4c6kk80:\n",
      "Traceback (most recent call last):\n",
      "  File \"/usr/local/lib/python3.8/dist-packages/qiskit/providers/ibmq/runtime/runtime_job.py\", line 357, in _stream_results\n",
      "    user_callback(self.job_id(), _decoder.decode(response))\n",
      "  File \"/tmp/ipykernel_6519/3562115929.py\", line 3, in callback_fn\n",
      "    LocalMessenger().publish(interim_result, job_id)\n",
      "NameError: name 'LocalMessenger' is not defined\n",
      "\n"
     ]
    }
   ],
   "source": [
    "# mainの3個目以降の引数\n",
    "inputs = {\n",
    "    'ansatz': ansatz,\n",
    "    'hamiltonian_op': ham_op,\n",
    "    'maxiter': 40,\n",
    "    'shots': 4000,\n",
    "    'report_every': 20\n",
    "}\n",
    "\n",
    "simulator_job = provider.runtime.run(program_id=program_id, # program_idで指定したプログラムを実行\n",
    "                                     options={'backend_name': 'ibmq_qasm_simulator'}, # バックエンドとしてibmq_qasm_simulatorを利用\n",
    "                                     inputs=inputs, # 関数の引数\n",
    "                                     callback=callback_fn) # user_messenger.publish()から送られてくる情報の処理をする関数"
   ]
  },
  {
   "cell_type": "code",
   "execution_count": 33,
   "id": "4a246d10-9c82-479a-9959-4d9fe21a2c78",
   "metadata": {},
   "outputs": [
    {
     "name": "stdout",
     "output_type": "stream",
     "text": [
      "Final result:\n",
      "**-------------------------------------------------------**\n",
      "  Parameter values (first 4): [ 2.23968236 -1.51406285  1.53774356 -1.60701473]\n",
      "  Current energy: -1.8240199282054732 Ha\n",
      "  Number of function calls: 151\n"
     ]
    }
   ],
   "source": [
    "final_result = simulator_job.result()\n",
    "print('Final result:')\n",
    "LocalUserMessenger().publish(final_result)"
   ]
  },
  {
   "cell_type": "markdown",
   "id": "cc4be620-982d-437d-98a8-99cf00b15fd4",
   "metadata": {},
   "source": [
    "シミュレータでの実行もうまくいけば、いよいよ実機を使います。"
   ]
  },
  {
   "cell_type": "code",
   "execution_count": 34,
   "id": "e12600f2-ebeb-470d-88ad-74a5dac496fe",
   "metadata": {},
   "outputs": [
    {
     "name": "stdout",
     "output_type": "stream",
     "text": [
      "ibm_hanoi\n"
     ]
    }
   ],
   "source": [
    "base_filter = operational_backend(min_qubits=4)\n",
    "# belemの挙動が数日前からおかしいので、除いておく\n",
    "filters = lambda b: base_filter(b) and b.name() != 'ibmq_belem'\n",
    "\n",
    "backend_list = provider.backends(filters=filters)\n",
    "# 今一番空いているバックエンド\n",
    "backend = least_busy(backend_list)\n",
    "print(backend.name())"
   ]
  },
  {
   "cell_type": "code",
   "execution_count": 36,
   "id": "db044e3e-df73-41a2-aa50-30725e92ab44",
   "metadata": {},
   "outputs": [],
   "source": [
    "job = provider.runtime.run(program_id=program_id,\n",
    "                           options={'backend_name': backend.name()},\n",
    "                           inputs=inputs,\n",
    "                           callback=callback_fn)"
   ]
  },
  {
   "cell_type": "code",
   "execution_count": 37,
   "id": "2de1cb03-b979-4b13-8e82-bddec548ca24",
   "metadata": {},
   "outputs": [
    {
     "name": "stdout",
     "output_type": "stream",
     "text": [
      "Final result with ibm_hanoi:\n"
     ]
    },
    {
     "ename": "KeyboardInterrupt",
     "evalue": "",
     "output_type": "error",
     "traceback": [
      "\u001b[0;31m---------------------------------------------------------------------------\u001b[0m",
      "\u001b[0;31mKeyboardInterrupt\u001b[0m                         Traceback (most recent call last)",
      "Input \u001b[0;32mIn [37]\u001b[0m, in \u001b[0;36m<cell line: 2>\u001b[0;34m()\u001b[0m\n\u001b[1;32m      1\u001b[0m \u001b[38;5;28mprint\u001b[39m(\u001b[38;5;124mf\u001b[39m\u001b[38;5;124m'\u001b[39m\u001b[38;5;124mFinal result with \u001b[39m\u001b[38;5;132;01m{\u001b[39;00mbackend\u001b[38;5;241m.\u001b[39mname()\u001b[38;5;132;01m}\u001b[39;00m\u001b[38;5;124m:\u001b[39m\u001b[38;5;124m'\u001b[39m)\n\u001b[0;32m----> 2\u001b[0m LocalUserMessenger()\u001b[38;5;241m.\u001b[39mpublish(\u001b[43mjob\u001b[49m\u001b[38;5;241;43m.\u001b[39;49m\u001b[43mresult\u001b[49m\u001b[43m(\u001b[49m\u001b[43m)\u001b[49m)\n",
      "File \u001b[0;32m/usr/local/lib/python3.8/dist-packages/qiskit/providers/ibmq/runtime/runtime_job.py:149\u001b[0m, in \u001b[0;36mRuntimeJob.result\u001b[0;34m(self, timeout, wait, decoder)\u001b[0m\n\u001b[1;32m    147\u001b[0m _decoder \u001b[38;5;241m=\u001b[39m decoder \u001b[38;5;129;01mor\u001b[39;00m \u001b[38;5;28mself\u001b[39m\u001b[38;5;241m.\u001b[39m_result_decoder\n\u001b[1;32m    148\u001b[0m \u001b[38;5;28;01mif\u001b[39;00m \u001b[38;5;28mself\u001b[39m\u001b[38;5;241m.\u001b[39m_results \u001b[38;5;129;01mis\u001b[39;00m \u001b[38;5;28;01mNone\u001b[39;00m \u001b[38;5;129;01mor\u001b[39;00m (_decoder \u001b[38;5;241m!=\u001b[39m \u001b[38;5;28mself\u001b[39m\u001b[38;5;241m.\u001b[39m_result_decoder):\n\u001b[0;32m--> 149\u001b[0m     \u001b[38;5;28;43mself\u001b[39;49m\u001b[38;5;241;43m.\u001b[39;49m\u001b[43mwait_for_final_state\u001b[49m\u001b[43m(\u001b[49m\u001b[43mtimeout\u001b[49m\u001b[38;5;241;43m=\u001b[39;49m\u001b[43mtimeout\u001b[49m\u001b[43m,\u001b[49m\u001b[43m \u001b[49m\u001b[43mwait\u001b[49m\u001b[38;5;241;43m=\u001b[39;49m\u001b[43mwait\u001b[49m\u001b[43m)\u001b[49m\n\u001b[1;32m    150\u001b[0m     \u001b[38;5;28;01mif\u001b[39;00m \u001b[38;5;28mself\u001b[39m\u001b[38;5;241m.\u001b[39m_status \u001b[38;5;241m==\u001b[39m JobStatus\u001b[38;5;241m.\u001b[39mERROR:\n\u001b[1;32m    151\u001b[0m         \u001b[38;5;28;01mraise\u001b[39;00m RuntimeJobFailureError(\u001b[38;5;124mf\u001b[39m\u001b[38;5;124m\"\u001b[39m\u001b[38;5;124mUnable to retrieve job result. \u001b[39m\u001b[38;5;124m\"\u001b[39m\n\u001b[1;32m    152\u001b[0m                                      \u001b[38;5;124mf\u001b[39m\u001b[38;5;124m\"\u001b[39m\u001b[38;5;132;01m{\u001b[39;00m\u001b[38;5;28mself\u001b[39m\u001b[38;5;241m.\u001b[39merror_message()\u001b[38;5;132;01m}\u001b[39;00m\u001b[38;5;124m\"\u001b[39m)\n",
      "File \u001b[0;32m/usr/local/lib/python3.8/dist-packages/qiskit/providers/ibmq/runtime/runtime_job.py:213\u001b[0m, in \u001b[0;36mRuntimeJob.wait_for_final_state\u001b[0;34m(self, timeout, wait)\u001b[0m\n\u001b[1;32m    210\u001b[0m \u001b[38;5;28;01mif\u001b[39;00m timeout \u001b[38;5;129;01mis\u001b[39;00m \u001b[38;5;129;01mnot\u001b[39;00m \u001b[38;5;28;01mNone\u001b[39;00m \u001b[38;5;129;01mand\u001b[39;00m elapsed_time \u001b[38;5;241m>\u001b[39m\u001b[38;5;241m=\u001b[39m timeout:\n\u001b[1;32m    211\u001b[0m     \u001b[38;5;28;01mraise\u001b[39;00m JobTimeoutError(\n\u001b[1;32m    212\u001b[0m         \u001b[38;5;124m'\u001b[39m\u001b[38;5;124mTimeout while waiting for job \u001b[39m\u001b[38;5;132;01m{}\u001b[39;00m\u001b[38;5;124m.\u001b[39m\u001b[38;5;124m'\u001b[39m\u001b[38;5;241m.\u001b[39mformat(\u001b[38;5;28mself\u001b[39m\u001b[38;5;241m.\u001b[39mjob_id()))\n\u001b[0;32m--> 213\u001b[0m \u001b[43mtime\u001b[49m\u001b[38;5;241;43m.\u001b[39;49m\u001b[43msleep\u001b[49m\u001b[43m(\u001b[49m\u001b[43mwait\u001b[49m\u001b[43m)\u001b[49m\n\u001b[1;32m    214\u001b[0m status \u001b[38;5;241m=\u001b[39m \u001b[38;5;28mself\u001b[39m\u001b[38;5;241m.\u001b[39mstatus()\n",
      "\u001b[0;31mKeyboardInterrupt\u001b[0m: "
     ]
    }
   ],
   "source": [
    "final_result = job.result()\n",
    "print(f'Final result with {backend.name()}:')\n",
    "LocalUserMessenger().publish(final_result)"
   ]
  },
  {
   "cell_type": "markdown",
   "id": "1fcbfd66-d99c-48df-8a47-98559cd9270d",
   "metadata": {},
   "source": [
    "結果はあまり厳密解に近くないかもしれません。\n",
    "\n",
    "ただし、今回はいつものように「これだからNISQは」で片付けて諦めなくてもいいかもしれません。すでに2017年のハードウェアで比較的まともな結果が得られているわけですから。\n",
    "\n",
    "2017年のペーパーでは量子計算部分を極力効率化しています。おそらく最も効いているのは、分子軌道の基底を変換して実行的に二軌道の問題に直し、2量子ビット回路で問題を解いていることですが、今の4量子ビットのままでもアンザッツの工夫などでもっと良い結果が得られるはずです。是非自分で色々なアイディアを試してみてください。\n",
    "\n",
    "ヒントとして、比較的に取り組みやすい改善法を挙げておきます。\n",
    "\n",
    "- 今のアンザッツは電子数を保存しない（アンザッツが作る状態に\"1\"が2個でない計算基底も重ね合わさっている）が、水素分子のエネルギー固有ベクトルは電子2つの計算基底で張られる部分空間にあるはずである。パラメータ付き回路の構造を変えて、状態が任意のパラメータの値について$c_3 \\ket{0011} + c_5 \\ket{0101} + c_6 \\ket{0110} + c_9 \\ket{1001} + c_{10} \\ket{1010} + c_{12} \\ket{1100}$となるようにしてみる。\n",
    "- アンザッツのCNOTの数を減らす。つまりCNOTが隣接量子ビット同士にのみかかるようにし、SWAPができるだけ起こらないようにする。\n",
    "- 測定エラー緩和を導入する。\n"
   ]
  },
  {
   "cell_type": "code",
   "execution_count": null,
   "id": "919f9481-bb40-493d-bce7-97ec6d1d3a70",
   "metadata": {},
   "outputs": [],
   "source": []
  }
 ],
 "metadata": {
  "kernelspec": {
   "display_name": "Python 3 (ipykernel)",
   "language": "python",
   "name": "python3"
  },
  "language_info": {
   "codemirror_mode": {
    "name": "ipython",
    "version": 3
   },
   "file_extension": ".py",
   "mimetype": "text/x-python",
   "name": "python",
   "nbconvert_exporter": "python",
   "pygments_lexer": "ipython3",
   "version": "3.8.10"
  }
 },
 "nbformat": 4,
 "nbformat_minor": 5
}
