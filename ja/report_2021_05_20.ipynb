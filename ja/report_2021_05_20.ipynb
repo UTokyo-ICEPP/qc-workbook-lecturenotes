{
 "cells": [
  {
   "cell_type": "markdown",
   "metadata": {},
   "source": [
    "# 【課題】高エネルギー実験で生成された荷電粒子の飛跡を見つける"
   ]
  },
  {
   "cell_type": "markdown",
   "metadata": {},
   "source": [
    "高エネルギー物理の実験では必須の技術である「**荷電粒子飛跡の再構成**」を、変分量子固有値ソルバー法を使って実現する。"
   ]
  },
  {
   "cell_type": "markdown",
   "metadata": {},
   "source": [
    "まず、必要なライブラリを最初にインポートします。"
   ]
  },
  {
   "cell_type": "code",
   "execution_count": 4,
   "metadata": {
    "jupyter": {
     "outputs_hidden": false
    },
    "pycharm": {
     "name": "#%%\n"
    }
   },
   "outputs": [],
   "source": [
    "# Tested with python 3.7.9, qiskit 0.23.5, numpy 1.20.1、hepqpr-qallse 0.1.0\n",
    "import numpy as np\n",
    "import matplotlib.pyplot as plt\n",
    "\n",
    "from qiskit import QuantumCircuit, ClassicalRegister, QuantumRegister, Aer\n",
    "from qiskit.circuit.library import TwoLocal\n",
    "from qiskit.aqua.algorithms import VQE, NumPyMinimumEigensolver, NumPyEigensolver\n",
    "from qiskit.optimization.applications.ising.common import sample_most_likely\n",
    "from qiskit.aqua.components.optimizers import SPSA, COBYLA\n",
    "from qiskit.aqua import QuantumInstance"
   ]
  },
  {
   "cell_type": "markdown",
   "metadata": {},
   "source": [
    "## ハミルトニアンの構成とVQEの実行\n",
    "\n",
    "課題として考えるのは、**Trackingを実現するためのハミルトニアンを構成し、それをVQEに実装して実行する**ことです。"
   ]
  },
  {
   "cell_type": "markdown",
   "metadata": {},
   "source": [
    "### 問題\n",
    "\n",
    "以上のデータから、VQEで用いるハミルトニアンを構成してみてください。\n",
    "\n",
    "**ヒント1**：この形式のデータを以下のコードを使って読み込むとします。"
   ]
  },
  {
   "cell_type": "code",
   "execution_count": 5,
   "metadata": {
    "jupyter": {
     "outputs_hidden": false
    },
    "pycharm": {
     "name": "#%%\n"
    }
   },
   "outputs": [
    {
     "name": "stdout",
     "output_type": "stream",
     "text": [
      "Q size = 46\n",
      "# of segments = 10\n"
     ]
    }
   ],
   "source": [
    "file_r = 'data/QUBO_05pct_input.txt'\n",
    "from ast import literal_eval\n",
    "with open(file_r, \"r\") as f:\n",
    "    line = f.read()\n",
    "    Q = literal_eval(line)\n",
    "print(\"Q size =\",len(Q))\n",
    "\n",
    "\n",
    "n_max = 100\n",
    "\n",
    "nvar = 0\n",
    "key_i = []\n",
    "b_ij = np.zeros((n_max,n_max))\n",
    "for (k1, k2), v in Q.items():\n",
    "    if k1 == k2:\n",
    "        b_ij[nvar][nvar] = v\n",
    "        key_i.append(k1)\n",
    "        nvar += 1\n",
    "\n",
    "for (k1, k2), v in Q.items():\n",
    "    if k1 != k2:\n",
    "        for i in range(nvar):\n",
    "            for j in range(nvar):\n",
    "                if k1 == key_i[i] and k2 == key_i[j]:\n",
    "                    if i < j:\n",
    "                        b_ij[i][j] = v\n",
    "                    else:\n",
    "                        b_ij[j][i] = v\n",
    "\n",
    "b_ij = b_ij[:nvar,:nvar]\n",
    "print(\"# of segments =\",nvar)"
   ]
  },
  {
   "cell_type": "markdown",
   "metadata": {},
   "source": [
    "セグメント数を$N$（上のコードではnvar）とすると、この時b_ijは$N$行$N$列の正方行列になります。実はこのデータは、**QUBO**（*Quadratic Unconstrained Binary Optimization*、2次制約無し2値最適化）と呼ばれる問題として解くことができる形式で与えられています。QUBOは量子ビット$T$がバイナリー値（0か1）を持つ場合に、以下の式で与えられる目的関数$O$を最小化する問題として定義されます。\n",
    "\n",
    "$$\n",
    "O(b,T) = \\sum_{i=1}^Nb_{ii}T_i + \\sum_{i=1}^N\\sum_{j=1\\:(i<j)}^Nb_{ij}T_iT_j\n",
    "$$\n",
    "\n",
    "$T^2=T$でもあるため、上式は簡単に\n",
    "\n",
    "$$\n",
    "O(b,T) = \\sum_{i=1}^N\\sum_{j=1}^Nb_{ij}T_iT_j\n",
    "$$\n",
    "\n",
    "と書くこともできます。$T$は{0,1}のバイナリー値を持ちますが、シンプルな計算で{+1,-1}を持つ量子ビットに変換することができます。{+1,-1}はパウリ$Z$演算子の固有値でもあるため、パウリ$Z$演算子を使って目的関数$O$をハミルトニアンとして書くことができれば、そのまま量子回路に実装することができます。\n",
    "\n",
    "以下のスペースに、どのような変換が可能か等を含め、VQEでTrackingを実行するために必要な量子演算を定義してください。\n",
    "\n",
    "**ヒント2**：まず、{0,1}のバイナリー値を持つ$T$を{+1,-1}をもつスピン$s$に変換します。$T=0$を$s=1$、$T=1$を$s=-1$に対応させるとします。この関係の下で、目的関数$O$を\n",
    "\n",
    "$$\n",
    "H(h,J,s) = \\sum_{i=1}^Nh_is_i + \\sum_{i=1}^N\\sum_{j=1\\:(i<j)}^NJ_{ij}s_is_j\n",
    "$$\n",
    "\n",
    "となるような関数$H$に書き換えてみてください。この関数$H$はイジング模型のハミルトニアンと同じ形になっています。"
   ]
  },
  {
   "cell_type": "code",
   "execution_count": 6,
   "metadata": {
    "pycharm": {
     "name": "#%%\n"
    },
    "tags": [
     "raises-exception",
     "remove-output"
    ]
   },
   "outputs": [],
   "source": [
    "from qiskit.quantum_info import Pauli\n",
    "from qiskit.aqua.operators import PrimitiveOp\n",
    "\n",
    "##################\n",
    "### EDIT BELOW ###\n",
    "##################\n",
    "\n",
    "# ステップ１：{0,1}を取るTに対して定義されているb_ijを、{+1,-1}を取る変数sに対して定義しなおす。\n",
    "J_ij = np.zeros((nvar,nvar))\n",
    "for i in range(nvar):\n",
    "    for j in range(nvar):\n",
    "        if i >= j:\n",
    "            continue        \n",
    "        J_ij[i][j] = b_ij[i][j]+b_ij[j][i]\n",
    "        if J_ij[i][j] == 0:\n",
    "            continue\n",
    "        \n",
    "h_i = np.zeros(nvar)\n",
    "for i in range(nvar):\n",
    "    bias = 0\n",
    "    for k in range(nvar):\n",
    "        bias += b_ij[i][k]+b_ij[k][i]\n",
    "    bias *= -1\n",
    "    h_i[i] = bias\n",
    "    if h_i[i] == 0:\n",
    "        continue\n",
    "\n",
    "# ステップ２：変数sをパウリZ演算子を使って実装する。\n",
    "\n",
    "#def get_qubitops(...):\n",
    "#\n",
    "#\n",
    "#    return ??\n",
    "def get_qubitops(J_ij,h_i,penalty=1e6):\n",
    "    num_qubits = len(h_i)\n",
    "    print(\"Number of qubits (selected triplets) =\",num_qubits)\n",
    "    weighted_sum = 0\n",
    "    \n",
    "    zero = np.zeros(num_qubits, dtype=bool)\n",
    "    for i in range(num_qubits):\n",
    "        for j in range(num_qubits):\n",
    "            if i >= j:\n",
    "                continue\n",
    "            if J_ij[i][j] == 0:\n",
    "                continue\n",
    "            print(\"J_ij[\",i,\"][\",j,\"]=\",J_ij[i][j])\n",
    "            vp = np.zeros(num_qubits, dtype=bool)\n",
    "            vp[i] = True\n",
    "            vp[j] = True\n",
    "            weighted_sum += J_ij[i][j]*PrimitiveOp(Pauli(vp, zero))\n",
    "\n",
    "    zero = np.zeros(num_qubits, dtype=bool)\n",
    "    for i in range(num_qubits):\n",
    "        print(\"h_i[\",i,\"]=\",h_i[i])\n",
    "        vp = np.zeros(num_qubits, dtype=bool)\n",
    "        vp[i] = True\n",
    "        weighted_sum += h_i[i]*PrimitiveOp(Pauli(vp, zero))\n",
    "\n",
    "    return weighted_sum\n",
    "\n",
    "##################\n",
    "### EDIT ABOVE ###\n",
    "##################"
   ]
  },
  {
   "cell_type": "markdown",
   "metadata": {},
   "source": [
    "このコードの部分を課題として提出してください。\n",
    "\n",
    "**ヒント3**：get_qubitopsは、パウリ$Z$演算子を使って実装した観測量$H$を返す関数です。Qiskitでパウリ$Z$演算子とそのテンソル積を実装するには、qiskit.quantum_info.Pauliクラス（[ここ](https://qiskit.org/documentation/stubs/qiskit.quantum_info.Pauli.html)を参照）とqiskit.aqua.operatorsライブラリ（[ここ](https://qiskit.org/documentation/apidoc/qiskit.aqua.operators.html)を参照）を使うのが便利です。セグメント間の相互作用の強さを表す$J_{ij}$は、2つのパウリ$Z$演算子のテンソル積に対する係数として導入する必要があります。それをqiskit.quantum_info.Pauliを使ってどのように書くでしょうか？$h_i$は単一パウリ$Z$演算子の係数になります。そして、最終的に測定する観測量$H$は、それらパウリ$Z$演算子の線形結合になりますね。"
   ]
  },
  {
   "cell_type": "markdown",
   "metadata": {},
   "source": [
    "### VQEによる近似解の探索\n",
    "\n",
    "上で定義したハミルトニアンを元に、VQEを使ってエネルギーの最小固有値（の近似解）を求めていきます。ただその前に、このハミルトニアンの行列を対角化して、エネルギーの最小固有値とその固有ベクトルを厳密に計算した場合の答えを出してみましょう。"
   ]
  },
  {
   "cell_type": "code",
   "execution_count": 7,
   "metadata": {
    "pycharm": {
     "name": "#%%\n"
    },
    "tags": [
     "raises-exception",
     "remove-output"
    ]
   },
   "outputs": [
    {
     "name": "stdout",
     "output_type": "stream",
     "text": [
      "Number of qubits (selected triplets) = 10\n",
      "J_ij[ 0 ][ 1 ]= 1.0\n",
      "J_ij[ 0 ][ 3 ]= 1.0\n",
      "J_ij[ 0 ][ 4 ]= 1.0\n",
      "J_ij[ 0 ][ 5 ]= 1.0\n",
      "J_ij[ 0 ][ 6 ]= -0.2422171861077038\n",
      "J_ij[ 0 ][ 8 ]= 1.0\n",
      "J_ij[ 0 ][ 9 ]= 1.0\n",
      "J_ij[ 1 ][ 2 ]= -0.20194633024258613\n",
      "J_ij[ 1 ][ 3 ]= 1.0\n",
      "J_ij[ 1 ][ 4 ]= 1.0\n",
      "J_ij[ 1 ][ 5 ]= 1.0\n",
      "J_ij[ 1 ][ 6 ]= 1.0\n",
      "J_ij[ 1 ][ 7 ]= 1.0\n",
      "J_ij[ 1 ][ 8 ]= 1.0\n",
      "J_ij[ 1 ][ 9 ]= -0.24622296145101896\n",
      "J_ij[ 2 ][ 4 ]= 1.0\n",
      "J_ij[ 2 ][ 5 ]= 1.0\n",
      "J_ij[ 2 ][ 6 ]= -0.8163519177517079\n",
      "J_ij[ 2 ][ 7 ]= 1.0\n",
      "J_ij[ 3 ][ 4 ]= 1.0\n",
      "J_ij[ 3 ][ 5 ]= 1.0\n",
      "J_ij[ 3 ][ 6 ]= -0.9622918217115106\n",
      "J_ij[ 3 ][ 7 ]= -0.22174336478384057\n",
      "J_ij[ 3 ][ 8 ]= -0.9698465871822172\n",
      "J_ij[ 3 ][ 9 ]= 1.0\n",
      "J_ij[ 4 ][ 5 ]= -0.2093159882343949\n",
      "J_ij[ 4 ][ 6 ]= 1.0\n",
      "J_ij[ 4 ][ 7 ]= 1.0\n",
      "J_ij[ 4 ][ 8 ]= -0.24685399312094367\n",
      "J_ij[ 4 ][ 9 ]= 1.0\n",
      "J_ij[ 5 ][ 6 ]= 1.0\n",
      "J_ij[ 5 ][ 7 ]= 1.0\n",
      "J_ij[ 6 ][ 7 ]= 1.0\n",
      "J_ij[ 6 ][ 9 ]= 1.0\n",
      "J_ij[ 7 ][ 9 ]= 1.0\n",
      "J_ij[ 8 ][ 9 ]= 1.0\n",
      "h_i[ 0 ]= -5.780035929747845\n",
      "h_i[ 1 ]= -6.554566686862729\n",
      "h_i[ 2 ]= -2.5507675951639466\n",
      "h_i[ 3 ]= -2.8835632506253193\n",
      "h_i[ 4 ]= -6.567013804691708\n",
      "h_i[ 5 ]= -6.157334741767436\n",
      "h_i[ 6 ]= -3.0144590298480045\n",
      "h_i[ 7 ]= -5.945815450971513\n",
      "h_i[ 8 ]= -1.798369215466487\n",
      "h_i[ 9 ]= -5.771357507463346\n",
      "\n",
      "total number of qubits =  10\n",
      "Eigensolver: objective = -33.8202334324766\n",
      "Eigensolver: x = [0 0 1 1 0 0 1 0 1 0]\n"
     ]
    }
   ],
   "source": [
    "# ハミルトニアンオペレータを取得\n",
    "##################\n",
    "### EDIT BELOW ###\n",
    "##################\n",
    "qubitOp = get_qubitops(J_ij,h_i)\n",
    "##################\n",
    "### EDIT ABOVE ###\n",
    "##################\n",
    "print(\"\")\n",
    "print(\"total number of qubits = \",qubitOp.num_qubits)\n",
    "\n",
    "# ハミルトニアン行列を対角化して、エネルギーの最小固有値と固有ベクトルを求める\n",
    "ee  = NumPyMinimumEigensolver(qubitOp)\n",
    "result = ee.run()\n",
    "\n",
    "# 最小エネルギーに対応する量子ビットの組み合わせを表示\n",
    "print('Eigensolver: objective =', result.eigenvalue.real)\n",
    "x = sample_most_likely(result.eigenstate)\n",
    "print('Eigensolver: x =',x)\n",
    "\n",
    "samples_eigen = {}\n",
    "for i in range(nvar):\n",
    "    samples_eigen[key_i[i]] = x[i]"
   ]
  },
  {
   "cell_type": "markdown",
   "metadata": {
    "pycharm": {
     "name": "#%% md\n"
    }
   },
   "source": [
    "次に、同じハミルトニアンモデルをVQEに実装して、最小エネルギーを求めてみます。オプティマイザーとしてSPSAあるいはCOBYLAを使う場合のコードは以下のようになります。\n",
    "\n",
    "まず最初に、VQE用の量子回路を作ります。"
   ]
  },
  {
   "cell_type": "code",
   "execution_count": 8,
   "metadata": {
    "pycharm": {
     "name": "#%%\n"
    },
    "tags": [
     "raises-exception",
     "remove-output"
    ]
   },
   "outputs": [
    {
     "name": "stdout",
     "output_type": "stream",
     "text": [
      "     ┌──────────┐   ┌───────────┐                                       »\n",
      "q_0: ┤ RY(θ[0]) ├─■─┤ RY(θ[10]) ├───────────────────────────────────────»\n",
      "     ├──────────┤ │ └───────────┘┌───────────┐                          »\n",
      "q_1: ┤ RY(θ[1]) ├─■───────■──────┤ RY(θ[11]) ├──────────────────────────»\n",
      "     ├──────────┤         │      └───────────┘┌───────────┐             »\n",
      "q_2: ┤ RY(θ[2]) ├─────────■────────────■──────┤ RY(θ[12]) ├─────────────»\n",
      "     ├──────────┤                      │      └───────────┘┌───────────┐»\n",
      "q_3: ┤ RY(θ[3]) ├──────────────────────■────────────■──────┤ RY(θ[13]) ├»\n",
      "     ├──────────┤                                   │      └───────────┘»\n",
      "q_4: ┤ RY(θ[4]) ├───────────────────────────────────■────────────■──────»\n",
      "     ├──────────┤                                                │      »\n",
      "q_5: ┤ RY(θ[5]) ├────────────────────────────────────────────────■──────»\n",
      "     ├──────────┤                                                       »\n",
      "q_6: ┤ RY(θ[6]) ├───────────────────────────────────────────────────────»\n",
      "     ├──────────┤                                                       »\n",
      "q_7: ┤ RY(θ[7]) ├───────────────────────────────────────────────────────»\n",
      "     ├──────────┤                                                       »\n",
      "q_8: ┤ RY(θ[8]) ├───────────────────────────────────────────────────────»\n",
      "     ├──────────┤                                                       »\n",
      "q_9: ┤ RY(θ[9]) ├───────────────────────────────────────────────────────»\n",
      "     └──────────┘                                                       »\n",
      "«                                                                      \n",
      "«q_0: ─────────────────────────────────────────────────────────────────\n",
      "«                                                                      \n",
      "«q_1: ─────────────────────────────────────────────────────────────────\n",
      "«                                                                      \n",
      "«q_2: ─────────────────────────────────────────────────────────────────\n",
      "«                                                                      \n",
      "«q_3: ─────────────────────────────────────────────────────────────────\n",
      "«     ┌───────────┐                                                    \n",
      "«q_4: ┤ RY(θ[14]) ├────────────────────────────────────────────────────\n",
      "«     └───────────┘┌───────────┐                                       \n",
      "«q_5: ──────■──────┤ RY(θ[15]) ├───────────────────────────────────────\n",
      "«           │      └───────────┘┌───────────┐                          \n",
      "«q_6: ──────■────────────■──────┤ RY(θ[16]) ├──────────────────────────\n",
      "«                        │      └───────────┘┌───────────┐             \n",
      "«q_7: ───────────────────■────────────■──────┤ RY(θ[17]) ├─────────────\n",
      "«                                     │      └───────────┘┌───────────┐\n",
      "«q_8: ────────────────────────────────■────────────■──────┤ RY(θ[18]) ├\n",
      "«                                                  │      ├───────────┤\n",
      "«q_9: ─────────────────────────────────────────────■──────┤ RY(θ[19]) ├\n",
      "«                                                         └───────────┘\n"
     ]
    }
   ],
   "source": [
    "# VQE用の回路を作る：ここではTwoLocalという組み込み関数を使う\n",
    "seed = 10598\n",
    "spsa = SPSA(maxiter=300)\n",
    "cobyla = COBYLA(maxiter=500)\n",
    "two = TwoLocal(qubitOp.num_qubits, 'ry', 'cz', 'linear', reps=1)\n",
    "print(two)"
   ]
  },
  {
   "cell_type": "markdown",
   "metadata": {},
   "source": [
    "バックエンドしてqasm_simulatorを使い、実行した結果を書き出します。"
   ]
  },
  {
   "cell_type": "code",
   "execution_count": 9,
   "metadata": {
    "pycharm": {
     "name": "#%%\n"
    }
   },
   "outputs": [
    {
     "name": "stdout",
     "output_type": "stream",
     "text": [
      "\n",
      "VQE: objective = -28.50227393072697\n",
      "VQE x = [0 0 0 1 0 0 0 0 1 0]\n"
     ]
    }
   ],
   "source": [
    "# VQEの実行\n",
    "backend = Aer.get_backend('qasm_simulator')\n",
    "quantum_instance = QuantumInstance(backend=backend, shots=1024, seed_simulator=seed)\n",
    "vqe = VQE(qubitOp, two, spsa)\n",
    "#vqe = VQE(qubitOp, two, cobyla)\n",
    "result = vqe.run(quantum_instance)\n",
    "\n",
    "# 最小エネルギーに対応する量子ビットの組み合わせを表示\n",
    "print('')\n",
    "print('VQE: objective =', result.eigenvalue.real)\n",
    "x = sample_most_likely(result.eigenstate)\n",
    "print('VQE x =',x)\n",
    "\n",
    "samples_vqe = {}\n",
    "for i in range(nvar):\n",
    "    samples_vqe[key_i[i]] = x[i]"
   ]
  },
  {
   "cell_type": "markdown",
   "metadata": {
    "pycharm": {
     "name": "#%% md\n"
    }
   },
   "source": [
    "### おまけ\n",
    "\n",
    "Trackingがうまく行っても、この答えだと0と1が並んでいるだけで面白くないですよね。正しく飛跡が見つかったかどうか目で確認するため、以下のコードを走らせてみましょう。\n",
    "\n",
    "このコードは、QUBOを定義する時に使った検出器のヒット位置をビーム軸に垂直な平面でプロットして、どのヒットが選ばれたかを分かりやすく可視化したものです。緑の線が実際に見つかった飛跡で、青の線を含めたものが全体の飛跡の候補です。この実習では限られた数の量子ビットしか使っていないため、大部分の飛跡は見つけられていませんが、緑の線から計算に使った3点ヒットからは正しく飛跡が見つかっていることが分かると思います。"
   ]
  },
  {
   "cell_type": "code",
   "execution_count": null,
   "metadata": {
    "pycharm": {
     "name": "#%%\n"
    },
    "tags": [
     "raises-exception",
     "remove-output"
    ]
   },
   "outputs": [],
   "source": [
    "from hepqpr.qallse import *\n",
    "input_path = './data/event000001000-hits.csv'\n",
    "dw = DataWrapper.from_path(input_path)\n",
    "\n",
    "# get the results\n",
    "#all_doublets = Qallse.process_sample(samples_eigen)\n",
    "all_doublets = Qallse.process_sample(samples_vqe)\n",
    "\n",
    "final_tracks, final_doublets = TrackRecreaterD().process_results(all_doublets)\n",
    "#print(\"all_doublets =\",all_doublets)\n",
    "#print(\"final_tracks =\",final_tracks)\n",
    "#print(\"final_doublets =\",final_doublets)\n",
    "\n",
    "p, r, ms = dw.compute_score(final_doublets)\n",
    "trackml_score = dw.compute_trackml_score(final_tracks)\n",
    "\n",
    "print(f'SCORE  -- precision (%): {p * 100}, recall (%): {r * 100}, missing: {len(ms)}')\n",
    "print(f'          tracks found: {len(final_tracks)}, trackml score (%): {trackml_score * 100}')\n",
    "\n",
    "from hepqpr.qallse.plotting import iplot_results, iplot_results_tracks\n",
    "dims = ['x', 'y']\n",
    "_, missings, _ = diff_rows(final_doublets, dw.get_real_doublets())\n",
    "dout = 'plot-ising_found_tracks.html'\n",
    "iplot_results(dw, final_doublets, missings, dims=dims, filename=dout)"
   ]
  },
  {
   "cell_type": "markdown",
   "metadata": {},
   "source": [
    "**提出するもの**\n",
    "- ハミルトニアンを実装する部分のコード"
   ]
  }
 ],
 "metadata": {
  "kernelspec": {
   "display_name": "Python 3",
   "language": "python",
   "name": "python3"
  },
  "language_info": {
   "codemirror_mode": {
    "name": "ipython",
    "version": 3
   },
   "file_extension": ".py",
   "mimetype": "text/x-python",
   "name": "python",
   "nbconvert_exporter": "python",
   "pygments_lexer": "ipython3",
   "version": "3.6.7"
  }
 },
 "nbformat": 4,
 "nbformat_minor": 4
}