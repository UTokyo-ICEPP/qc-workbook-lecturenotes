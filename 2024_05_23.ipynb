{
 "cells": [
  {
   "cell_type": "markdown",
   "metadata": {
    "pycharm": {
     "name": "#%% md\n"
    }
   },
   "source": [
    "## 変分量子アルゴリズム\n",
    "\n",
    "まず、VQEの元になっている**変分量子アルゴリズム**（*Variational Quantum Algorithm*, VQA）と呼ばれる手法について見ていきます。"
   ]
  },
  {
   "cell_type": "code",
   "execution_count": null,
   "metadata": {
    "collapsed": false,
    "jupyter": {
     "outputs_hidden": false
    }
   },
   "outputs": [],
   "source": [
    "# Tested with python 3.10.11, qiskit 0.42.1, numpy 1.23.5, scipy 1.9.3\n",
    "import numpy as np\n",
    "import matplotlib.pyplot as plt\n",
    "from qiskit import QuantumCircuit, transpile\n",
    "from qiskit.circuit import Parameter, ParameterVector\n",
    "from qiskit.primitives import BackendEstimator\n",
    "from qiskit.quantum_info import Statevector, Operator, SparsePauliOp\n",
    "from qiskit.algorithms.optimizers import SPSA, COBYLA\n",
    "from qiskit_aer import AerSimulator\n",
    "\n",
    "# ワークブック独自のモジュール\n",
    "import sys\n",
    "#sys.path.append('/home/jovyan/qc-workbook-lecturenotes/ja')\n",
    "from qc_workbook.utils import operational_backend"
   ]
  },
  {
   "cell_type": "markdown",
   "metadata": {
    "pycharm": {
     "name": "#%% md\n"
    }
   },
   "source": [
    "### 変分フォームを使った実例\n",
    "ではここで、$U$ゲート一つからなる単一量子ビットの変分フォームを利用してパラメータ最適化の例を実行してみましょう。ランダムに量子状態$|\\psi_0\\rangle$を選び、$|\\psi(\\theta, \\phi\\rangle := U(\\theta, \\phi, 0)|0\\rangle$でそれを近似するという問題を考えます。"
   ]
  },
  {
   "cell_type": "code",
   "execution_count": null,
   "metadata": {
    "collapsed": false,
    "jupyter": {
     "outputs_hidden": false
    },
    "pycharm": {
     "name": "#%%\n"
    }
   },
   "outputs": [],
   "source": [
    "rng = np.random.default_rng(999999)\n",
    "\n",
    "# 与えられた量子ビット数（nq）に応じたランダムな状態ベクトルを作る関数\n",
    "def random_statevector(nq):\n",
    "    # 2^nqの複素数をランダムに生成\n",
    "    data = rng.random(2 ** nq) + 1.j * rng.random(2 ** nq)\n",
    "    # 正規化\n",
    "    data /= np.sqrt(np.sum(np.square(np.abs(data))))\n",
    "\n",
    "    return Statevector(data)\n",
    "\n",
    "# 例：U(π/3, π/6, 0)|0>\n",
    "statevector = Statevector(np.array([np.cos(np.pi / 6.), np.exp(1.j * np.pi / 6.) * np.sin(np.pi / 6.)]))\n",
    "for pauli in ['X', 'Y', 'Z']:\n",
    "    op = SparsePauliOp(pauli)\n",
    "    print(f'<{pauli}> = {statevector.expectation_value(op).real}')"
   ]
  },
  {
   "cell_type": "markdown",
   "metadata": {
    "pycharm": {
     "name": "#%% md\n"
    }
   },
   "source": [
    "次に、変分フォーム回路を定義します。このとき、$U$ゲートの回転角として、具体的な数値を設定せず、QiskitのParameterというオブジェクトを利用します。Parameterはあとから数値を代入できる名前のついた箱として使えます。"
   ]
  },
  {
   "cell_type": "code",
   "execution_count": null,
   "metadata": {
    "collapsed": false,
    "jupyter": {
     "outputs_hidden": false
    },
    "pycharm": {
     "name": "#%%\n"
    }
   },
   "outputs": [],
   "source": [
    "theta = Parameter('θ')\n",
    "phi = Parameter('φ')\n",
    "\n",
    "ansatz_1q = QuantumCircuit(1)\n",
    "ansatz_1q.u(theta, phi, 0., 0)"
   ]
  },
  {
   "cell_type": "markdown",
   "metadata": {
    "pycharm": {
     "name": "#%% md\n"
    }
   },
   "source": [
    "Parameterに値を代入するには、回路の`bind_parameters`メソッドを利用します。"
   ]
  },
  {
   "cell_type": "code",
   "execution_count": null,
   "metadata": {
    "collapsed": false,
    "jupyter": {
     "outputs_hidden": false
    },
    "pycharm": {
     "is_executing": true,
     "name": "#%%\n"
    }
   },
   "outputs": [],
   "source": [
    "# Parameterの値は未定\n",
    "ansatz_1q.draw('mpl')"
   ]
  },
  {
   "cell_type": "code",
   "execution_count": null,
   "metadata": {
    "collapsed": false,
    "jupyter": {
     "outputs_hidden": false
    },
    "pycharm": {
     "name": "#%%\n"
    }
   },
   "outputs": [],
   "source": [
    "# thetaとphiにπ/3とπ/6を代入\n",
    "ansatz_1q.bind_parameters({theta: np.pi / 3., phi: np.pi / 6.}).draw('mpl')"
   ]
  },
  {
   "cell_type": "markdown",
   "metadata": {
    "pycharm": {
     "name": "#%% md\n"
    }
   },
   "source": [
    "変分フォーム回路が作る状態における$X, Y, Z$の期待値を測定するための回路を定義します。"
   ]
  },
  {
   "cell_type": "code",
   "execution_count": null,
   "metadata": {
    "collapsed": false,
    "jupyter": {
     "outputs_hidden": false
    },
    "pycharm": {
     "name": "#%%\n"
    }
   },
   "outputs": [],
   "source": [
    "circuits = dict()\n",
    "\n",
    "# <X>を測るにはHゲートで基底を変換する\n",
    "circuits['X'] = ansatz_1q.copy()\n",
    "circuits['X'].h(0)\n",
    "circuits['X'].measure_all()\n",
    "\n",
    "# <Y>を測るにはSdg, Hゲートで基底を変換する\n",
    "circuits['Y'] = ansatz_1q.copy()\n",
    "circuits['Y'].sdg(0)\n",
    "circuits['Y'].h(0)\n",
    "circuits['Y'].measure_all()\n",
    "\n",
    "# <Z>はそのままの回路で測れる\n",
    "circuits['Z'] = ansatz_1q.copy()\n",
    "circuits['Z'].measure_all()"
   ]
  },
  {
   "cell_type": "markdown",
   "metadata": {
    "pycharm": {
     "name": "#%% md\n"
    }
   },
   "source": [
    "それぞれの回路を通常通りバックエンドの`run()`メソッドで実行し、結果から期待値を計算する関数を定義します。"
   ]
  },
  {
   "cell_type": "code",
   "execution_count": null,
   "metadata": {
    "collapsed": false,
    "jupyter": {
     "outputs_hidden": false
    },
    "pycharm": {
     "is_executing": true,
     "name": "#%%\n"
    }
   },
   "outputs": [],
   "source": [
    "backend = AerSimulator()\n",
    "\n",
    "def circuit_expval(circuit, param_vals):\n",
    "    bound_circuit = circuit.bind_parameters({theta: param_vals[0], phi: param_vals[1]})\n",
    "\n",
    "    bound_circuit_tr = transpile(bound_circuit, backend=backend)\n",
    "    # shotsは関数の外で定義する\n",
    "    job = backend.run(bound_circuit_tr, shots=shots)\n",
    "    counts = job.result().get_counts()\n",
    "\n",
    "    return (counts.get('0', 0) - counts.get('1', 0)) / shots\n",
    "\n",
    "# 例：U(π/3, π/6, 0)|0>\n",
    "shots = 10000\n",
    "param_vals = [np.pi / 3., np.pi / 6.]\n",
    "for pauli in ['X', 'Y', 'Z']:\n",
    "    print(f'<{pauli}> = {circuit_expval(circuits[pauli], param_vals)}')"
   ]
  },
  {
   "cell_type": "markdown",
   "metadata": {
    "pycharm": {
     "name": "#%% md\n"
    }
   },
   "source": [
    "最小化する目的関数を定義します。"
   ]
  },
  {
   "cell_type": "code",
   "execution_count": null,
   "metadata": {
    "collapsed": false,
    "jupyter": {
     "outputs_hidden": false
    },
    "pycharm": {
     "name": "#%%\n"
    }
   },
   "outputs": [],
   "source": [
    "def objective_function(param_vals):\n",
    "    loss = 0.\n",
    "    for pauli in ['X', 'Y', 'Z']:\n",
    "        # target_state_1qは関数の外で定義する\n",
    "        op = SparsePauliOp(pauli)\n",
    "        target = target_state_1q.expectation_value(op).real\n",
    "        current = circuit_expval(circuits[pauli], param_vals)\n",
    "        loss += (target - current) ** 2\n",
    "\n",
    "    return loss\n",
    "\n",
    "# 最適化の1ステップごとに呼び出される関数。目的関数の値をリストに記録しておく\n",
    "def callback_function(param_vals):\n",
    "    # lossesは関数の外で定義する\n",
    "    losses.append(objective_function(param_vals))"
   ]
  },
  {
   "cell_type": "markdown",
   "metadata": {
    "pycharm": {
     "name": "#%% md\n"
    }
   },
   "source": [
    "最適化には使用しませんが、解を得たあとで変分フォームの終状態とターゲット状態とのフィデリティ$|\\langle \\psi_0 | \\psi(\\theta, \\phi) \\rangle|^2$を計算する関数も定義しておきます。厳密に最適化が成功すれば、この関数の返り値は1になります。"
   ]
  },
  {
   "cell_type": "code",
   "execution_count": null,
   "metadata": {
    "collapsed": false,
    "jupyter": {
     "outputs_hidden": false
    },
    "pycharm": {
     "name": "#%%\n"
    }
   },
   "outputs": [],
   "source": [
    "def fidelity(ansatz, param_vals, target_state):\n",
    "    # 量子回路のパラメータのリストはcircuit.parametersで取得できる\n",
    "    parameters = ansatz.parameters\n",
    "\n",
    "    param_binding = dict(zip(parameters, param_vals))\n",
    "    opt_ansatz = ansatz.bind_parameters(param_binding)\n",
    "\n",
    "    # Statevectorは回路からも生成可能（回路を|0>に対して適用した終状態になる）\n",
    "    circuit_state = Statevector(opt_ansatz)\n",
    "\n",
    "    return np.square(np.abs(target_state.inner(circuit_state)))"
   ]
  },
  {
   "cell_type": "markdown",
   "metadata": {
    "pycharm": {
     "name": "#%% md\n"
    }
   },
   "source": [
    "最後にCOBYLAオプティマイザーのインスタンスを作成し、アルゴリズムを実行します。"
   ]
  },
  {
   "cell_type": "code",
   "execution_count": null,
   "metadata": {
    "collapsed": false,
    "jupyter": {
     "outputs_hidden": false
    },
    "pycharm": {
     "name": "#%%\n"
    }
   },
   "outputs": [],
   "source": [
    "# COBYLAの最大ステップ数\n",
    "maxiter = 500\n",
    "# COBYLAの収束条件（小さいほどよい近似を目指す）\n",
    "tol = 0.0001\n",
    "# バックエンドでのショット数\n",
    "shots = 1000\n",
    "\n",
    "# オプティマイザーのインスタンス生成\n",
    "optimizer = COBYLA(maxiter=maxiter, tol=tol, callback=callback_function)"
   ]
  },
  {
   "cell_type": "code",
   "execution_count": null,
   "metadata": {
    "collapsed": false,
    "jupyter": {
     "outputs_hidden": false
    },
    "pycharm": {
     "name": "#%%\n"
    }
   },
   "outputs": [],
   "source": [
    "# ターゲット状態\n",
    "target_state_1q = random_statevector(1)\n",
    "\n",
    "# thetaを[0, π), phiを[0, 2π)からランダムに選ぶ\n",
    "init = [rng.uniform(0., np.pi), rng.uniform(0., 2. * np.pi)]\n",
    "\n",
    "# 最適化を実行\n",
    "losses = list()\n",
    "min_result = optimizer.minimize(objective_function, x0=init)\n",
    "\n",
    "plt.plot(losses);"
   ]
  },
  {
   "cell_type": "code",
   "execution_count": null,
   "metadata": {
    "collapsed": false,
    "jupyter": {
     "outputs_hidden": false
    },
    "pycharm": {
     "name": "#%%\n"
    }
   },
   "outputs": [],
   "source": [
    "fidelity(ansatz_1q, min_result.x, target_state_1q)"
   ]
  },
  {
   "cell_type": "markdown",
   "metadata": {
    "pycharm": {
     "name": "#%% md\n"
    }
   },
   "source": [
    "#### Estimatorの利用\n",
    "\n",
    "VQEを含む変分量子アルゴリズムでは、上のように変分フォームにパラメータ値を代入し複数の観測量の期待値を計算するという手順の繰り返しが頻出します。そのため、これを自動化し、かつ（今は利用しませんが）様々なエラー補正なども適応してくれるEstimatorというクラスを使用することが推奨されています。特に、ここではBackendEstimatorという、特定のバックエンドを利用して計算をするタイプのEstimatorを利用します。"
   ]
  },
  {
   "cell_type": "code",
   "execution_count": null,
   "metadata": {
    "collapsed": false,
    "jupyter": {
     "outputs_hidden": false
    },
    "pycharm": {
     "name": "#%%\n"
    }
   },
   "outputs": [],
   "source": [
    "# BackendEstimatorインスタンスの生成\n",
    "estimator = BackendEstimator(backend)\n",
    "\n",
    "# 観測量はSparsePauliOpオブジェクトで表現\n",
    "observables = [SparsePauliOp('X'), SparsePauliOp('Y'), SparsePauliOp('Z')]\n",
    "\n",
    "param_vals = [np.pi / 3., np.pi / 6.]\n",
    "\n",
    "# 変分フォーム、観測量、パラメータ値をrun()に渡す\n",
    "# 観測量が3つあるので、ansatz_1qとparam_valuesも3つずつ\n",
    "job = estimator.run([ansatz_1q] * 3, observables, [param_vals] * 3, shots=10000)\n",
    "result = job.result()\n",
    "print(result.values)"
   ]
  },
  {
   "cell_type": "markdown",
   "metadata": {
    "pycharm": {
     "name": "#%% md\n"
    }
   },
   "source": [
    "Estimatorを使った目的関数を定義します。"
   ]
  },
  {
   "cell_type": "code",
   "execution_count": null,
   "metadata": {
    "collapsed": false,
    "jupyter": {
     "outputs_hidden": false
    },
    "pycharm": {
     "name": "#%%\n"
    }
   },
   "outputs": [],
   "source": [
    "observables_1q = [SparsePauliOp('X'), SparsePauliOp('Y'), SparsePauliOp('Z')]\n",
    "\n",
    "def objective_function_estimator(param_vals):\n",
    "    target = np.array(list(target_state_1q.expectation_value(op).real for op in observables_1q))\n",
    "\n",
    "    job = estimator.run([ansatz_1q] * len(observables_1q), observables_1q, [param_vals] * len(observables_1q), shots=shots)\n",
    "    current = np.array(job.result().values)\n",
    "\n",
    "    return np.sum(np.square(target - current))\n",
    "\n",
    "def callback_function_estimator(param_vals):\n",
    "    # lossesは関数の外で定義する\n",
    "    losses.append(objective_function_estimator(param_vals))"
   ]
  },
  {
   "cell_type": "markdown",
   "metadata": {
    "pycharm": {
     "name": "#%% md\n"
    }
   },
   "source": [
    "上の目的関数を最適化します"
   ]
  },
  {
   "cell_type": "code",
   "execution_count": null,
   "metadata": {
    "collapsed": false,
    "jupyter": {
     "outputs_hidden": false
    },
    "pycharm": {
     "name": "#%%\n"
    }
   },
   "outputs": [],
   "source": [
    "# COBYLAの最大ステップ数\n",
    "maxiter = 500\n",
    "# COBYLAの収束条件（小さいほどよい近似を目指す）\n",
    "tol = 0.0001\n",
    "# バックエンドでのショット数\n",
    "shots = 1000\n",
    "\n",
    "# オプティマイザーのインスタンス生成\n",
    "optimizer = COBYLA(maxiter=maxiter, tol=tol, callback=callback_function_estimator)"
   ]
  },
  {
   "cell_type": "code",
   "execution_count": null,
   "metadata": {
    "collapsed": false,
    "jupyter": {
     "outputs_hidden": false
    },
    "pycharm": {
     "name": "#%%\n"
    }
   },
   "outputs": [],
   "source": [
    "# ターゲット状態\n",
    "target_state_1q = random_statevector(1)\n",
    "\n",
    "# thetaを[0, π), phiを[0, 2π)からランダムに選ぶ\n",
    "init = [rng.uniform(0., np.pi), rng.uniform(0., 2. * np.pi)]\n",
    "\n",
    "# 最適化を実行\n",
    "losses = list()\n",
    "min_result = optimizer.minimize(objective_function_estimator, x0=init)\n",
    "\n",
    "plt.plot(losses);"
   ]
  },
  {
   "cell_type": "code",
   "execution_count": null,
   "metadata": {
    "collapsed": false,
    "jupyter": {
     "outputs_hidden": false
    },
    "pycharm": {
     "name": "#%%\n"
    }
   },
   "outputs": [],
   "source": [
    "fidelity(ansatz_1q, min_result.x, target_state_1q)"
   ]
  },
  {
   "cell_type": "markdown",
   "metadata": {
    "pycharm": {
     "name": "#%% md\n"
    }
   },
   "source": [
    "### エンタングルメントの導入\n",
    "\n",
    "では次に、この問題を2量子ビットに拡張してやってみましょう。ここでは最も一般的に2量子ビット状態を決定する15個の観測量の期待値\n",
    "\n",
    "$$\n",
    "\\langle O_1 O_2 \\rangle \\quad (O_1, O_2 = I, X, Y, Z; O_1 O_2 \\neq II)\n",
    "$$\n",
    "\n",
    "を測定します。ここで$I$は恒等演算子です。\n",
    "\n",
    "ターゲット状態に関する関数`random_statevector`と`pauli_expval`はそのまま利用できます。まず変分フォームとして2つの量子ビットに$U$ゲートが一つずつかかっているものを考えて、最小化すべき目的関数を定義します。"
   ]
  },
  {
   "cell_type": "code",
   "execution_count": null,
   "metadata": {
    "collapsed": false,
    "jupyter": {
     "outputs_hidden": false
    },
    "pycharm": {
     "name": "#%%\n"
    }
   },
   "outputs": [],
   "source": [
    "# パラメータ数4なので、4要素のパラメータベクトルを作る\n",
    "params = ParameterVector('params', 4)\n",
    "\n",
    "ansatz_2q = QuantumCircuit(2)\n",
    "ansatz_2q.u(params[0], params[1], 0., 0)\n",
    "ansatz_2q.u(params[2], params[3], 0., 1)"
   ]
  },
  {
   "cell_type": "code",
   "execution_count": null,
   "metadata": {
    "collapsed": false,
    "jupyter": {
     "outputs_hidden": false
    },
    "pycharm": {
     "is_executing": true,
     "name": "#%%\n"
    }
   },
   "outputs": [],
   "source": [
    "paulis_1q = ['I', 'X', 'Y', 'Z']\n",
    "paulis_2q = list(f'{op1}{op2}' for op1 in paulis_1q for op2 in paulis_1q if (op1, op2) != ('I', 'I'))\n",
    "observables_2q = list(SparsePauliOp(pauli) for pauli in paulis_2q)\n",
    "\n",
    "def objective_function_2q(param_vals):\n",
    "    # target_state_2qは関数の外で定義\n",
    "    target = np.array(list(target_state_2q.expectation_value(op).real for op in observables_2q))\n",
    "\n",
    "    job = estimator.run([ansatz_2q] * len(observables_2q), observables_2q, [param_vals] * len(observables_2q), shots=shots)\n",
    "    current = np.array(job.result().values)\n",
    "\n",
    "    return np.sum(np.square(target - current))\n",
    "\n",
    "def callback_function_2q(param_vals):\n",
    "    # lossesは関数の外で定義する\n",
    "    losses.append(objective_function_2q(param_vals))"
   ]
  },
  {
   "cell_type": "code",
   "execution_count": null,
   "metadata": {
    "collapsed": false,
    "jupyter": {
     "outputs_hidden": false
    },
    "pycharm": {
     "name": "#%%\n"
    }
   },
   "outputs": [],
   "source": [
    "# COBYLAの最大ステップ数\n",
    "maxiter = 500\n",
    "# COBYLAの収束条件（小さいほどよい近似を目指す）\n",
    "tol = 0.0001\n",
    "# バックエンドでのショット数\n",
    "shots = 1000\n",
    "\n",
    "# オプティマイザーのインスタンス生成\n",
    "optimizer = COBYLA(maxiter=maxiter, tol=tol, callback=callback_function_2q)\n",
    "\n",
    "# ターゲット状態\n",
    "target_state_2q = random_statevector(2)\n",
    "#target_state_2q = Statevector(np.array([1., 0., 0., 1.], dtype=complex) / np.sqrt(2.))\n",
    "\n",
    "# パラメータの初期値\n",
    "init = rng.uniform(0., 2. * np.pi, size=4)"
   ]
  },
  {
   "cell_type": "code",
   "execution_count": null,
   "metadata": {
    "collapsed": false,
    "jupyter": {
     "outputs_hidden": false
    },
    "pycharm": {
     "name": "#%%\n"
    }
   },
   "outputs": [],
   "source": [
    "# 最適化を実行\n",
    "losses = list()\n",
    "min_result = optimizer.minimize(objective_function_2q, x0=init)\n",
    "plt.plot(losses);"
   ]
  },
  {
   "cell_type": "code",
   "execution_count": null,
   "metadata": {
    "collapsed": false,
    "jupyter": {
     "outputs_hidden": false
    },
    "pycharm": {
     "name": "#%%\n"
    }
   },
   "outputs": [],
   "source": [
    "fidelity(ansatz_2q, min_result.x, target_state_2q)"
   ]
  },
  {
   "cell_type": "markdown",
   "metadata": {
    "pycharm": {
     "name": "#%% md\n"
    }
   },
   "source": [
    "やってみると分かりますが、結果は1量子ビットの場合と比べて良くないですね。どうすれば良くなるでしょうか？（やり方は複数あると思います）"
   ]
  },
  {
   "cell_type": "markdown",
   "metadata": {
    "pycharm": {
     "name": "#%% md\n"
    }
   },
   "source": [
    "**一つの解決策：変分フォームにエンタングルメントを導入する**\n",
    "\n",
    "```python\n",
    "ansatz_2q = QuantumCircuit(2)\n",
    "ansatz_2q.u(params[0], params[1], 0., 0)\n",
    "ansatz_2q.u(params[2], params[3], 0., 1)\n",
    "ansatz_2q.cx(0, 1)\n",
    "```\n",
    "\n",
    "どうなるか確かめてください。"
   ]
  },
  {
   "cell_type": "markdown",
   "metadata": {
    "pycharm": {
     "name": "#%% md\n"
    }
   },
   "source": [
    "2量子ビットの一般の状態では2つのビットがエンタングルしているので、変分フォームに2量子ビットゲートを入れると近似精度が良くなるのはある意味当然です。例えば、ベル状態（[CHSH不等式の破れを確認する](https://utokyo-icepp.github.io/qc-workbook/chsh_inequality.html#id14)を参照）を再現したいときにこの状況をクリアに見ることができます。上で\n",
    "\n",
    "```python\n",
    "target_state_2q = random_statevector(2)\n",
    "```\n",
    "\n",
    "を\n",
    "\n",
    "```python\n",
    "target_state_2q = Statevector(np.array([1., 0., 0., 1.], dtype=complex) / np.sqrt(2.))\n",
    "```\n",
    "\n",
    "として実行するとどうなるでしょうか。エンタングルさせる場合とさせない場合で大きな違いが見えるでしょう。"
   ]
  },
  {
   "cell_type": "markdown",
   "metadata": {
    "pycharm": {
     "name": "#%% md\n"
    }
   },
   "source": [
    "## 変分量子固有値ソルバー法\n",
    "\n",
    "それでは、ここからVQEの簡単な実装例を見ていくことにします。\n",
    "\n",
    "### VQEの実装\n",
    "では、パラメータシフト法を使って簡単なVQEの例を実装してみます。ある観測量の期待値が最小になるように、VQEを使ってAnsatzを更新する回路パラメータを決定するという問題を考えてみます。\n",
    "\n",
    "量子回路として、$R_YR_Z$ゲートを繰り返すシンプルなパラメータ回路を使い、観測量として、パウリ演算子のテンソル積$ZXY$を使います。\n",
    "\n",
    "最終的に、3通りのVQEを使って求めた最小エネルギーの近似解を、厳密対角化して求めた最小エネルギーの値と比較することにします。"
   ]
  },
  {
   "cell_type": "code",
   "execution_count": null,
   "metadata": {
    "collapsed": false,
    "jupyter": {
     "outputs_hidden": false
    },
    "pycharm": {
     "name": "#%%\n"
    }
   },
   "outputs": [],
   "source": [
    "from qiskit.algorithms.minimum_eigensolvers import VQE, NumPyMinimumEigensolver\n",
    "from qiskit.algorithms.optimizers import CG, GradientDescent\n",
    "from qiskit.algorithms.gradients import ParamShiftEstimatorGradient"
   ]
  },
  {
   "cell_type": "code",
   "execution_count": null,
   "metadata": {
    "collapsed": false,
    "jupyter": {
     "outputs_hidden": false
    },
    "pycharm": {
     "name": "#%%\n"
    }
   },
   "outputs": [],
   "source": [
    "# Ansatzの定義\n",
    "\n",
    "num_qubits = 3   # 量子ビット数\n",
    "num_layers = 2  # レイヤー数\n",
    "\n",
    "ansatz = QuantumCircuit(num_qubits)\n",
    "\n",
    "# 長さ0のパラメータ配列\n",
    "theta = ParameterVector('θ')\n",
    "\n",
    "# 配列に要素を一つ足して、新しく足されたパラメータを返す\n",
    "def new_theta():\n",
    "    theta.resize(len(theta) + 1)\n",
    "    return theta[-1]\n",
    "\n",
    "for _ in range(num_layers):\n",
    "    for iq in range(num_qubits):\n",
    "        ansatz.ry(new_theta(), iq)\n",
    "\n",
    "    for iq in range(num_qubits):\n",
    "        ansatz.rz(new_theta(), iq)\n",
    "\n",
    "    #for iq in range(num_qubits - 1):\n",
    "    #    ansatz.cx(iq, iq + 1)\n",
    "\n",
    "ansatz.draw('mpl')"
   ]
  },
  {
   "cell_type": "code",
   "execution_count": null,
   "metadata": {
    "collapsed": false,
    "jupyter": {
     "outputs_hidden": false
    },
    "pycharm": {
     "is_executing": true,
     "name": "#%%\n"
    }
   },
   "outputs": [],
   "source": [
    "# 最小固有値を求める観測量\n",
    "obs = SparsePauliOp('ZXY')\n",
    "\n",
    "# パラメータの初期値\n",
    "init = rng.uniform(0., 2. * np.pi, size=len(theta))\n",
    "\n",
    "# Estimatorを使って観測量の勾配を計算するオブジェクト\n",
    "grad = ParamShiftEstimatorGradient(estimator)\n",
    "\n",
    "# Conjugate gradientを使ったVQE\n",
    "optimizer_cg = CG(maxiter=200)\n",
    "vqe_cg = VQE(estimator, ansatz, optimizer_cg, gradient=grad, initial_point=init)\n",
    "\n",
    "# Gradient descentを使ったVQE\n",
    "optimizer_gd = GradientDescent(maxiter=200)\n",
    "vqe_gd = VQE(estimator, ansatz, optimizer_gd, gradient=grad, initial_point=init)\n",
    "\n",
    "# COBYLAを使ったVQE\n",
    "optimizer_cobyla = COBYLA(maxiter=300)\n",
    "vqe_cobyla = VQE(estimator, ansatz, optimizer_cobyla, initial_point=init)\n",
    "\n",
    "# 厳密解を計算するソルバー\n",
    "ee = NumPyMinimumEigensolver()"
   ]
  },
  {
   "cell_type": "code",
   "execution_count": null,
   "metadata": {
    "collapsed": false,
    "jupyter": {
     "outputs_hidden": false
    },
    "pycharm": {
     "name": "#%%\n"
    }
   },
   "outputs": [],
   "source": [
    "result_vqe_cg = vqe_cg.compute_minimum_eigenvalue(obs)\n",
    "result_vqe_gd = vqe_gd.compute_minimum_eigenvalue(obs)\n",
    "result_vqe_cobyla = vqe_cobyla.compute_minimum_eigenvalue(obs)\n",
    "result_ee = ee.compute_minimum_eigenvalue(obs)"
   ]
  },
  {
   "cell_type": "code",
   "execution_count": null,
   "metadata": {
    "collapsed": false,
    "jupyter": {
     "outputs_hidden": false
    },
    "pycharm": {
     "name": "#%%\n"
    }
   },
   "outputs": [],
   "source": [
    "print('Result:')\n",
    "print(f'  Exact      = {result_ee.eigenvalue}')\n",
    "print(f'  VQE(COBYLA) = {result_vqe_cobyla.optimal_value}')\n",
    "print(f'  VQE(CG)    = {result_vqe_cg.optimal_value}')\n",
    "print(f'  VQE(GD)    = {result_vqe_gd.optimal_value}')"
   ]
  }
 ],
 "metadata": {
  "kernelspec": {
   "display_name": "Python 3 (ipykernel)",
   "language": "python",
   "name": "python3"
  },
  "language_info": {
   "codemirror_mode": {
    "name": "ipython",
    "version": 3
   },
   "file_extension": ".py",
   "mimetype": "text/x-python",
   "name": "python",
   "nbconvert_exporter": "python",
   "pygments_lexer": "ipython3",
   "version": "3.10.6"
  }
 },
 "nbformat": 4,
 "nbformat_minor": 4
}
