{
  "cells": [
    {
      "cell_type": "markdown",
      "metadata": {
        "id": "view-in-github",
        "colab_type": "text"
      },
      "source": [
        "<a href=\"https://colab.research.google.com/github/yiiyama/qc-workbook-lecturenotes/blob/branch-2024/2024_04_18.ipynb\" target=\"_parent\"><img src=\"https://colab.research.google.com/assets/colab-badge.svg\" alt=\"Open In Colab\"/></a>"
      ]
    },
    {
      "cell_type": "markdown",
      "id": "24984863",
      "metadata": {
        "id": "24984863"
      },
      "source": [
        "# CHSH不等式の破れを確認する\n",
        "\n",
        "$\\newcommand{\\ket}[1]{|#1\\rangle}$"
      ]
    },
    {
      "cell_type": "markdown",
      "id": "4c72118b-6fae-47eb-8581-5a62c7c28548",
      "metadata": {
        "id": "4c72118b-6fae-47eb-8581-5a62c7c28548"
      },
      "source": [
        "## まずこのセルを実行してから授業を始めます"
      ]
    },
    {
      "cell_type": "code",
      "execution_count": 1,
      "id": "705e643e-06a7-4f6e-b2d1-2753fb16866a",
      "metadata": {
        "tags": [
          "remove-output"
        ],
        "id": "705e643e-06a7-4f6e-b2d1-2753fb16866a",
        "colab": {
          "base_uri": "https://localhost:8080/"
        },
        "outputId": "7a436a29-d194-4151-85f0-0b6d4a176c58"
      },
      "outputs": [
        {
          "output_type": "stream",
          "name": "stdout",
          "text": [
            "Mounted at /content/gdrive\n"
          ]
        }
      ],
      "source": [
        "# まずは必要になるpythonモジュールのライブラリファイルをコピーし、すべてインポートしておく\n",
        "import os\n",
        "import sys\n",
        "import shutil\n",
        "import tarfile\n",
        "from google.colab import drive\n",
        "drive.mount('/content/gdrive')\n",
        "shutil.copy('/content/gdrive/MyDrive/qcintro.tar.gz', '.')\n",
        "with tarfile.open('qcintro.tar.gz', 'r:gz') as tar:\n",
        "    tar.extractall(path='/root/.local')\n",
        "\n",
        "sys.path.append('/root/.local/lib/python3.10/site-packages')"
      ]
    },
    {
      "cell_type": "code",
      "source": [
        "import numpy as np\n",
        "import matplotlib.pyplot as plt\n",
        "from qiskit import QuantumCircuit, transpile\n",
        "from qiskit.visualization import plot_histogram\n",
        "from qiskit_ibm_runtime import QiskitRuntimeService, SamplerV2 as Sampler\n",
        "\n",
        "runtime_config_path = '/content/gdrive/MyDrive/qiskit-ibm.json'\n",
        "\n",
        "circuits = []\n",
        "\n",
        "angles = [\n",
        "    (None, -np.pi / 4.),\n",
        "    (None, -3. * np.pi / 4.),\n",
        "    (-np.pi / 2., -np.pi / 4.),\n",
        "    (-np.pi / 2., -3. * np.pi / 4.)\n",
        "]\n",
        "\n",
        "for angle0, angle1 in angles:\n",
        "    circuit = QuantumCircuit(2)\n",
        "    circuit.h(0)\n",
        "    circuit.cx(0, 1)\n",
        "\n",
        "    if angle0 is not None:\n",
        "        circuit.ry(angle0, 0)\n",
        "    if angle1 is not None:\n",
        "        circuit.ry(angle1, 1)\n",
        "\n",
        "    circuit.measure_all()\n",
        "\n",
        "    circuits.append(circuit)\n",
        "\n",
        "service = QiskitRuntimeService(filename=runtime_config_path)\n",
        "backend = service.least_busy(simulator=False, operational=True)\n",
        "sampler = Sampler(backend)\n",
        "\n",
        "shots = 10000\n",
        "sampler.options.default_shots = shots\n",
        "\n",
        "circuits = transpile(circuits, backend=backend)\n",
        "job = sampler.run(circuits)\n",
        "\n",
        "print(f'Backend: {backend.name}')\n",
        "print(f'Job ID: {job.job_id()}')"
      ],
      "metadata": {
        "id": "2JlGJM8U8J2K",
        "colab": {
          "base_uri": "https://localhost:8080/"
        },
        "outputId": "6be68a9a-0d21-451f-c201-1fd352af733a"
      },
      "id": "2JlGJM8U8J2K",
      "execution_count": 12,
      "outputs": [
        {
          "output_type": "stream",
          "name": "stdout",
          "text": [
            "Backend: ibm_kawasaki\n",
            "Job ID: crfysky69sp0008qfrn0\n"
          ]
        }
      ]
    },
    {
      "cell_type": "markdown",
      "id": "5d820fa3-0404-4fb7-948a-a53502abc954",
      "metadata": {
        "id": "5d820fa3-0404-4fb7-948a-a53502abc954"
      },
      "source": [
        "## 最初の量子回路"
      ]
    },
    {
      "cell_type": "code",
      "execution_count": 3,
      "id": "a2215ed7",
      "metadata": {
        "id": "a2215ed7",
        "colab": {
          "base_uri": "https://localhost:8080/"
        },
        "outputId": "880232e1-bc89-4158-b9e8-68d326797296"
      },
      "outputs": [
        {
          "output_type": "stream",
          "name": "stdout",
          "text": [
            "This circuit has 2 qubits and 5 operations\n"
          ]
        }
      ],
      "source": [
        "circuit = QuantumCircuit(2) # レジスタを介さずビット数を指定して回路を作成することもできます\n",
        "circuit.h(0) # その場合、ゲートにはregister[0]ではなく直接量子ビットの番号を指定します\n",
        "circuit.ry(np.pi / 2., 0) #　θ = π/2\n",
        "circuit.x(0)\n",
        "# 実際の回路では出力を得るためには必ず最後に測定を行う\n",
        "circuit.measure_all()\n",
        "\n",
        "print(f'This circuit has {circuit.num_qubits} qubits and {circuit.size()} operations')"
      ]
    },
    {
      "cell_type": "markdown",
      "id": "b2f0937b",
      "metadata": {
        "id": "b2f0937b"
      },
      "source": [
        "### 回路の数式表現\n",
        "\n",
        "$$\n",
        "\\begin{align}\n",
        "X R_y\\left(\\frac{\\pi}{2}\\right) H \\ket{0} & = X R_y\\left(\\frac{\\pi}{2}\\right) \\frac{1}{\\sqrt{2}}(\\ket{0} + \\ket{1}) \\\\\n",
        "& = \\frac{1}{\\sqrt{2}} X \\left[\\left(\\cos\\left(\\frac{\\pi}{4}\\right)\\ket{0} + \\sin\\left(\\frac{\\pi}{4}\\right)\\ket{1}\\right) + \\left(-\\sin\\left(\\frac{\\pi}{4}\\right)\\ket{0} + \\cos\\left(\\frac{\\pi}{4}\\right)\\ket{1}\\right)\\right] \\\\\n",
        "& = \\frac{1}{\\sqrt{2}} X \\frac{1}{\\sqrt{2}} \\left[\\left(\\ket{0} + \\ket{1}\\right) + \\left(-\\ket{0} + \\ket{1}\\right)\\right] \\\\\n",
        "& = X \\ket{1} \\\\\n",
        "& = \\ket{0}\n",
        "\\end{align}\n",
        "$$"
      ]
    },
    {
      "cell_type": "markdown",
      "id": "c64c4d72-b5b8-4f6e-aa8d-809430d56d4b",
      "metadata": {
        "id": "c64c4d72-b5b8-4f6e-aa8d-809430d56d4b"
      },
      "source": [
        "## 制御ゲートを使った例"
      ]
    },
    {
      "cell_type": "code",
      "execution_count": 14,
      "id": "a2a964b4",
      "metadata": {
        "id": "a2a964b4",
        "colab": {
          "base_uri": "https://localhost:8080/"
        },
        "outputId": "f6d6b37c-81cb-46ac-ae8b-98dbda960f32"
      },
      "outputs": [
        {
          "output_type": "stream",
          "name": "stdout",
          "text": [
            "This circuit has 2 qubits and 6 operations\n"
          ]
        }
      ],
      "source": [
        "theta1 = 2. * np.arctan(np.sqrt(7. / 3.))\n",
        "theta2 = 2. * np.arctan(np.sqrt(2.))\n",
        "theta3 = 2. * np.arctan(np.sqrt(4. / 3))\n",
        "\n",
        "circuit = QuantumCircuit(2)\n",
        "circuit.ry(theta1, 1)\n",
        "circuit.ry(theta2, 0)\n",
        "circuit.cry(theta3 - theta2, 1, 0) # C[Ry]　1が制御で0が標的\n",
        "circuit.cz(0, 1) # C[Z] 0が制御で1が標的（実はC[Z]ではどちらが制御でも結果は同じ）\n",
        "circuit.measure_all()\n",
        "\n",
        "print(f'This circuit has {circuit.num_qubits} qubits and {circuit.size()} operations')"
      ]
    },
    {
      "cell_type": "markdown",
      "id": "4a817891",
      "metadata": {
        "id": "4a817891"
      },
      "source": [
        "### 回路の数式表現\n",
        "\n",
        "$$\n",
        "\\begin{align}\n",
        "R_y(\\theta_1)\\ket{0} & = \\sqrt{\\frac{3}{10}} \\ket{0} + \\sqrt{\\frac{7}{10}} \\ket{1} \\\\\n",
        "R_y(\\theta_2)\\ket{0} & = \\sqrt{\\frac{1}{3}} \\ket{0} + \\sqrt{\\frac{2}{3}} \\ket{1} \\\\\n",
        "R_y(\\theta_3 - \\theta_2)R_y(\\theta_2)\\ket{0} & = R_y(\\theta_3)\\ket{0} = \\sqrt{\\frac{3}{7}} \\ket{0} + \\sqrt{\\frac{4}{7}} \\ket{1}.\n",
        "\\end{align}\n",
        "$$\n",
        "\n",
        "したがって、\n",
        "\n",
        "$$\n",
        "\\begin{align}\n",
        "& C^1_0[R_y(\\theta_3 - \\theta_2)]R_{y1}(\\theta_1)R_{y0}(\\theta_2)\\ket{0}_1\\ket{0}_0 \\\\\n",
        "= & C^1_0[R_y(\\theta_3 - \\theta_2)]\\left(\\sqrt{\\frac{3}{10}} \\ket{0}_1 + \\sqrt{\\frac{7}{10}} \\ket{1}_1\\right) R_y(\\theta_2)\\ket{0}_0\\\\\n",
        "= & \\sqrt{\\frac{3}{10}} \\ket{0}_1 R_y(\\theta_2)\\ket{0}_0 + \\sqrt{\\frac{7}{10}} \\ket{1}_1 R_y(\\theta_3)\\ket{0}_0 \\\\\n",
        "= & \\sqrt{\\frac{3}{10}} \\ket{0}_1 \\left(\\sqrt{\\frac{1}{3}} \\ket{0}_0 + \\sqrt{\\frac{2}{3}} \\ket{1}_0\\right) + \\sqrt{\\frac{7}{10}} \\ket{1}_1 \\left(\\sqrt{\\frac{3}{7}} \\ket{0}_0 + \\sqrt{\\frac{4}{7}} \\ket{1}_0\\right) \\\\\n",
        "= & \\sqrt{\\frac{1}{10}} \\ket{00} + \\sqrt{\\frac{2}{10}} \\ket{01} + \\sqrt{\\frac{3}{10}} \\ket{10} + \\sqrt{\\frac{4}{10}} \\ket{11}\n",
        "\\end{align}\n",
        "$$\n",
        "\n",
        "最初の行で、ビット0と1にかかる$R_y$ゲートをそれぞれ$R_{y0}, R_{y1}$と表しました。\n",
        "\n",
        "最後に$C[Z]$をかけると、$\\ket{11}$だけ符号が反転します。"
      ]
    },
    {
      "cell_type": "markdown",
      "id": "a22323e9",
      "metadata": {
        "id": "a22323e9"
      },
      "source": [
        "## 回路図"
      ]
    },
    {
      "cell_type": "code",
      "execution_count": 15,
      "id": "4bb34c6a",
      "metadata": {
        "id": "4bb34c6a",
        "colab": {
          "base_uri": "https://localhost:8080/",
          "height": 255
        },
        "outputId": "3513201d-ecb7-4dc6-a644-92768f835db2"
      },
      "outputs": [
        {
          "output_type": "execute_result",
          "data": {
            "text/plain": [
              "<Figure size 663.998x284.278 with 1 Axes>"
            ],
            "image/png": "[encoded data removed]"
          },
          "metadata": {},
          "execution_count": 15
        }
      ],
      "source": [
        "circuit.draw('mpl')"
      ]
    },
    {
      "cell_type": "code",
      "execution_count": 16,
      "id": "b62a05b6",
      "metadata": {
        "id": "b62a05b6",
        "colab": {
          "base_uri": "https://localhost:8080/",
          "height": 122
        },
        "outputId": "58c395ff-e0e2-42bc-f84b-0863997dcb2a"
      },
      "outputs": [
        {
          "output_type": "execute_result",
          "data": {
            "text/plain": [
              "        ┌────────────┐┌──────────────┐    ░ ┌─┐   \n",
              "   q_0: ┤ Ry(1.9106) ├┤ Ry(-0.19649) ├─■──░─┤M├───\n",
              "        ├────────────┤└──────┬───────┘ │  ░ └╥┘┌─┐\n",
              "   q_1: ┤ Ry(1.9823) ├───────■─────────■──░──╫─┤M├\n",
              "        └────────────┘                    ░  ║ └╥┘\n",
              "meas: 2/═════════════════════════════════════╩══╩═\n",
              "                                             0  1 "
            ],
            "text/html": [
              "<pre style=\"word-wrap: normal;white-space: pre;background: #fff0;line-height: 1.1;font-family: &quot;Courier New&quot;,Courier,monospace\">        ┌────────────┐┌──────────────┐    ░ ┌─┐   \n",
              "   q_0: ┤ Ry(1.9106) ├┤ Ry(-0.19649) ├─■──░─┤M├───\n",
              "        ├────────────┤└──────┬───────┘ │  ░ └╥┘┌─┐\n",
              "   q_1: ┤ Ry(1.9823) ├───────■─────────■──░──╫─┤M├\n",
              "        └────────────┘                    ░  ║ └╥┘\n",
              "meas: 2/═════════════════════════════════════╩══╩═\n",
              "                                             0  1 </pre>"
            ]
          },
          "metadata": {},
          "execution_count": 16
        }
      ],
      "source": [
        "circuit.draw()"
      ]
    },
    {
      "cell_type": "markdown",
      "id": "c7c6d731",
      "metadata": {
        "id": "c7c6d731"
      },
      "source": [
        "## CHSH不等式を計算する回路を書く"
      ]
    },
    {
      "cell_type": "code",
      "execution_count": 17,
      "id": "47d1f2b0",
      "metadata": {
        "id": "47d1f2b0",
        "colab": {
          "base_uri": "https://localhost:8080/",
          "height": 492
        },
        "outputId": "8bdc8c0f-9990-4197-fb21-05c381f8937f"
      },
      "outputs": [
        {
          "output_type": "display_data",
          "data": {
            "text/plain": [
              "<Figure size 1200x600 with 4 Axes>"
            ],
            "image/png": "[encoded data removed]"
          },
          "metadata": {}
        }
      ],
      "source": [
        "circuits = []\n",
        "\n",
        "# 回路I - H, CX[0, 1], Ry(-π/4)[1]をかける\n",
        "circuit = QuantumCircuit(2, name='circuit_I')\n",
        "circuit.h(0)\n",
        "circuit.cx(0, 1)\n",
        "circuit.ry(-np.pi / 4., 1)\n",
        "circuit.measure_all()\n",
        "# 回路リストに追加\n",
        "circuits.append(circuit)\n",
        "\n",
        "# 回路II - H, CX[0, 1], Ry(-3π/4)[1]をかける\n",
        "circuit = QuantumCircuit(2, name='circuit_II')\n",
        "circuit.h(0)\n",
        "circuit.cx(0, 1)\n",
        "circuit.ry(-3. * np.pi / 4., 1)\n",
        "circuit.measure_all()\n",
        "# 回路リストに追加\n",
        "circuits.append(circuit)\n",
        "\n",
        "# 回路III - H, CX[0, 1], Ry(-π/4)[1], Ry(-π/2)[0]をかける\n",
        "circuit = QuantumCircuit(2, name='circuit_III')\n",
        "circuit.h(0)\n",
        "circuit.cx(0, 1)\n",
        "circuit.ry(-np.pi / 4., 1)\n",
        "circuit.ry(-np.pi / 2., 0)\n",
        "circuit.measure_all()\n",
        "# 回路リストに追加\n",
        "circuits.append(circuit)\n",
        "\n",
        "# 回路IV - H, CX[0, 1], Ry(-3π/4)[1], Ry(-π/2)[0]をかける\n",
        "circuit = QuantumCircuit(2, name='circuit_IV')\n",
        "circuit.h(0)\n",
        "circuit.cx(0, 1)\n",
        "circuit.ry(-3. * np.pi / 4., 1)\n",
        "circuit.ry(-np.pi / 2., 0)\n",
        "circuit.measure_all()\n",
        "# 回路リストに追加\n",
        "circuits.append(circuit)\n",
        "\n",
        "# draw()にmatplotlibのaxesオブジェクトを渡すと、そこに描画してくれる\n",
        "# 一つのノートブックセルで複数プロットしたい時などに便利\n",
        "fig, axs = plt.subplots(2, 2, figsize=[12., 6.])\n",
        "for circuit, ax in zip(circuits, axs.reshape(-1)):\n",
        "    circuit.draw('mpl', ax=ax)\n",
        "    ax.set_title(circuit.name)"
      ]
    },
    {
      "cell_type": "markdown",
      "id": "0c57cae8",
      "metadata": {
        "id": "0c57cae8"
      },
      "source": [
        "## 回路を実機で実行する"
      ]
    },
    {
      "cell_type": "code",
      "execution_count": 18,
      "id": "29a7c2de",
      "metadata": {
        "tags": [
          "raises-exception",
          "remove-output"
        ],
        "id": "29a7c2de",
        "colab": {
          "base_uri": "https://localhost:8080/"
        },
        "outputId": "06f6c68c-a771-4d63-f455-66885acdf2f1"
      },
      "outputs": [
        {
          "output_type": "stream",
          "name": "stdout",
          "text": [
            "Jobs will run on ibm_sherbrooke\n"
          ]
        }
      ],
      "source": [
        "service = QiskitRuntimeService(filename=runtime_config_path)\n",
        "backend = service.least_busy(simulator=False, operational=True)\n",
        "sampler = Sampler(backend)\n",
        "\n",
        "print(f'Jobs will run on {backend.name}')"
      ]
    },
    {
      "cell_type": "code",
      "execution_count": 19,
      "id": "cd820ea6",
      "metadata": {
        "tags": [
          "raises-exception",
          "remove-output"
        ],
        "id": "cd820ea6",
        "colab": {
          "base_uri": "https://localhost:8080/"
        },
        "outputId": "13f519d9-b559-4c83-8fe0-c62df64dbead"
      },
      "outputs": [
        {
          "output_type": "stream",
          "name": "stdout",
          "text": [
            "Running four circuits, 10000 shots each where 100000 shots are allowed\n"
          ]
        }
      ],
      "source": [
        "# バックエンドごとに決められている最大ショット数\n",
        "shots = 10000\n",
        "max_shots = backend.configuration().max_shots\n",
        "sampler.options.default_shots = shots\n",
        "print(f'Running four circuits, {shots} shots each where {max_shots} shots are allowed')\n",
        "\n",
        "# transpileの説明は次回の実習にて\n",
        "circuits = transpile(circuits, backend=backend)\n",
        "# バックエンドで回路をshots回実行させ、測定結果を返させる\n",
        "# すでに最初のセルで同じジョブを投げているので、次の行はコメントアウトしている\n",
        "#job = sampler.run(circuits)"
      ]
    },
    {
      "cell_type": "markdown",
      "id": "f963a481-341c-44a8-a51f-287db10e7a41",
      "metadata": {
        "id": "f963a481-341c-44a8-a51f-287db10e7a41"
      },
      "source": [
        "### （カーネルを再起動するなどで）ジョブオブジェクトが無効になったら"
      ]
    },
    {
      "cell_type": "code",
      "execution_count": 20,
      "id": "2965bda2-edf4-4cc6-aab8-a818e1180ecf",
      "metadata": {
        "id": "2965bda2-edf4-4cc6-aab8-a818e1180ecf",
        "colab": {
          "base_uri": "https://localhost:8080/"
        },
        "outputId": "68dd7b17-d12c-465c-9105-01a04b08447c"
      },
      "outputs": [
        {
          "output_type": "execute_result",
          "data": {
            "text/plain": [
              "<RuntimeJob('crfysky69sp0008qfrn0', 'sampler')>"
            ]
          },
          "metadata": {},
          "execution_count": 20
        }
      ],
      "source": [
        "#job = service.job('__job_id__')"
      ]
    },
    {
      "cell_type": "markdown",
      "id": "83ea406b",
      "metadata": {
        "id": "83ea406b"
      },
      "source": [
        "### IBM Quantumのよく使うページ\n",
        "\n",
        "<a href=\"https://quantum.ibm.com/services/resources\" target=\"_blank\">バックエンド一覧</a>\n",
        "\n",
        "- バックエンドを一つクリックすると詳細が表示される\n",
        "- 現在の全ジョブ数が Total pending jobs として表示される\n",
        "- Instance access limits という欄でバックエンドのジョブあたりの最大ショット数と最大回路数を確認できる\n",
        "\n",
        "<a href=\"https://quantum.ibm.com/jobs\" target=\"_blank\">ジョブ一覧</a>"
      ]
    },
    {
      "cell_type": "markdown",
      "id": "9b5f39c5",
      "metadata": {
        "id": "9b5f39c5"
      },
      "source": [
        "## 量子測定結果の解析\n",
        "\n",
        "### ジョブの結果をダウンロード"
      ]
    },
    {
      "cell_type": "code",
      "execution_count": 24,
      "id": "47f7a0b9",
      "metadata": {
        "tags": [
          "raises-exception",
          "remove-output"
        ],
        "id": "47f7a0b9",
        "colab": {
          "base_uri": "https://localhost:8080/"
        },
        "outputId": "5d16c55c-4c13-4edd-ee0b-73d28374e154"
      },
      "outputs": [
        {
          "output_type": "stream",
          "name": "stdout",
          "text": [
            "[{'00': 4013, '11': 4285, '10': 836, '01': 866}, {'00': 843, '10': 4101, '01': 4252, '11': 804}, {'00': 4384, '11': 4157, '10': 781, '01': 678}, {'10': 772, '00': 4339, '11': 4197, '01': 692}]\n"
          ]
        }
      ],
      "source": [
        "result = job.result()\n",
        "\n",
        "# 4つの回路のヒストグラムデータを入れるリスト\n",
        "counts_list = []\n",
        "\n",
        "# 回路ごとの結果をresultから抽出する\n",
        "for idx in range(4):\n",
        "    # get_counts(i)で回路iのヒストグラムデータが得られる\n",
        "    counts = result[idx].data.meas.get_counts()\n",
        "    # データをリストに足す\n",
        "    counts_list.append(counts)\n",
        "\n",
        "print(counts_list)"
      ]
    },
    {
      "cell_type": "markdown",
      "id": "3b32e8b9-c9e1-4371-b9d6-3a273704ab2f",
      "metadata": {
        "id": "3b32e8b9-c9e1-4371-b9d6-3a273704ab2f"
      },
      "source": [
        "### ヒストグラムの表示"
      ]
    },
    {
      "cell_type": "code",
      "execution_count": 25,
      "id": "f4ad11e7",
      "metadata": {
        "id": "f4ad11e7",
        "colab": {
          "base_uri": "https://localhost:8080/",
          "height": 714
        },
        "outputId": "b327fd87-d91f-41c4-be29-9c9a1312393d"
      },
      "outputs": [
        {
          "output_type": "display_data",
          "data": {
            "text/plain": [
              "<Figure size 1200x800 with 4 Axes>"
            ],
            "image/png": "[encoded data removed]"
          },
          "metadata": {}
        }
      ],
      "source": [
        "fig, axs = plt.subplots(2, 2, sharey=True, figsize=[12., 8.])\n",
        "for counts, circuit, ax in zip(counts_list, circuits, axs.reshape(-1)):\n",
        "    plot_histogram(counts, ax=ax)\n",
        "    ax.set_title(circuit.name)\n",
        "    ax.yaxis.grid(True)"
      ]
    },
    {
      "cell_type": "markdown",
      "id": "46ebd1be-97be-4339-ae7c-1a15a0f66776",
      "metadata": {
        "id": "46ebd1be-97be-4339-ae7c-1a15a0f66776"
      },
      "source": [
        "### $S$の値"
      ]
    },
    {
      "cell_type": "code",
      "execution_count": 27,
      "id": "4034aefa",
      "metadata": {
        "id": "4034aefa",
        "colab": {
          "base_uri": "https://localhost:8080/"
        },
        "outputId": "fe94c313-6cb9-46f7-d783-5c25192b5b07"
      },
      "outputs": [
        {
          "output_type": "stream",
          "name": "stdout",
          "text": [
            "C: [ 0.6596 -0.6706  0.7082  0.7072]\n",
            "S = 2.7456000000000005\n",
            "Yes, we are using a quantum computer!\n"
          ]
        }
      ],
      "source": [
        "# C^I, C^II, C^III, C^IVを一つのアレイにする\n",
        "#（今の場合ただのリストにしてもいいが、純粋な数字の羅列にはnumpy arrayを使うといいことが多い）\n",
        "c_arr = np.zeros(4, dtype=float)\n",
        "\n",
        "# enumerate(L)でリストのインデックスと対応する要素に関するループを回せる\n",
        "for ic, counts in enumerate(counts_list):\n",
        "    # counts['00'] でなく counts.get('00', 0) - 上のテキストを参照\n",
        "    c_arr[ic] = counts.get('00', 0) + counts.get('11', 0) - counts.get('01', 0) - counts.get('10', 0)\n",
        "\n",
        "# 4つの要素を同時に和で規格化（リストではこういうことはできない）\n",
        "c_arr /= shots\n",
        "\n",
        "s_val = c_arr[0] - c_arr[1] + c_arr[2] + c_arr[3]\n",
        "\n",
        "print('C:', c_arr)\n",
        "print('S =', s_val)\n",
        "if s_val > 2.:\n",
        "    print('Yes, we are using a quantum computer!')\n",
        "else:\n",
        "    print('Armonk, we have a problem.')"
      ]
    },
    {
      "cell_type": "code",
      "source": [],
      "metadata": {
        "id": "CORpki5Bza5T"
      },
      "id": "CORpki5Bza5T",
      "execution_count": 13,
      "outputs": []
    }
  ],
  "metadata": {
    "jupytext": {
      "notebook_metadata_filter": "all"
    },
    "kernelspec": {
      "display_name": "Python 3 (ipykernel)",
      "language": "python",
      "name": "python3"
    },
    "language_info": {
      "codemirror_mode": {
        "name": "ipython",
        "version": 3
      },
      "file_extension": ".py",
      "mimetype": "text/x-python",
      "name": "python",
      "nbconvert_exporter": "python",
      "pygments_lexer": "ipython3",
      "version": "3.10.6"
    },
    "colab": {
      "provenance": [],
      "include_colab_link": true
    }
  },
  "nbformat": 4,
  "nbformat_minor": 5
}