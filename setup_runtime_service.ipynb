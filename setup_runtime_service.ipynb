{
  "nbformat": 4,
  "nbformat_minor": 0,
  "metadata": {
    "colab": {
      "provenance": [],
      "authorship_tag": "ABX9TyPeRxm5Ezeixg//NykNLph1",
      "include_colab_link": true
    },
    "kernelspec": {
      "name": "python3",
      "display_name": "Python 3"
    },
    "language_info": {
      "name": "python"
    }
  },
  "cells": [
    {
      "cell_type": "markdown",
      "metadata": {
        "id": "view-in-github",
        "colab_type": "text"
      },
      "source": [
        "<a href=\"https://colab.research.google.com/github/yiiyama/qc-workbook-lecturenotes/blob/branch-2024/setup_runtime_service.ipynb\" target=\"_parent\"><img src=\"https://colab.research.google.com/assets/colab-badge.svg\" alt=\"Open In Colab\"/></a>"
      ]
    },
    {
      "cell_type": "markdown",
      "source": [
        "# IBM Quantumの量子コンピュータを使うための初期設定\n",
        "\n",
        "[IBM Quantumのトップページ](https://quantum.ibm.com/)に行き、右上のAPI Tokenのボックスのコピーボタンを押し、クリップボードにコピーされたトークン文字列で下のセルの``__your_token__``を置き換えてください。\n",
        "\n",
        "セルを実行すると、Google Driveへのアクセス許可についてのポップアップが現れます。Driveを利用したいアカウントを選択し、全ての項目に関してアクセスを許可するとドライブのストレージがこのノートブックから利用できるようになります。セルの実行が終わると、My Driveの直下に``qiskit-ibm.json``というファイルが書かれ、トークン情報が保存されます。\n",
        "\n",
        "\n"
      ],
      "metadata": {
        "id": "cjNL7h_rwkpE"
      }
    },
    {
      "cell_type": "code",
      "execution_count": null,
      "metadata": {
        "id": "DqshVuDSwTSF"
      },
      "outputs": [],
      "source": [
        "!pip install qiskit-ibm-runtime\n",
        "from google.colab import drive\n",
        "from qiskit_ibm_runtime import QiskitRuntimeService\n",
        "drive.mount('/content/mnt')\n",
        "QiskitRuntimeService.save_account(channel='ibm_quantum', token='__your_token__',\n",
        "                                  #instance='ibm-q-utokyo/internal/***',\n",
        "                                  filename='/content/mnt/MyDrive/qiskit-ibm.json')"
      ]
    }
  ]
}